{
 "cells": [
  {
   "cell_type": "markdown",
   "metadata": {},
   "source": [
    "# Overview"
   ]
  },
  {
   "cell_type": "markdown",
   "metadata": {},
   "source": [
    "this notebook runs the models and save the time and score\n",
    "the saved dataframe can be found in `../data/processed/results_{date}`"
   ]
  },
  {
   "cell_type": "markdown",
   "metadata": {},
   "source": [
    "### Imports"
   ]
  },
  {
   "cell_type": "code",
   "execution_count": 1,
   "metadata": {},
   "outputs": [],
   "source": [
    "%load_ext autoreload\n",
    "%autoreload 2"
   ]
  },
  {
   "cell_type": "code",
   "execution_count": 2,
   "metadata": {},
   "outputs": [],
   "source": [
    "import sys\n",
    "sys.path.append(\"../\")\n",
    "from src.graph import NetworkGraph"
   ]
  },
  {
   "cell_type": "code",
   "execution_count": 3,
   "metadata": {},
   "outputs": [],
   "source": [
    "import time\n",
    "import gurobi\n",
    "import pandas as pd\n",
    "import datetime\n",
    "import matplotlib.pyplot as plt\n",
    "import seaborn as sns\n",
    "from tqdm import tqdm"
   ]
  },
  {
   "cell_type": "code",
   "execution_count": 4,
   "metadata": {},
   "outputs": [],
   "source": [
    "from src.flows import *"
   ]
  },
  {
   "cell_type": "code",
   "execution_count": 5,
   "metadata": {},
   "outputs": [],
   "source": [
    "from flatland.envs.rail_env import RailEnv\n",
    "from flatland.envs.observations import *\n",
    "from flatland.envs.rail_generators import complex_rail_generator,rail_from_manual_specifications_generator,random_rail_generator, RailGenerator\n",
    "from flatland.envs.schedule_generators import complex_schedule_generator, random_schedule_generator, ScheduleGenerator\n",
    "from flatland.utils.rendertools import RenderTool"
   ]
  },
  {
   "cell_type": "markdown",
   "metadata": {},
   "source": [
    "### Helper functions"
   ]
  },
  {
   "cell_type": "code",
   "execution_count": 6,
   "metadata": {},
   "outputs": [],
   "source": [
    "def create_env(height,width,seed,number_of_agents=4):\n",
    "    env = RailEnv(width=width,\n",
    "              height=height,\n",
    "              rail_generator=complex_rail_generator(nr_start_goal=20, nr_extra=1, \n",
    "                                                    min_dist=6, max_dist=99999, seed = seed),\n",
    "              schedule_generator=complex_schedule_generator(),\n",
    "              number_of_agents=number_of_agents,\n",
    "              obs_builder_object=GlobalObsForRailEnv())\n",
    "    env.reset()\n",
    "    \n",
    "    return env"
   ]
  },
  {
   "cell_type": "code",
   "execution_count": 7,
   "metadata": {},
   "outputs": [],
   "source": [
    "def run_flow(env,height,width):\n",
    "    \n",
    "    #extract the transition matrix\n",
    "    matrix_rail = np.array(env.rail.grid.tolist())\n",
    "    \n",
    "    #build the transition network\n",
    "    flatlandNetwork = NetworkGraph(matrix_rail)\n",
    "\n",
    "    #get the sources and sinks of the different agents\n",
    "    sources = []\n",
    "    sinks = []\n",
    "    for agent in env.agents:\n",
    "        sources.append(agent.initial_position)\n",
    "        sinks.append(agent.target)\n",
    "        \n",
    "    #build the time exanded network and connect the sources and sinks\n",
    "    TestNetworkTime = TimeNetwork(flatlandNetwork, depth=max(2*(height+width),40))\n",
    "    TestNetworkTime.connect_sources_and_sink(sources,sinks)\n",
    "    \n",
    "    return len(TestNetworkTime.graph.nodes),len(TestNetworkTime.graph.edges)\n",
    "    \n",
    "    #get the Integral Program formulation of the problem and solve it \n",
    "    #mcflow = MCFlow(TestNetworkTime.graph,len(sources),TestNetworkTime.topology)\n",
    "    #mcflow.solve()\n",
    "    \n",
    "    #extract the path and compute the scores (total time spent by the agent in the grid)\n",
    "    cost= 0\n",
    "    if not mcflow.check_if_feasible():\n",
    "        return \"Infeasible\"\n",
    "    paths = mcflow.extract_paths()\n",
    "    for path in paths:\n",
    "        cost += int(len([x.split(\"_\")[0] for x in paths[0]])/2+1)\n",
    "        \n",
    "    return cost"
   ]
  },
  {
   "cell_type": "code",
   "execution_count": 8,
   "metadata": {},
   "outputs": [],
   "source": [
    "def run_experiment_and_save_results(method, results,agents = 4, repetition = 5, \n",
    "                                    pathToSavedGrids = None, grids_size = None):\n",
    "    nodes = []\n",
    "    edges = []\n",
    "    sizes_list = []\n",
    "    if pathToSavedGrids is None:\n",
    "        for sizes in tqdm(grids_size):\n",
    "            for i in range(repetition):\n",
    "                seed = sizes[0]*sizes[1]+i\n",
    "                env = create_env(sizes[0],sizes[1],seed,number_of_agents=agents)\n",
    "                start = time.time()\n",
    "                \n",
    "                node,edge = run_flow(env,sizes[0],sizes[1])\n",
    "                sizes_list.append(sizes[0]*sizes[1])\n",
    "                nodes.append(node)\n",
    "                edges.append(edge)\n",
    "                \n",
    "                np.save(\"nodes.npy\",nodes)\n",
    "                np.save(\"edges.npy\",edges)\n",
    "                    \n",
    "                time_spent = time.time()-start\n",
    "                #results = results.append({'Size of the grid' : sizes[0]*sizes[1] , 'Score' : score, \"Time\":time_spent} , \n",
    "                #                         ignore_index=True)\n",
    "                #results.to_csv(\"../data/processed/results_run_\"+str(dt.hour)+\"_\"+str(dt.day)+\"_\"+str(dt.month)+\"_\"+str(dt.year)+\".csv\")\n",
    "        return sizes_list,nodes,edges\n",
    "    else:\n",
    "        raise NotImplementedError(\"Load the map and proceed to inference\")"
   ]
  },
  {
   "cell_type": "markdown",
   "metadata": {},
   "source": [
    "### Constant definition"
   ]
  },
  {
   "cell_type": "code",
   "execution_count": 9,
   "metadata": {},
   "outputs": [],
   "source": [
    "grids_size = [(10,5),(10,10),(15,10),(15,15),(20,15),(20,20),(25,20),\n",
    "              (25,25),(25,30),(30,30),(35,30), (35,35),(40,35),(40,40),\n",
    "              (45,40),(45,45),(50,50),(55,50),(55,55),(60,55),(60,60),\n",
    "              (65,60),(65,65),(70,65),(70,70),(75,70),(75,75),(80,75),\n",
    "             (80,80),(85,90),(90,90),(95,90),(95,95),(100,95),(100,100)]"
   ]
  },
  {
   "cell_type": "code",
   "execution_count": 10,
   "metadata": {},
   "outputs": [],
   "source": [
    "results = pd.DataFrame()\n",
    "#results = pd.read_csv(\"../data/processed/results_4_agents.csv\",index_col = 'Unnamed: 0')"
   ]
  },
  {
   "cell_type": "code",
   "execution_count": 11,
   "metadata": {},
   "outputs": [],
   "source": [
    "dt = datetime.datetime.today()"
   ]
  },
  {
   "cell_type": "markdown",
   "metadata": {},
   "source": [
    "## Actual run"
   ]
  },
  {
   "cell_type": "code",
   "execution_count": null,
   "metadata": {
    "scrolled": true
   },
   "outputs": [
    {
     "name": "stderr",
     "output_type": "stream",
     "text": [
      " 57%|█████▋    | 20/35 [1:02:25<2:01:15, 485.05s/it]"
     ]
    }
   ],
   "source": [
    "\n",
    "sizes,nodes,edges = run_experiment_and_save_results(run_flow, results, agents = 1, repetition=1, grids_size=grids_size)"
   ]
  },
  {
   "cell_type": "code",
   "execution_count": null,
   "metadata": {},
   "outputs": [],
   "source": [
    "nodes = np.load(\"nodes.npy\")\n",
    "plt.plot([x[0]*x[1] for x in grids_size[0:len(nodes)]],np.load(\"nodes.npy\"), label = \"number of nodes\")\n",
    "plt.plot([x[0]*x[1] for x in grids_size[0:len(nodes)]],np.load(\"edges.npy\"), label = \"number of edges\")\n",
    "plt.legend()\n",
    "plt.show()"
   ]
  },
  {
   "cell_type": "markdown",
   "metadata": {},
   "source": [
    "# PLOTS"
   ]
  },
  {
   "cell_type": "code",
   "execution_count": null,
   "metadata": {},
   "outputs": [],
   "source": [
    "df_20_agents = pd.read_csv(\"../data/processed/results_20_agents.csv\",index_col = 'Unnamed: 0')"
   ]
  },
  {
   "cell_type": "code",
   "execution_count": null,
   "metadata": {},
   "outputs": [],
   "source": [
    "df_10_agents = pd.read_csv(\"../data/processed/results_10_agents.csv\",index_col = 'Unnamed: 0')"
   ]
  },
  {
   "cell_type": "code",
   "execution_count": null,
   "metadata": {},
   "outputs": [],
   "source": [
    "df_4_agents = pd.read_csv(\"../data/processed/results_4_agents.csv\",index_col = 'Unnamed: 0')"
   ]
  },
  {
   "cell_type": "code",
   "execution_count": null,
   "metadata": {
    "scrolled": false
   },
   "outputs": [],
   "source": [
    "plt.rcParams['savefig.facecolor'] = (46/255., 48/255., 55/255.)\n",
    "plt.rcParams['axes.facecolor'] = (46/255., 48/255., 55/255.)\n",
    "fig, ax = plt.subplots(nrows=1, ncols=1)\n",
    "ax.spines['bottom'].set_color(\"white\")\n",
    "ax.spines['top'].set_color(\"white\") \n",
    "ax.spines['right'].set_color('white')\n",
    "ax.spines['left'].set_color('white')\n",
    "ax.tick_params(axis='x', colors='white')\n",
    "ax.tick_params(axis='y', colors='white')\n",
    "ax.title.set_color('white')\n",
    "ax.xaxis.label.set_color('white')\n",
    "ax.yaxis.label.set_color('white')\n",
    "fig.set_facecolor((46/255., 48/255., 55/255.))\n",
    "ax.set_facecolor((46/255., 48/255., 55/255.))\n",
    "\n",
    "\n",
    "plt.scatter(df_4_agents['Size of the grid'],df_4_agents['Time'].values/60, label = \"4 trains\",alpha= 0.6)\n",
    "plt.scatter(df_10_agents['Size of the grid'],df_10_agents['Time'].values/60, label = \"10 trains\",alpha = 0.6)\n",
    "plt.scatter(df_20_agents['Size of the grid'],df_20_agents['Time'].values/60, label = \"20 trains\",alpha = 0.6)\n",
    "\n",
    "\n",
    "plt.xlabel(\"size of the grid (number of cells)\")\n",
    "\n",
    "x1 = [20**2,40**2,60*60]\n",
    "squad = ['(20x20)','(40x40)','(60x60)']\n",
    "\n",
    "ax.set_xticks(x1)\n",
    "ax.set_xticklabels(squad)\n",
    "\n",
    "plt.ylabel(\"time until solution (min)\")\n",
    "#plt.title(\"Experiment of multicommodity flow formulation until memory error (model > 40 Gb)\")\n",
    "\n",
    "l = plt.legend()\n",
    "for text in l.get_texts():\n",
    "    text.set_color(\"white\")\n",
    "\n",
    "\n",
    "\n",
    "ax = plt.gca()\n",
    "plt.tight_layout()\n",
    "plt.savefig(\"../data/processed/time.png\", dpi = 300)"
   ]
  }
 ],
 "metadata": {
  "kernelspec": {
   "display_name": "Python 3",
   "language": "python",
   "name": "python3"
  },
  "language_info": {
   "codemirror_mode": {
    "name": "ipython",
    "version": 3
   },
   "file_extension": ".py",
   "mimetype": "text/x-python",
   "name": "python",
   "nbconvert_exporter": "python",
   "pygments_lexer": "ipython3",
   "version": "3.6.9"
  }
 },
 "nbformat": 4,
 "nbformat_minor": 2
}
