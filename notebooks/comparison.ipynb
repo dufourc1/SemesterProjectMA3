{
 "cells": [
  {
   "cell_type": "markdown",
   "metadata": {},
   "source": [
    "# Overview"
   ]
  },
  {
   "cell_type": "markdown",
   "metadata": {},
   "source": [
    "this notebook runs the models and save the time and score\n",
    "the saved dataframe can be found in `../data/processed/results_{date}`"
   ]
  },
  {
   "cell_type": "markdown",
   "metadata": {},
   "source": [
    "### Imports"
   ]
  },
  {
   "cell_type": "code",
   "execution_count": 1,
   "metadata": {},
   "outputs": [],
   "source": [
    "%load_ext autoreload\n",
    "%autoreload 2"
   ]
  },
  {
   "cell_type": "code",
   "execution_count": 2,
   "metadata": {},
   "outputs": [],
   "source": [
    "import sys\n",
    "sys.path.append(\"../\")\n",
    "from src.graph import NetworkGraph"
   ]
  },
  {
   "cell_type": "code",
   "execution_count": 3,
   "metadata": {},
   "outputs": [],
   "source": [
    "import time\n",
    "import gurobi\n",
    "import pandas as pd\n",
    "import datetime\n",
    "import matplotlib.pyplot as plt\n",
    "import seaborn as sns\n",
    "from tqdm import tqdm"
   ]
  },
  {
   "cell_type": "code",
   "execution_count": 4,
   "metadata": {},
   "outputs": [],
   "source": [
    "from src.flows import *\n",
    "from src.models.DQL.DQL import run"
   ]
  },
  {
   "cell_type": "code",
   "execution_count": 5,
   "metadata": {},
   "outputs": [],
   "source": [
    "from flatland.envs.rail_env import RailEnv\n",
    "from flatland.envs.observations import *\n",
    "from flatland.envs.rail_generators import complex_rail_generator,rail_from_manual_specifications_generator,random_rail_generator, RailGenerator\n",
    "from flatland.envs.schedule_generators import complex_schedule_generator, random_schedule_generator, ScheduleGenerator\n",
    "from flatland.utils.rendertools import RenderTool"
   ]
  },
  {
   "cell_type": "markdown",
   "metadata": {},
   "source": [
    "### Helper functions"
   ]
  },
  {
   "cell_type": "code",
   "execution_count": 6,
   "metadata": {},
   "outputs": [],
   "source": [
    "def create_env(height,width,seed,number_of_agents=4):\n",
    "    env = RailEnv(width=width,\n",
    "              height=height,\n",
    "              rail_generator=complex_rail_generator(nr_start_goal=20, nr_extra=1, \n",
    "                                                    min_dist=6, max_dist=99999, seed = seed),\n",
    "              schedule_generator=complex_schedule_generator(),\n",
    "              number_of_agents=number_of_agents)\n",
    "    \n",
    "    \n",
    "    \n",
    "    return env"
   ]
  },
  {
   "cell_type": "code",
   "execution_count": 7,
   "metadata": {},
   "outputs": [],
   "source": [
    "def run_flow(env,height,width):\n",
    "    \n",
    "    #extract the transition matrix\n",
    "    matrix_rail = np.array(env.rail.grid.tolist())\n",
    "    \n",
    "    #build the transition network\n",
    "    flatlandNetwork = NetworkGraph(matrix_rail)\n",
    "\n",
    "    #get the sources and sinks of the different agents\n",
    "    sources = []\n",
    "    sinks = []\n",
    "    for agent in env.agents:\n",
    "        sources.append(agent.initial_position)\n",
    "        sinks.append(agent.target)\n",
    "        \n",
    "    #build the time exanded network and connect the sources and sinks\n",
    "    TestNetworkTime = TimeNetwork(flatlandNetwork, depth=max(2*(height+width),40))\n",
    "    TestNetworkTime.connect_sources_and_sink(sources,sinks)\n",
    "    \n",
    "    \n",
    "    #get the Integral Program formulation of the problem and solve it \n",
    "    print(sources,sinks)\n",
    "    mcflow = MCFlow(TestNetworkTime.graph,len(sources),TestNetworkTime.topology)\n",
    "    mcflow.solve()\n",
    "    \n",
    "    #extract the path and compute the scores (total time spent by the agent in the grid)\n",
    "    cost= 0\n",
    "    if not mcflow.check_if_feasible():\n",
    "        return \"Infeasible\"\n",
    "    print(mcflow.m.objVal)\n",
    "    paths = mcflow.extract_paths()\n",
    "    for agent,path in paths.items():\n",
    "        print(path)\n",
    "        cost += -1+len(path)/2\n",
    "       \n",
    "    return cost"
   ]
  },
  {
   "cell_type": "code",
   "execution_count": 8,
   "metadata": {},
   "outputs": [],
   "source": [
    "def run_flow_rl(env,width,height,seed,n_start_goal=20,initial_value = 0,\n",
    "             learning_rate = 0.8,gamma = 0.9,epsilon = 0.1,threshold = 0.3):\n",
    "    number_agents = len(env.agents)\n",
    "    n_episodes = width*height*number_agents*15\n",
    "    n_steps = 2*(width+height)\n",
    "    print(seed)\n",
    "    cost, n_episodes, total_time = run(number_agents,\n",
    "                                    width,height,\n",
    "                                    n_start_goal,\n",
    "                                    seed,\n",
    "                                    n_episodes,\n",
    "                                    n_steps,\n",
    "                                    initial_value,\n",
    "                                    learning_rate,\n",
    "                                    gamma,\n",
    "                                    epsilon,\n",
    "                                    threshold)\n",
    "    \n",
    "    return cost, n_episodes, total_time"
   ]
  },
  {
   "cell_type": "code",
   "execution_count": 9,
   "metadata": {},
   "outputs": [],
   "source": [
    "def run_experiment_and_save_results(method, results,agents = 4, repetition = 5, \n",
    "                                    pathToSavedGrids = None, grids_size = None):\n",
    "    nodes = []\n",
    "    edges = []\n",
    "    sizes_list = []\n",
    "    if pathToSavedGrids is None:\n",
    "        for sizes in tqdm(grids_size):\n",
    "            for i in range(repetition):\n",
    "                seed = sizes[0]*sizes[1]+i\n",
    "                print(f'seed {seed}')\n",
    "                env = create_env(sizes[0],sizes[1],seed,number_of_agents=agents)\n",
    "                \n",
    "                env.step({0:2})\n",
    "                env_renderer = RenderTool(env,agent_render_variant=3)\n",
    "                env_renderer.render_env(show=True, show_predictions=False, show_observations=False)\n",
    "                env = create_env(sizes[0],sizes[1],seed,number_of_agents=agents)\n",
    "    \n",
    "                start = time.time()\n",
    "                cost = run_flow(env,sizes[0],sizes[1])\n",
    "                print(cost)\n",
    "                sizes_list.append(sizes[0]*sizes[1])                    \n",
    "                time_spent = time.time()-start\n",
    "                results = results.append({'Size of the grid' : sizes[0]*sizes[1] , \n",
    "                                          'Score' : cost, \"Time\":time_spent, \n",
    "                                          \"Type\":\"CO\",\"Number of episodes\": None} , \n",
    "                                         ignore_index=True)\n",
    "                results.to_csv(\"../data/processed/results_comparison\"+str(agents)+\".csv\")\n",
    "                start = time.time()\n",
    "                cost, n_episodes, total_time = run_flow_rl(env,sizes[1],sizes[0],seed)\n",
    "                print(cost)\n",
    "                sizes_list.append(sizes[0]*sizes[1])                    \n",
    "                time_spent = time.time()-start\n",
    "                results = results.append({'Size of the grid' : sizes[0]*sizes[1] , \n",
    "                                          'Score' : cost, \"Time\":time_spent, \"Number of episodes\": n_episodes,\n",
    "                                          \"Type\":\"RL\"} , \n",
    "                                         ignore_index=True)\n",
    "                results.to_csv(\"../data/processed/results_comparison.csv\")\n",
    "                print(\"---\")\n",
    "                \n",
    "                env_renderer.close_window()\n",
    "                \n",
    "    else:\n",
    "        raise NotImplementedError(\"Load the map and proceed to inference\")"
   ]
  },
  {
   "cell_type": "markdown",
   "metadata": {},
   "source": [
    "### Constant definition"
   ]
  },
  {
   "cell_type": "code",
   "execution_count": 10,
   "metadata": {},
   "outputs": [],
   "source": [
    "grids_size = [(10,5),(10,10),(15,10),(15,15),(20,15),(20,20)]\n",
    "grid_bigger = [(25,20),\n",
    "              (25,25),(25,30),(30,30),(35,30), (35,35),(40,35),(40,40),\n",
    "              (45,40),(45,45),(50,50),(55,50),(55,55),(60,55),(60,60),\n",
    "              (65,60),(65,65),(70,65),(70,70),(75,70),(75,75),(80,75),\n",
    "             (80,80),(85,90),(90,90),(95,90),(95,95),(100,95),(100,100)]"
   ]
  },
  {
   "cell_type": "code",
   "execution_count": 11,
   "metadata": {},
   "outputs": [],
   "source": [
    "results = pd.DataFrame()"
   ]
  },
  {
   "cell_type": "markdown",
   "metadata": {},
   "source": [
    "## Actual run"
   ]
  },
  {
   "cell_type": "code",
   "execution_count": 12,
   "metadata": {
    "scrolled": false
   },
   "outputs": [
    {
     "name": "stderr",
     "output_type": "stream",
     "text": [
      "\r",
      "  0%|          | 0/6 [00:00<?, ?it/s]"
     ]
    },
    {
     "name": "stdout",
     "output_type": "stream",
     "text": [
      "seed 50\n",
      "[(1, 2)] [(9, 0)]\n",
      "Academic license - for non-commercial use only\n",
      "Optimize a model with 29235 rows, 12997 columns and 48831 nonzeros\n",
      "Coefficient statistics:\n",
      "  Matrix range     [1e+00, 1e+00]\n",
      "  Objective range  [1e+00, 1e+00]\n",
      "  Bounds range     [0e+00, 0e+00]\n",
      "  RHS range        [1e+00, 1e+00]\n",
      "\n",
      "Concurrent LP optimizer: dual simplex and barrier\n",
      "Showing barrier log only...\n",
      "\n",
      "Presolve removed 28689 rows and 11830 columns\n",
      "Presolve time: 0.03s\n",
      "Presolved: 546 rows, 1167 columns, 2332 nonzeros\n",
      "\n",
      "Ordering time: 0.00s\n",
      "\n",
      "Barrier statistics:\n",
      " AA' NZ     : 1.165e+03\n",
      " Factor NZ  : 1.012e+04 (roughly 1 MByte of memory)\n",
      " Factor Ops : 2.164e+05 (less than 1 second per iteration)\n",
      " Threads    : 1\n",
      "\n",
      "Barrier performed 0 iterations in 0.05 seconds\n",
      "Barrier solve interrupted - model solved by another algorithm\n",
      "\n",
      "\n",
      "Solved with dual simplex\n",
      "Solved in 288 iterations and 0.06 seconds\n",
      "Optimal objective  1.900000000e+01\n",
      "19.0\n",
      "['source_agent_0', '(1, 2)_S_out_t0', '(2, 2)_N_in_t1', '(2, 2)_S_out_t2', '(3, 2)_N_in_t3', '(3, 2)_S_out_t4', '(4, 2)_N_in_t5', '(4, 2)_S_out_t6', '(5, 2)_N_in_t7', '(5, 2)_S_out_t8', '(6, 2)_N_in_t9', '(6, 2)_S_out_t10', '(7, 2)_N_in_t11', '(7, 2)_W_out_t12', '(7, 1)_E_in_t13', '(7, 1)_S_out_t14', '(8, 1)_N_in_t15', '(8, 1)_W_out_t16', '(8, 0)_E_in_t17', '(8, 0)_S_out_t18', '(9, 0)_N_in_t19', 'sink_agent_0']\n",
      "10.0\n",
      "50\n",
      "50\n",
      "50\n",
      "50\n",
      "50\n",
      "50\n",
      "50\n",
      "50\n",
      "50\n",
      "50\n",
      "50\n",
      "50\n"
     ]
    },
    {
     "ename": "KeyboardInterrupt",
     "evalue": "",
     "output_type": "error",
     "traceback": [
      "\u001b[0;31m---------------------------------------------------------------------------\u001b[0m",
      "\u001b[0;31mKeyboardInterrupt\u001b[0m                         Traceback (most recent call last)",
      "\u001b[0;32m<ipython-input-12-9f750dfba3f7>\u001b[0m in \u001b[0;36m<module>\u001b[0;34m\u001b[0m\n\u001b[0;32m----> 1\u001b[0;31m \u001b[0mrun_experiment_and_save_results\u001b[0m\u001b[0;34m(\u001b[0m\u001b[0mrun_flow\u001b[0m\u001b[0;34m,\u001b[0m \u001b[0mresults\u001b[0m\u001b[0;34m,\u001b[0m \u001b[0magents\u001b[0m \u001b[0;34m=\u001b[0m \u001b[0;36m1\u001b[0m\u001b[0;34m,\u001b[0m \u001b[0mrepetition\u001b[0m\u001b[0;34m=\u001b[0m\u001b[0;36m10\u001b[0m\u001b[0;34m,\u001b[0m \u001b[0mgrids_size\u001b[0m\u001b[0;34m=\u001b[0m\u001b[0mgrids_size\u001b[0m\u001b[0;34m)\u001b[0m\u001b[0;34m\u001b[0m\u001b[0;34m\u001b[0m\u001b[0m\n\u001b[0m",
      "\u001b[0;32m<ipython-input-9-21d58cb0c633>\u001b[0m in \u001b[0;36mrun_experiment_and_save_results\u001b[0;34m(method, results, agents, repetition, pathToSavedGrids, grids_size)\u001b[0m\n\u001b[1;32m     27\u001b[0m                 \u001b[0mresults\u001b[0m\u001b[0;34m.\u001b[0m\u001b[0mto_csv\u001b[0m\u001b[0;34m(\u001b[0m\u001b[0;34m\"../data/processed/results_comparison.csv\"\u001b[0m\u001b[0;34m)\u001b[0m\u001b[0;34m\u001b[0m\u001b[0;34m\u001b[0m\u001b[0m\n\u001b[1;32m     28\u001b[0m                 \u001b[0mstart\u001b[0m \u001b[0;34m=\u001b[0m \u001b[0mtime\u001b[0m\u001b[0;34m.\u001b[0m\u001b[0mtime\u001b[0m\u001b[0;34m(\u001b[0m\u001b[0;34m)\u001b[0m\u001b[0;34m\u001b[0m\u001b[0;34m\u001b[0m\u001b[0m\n\u001b[0;32m---> 29\u001b[0;31m                 \u001b[0mcost\u001b[0m\u001b[0;34m,\u001b[0m \u001b[0mn_episodes\u001b[0m\u001b[0;34m,\u001b[0m \u001b[0mtotal_time\u001b[0m \u001b[0;34m=\u001b[0m \u001b[0mrun_flow_rl\u001b[0m\u001b[0;34m(\u001b[0m\u001b[0menv\u001b[0m\u001b[0;34m,\u001b[0m\u001b[0msizes\u001b[0m\u001b[0;34m[\u001b[0m\u001b[0;36m1\u001b[0m\u001b[0;34m]\u001b[0m\u001b[0;34m,\u001b[0m\u001b[0msizes\u001b[0m\u001b[0;34m[\u001b[0m\u001b[0;36m0\u001b[0m\u001b[0;34m]\u001b[0m\u001b[0;34m,\u001b[0m\u001b[0mseed\u001b[0m\u001b[0;34m)\u001b[0m\u001b[0;34m\u001b[0m\u001b[0;34m\u001b[0m\u001b[0m\n\u001b[0m\u001b[1;32m     30\u001b[0m                 \u001b[0mprint\u001b[0m\u001b[0;34m(\u001b[0m\u001b[0mcost\u001b[0m\u001b[0;34m)\u001b[0m\u001b[0;34m\u001b[0m\u001b[0;34m\u001b[0m\u001b[0m\n\u001b[1;32m     31\u001b[0m                 \u001b[0msizes_list\u001b[0m\u001b[0;34m.\u001b[0m\u001b[0mappend\u001b[0m\u001b[0;34m(\u001b[0m\u001b[0msizes\u001b[0m\u001b[0;34m[\u001b[0m\u001b[0;36m0\u001b[0m\u001b[0;34m]\u001b[0m\u001b[0;34m*\u001b[0m\u001b[0msizes\u001b[0m\u001b[0;34m[\u001b[0m\u001b[0;36m1\u001b[0m\u001b[0;34m]\u001b[0m\u001b[0;34m)\u001b[0m\u001b[0;34m\u001b[0m\u001b[0;34m\u001b[0m\u001b[0m\n",
      "\u001b[0;32m<ipython-input-8-111d0b573aa3>\u001b[0m in \u001b[0;36mrun_flow_rl\u001b[0;34m(env, width, height, seed, n_start_goal, initial_value, learning_rate, gamma, epsilon, threshold)\u001b[0m\n\u001b[1;32m     15\u001b[0m                                     \u001b[0mgamma\u001b[0m\u001b[0;34m,\u001b[0m\u001b[0;34m\u001b[0m\u001b[0;34m\u001b[0m\u001b[0m\n\u001b[1;32m     16\u001b[0m                                     \u001b[0mepsilon\u001b[0m\u001b[0;34m,\u001b[0m\u001b[0;34m\u001b[0m\u001b[0;34m\u001b[0m\u001b[0m\n\u001b[0;32m---> 17\u001b[0;31m                                     threshold)\n\u001b[0m\u001b[1;32m     18\u001b[0m \u001b[0;34m\u001b[0m\u001b[0m\n\u001b[1;32m     19\u001b[0m     \u001b[0;32mreturn\u001b[0m \u001b[0mcost\u001b[0m\u001b[0;34m,\u001b[0m \u001b[0mn_episodes\u001b[0m\u001b[0;34m,\u001b[0m \u001b[0mtotal_time\u001b[0m\u001b[0;34m\u001b[0m\u001b[0;34m\u001b[0m\u001b[0m\n",
      "\u001b[0;32m~/Desktop/semester_project/code/src/models/DQL/DQL.py\u001b[0m in \u001b[0;36mrun\u001b[0;34m(number_agents, width, height, n_start_goal, seed, n_episodes, n_steps, initial_value, learning_rate, gamma, epsilon, threshold)\u001b[0m\n\u001b[1;32m    302\u001b[0m         \u001b[0mtotal_rewards_by_episode\u001b[0m\u001b[0;34m.\u001b[0m\u001b[0mappend\u001b[0m\u001b[0;34m(\u001b[0m\u001b[0mtotal_reward\u001b[0m\u001b[0;34m)\u001b[0m\u001b[0;34m\u001b[0m\u001b[0;34m\u001b[0m\u001b[0m\n\u001b[1;32m    303\u001b[0m \u001b[0;34m\u001b[0m\u001b[0m\n\u001b[0;32m--> 304\u001b[0;31m         \u001b[0menv\u001b[0m \u001b[0;34m=\u001b[0m \u001b[0mcreate_env\u001b[0m\u001b[0;34m(\u001b[0m\u001b[0mnumber_agents\u001b[0m\u001b[0;34m,\u001b[0m\u001b[0mwidth\u001b[0m\u001b[0;34m,\u001b[0m\u001b[0mheight\u001b[0m\u001b[0;34m,\u001b[0m\u001b[0mn_start_goal\u001b[0m\u001b[0;34m,\u001b[0m\u001b[0mseed\u001b[0m\u001b[0;34m)\u001b[0m\u001b[0;34m\u001b[0m\u001b[0;34m\u001b[0m\u001b[0m\n\u001b[0m\u001b[1;32m    305\u001b[0m         \u001b[0menv_renderer\u001b[0m \u001b[0;34m=\u001b[0m \u001b[0mRenderTool\u001b[0m\u001b[0;34m(\u001b[0m\u001b[0menv\u001b[0m\u001b[0;34m,\u001b[0m\u001b[0magent_render_variant\u001b[0m\u001b[0;34m=\u001b[0m\u001b[0;36m3\u001b[0m\u001b[0;34m)\u001b[0m\u001b[0;34m\u001b[0m\u001b[0;34m\u001b[0m\u001b[0m\n\u001b[1;32m    306\u001b[0m         \u001b[0menv_renderer\u001b[0m\u001b[0;34m.\u001b[0m\u001b[0mrender_env\u001b[0m\u001b[0;34m(\u001b[0m\u001b[0mshow\u001b[0m\u001b[0;34m=\u001b[0m\u001b[0;32mTrue\u001b[0m\u001b[0;34m,\u001b[0m \u001b[0mshow_predictions\u001b[0m\u001b[0;34m=\u001b[0m\u001b[0;32mFalse\u001b[0m\u001b[0;34m,\u001b[0m \u001b[0mshow_observations\u001b[0m\u001b[0;34m=\u001b[0m\u001b[0;32mFalse\u001b[0m\u001b[0;34m)\u001b[0m\u001b[0;34m\u001b[0m\u001b[0;34m\u001b[0m\u001b[0m\n",
      "\u001b[0;32m~/Desktop/semester_project/code/src/models/DQL/DQL.py\u001b[0m in \u001b[0;36mcreate_env\u001b[0;34m(number_agents, width, height, n_start_goal, seed)\u001b[0m\n\u001b[1;32m    186\u001b[0m                                                     seed = seed),\n\u001b[1;32m    187\u001b[0m               \u001b[0mschedule_generator\u001b[0m\u001b[0;34m=\u001b[0m\u001b[0mcomplex_schedule_generator\u001b[0m\u001b[0;34m(\u001b[0m\u001b[0;34m)\u001b[0m\u001b[0;34m,\u001b[0m\u001b[0;34m\u001b[0m\u001b[0;34m\u001b[0m\u001b[0m\n\u001b[0;32m--> 188\u001b[0;31m               number_of_agents=number_agents)\n\u001b[0m\u001b[1;32m    189\u001b[0m \u001b[0;34m\u001b[0m\u001b[0m\n\u001b[1;32m    190\u001b[0m     \u001b[0;32mreturn\u001b[0m \u001b[0menv\u001b[0m\u001b[0;34m\u001b[0m\u001b[0;34m\u001b[0m\u001b[0m\n",
      "\u001b[0;32m~/anaconda3/envs/flatland-rl/lib/python3.6/site-packages/flatland/envs/rail_env.py\u001b[0m in \u001b[0;36m__init__\u001b[0;34m(self, width, height, rail_generator, schedule_generator, number_of_agents, obs_builder_object, max_episode_steps, stochastic_data, remove_agents_at_target, random_seed)\u001b[0m\n\u001b[1;32m    218\u001b[0m         \u001b[0;31m# Reset environment\u001b[0m\u001b[0;34m\u001b[0m\u001b[0;34m\u001b[0m\u001b[0;34m\u001b[0m\u001b[0m\n\u001b[1;32m    219\u001b[0m \u001b[0;34m\u001b[0m\u001b[0m\n\u001b[0;32m--> 220\u001b[0;31m         \u001b[0mself\u001b[0m\u001b[0;34m.\u001b[0m\u001b[0mreset\u001b[0m\u001b[0;34m(\u001b[0m\u001b[0;34m)\u001b[0m\u001b[0;34m\u001b[0m\u001b[0;34m\u001b[0m\u001b[0m\n\u001b[0m\u001b[1;32m    221\u001b[0m         \u001b[0mself\u001b[0m\u001b[0;34m.\u001b[0m\u001b[0mnum_resets\u001b[0m \u001b[0;34m=\u001b[0m \u001b[0;36m0\u001b[0m  \u001b[0;31m# yes, set it to zero again!\u001b[0m\u001b[0;34m\u001b[0m\u001b[0;34m\u001b[0m\u001b[0m\n\u001b[1;32m    222\u001b[0m \u001b[0;34m\u001b[0m\u001b[0m\n",
      "\u001b[0;32m~/anaconda3/envs/flatland-rl/lib/python3.6/site-packages/flatland/envs/rail_env.py\u001b[0m in \u001b[0;36mreset\u001b[0;34m(self, regen_rail, replace_agents, activate_agents, random_seed)\u001b[0m\n\u001b[1;32m    266\u001b[0m         \u001b[0moptionals\u001b[0m \u001b[0;34m=\u001b[0m \u001b[0;34m{\u001b[0m\u001b[0;34m}\u001b[0m\u001b[0;34m\u001b[0m\u001b[0;34m\u001b[0m\u001b[0m\n\u001b[1;32m    267\u001b[0m         \u001b[0;32mif\u001b[0m \u001b[0mregen_rail\u001b[0m \u001b[0;32mor\u001b[0m \u001b[0mself\u001b[0m\u001b[0;34m.\u001b[0m\u001b[0mrail\u001b[0m \u001b[0;32mis\u001b[0m \u001b[0;32mNone\u001b[0m\u001b[0;34m:\u001b[0m\u001b[0;34m\u001b[0m\u001b[0;34m\u001b[0m\u001b[0m\n\u001b[0;32m--> 268\u001b[0;31m             \u001b[0mrail\u001b[0m\u001b[0;34m,\u001b[0m \u001b[0moptionals\u001b[0m \u001b[0;34m=\u001b[0m \u001b[0mself\u001b[0m\u001b[0;34m.\u001b[0m\u001b[0mrail_generator\u001b[0m\u001b[0;34m(\u001b[0m\u001b[0mself\u001b[0m\u001b[0;34m.\u001b[0m\u001b[0mwidth\u001b[0m\u001b[0;34m,\u001b[0m \u001b[0mself\u001b[0m\u001b[0;34m.\u001b[0m\u001b[0mheight\u001b[0m\u001b[0;34m,\u001b[0m \u001b[0mself\u001b[0m\u001b[0;34m.\u001b[0m\u001b[0mget_num_agents\u001b[0m\u001b[0;34m(\u001b[0m\u001b[0;34m)\u001b[0m\u001b[0;34m,\u001b[0m \u001b[0mself\u001b[0m\u001b[0;34m.\u001b[0m\u001b[0mnum_resets\u001b[0m\u001b[0;34m)\u001b[0m\u001b[0;34m\u001b[0m\u001b[0;34m\u001b[0m\u001b[0m\n\u001b[0m\u001b[1;32m    269\u001b[0m \u001b[0;34m\u001b[0m\u001b[0m\n\u001b[1;32m    270\u001b[0m             \u001b[0mself\u001b[0m\u001b[0;34m.\u001b[0m\u001b[0mrail\u001b[0m \u001b[0;34m=\u001b[0m \u001b[0mrail\u001b[0m\u001b[0;34m\u001b[0m\u001b[0;34m\u001b[0m\u001b[0m\n",
      "\u001b[0;32m~/anaconda3/envs/flatland-rl/lib/python3.6/site-packages/flatland/envs/rail_generators.py\u001b[0m in \u001b[0;36mgenerator\u001b[0;34m(width, height, num_agents, num_resets)\u001b[0m\n\u001b[1;32m    120\u001b[0m                     \u001b[0;32mreturn\u001b[0m \u001b[0;32mTrue\u001b[0m\u001b[0;34m\u001b[0m\u001b[0;34m\u001b[0m\u001b[0m\n\u001b[1;32m    121\u001b[0m \u001b[0;34m\u001b[0m\u001b[0m\n\u001b[0;32m--> 122\u001b[0;31m                 \u001b[0;32mif\u001b[0m \u001b[0mcheck_all_dist\u001b[0m\u001b[0;34m(\u001b[0m\u001b[0msg_new\u001b[0m\u001b[0;34m)\u001b[0m\u001b[0;34m:\u001b[0m\u001b[0;34m\u001b[0m\u001b[0;34m\u001b[0m\u001b[0m\n\u001b[0m\u001b[1;32m    123\u001b[0m                     \u001b[0mall_ok\u001b[0m \u001b[0;34m=\u001b[0m \u001b[0;32mTrue\u001b[0m\u001b[0;34m\u001b[0m\u001b[0;34m\u001b[0m\u001b[0m\n\u001b[1;32m    124\u001b[0m                     \u001b[0;32mbreak\u001b[0m\u001b[0;34m\u001b[0m\u001b[0;34m\u001b[0m\u001b[0m\n",
      "\u001b[0;32m~/anaconda3/envs/flatland-rl/lib/python3.6/site-packages/flatland/envs/rail_generators.py\u001b[0m in \u001b[0;36mcheck_all_dist\u001b[0;34m(sg_new)\u001b[0m\n\u001b[1;32m    116\u001b[0m                             \u001b[0;32mfor\u001b[0m \u001b[0mj\u001b[0m \u001b[0;32min\u001b[0m \u001b[0mrange\u001b[0m\u001b[0;34m(\u001b[0m\u001b[0;36m2\u001b[0m\u001b[0;34m)\u001b[0m\u001b[0;34m:\u001b[0m\u001b[0;34m\u001b[0m\u001b[0;34m\u001b[0m\u001b[0m\n\u001b[1;32m    117\u001b[0m                                 \u001b[0mdist\u001b[0m \u001b[0;34m=\u001b[0m \u001b[0mdistance_on_rail\u001b[0m\u001b[0;34m(\u001b[0m\u001b[0msg_new\u001b[0m\u001b[0;34m[\u001b[0m\u001b[0mi\u001b[0m\u001b[0;34m]\u001b[0m\u001b[0;34m,\u001b[0m \u001b[0msg\u001b[0m\u001b[0;34m[\u001b[0m\u001b[0mj\u001b[0m\u001b[0;34m]\u001b[0m\u001b[0;34m)\u001b[0m\u001b[0;34m\u001b[0m\u001b[0;34m\u001b[0m\u001b[0m\n\u001b[0;32m--> 118\u001b[0;31m                                 \u001b[0;32mif\u001b[0m \u001b[0mdist\u001b[0m \u001b[0;34m<\u001b[0m \u001b[0;36m2\u001b[0m\u001b[0;34m:\u001b[0m\u001b[0;34m\u001b[0m\u001b[0;34m\u001b[0m\u001b[0m\n\u001b[0m\u001b[1;32m    119\u001b[0m                                     \u001b[0;32mreturn\u001b[0m \u001b[0;32mFalse\u001b[0m\u001b[0;34m\u001b[0m\u001b[0;34m\u001b[0m\u001b[0m\n\u001b[1;32m    120\u001b[0m                     \u001b[0;32mreturn\u001b[0m \u001b[0;32mTrue\u001b[0m\u001b[0;34m\u001b[0m\u001b[0;34m\u001b[0m\u001b[0m\n",
      "\u001b[0;31mKeyboardInterrupt\u001b[0m: "
     ]
    }
   ],
   "source": [
    "run_experiment_and_save_results(run_flow, results, agents = 1, repetition=10, grids_size=grids_size)"
   ]
  },
  {
   "cell_type": "markdown",
   "metadata": {},
   "source": [
    "# PLOTS"
   ]
  },
  {
   "cell_type": "code",
   "execution_count": null,
   "metadata": {},
   "outputs": [],
   "source": [
    "df = pd.read_csv(\"../data/processed/results_comparison.csv\", index_col = 'Unnamed: 0')"
   ]
  },
  {
   "cell_type": "code",
   "execution_count": null,
   "metadata": {},
   "outputs": [],
   "source": [
    "df_20_agents = pd.read_csv(\"../data/processed/results_20_agents.csv\",index_col = 'Unnamed: 0')"
   ]
  },
  {
   "cell_type": "code",
   "execution_count": null,
   "metadata": {},
   "outputs": [],
   "source": [
    "df_10_agents = pd.read_csv(\"../data/processed/results_10_agents.csv\",index_col = 'Unnamed: 0')"
   ]
  },
  {
   "cell_type": "code",
   "execution_count": null,
   "metadata": {},
   "outputs": [],
   "source": [
    "df_4_agents = pd.read_csv(\"../data/processed/results_4_agents.csv\",index_col = 'Unnamed: 0')"
   ]
  },
  {
   "cell_type": "code",
   "execution_count": null,
   "metadata": {
    "scrolled": false
   },
   "outputs": [],
   "source": [
    "plt.rcParams['savefig.facecolor'] = (46/255., 48/255., 55/255.)\n",
    "plt.rcParams['axes.facecolor'] = (46/255., 48/255., 55/255.)\n",
    "fig, ax = plt.subplots(nrows=1, ncols=1)\n",
    "ax.spines['bottom'].set_color(\"white\")\n",
    "ax.spines['top'].set_color(\"white\") \n",
    "ax.spines['right'].set_color('white')\n",
    "ax.spines['left'].set_color('white')\n",
    "ax.tick_params(axis='x', colors='white')\n",
    "ax.tick_params(axis='y', colors='white')\n",
    "ax.title.set_color('white')\n",
    "ax.xaxis.label.set_color('white')\n",
    "ax.yaxis.label.set_color('white')\n",
    "fig.set_facecolor((46/255., 48/255., 55/255.))\n",
    "ax.set_facecolor((46/255., 48/255., 55/255.))\n",
    "\n",
    "\n",
    "plt.scatter(df_4_agents['Size of the grid'],df_4_agents['Time'].values/60, label = \"4 trains\",alpha= 0.8)\n",
    "plt.scatter(df_10_agents['Size of the grid'],df_10_agents['Time'].values/60, label = \"10 trains\",alpha = 0.8)\n",
    "plt.scatter(df_20_agents['Size of the grid'],df_20_agents['Time'].values/60, label = \"20 trains\",alpha = 0.8)\n",
    "\n",
    "\n",
    "plt.xlabel(\"size of the grid (number of cells)\")\n",
    "\n",
    "x1 = [20**2,40**2,50*50,60*60]\n",
    "squad = ['(20x20)','(40x40)','(50,50)','(60x60)']\n",
    "\n",
    "ax.set_xticks(x1)\n",
    "ax.set_xticklabels(squad)\n",
    "\n",
    "plt.ylabel(\"time until solution (min)\")\n",
    "#plt.title(\"Experiment of multicommodity flow formulation until memory error (model > 40 Gb)\")\n",
    "\n",
    "l = plt.legend()\n",
    "for text in l.get_texts():\n",
    "    text.set_color(\"white\")\n",
    "\n",
    "\n",
    "\n",
    "ax = plt.gca()\n",
    "plt.tight_layout()\n",
    "plt.savefig(\"../data/processed/time.png\", dpi = 300)"
   ]
  }
 ],
 "metadata": {
  "kernelspec": {
   "display_name": "Python 3",
   "language": "python",
   "name": "python3"
  },
  "language_info": {
   "codemirror_mode": {
    "name": "ipython",
    "version": 3
   },
   "file_extension": ".py",
   "mimetype": "text/x-python",
   "name": "python",
   "nbconvert_exporter": "python",
   "pygments_lexer": "ipython3",
   "version": "3.6.9"
  }
 },
 "nbformat": 4,
 "nbformat_minor": 2
}
