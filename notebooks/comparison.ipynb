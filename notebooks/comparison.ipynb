{
 "cells": [
  {
   "cell_type": "markdown",
   "metadata": {},
   "source": [
    "# Overview"
   ]
  },
  {
   "cell_type": "markdown",
   "metadata": {},
   "source": [
    "this notebook runs the models and save the time and score\n",
    "the saved dataframe can be found in `../data/processed/results_{date}`"
   ]
  },
  {
   "cell_type": "markdown",
   "metadata": {},
   "source": [
    "### Imports"
   ]
  },
  {
   "cell_type": "code",
   "execution_count": 1,
   "metadata": {},
   "outputs": [],
   "source": [
    "%load_ext autoreload\n",
    "%autoreload 2"
   ]
  },
  {
   "cell_type": "code",
   "execution_count": 2,
   "metadata": {},
   "outputs": [],
   "source": [
    "import sys\n",
    "sys.path.append(\"../\")\n",
    "from src.graph import NetworkGraph"
   ]
  },
  {
   "cell_type": "code",
   "execution_count": 3,
   "metadata": {},
   "outputs": [],
   "source": [
    "import time\n",
    "import gurobi\n",
    "import pandas as pd\n",
    "import datetime\n",
    "import matplotlib.pyplot as plt\n",
    "import seaborn as sns\n",
    "from tqdm import tqdm\n",
    "import random\n",
    "import math"
   ]
  },
  {
   "cell_type": "code",
   "execution_count": 4,
   "metadata": {},
   "outputs": [],
   "source": [
    "from src.flows import *\n",
    "from src.models.DQL.DQL import run"
   ]
  },
  {
   "cell_type": "code",
   "execution_count": 5,
   "metadata": {},
   "outputs": [],
   "source": [
    "from flatland.envs.rail_env import RailEnv\n",
    "from flatland.envs.observations import *\n",
    "from flatland.envs.rail_generators import complex_rail_generator,rail_from_manual_specifications_generator,random_rail_generator, RailGenerator\n",
    "from flatland.envs.schedule_generators import complex_schedule_generator, random_schedule_generator, ScheduleGenerator\n",
    "from flatland.utils.rendertools import RenderTool\n",
    "from flatland.envs.rail_env import RailEnv\n",
    "from flatland.envs.observations import *\n",
    "from flatland.envs.rail_generators import complex_rail_generator,rail_from_manual_specifications_generator,random_rail_generator, RailGenerator,sparse_rail_generator\n",
    "from flatland.envs.schedule_generators import complex_schedule_generator, random_schedule_generator, ScheduleGenerator, sparse_schedule_generator\n",
    "from flatland.utils.rendertools import RenderTool, AgentRenderVariant"
   ]
  },
  {
   "cell_type": "markdown",
   "metadata": {},
   "source": [
    "### Helper functions"
   ]
  },
  {
   "cell_type": "code",
   "execution_count": 6,
   "metadata": {},
   "outputs": [],
   "source": [
    "def create_env(height,width,seed,number_of_agents=5):\n",
    "    env = RailEnv(width=width,\n",
    "              height=height,\n",
    "              rail_generator=complex_rail_generator(nr_start_goal=20, nr_extra=1, \n",
    "                                                    min_dist=6, max_dist=99999, seed = seed),\n",
    "              schedule_generator=complex_schedule_generator(),\n",
    "              number_of_agents=number_of_agents)\n",
    "    \n",
    "    env.reset()\n",
    "    \n",
    "    return env"
   ]
  },
  {
   "cell_type": "code",
   "execution_count": 7,
   "metadata": {},
   "outputs": [],
   "source": [
    "def create_env_sparse(height,width,seed,number_of_agents=5):\n",
    "\n",
    "    stochastic_data = {'prop_malfunction': 0,  # Percentage of defective agents\n",
    "                       'malfunction_rate': 30,  # Rate of malfunction occurence\n",
    "                       'min_duration': 3,  # Minimal duration of malfunction\n",
    "                       'max_duration': 20  # Max duration of malfunction\n",
    "                       }\n",
    "    speed_ration_map = {1.: 1,  # Fast passenger train\n",
    "                        1. / 2.: 0,  # Fast freight train\n",
    "                        1. / 3.: 0,  # Slow commuter train\n",
    "                        1. / 4.: 0}  # Slow freight train\n",
    "    env = RailEnv(width=height,\n",
    "                  height=width,\n",
    "                  rail_generator=sparse_rail_generator(max_num_cities=number_of_agents+2,  \n",
    "                                                       seed=seed, \n",
    "                                                       grid_mode=False,\n",
    "                                                       max_rails_between_cities=4,\n",
    "                                                       max_rails_in_city=4,\n",
    "                                                       ),\n",
    "                  schedule_generator=sparse_schedule_generator(speed_ration_map,seed = seed),\n",
    "                  number_of_agents=number_of_agents,\n",
    "                  stochastic_data=stochastic_data,  \n",
    "                  obs_builder_object=GlobalObsForRailEnv(),\n",
    "                  remove_agents_at_target=True\n",
    "                  )\n",
    "    env.reset()\n",
    "\n",
    "    return env"
   ]
  },
  {
   "cell_type": "code",
   "execution_count": 8,
   "metadata": {},
   "outputs": [],
   "source": [
    "def run_flow_cg(env,*args):\n",
    "    solver = Solver(\"cg.log\",useDirections=True,verbose=False)\n",
    "    cost =  solver.solve(env)\n",
    "    number_of_variables = sum(solver.master.stats[\"variablesAdded\"])\n",
    "    time_init = solver.stats[\"timeInit\"]\n",
    "    return cost,number_of_variables, time_init"
   ]
  },
  {
   "cell_type": "code",
   "execution_count": 9,
   "metadata": {},
   "outputs": [],
   "source": [
    "def run_flow_af(env,*args):\n",
    "    solver = Solver(\"comparison_cg.log\",method=\"Arc Formulation\",useDirections=True,verbose=False)\n",
    "    return solver.solve(env)"
   ]
  },
  {
   "cell_type": "code",
   "execution_count": 10,
   "metadata": {},
   "outputs": [],
   "source": [
    "def run_flow(env,height,width):\n",
    "    \n",
    "    #extract the transition matrix\n",
    "    matrix_rail = np.array(env.rail.grid.tolist())\n",
    "    \n",
    "    #build the transition network\n",
    "    flatlandNetwork = NetworkGraph(matrix_rail)\n",
    "\n",
    "    #get the sources and sinks of the different agents\n",
    "    sources = []\n",
    "    sinks = []\n",
    "    for agent in env.agents:\n",
    "        sources.append(agent.initial_position)\n",
    "        sinks.append(agent.target)\n",
    "        \n",
    "    #build the time exanded network and connect the sources and sinks\n",
    "    TestNetworkTime = TimeNetwork(flatlandNetwork, depth=max(2*(height+width),40))\n",
    "    TestNetworkTime.connect_sources_and_sink(sources,sinks)\n",
    "    \n",
    "    \n",
    "    #get the Integral Program formulation of the problem and solve it \n",
    "    print(sources,sinks)\n",
    "    mcflow = MCFlow(TestNetworkTime.graph,len(sources),TestNetworkTime.topology)\n",
    "    mcflow.solve()\n",
    "    \n",
    "    #extract the path and compute the scores (total time spent by the agent in the grid)\n",
    "    cost= 0\n",
    "    if not mcflow.check_if_feasible():\n",
    "        return \"Infeasible\"\n",
    "    print(mcflow.m.objVal)\n",
    "    paths = mcflow.extract_paths()\n",
    "    for agent,path in paths.items():\n",
    "        print(path)\n",
    "        cost += -1+len(path)/2\n",
    "       \n",
    "    return cost"
   ]
  },
  {
   "cell_type": "code",
   "execution_count": 11,
   "metadata": {},
   "outputs": [],
   "source": [
    "def run_flow_rl(env,width,height,seed,n_start_goal=20,initial_value = 0,\n",
    "             learning_rate = 0.8,gamma = 0.9,epsilon = 0.1,threshold = 0.3):\n",
    "    number_agents = len(env.agents)\n",
    "    n_episodes = width*height*number_agents*15\n",
    "    n_steps = 2*(width+height)\n",
    "    print(seed)\n",
    "    cost, n_episodes, total_time = run(number_agents,\n",
    "                                    width,height,\n",
    "                                    n_start_goal,\n",
    "                                    seed,\n",
    "                                    n_episodes,\n",
    "                                    n_steps,\n",
    "                                    initial_value,\n",
    "                                    learning_rate,\n",
    "                                    gamma,\n",
    "                                    epsilon,\n",
    "                                    threshold)\n",
    "    \n",
    "    return cost, n_episodes, total_time"
   ]
  },
  {
   "cell_type": "code",
   "execution_count": 12,
   "metadata": {},
   "outputs": [],
   "source": [
    "def run_experiment_and_save_results(method, results,agents = 4, repetition = 5, \n",
    "                                    pathToSavedGrids = None, grids_size = None):\n",
    "    nodes = []\n",
    "    edges = []\n",
    "    sizes_list = []\n",
    "    if pathToSavedGrids is None:\n",
    "        for sizes in tqdm(grids_size):\n",
    "            for i in range(repetition):\n",
    "                seed = sizes[0]*sizes[1]+i\n",
    "                print(f'seed {seed}')\n",
    "                env = create_env_sparse(sizes[0],sizes[1],seed,number_of_agents=agents)\n",
    "                print(\"env created\")\n",
    "                \n",
    "                start = time.time()\n",
    "                cost,number_of_variables, time_init = run_flow_cg(env,sizes[0],sizes[1])\n",
    "                sizes_list.append(sizes[0]*sizes[1])                    \n",
    "                time_spent = time.time()-start\n",
    "                results = results.append({'Size of the grid' : sizes[0]*sizes[1] , \n",
    "                                          'Score' : cost, \"Time\":time_spent,\"Variables added\":number_of_variables, \n",
    "                                          \"time initial solution\": time_init,\n",
    "                                          \"Type\":\"Column Generation\"} , \n",
    "                                         ignore_index=True)\n",
    "                results.to_csv(\"../data/processed/results_comparison\"+str(agents)+\".csv\")\n",
    "                results.to_csv(\"../data/processed/results_comparison\"+str(agents)+\".csv\")\n",
    "                start = time.time()\n",
    "                cost = run_flow_af(env,sizes[1],sizes[0],seed)\n",
    "                sizes_list.append(sizes[0]*sizes[1])                    \n",
    "                time_spent = time.time()-start\n",
    "                results = results.append({'Size of the grid' : sizes[0]*sizes[1] , \n",
    "                                          'Score' : cost, \"Time\":time_spent, \"Variables added\": None,\n",
    "                                           \"time initial solution\": None,\n",
    "                                          \"Type\":\"Arc Formulation\"} , \n",
    "                                         ignore_index=True)\n",
    "                results.to_csv(\"../data/processed/results_comparison\"+str(agents)+\".csv\")\n",
    "                print(\"---\")\n",
    "                                \n",
    "    else:\n",
    "        raise NotImplementedError(\"Load the map and proceed to inference\")"
   ]
  },
  {
   "cell_type": "markdown",
   "metadata": {},
   "source": [
    "### Constant definition"
   ]
  },
  {
   "cell_type": "code",
   "execution_count": 17,
   "metadata": {},
   "outputs": [],
   "source": [
    "grids_size = [(30,30),(40,40),(50,50),(100,100)]"
   ]
  },
  {
   "cell_type": "code",
   "execution_count": 14,
   "metadata": {},
   "outputs": [],
   "source": [
    "results = pd.DataFrame()"
   ]
  },
  {
   "cell_type": "markdown",
   "metadata": {},
   "source": [
    "## Actual run"
   ]
  },
  {
   "cell_type": "code",
   "execution_count": null,
   "metadata": {
    "scrolled": false
   },
   "outputs": [
    {
     "name": "stderr",
     "output_type": "stream",
     "text": [
      "\r",
      "  0%|          | 0/4 [00:00<?, ?it/s]"
     ]
    },
    {
     "name": "stdout",
     "output_type": "stream",
     "text": [
      "seed 900\n",
      "env created\n",
      "Had to drop 5 agents, conflict with their starting position\n",
      "[2, 4, 5, 6, 9]\n",
      " configuration is to clean problematic agent, deleting agent from env\n"
     ]
    },
    {
     "name": "stderr",
     "output_type": "stream",
     "text": [
      "\n",
      "0it [00:00, ?it/s]\u001b[A\n",
      "1it [00:01,  1.11s/it]\u001b[A\n",
      "2it [00:01,  1.04it/s]\u001b[A\n",
      "3it [00:03,  1.07s/it]\u001b[A\n",
      "4it [00:03,  1.04it/s]\u001b[A\n",
      "5it [00:04,  1.09it/s]\u001b[A"
     ]
    },
    {
     "name": "stdout",
     "output_type": "stream",
     "text": [
      "Academic license - for non-commercial use only\n"
     ]
    },
    {
     "name": "stderr",
     "output_type": "stream",
     "text": [
      "\n"
     ]
    },
    {
     "name": "stdout",
     "output_type": "stream",
     "text": [
      "Had to drop 5 agents, conflict with their starting position\n",
      "[2, 4, 5, 6, 9]\n",
      " configuration is to clean problematic agent, deleting agent from env\n",
      "Setting up the arc formulation may take some time and RAM\n"
     ]
    },
    {
     "name": "stderr",
     "output_type": "stream",
     "text": [
      "\n",
      "  0%|          | 0/4 [00:00<?, ?it/s]\u001b[A"
     ]
    },
    {
     "name": "stdout",
     "output_type": "stream",
     "text": [
      "seed 900\n",
      "env created\n",
      "Had to drop 14 agents, conflict with their starting position\n",
      "[2, 4, 5, 6, 9, 10, 11, 12, 13, 15, 16, 17, 18, 19]\n",
      " configuration is to clean problematic agent, deleting agent from env\n"
     ]
    },
    {
     "name": "stderr",
     "output_type": "stream",
     "text": [
      "\n",
      "\n",
      "0it [00:00, ?it/s]\u001b[A\u001b[A\n",
      "\n",
      "1it [00:01,  1.55s/it]\u001b[A\u001b[A\n",
      "\n",
      "2it [00:02,  1.32s/it]\u001b[A\u001b[A\n",
      "\n",
      "3it [00:03,  1.14s/it]\u001b[A\u001b[A\n",
      "\n",
      "4it [00:03,  1.06s/it]\u001b[A\u001b[A\n",
      "\n",
      "5it [00:04,  1.00s/it]\u001b[A\u001b[A\n",
      "\n",
      "6it [00:05,  1.04it/s]\u001b[A\u001b[A\n"
     ]
    },
    {
     "name": "stdout",
     "output_type": "stream",
     "text": [
      "Had to drop 14 agents, conflict with their starting position\n",
      "[2, 4, 5, 6, 9, 10, 11, 12, 13, 15, 16, 17, 18, 19]\n",
      " configuration is to clean problematic agent, deleting agent from env\n",
      "Setting up the arc formulation may take some time and RAM\n"
     ]
    }
   ],
   "source": [
    "for number in [10,20,30,40,50]:\n",
    "    results = pd.DataFrame()\n",
    "    try:\n",
    "        run_experiment_and_save_results(run_flow, results, agents = number, repetition=2, grids_size=grids_size)\n",
    "    except:\n",
    "        pass"
   ]
  },
  {
   "cell_type": "markdown",
   "metadata": {},
   "source": [
    "# PLOTS"
   ]
  },
  {
   "cell_type": "code",
   "execution_count": 6,
   "metadata": {},
   "outputs": [],
   "source": [
    "df = pd.read_csv(\"../data/processed/results_comparison5.csv\", index_col = 'Unnamed: 0')"
   ]
  },
  {
   "cell_type": "code",
   "execution_count": 7,
   "metadata": {},
   "outputs": [
    {
     "data": {
      "text/html": [
       "<div>\n",
       "<style scoped>\n",
       "    .dataframe tbody tr th:only-of-type {\n",
       "        vertical-align: middle;\n",
       "    }\n",
       "\n",
       "    .dataframe tbody tr th {\n",
       "        vertical-align: top;\n",
       "    }\n",
       "\n",
       "    .dataframe thead th {\n",
       "        text-align: right;\n",
       "    }\n",
       "</style>\n",
       "<table border=\"1\" class=\"dataframe\">\n",
       "  <thead>\n",
       "    <tr style=\"text-align: right;\">\n",
       "      <th></th>\n",
       "      <th>Score</th>\n",
       "      <th>Size of the grid</th>\n",
       "      <th>Time</th>\n",
       "      <th>Type</th>\n",
       "      <th>Variables added</th>\n",
       "    </tr>\n",
       "  </thead>\n",
       "  <tbody>\n",
       "    <tr>\n",
       "      <td>0</td>\n",
       "      <td>218.0</td>\n",
       "      <td>500.0</td>\n",
       "      <td>11.598443</td>\n",
       "      <td>Column Generation</td>\n",
       "      <td>5.0</td>\n",
       "    </tr>\n",
       "    <tr>\n",
       "      <td>1</td>\n",
       "      <td>218.0</td>\n",
       "      <td>500.0</td>\n",
       "      <td>184.310935</td>\n",
       "      <td>Arc Formulation</td>\n",
       "      <td>NaN</td>\n",
       "    </tr>\n",
       "    <tr>\n",
       "      <td>2</td>\n",
       "      <td>133.0</td>\n",
       "      <td>500.0</td>\n",
       "      <td>12.028289</td>\n",
       "      <td>Column Generation</td>\n",
       "      <td>0.0</td>\n",
       "    </tr>\n",
       "    <tr>\n",
       "      <td>3</td>\n",
       "      <td>133.0</td>\n",
       "      <td>500.0</td>\n",
       "      <td>192.104977</td>\n",
       "      <td>Arc Formulation</td>\n",
       "      <td>NaN</td>\n",
       "    </tr>\n",
       "    <tr>\n",
       "      <td>4</td>\n",
       "      <td>279.0</td>\n",
       "      <td>500.0</td>\n",
       "      <td>10.280787</td>\n",
       "      <td>Column Generation</td>\n",
       "      <td>0.0</td>\n",
       "    </tr>\n",
       "    <tr>\n",
       "      <td>5</td>\n",
       "      <td>279.0</td>\n",
       "      <td>500.0</td>\n",
       "      <td>232.823883</td>\n",
       "      <td>Arc Formulation</td>\n",
       "      <td>NaN</td>\n",
       "    </tr>\n",
       "    <tr>\n",
       "      <td>6</td>\n",
       "      <td>211.0</td>\n",
       "      <td>500.0</td>\n",
       "      <td>5.827799</td>\n",
       "      <td>Column Generation</td>\n",
       "      <td>1.0</td>\n",
       "    </tr>\n",
       "    <tr>\n",
       "      <td>7</td>\n",
       "      <td>211.0</td>\n",
       "      <td>500.0</td>\n",
       "      <td>86.751172</td>\n",
       "      <td>Arc Formulation</td>\n",
       "      <td>NaN</td>\n",
       "    </tr>\n",
       "    <tr>\n",
       "      <td>8</td>\n",
       "      <td>340.0</td>\n",
       "      <td>625.0</td>\n",
       "      <td>21.810992</td>\n",
       "      <td>Column Generation</td>\n",
       "      <td>10.0</td>\n",
       "    </tr>\n",
       "    <tr>\n",
       "      <td>9</td>\n",
       "      <td>336.0</td>\n",
       "      <td>625.0</td>\n",
       "      <td>340.561623</td>\n",
       "      <td>Arc Formulation</td>\n",
       "      <td>NaN</td>\n",
       "    </tr>\n",
       "    <tr>\n",
       "      <td>10</td>\n",
       "      <td>194.0</td>\n",
       "      <td>625.0</td>\n",
       "      <td>13.064026</td>\n",
       "      <td>Column Generation</td>\n",
       "      <td>1.0</td>\n",
       "    </tr>\n",
       "    <tr>\n",
       "      <td>11</td>\n",
       "      <td>194.0</td>\n",
       "      <td>625.0</td>\n",
       "      <td>248.698785</td>\n",
       "      <td>Arc Formulation</td>\n",
       "      <td>NaN</td>\n",
       "    </tr>\n",
       "    <tr>\n",
       "      <td>12</td>\n",
       "      <td>216.0</td>\n",
       "      <td>625.0</td>\n",
       "      <td>13.963678</td>\n",
       "      <td>Column Generation</td>\n",
       "      <td>0.0</td>\n",
       "    </tr>\n",
       "    <tr>\n",
       "      <td>13</td>\n",
       "      <td>216.0</td>\n",
       "      <td>625.0</td>\n",
       "      <td>226.706702</td>\n",
       "      <td>Arc Formulation</td>\n",
       "      <td>NaN</td>\n",
       "    </tr>\n",
       "    <tr>\n",
       "      <td>14</td>\n",
       "      <td>98.0</td>\n",
       "      <td>625.0</td>\n",
       "      <td>8.429038</td>\n",
       "      <td>Column Generation</td>\n",
       "      <td>9.0</td>\n",
       "    </tr>\n",
       "    <tr>\n",
       "      <td>15</td>\n",
       "      <td>95.0</td>\n",
       "      <td>625.0</td>\n",
       "      <td>882.479542</td>\n",
       "      <td>Arc Formulation</td>\n",
       "      <td>NaN</td>\n",
       "    </tr>\n",
       "    <tr>\n",
       "      <td>16</td>\n",
       "      <td>171.0</td>\n",
       "      <td>750.0</td>\n",
       "      <td>9.953204</td>\n",
       "      <td>Column Generation</td>\n",
       "      <td>3.0</td>\n",
       "    </tr>\n",
       "    <tr>\n",
       "      <td>17</td>\n",
       "      <td>171.0</td>\n",
       "      <td>750.0</td>\n",
       "      <td>173.459187</td>\n",
       "      <td>Arc Formulation</td>\n",
       "      <td>NaN</td>\n",
       "    </tr>\n",
       "    <tr>\n",
       "      <td>18</td>\n",
       "      <td>388.0</td>\n",
       "      <td>750.0</td>\n",
       "      <td>25.592220</td>\n",
       "      <td>Column Generation</td>\n",
       "      <td>3.0</td>\n",
       "    </tr>\n",
       "  </tbody>\n",
       "</table>\n",
       "</div>"
      ],
      "text/plain": [
       "    Score  Size of the grid        Time               Type  Variables added\n",
       "0   218.0             500.0   11.598443  Column Generation              5.0\n",
       "1   218.0             500.0  184.310935    Arc Formulation              NaN\n",
       "2   133.0             500.0   12.028289  Column Generation              0.0\n",
       "3   133.0             500.0  192.104977    Arc Formulation              NaN\n",
       "4   279.0             500.0   10.280787  Column Generation              0.0\n",
       "5   279.0             500.0  232.823883    Arc Formulation              NaN\n",
       "6   211.0             500.0    5.827799  Column Generation              1.0\n",
       "7   211.0             500.0   86.751172    Arc Formulation              NaN\n",
       "8   340.0             625.0   21.810992  Column Generation             10.0\n",
       "9   336.0             625.0  340.561623    Arc Formulation              NaN\n",
       "10  194.0             625.0   13.064026  Column Generation              1.0\n",
       "11  194.0             625.0  248.698785    Arc Formulation              NaN\n",
       "12  216.0             625.0   13.963678  Column Generation              0.0\n",
       "13  216.0             625.0  226.706702    Arc Formulation              NaN\n",
       "14   98.0             625.0    8.429038  Column Generation              9.0\n",
       "15   95.0             625.0  882.479542    Arc Formulation              NaN\n",
       "16  171.0             750.0    9.953204  Column Generation              3.0\n",
       "17  171.0             750.0  173.459187    Arc Formulation              NaN\n",
       "18  388.0             750.0   25.592220  Column Generation              3.0"
      ]
     },
     "execution_count": 7,
     "metadata": {},
     "output_type": "execute_result"
    }
   ],
   "source": [
    "df"
   ]
  },
  {
   "cell_type": "code",
   "execution_count": 36,
   "metadata": {},
   "outputs": [],
   "source": [
    "rl_values = df[df.Type == \"RL\"].Score.values\n",
    "sizes = df[df.Type == \"RL\"][\"Size of the grid\"].values\n",
    "co_values = df[df.Type == \"CO\"].Score.values\n",
    "diff = rl_values-co_values\n",
    "diff = [math.ceil(x) for x in diff]\n"
   ]
  },
  {
   "cell_type": "code",
   "execution_count": 16,
   "metadata": {},
   "outputs": [
    {
     "data": {
      "image/png": "[encoded data removed]",
      "text/plain": [
       "<Figure size 432x288 with 1 Axes>"
      ]
     },
     "metadata": {},
     "output_type": "display_data"
    }
   ],
   "source": [
    "plt.rcParams['savefig.facecolor'] = (46/255., 48/255., 55/255.)\n",
    "plt.rcParams['axes.facecolor'] = (46/255., 48/255., 55/255.)\n",
    "fig, ax = plt.subplots(nrows=1, ncols=1)\n",
    "ax.spines['bottom'].set_color(\"white\")\n",
    "ax.spines['top'].set_color(\"white\") \n",
    "ax.spines['right'].set_color('white')\n",
    "ax.spines['left'].set_color('white')\n",
    "ax.tick_params(axis='x', colors='white')\n",
    "ax.tick_params(axis='y', colors='white')\n",
    "ax.title.set_color('white')\n",
    "ax.xaxis.label.set_color('white')\n",
    "ax.yaxis.label.set_color('white')\n",
    "fig.set_facecolor((46/255., 48/255., 55/255.))\n",
    "ax.set_facecolor((46/255., 48/255., 55/255.))\n",
    "\n",
    "\n",
    "plt.scatter(df[df.Type == 'Column Generation']['Size of the grid'].values,\n",
    "            df[df.Type == 'Column Generation'].Time,label = \"Cg\")\n",
    "plt.scatter(df[df.Type == 'Arc Formulation']['Size of the grid'].values,\n",
    "            df[df.Type == 'Arc Formulation'].Time, label = \"Af\")\n",
    "#sizes_jitter = [np.random.normal(x, 2,1) for x in sizes]\n",
    "#plt.scatter(sizes_jitter,diff)\n",
    "plt.xlabel(\"size of the grid\")\n",
    "\n",
    "x1 = [25*20,25*25,25*30]\n",
    "squad = ['(25x20)','(25,25)','(25,30)']#,'(20,20)','(25,20)','(25,25)','(25,30)']\n",
    "\n",
    "ax.set_xticks(x1)\n",
    "ax.set_xticklabels(squad)\n",
    "\n",
    "plt.ylabel(\"Time to solution in seconds\")\n",
    "plt.title(\"5 agents comparison\")\n",
    "\n",
    "l = plt.legend()\n",
    "for text in l.get_texts():\n",
    "    text.set_color(\"white\")\n",
    "\n",
    "\n",
    "\n",
    "ax = plt.gca()\n",
    "plt.tight_layout()\n",
    "plt.savefig(\"../data/processed/comparison_score.png\", dpi = 300)"
   ]
  },
  {
   "cell_type": "code",
   "execution_count": null,
   "metadata": {},
   "outputs": [],
   "source": [
    "df_20_agents = pd.read_csv(\"../data/processed/results_20_agents.csv\",index_col = 'Unnamed: 0')"
   ]
  },
  {
   "cell_type": "code",
   "execution_count": null,
   "metadata": {},
   "outputs": [],
   "source": [
    "df_10_agents = pd.read_csv(\"../data/processed/results_10_agents.csv\",index_col = 'Unnamed: 0')"
   ]
  },
  {
   "cell_type": "code",
   "execution_count": null,
   "metadata": {},
   "outputs": [],
   "source": [
    "df_4_agents = pd.read_csv(\"../data/processed/results_4_agents.csv\",index_col = 'Unnamed: 0')"
   ]
  },
  {
   "cell_type": "code",
   "execution_count": null,
   "metadata": {
    "scrolled": false
   },
   "outputs": [],
   "source": [
    "plt.rcParams['savefig.facecolor'] = (46/255., 48/255., 55/255.)\n",
    "plt.rcParams['axes.facecolor'] = (46/255., 48/255., 55/255.)\n",
    "fig, ax = plt.subplots(nrows=1, ncols=1)\n",
    "ax.spines['bottom'].set_color(\"white\")\n",
    "ax.spines['top'].set_color(\"white\") \n",
    "ax.spines['right'].set_color('white')\n",
    "ax.spines['left'].set_color('white')\n",
    "ax.tick_params(axis='x', colors='white')\n",
    "ax.tick_params(axis='y', colors='white')\n",
    "ax.title.set_color('white')\n",
    "ax.xaxis.label.set_color('white')\n",
    "ax.yaxis.label.set_color('white')\n",
    "fig.set_facecolor((46/255., 48/255., 55/255.))\n",
    "ax.set_facecolor((46/255., 48/255., 55/255.))\n",
    "\n",
    "\n",
    "plt.scatter(df_4_agents['Size of the grid'],df_4_agents['Time'].values/60, label = \"4 trains\",alpha= 0.8)\n",
    "plt.scatter(df_10_agents['Size of the grid'],df_10_agents['Time'].values/60, label = \"10 trains\",alpha = 0.8)\n",
    "plt.scatter(df_20_agents['Size of the grid'],df_20_agents['Time'].values/60, label = \"20 trains\",alpha = 0.8)\n",
    "\n",
    "\n",
    "plt.xlabel(\"size of the grid (number of cells)\")\n",
    "\n",
    "x1 = [20**2,40**2,50*50,60*60]\n",
    "squad = ['(20x20)','(40x40)','(50,50)','(60x60)']\n",
    "\n",
    "ax.set_xticks(x1)\n",
    "ax.set_xticklabels(squad)\n",
    "\n",
    "plt.ylabel(\"time until solution (min)\")\n",
    "#plt.title(\"Experiment of multicommodity flow formulation until memory error (model > 40 Gb)\")\n",
    "\n",
    "l = plt.legend()\n",
    "for text in l.get_texts():\n",
    "    text.set_color(\"white\")\n",
    "\n",
    "\n",
    "\n",
    "ax = plt.gca()\n",
    "plt.tight_layout()\n",
    "plt.savefig(\"../data/processed/time.png\", dpi = 300)"
   ]
  }
 ],
 "metadata": {
  "kernelspec": {
   "display_name": "Python 3",
   "language": "python",
   "name": "python3"
  },
  "language_info": {
   "codemirror_mode": {
    "name": "ipython",
    "version": 3
   },
   "file_extension": ".py",
   "mimetype": "text/x-python",
   "name": "python",
   "nbconvert_exporter": "python",
   "pygments_lexer": "ipython3",
   "version": "3.6.9"
  }
 },
 "nbformat": 4,
 "nbformat_minor": 2
}
