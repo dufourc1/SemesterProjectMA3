{
 "cells": [
  {
   "cell_type": "markdown",
   "metadata": {},
   "source": [
    "# Overview"
   ]
  },
  {
   "cell_type": "markdown",
   "metadata": {},
   "source": [
    "this notebook runs the models and save the time and score\n",
    "the saved dataframe can be found in `../data/processed/results_{date}`"
   ]
  },
  {
   "cell_type": "markdown",
   "metadata": {},
   "source": [
    "### Imports"
   ]
  },
  {
   "cell_type": "code",
   "execution_count": 1,
   "metadata": {},
   "outputs": [],
   "source": [
    "%load_ext autoreload\n",
    "%autoreload 2"
   ]
  },
  {
   "cell_type": "code",
   "execution_count": 2,
   "metadata": {},
   "outputs": [],
   "source": [
    "import sys\n",
    "sys.path.append(\"../\")\n",
    "from src.graph import NetworkGraph"
   ]
  },
  {
   "cell_type": "code",
   "execution_count": 3,
   "metadata": {},
   "outputs": [],
   "source": [
    "import time\n",
    "import gurobi\n",
    "import pandas as pd\n",
    "import datetime\n",
    "import matplotlib.pyplot as plt\n",
    "import seaborn as sns\n",
    "from tqdm import tqdm"
   ]
  },
  {
   "cell_type": "code",
   "execution_count": 4,
   "metadata": {},
   "outputs": [],
   "source": [
    "from src.flows import *\n",
    "from src.models.DQL.DQL import *"
   ]
  },
  {
   "cell_type": "code",
   "execution_count": 5,
   "metadata": {},
   "outputs": [],
   "source": [
    "from flatland.envs.rail_env import RailEnv\n",
    "from flatland.envs.observations import *\n",
    "from flatland.envs.rail_generators import complex_rail_generator,rail_from_manual_specifications_generator,random_rail_generator, RailGenerator\n",
    "from flatland.envs.schedule_generators import complex_schedule_generator, random_schedule_generator, ScheduleGenerator\n",
    "from flatland.utils.rendertools import RenderTool"
   ]
  },
  {
   "cell_type": "markdown",
   "metadata": {},
   "source": [
    "### Helper functions"
   ]
  },
  {
   "cell_type": "code",
   "execution_count": 6,
   "metadata": {},
   "outputs": [],
   "source": [
    "def create_env(height,width,seed,number_of_agents=4):\n",
    "    env = RailEnv(width=width,\n",
    "              height=height,\n",
    "              rail_generator=complex_rail_generator(nr_start_goal=20, nr_extra=1, \n",
    "                                                    min_dist=6, max_dist=99999, seed = seed),\n",
    "              schedule_generator=complex_schedule_generator(),\n",
    "              number_of_agents=number_of_agents,\n",
    "              obs_builder_object=GlobalObsForRailEnv())\n",
    "    env.reset()\n",
    "    \n",
    "    \n",
    "    \n",
    "    return env"
   ]
  },
  {
   "cell_type": "code",
   "execution_count": 7,
   "metadata": {},
   "outputs": [],
   "source": [
    "def run_flow(env,height,width):\n",
    "    \n",
    "    #extract the transition matrix\n",
    "    matrix_rail = np.array(env.rail.grid.tolist())\n",
    "    \n",
    "    #build the transition network\n",
    "    flatlandNetwork = NetworkGraph(matrix_rail)\n",
    "\n",
    "    #get the sources and sinks of the different agents\n",
    "    sources = []\n",
    "    sinks = []\n",
    "    for agent in env.agents:\n",
    "        sources.append(agent.initial_position)\n",
    "        sinks.append(agent.target)\n",
    "        \n",
    "    #build the time exanded network and connect the sources and sinks\n",
    "    TestNetworkTime = TimeNetwork(flatlandNetwork, depth=max(2*(height+width),40))\n",
    "    TestNetworkTime.connect_sources_and_sink(sources,sinks)\n",
    "    \n",
    "    \n",
    "    #get the Integral Program formulation of the problem and solve it \n",
    "    print(sources,sinks)\n",
    "    mcflow = MCFlow(TestNetworkTime.graph,len(sources),TestNetworkTime.topology)\n",
    "    mcflow.solve()\n",
    "    \n",
    "    #extract the path and compute the scores (total time spent by the agent in the grid)\n",
    "    cost= 0\n",
    "    if not mcflow.check_if_feasible():\n",
    "        return \"Infeasible\"\n",
    "    print(mcflow.m.objVal)\n",
    "    paths = mcflow.extract_paths()\n",
    "    for agent,path in paths.items():\n",
    "        print(path)\n",
    "        cost += -1+len(path)/2\n",
    "       \n",
    "    return cost"
   ]
  },
  {
   "cell_type": "code",
   "execution_count": 13,
   "metadata": {},
   "outputs": [],
   "source": [
    "def run_flow_rl(env,width,height,seed,n_start_goal=20,initial_value = 0,\n",
    "             learning_rate = 0.8,gamma = 0.9,epsilon = 0.1,threshold = 0.3):\n",
    "    number_agents = len(env.agents)\n",
    "    n_episodes = width*height*number_agents*15\n",
    "    n_steps = 2*(width+height)\n",
    "\n",
    "    cost, n_episodes, total_time = run(number_agents,\n",
    "                                    width,height,\n",
    "                                    n_start_goal,\n",
    "                                    seed,\n",
    "                                    n_episodes,\n",
    "                                    n_steps,\n",
    "                                    initial_value,\n",
    "                                    learning_rate,\n",
    "                                    gamma,\n",
    "                                    epsilon,\n",
    "                                    threshold)\n",
    "    \n",
    "    return cost, n_episodes, total_time"
   ]
  },
  {
   "cell_type": "code",
   "execution_count": 14,
   "metadata": {},
   "outputs": [],
   "source": [
    "def run_experiment_and_save_results(method, results,agents = 4, repetition = 5, \n",
    "                                    pathToSavedGrids = None, grids_size = None):\n",
    "    nodes = []\n",
    "    edges = []\n",
    "    sizes_list = []\n",
    "    if pathToSavedGrids is None:\n",
    "        for sizes in tqdm(grids_size):\n",
    "            for i in range(repetition):\n",
    "                seed = sizes[0]*sizes[1]+i\n",
    "                env = create_env(sizes[0],sizes[1],seed,number_of_agents=agents)\n",
    "                \n",
    "                env.step({0:2})\n",
    "                env_renderer = RenderTool(env,agent_render_variant=3)\n",
    "                env_renderer.render_env(show=True, show_predictions=False, show_observations=False)\n",
    "                env = create_env(sizes[0],sizes[1],seed,number_of_agents=agents)\n",
    "    \n",
    "                start = time.time()\n",
    "                cost = run_flow(env,sizes[0],sizes[1])\n",
    "                print(cost)\n",
    "                sizes_list.append(sizes[0]*sizes[1])                    \n",
    "                time_spent = time.time()-start\n",
    "                results = results.append({'Size of the grid' : sizes[0]*sizes[1] , \n",
    "                                          'Score' : cost, \"Time\":time_spent, \n",
    "                                          \"Type\":\"CO\",\"Number of episodes\": None} , \n",
    "                                         ignore_index=True)\n",
    "                results.to_csv(\"../data/processed/results_comparison.csv\")\n",
    "                start = time.time()\n",
    "                cost, n_episodes, total_time = run_flow_rl(env,sizes[0],sizes[1],seed)\n",
    "                print(cost)\n",
    "                sizes_list.append(sizes[0]*sizes[1])                    \n",
    "                time_spent = time.time()-start\n",
    "                results = results.append({'Size of the grid' : sizes[0]*sizes[1] , \n",
    "                                          'Score' : cost, \"Time\":time_spent, \"Number of episodes\": n_episodes,\n",
    "                                          \"Type\":\"RL\"} , \n",
    "                                         ignore_index=True)\n",
    "                results.to_csv(\"../data/processed/results_comparison.csv\")\n",
    "                print(\"---\")\n",
    "                \n",
    "                env_renderer.close_window()\n",
    "                \n",
    "    else:\n",
    "        raise NotImplementedError(\"Load the map and proceed to inference\")"
   ]
  },
  {
   "cell_type": "markdown",
   "metadata": {},
   "source": [
    "### Constant definition"
   ]
  },
  {
   "cell_type": "code",
   "execution_count": 10,
   "metadata": {},
   "outputs": [],
   "source": [
    "grids_size = [(10,5),(10,10),(15,10),(15,15),(20,15),(20,20)]\n",
    "grid_bigger = [(25,20),\n",
    "              (25,25),(25,30),(30,30),(35,30), (35,35),(40,35),(40,40),\n",
    "              (45,40),(45,45),(50,50),(55,50),(55,55),(60,55),(60,60),\n",
    "              (65,60),(65,65),(70,65),(70,70),(75,70),(75,75),(80,75),\n",
    "             (80,80),(85,90),(90,90),(95,90),(95,95),(100,95),(100,100)]"
   ]
  },
  {
   "cell_type": "code",
   "execution_count": 11,
   "metadata": {},
   "outputs": [],
   "source": [
    "results = pd.DataFrame()"
   ]
  },
  {
   "cell_type": "markdown",
   "metadata": {},
   "source": [
    "## Actual run"
   ]
  },
  {
   "cell_type": "code",
   "execution_count": null,
   "metadata": {
    "scrolled": false
   },
   "outputs": [
    {
     "name": "stderr",
     "output_type": "stream",
     "text": [
      "\n",
      "  0%|          | 0/6 [00:00<?, ?it/s]\u001b[A"
     ]
    },
    {
     "name": "stdout",
     "output_type": "stream",
     "text": [
      "[(1, 2)] [(9, 0)]\n",
      "Optimize a model with 29235 rows, 12997 columns and 48831 nonzeros\n",
      "Coefficient statistics:\n",
      "  Matrix range     [1e+00, 1e+00]\n",
      "  Objective range  [1e+00, 1e+00]\n",
      "  Bounds range     [0e+00, 0e+00]\n",
      "  RHS range        [1e+00, 1e+00]\n",
      "\n",
      "Concurrent LP optimizer: dual simplex and barrier\n",
      "Showing barrier log only...\n",
      "\n",
      "Presolve removed 28689 rows and 11830 columns\n",
      "Presolve time: 0.03s\n",
      "Presolved: 546 rows, 1167 columns, 2332 nonzeros\n",
      "\n",
      "Ordering time: 0.00s\n",
      "\n",
      "Barrier statistics:\n",
      " AA' NZ     : 1.165e+03\n",
      " Factor NZ  : 1.012e+04 (roughly 1 MByte of memory)\n",
      " Factor Ops : 2.164e+05 (less than 1 second per iteration)\n",
      " Threads    : 1\n",
      "\n",
      "                  Objective                Residual\n",
      "Iter       Primal          Dual         Primal    Dual     Compl     Time\n",
      "   0   1.37413826e+04 -1.93266238e+04  3.22e+02 5.55e+00  1.77e+02     0s\n",
      "\n",
      "Barrier performed 0 iterations in 0.04 seconds\n",
      "Barrier solve interrupted - model solved by another algorithm\n",
      "\n",
      "\n",
      "Solved with dual simplex\n",
      "Solved in 288 iterations and 0.05 seconds\n",
      "Optimal objective  1.900000000e+01\n",
      "19.0\n",
      "['source_agent_0', '(1, 2)_S_out_t0', '(2, 2)_N_in_t1', '(2, 2)_S_out_t2', '(3, 2)_N_in_t3', '(3, 2)_S_out_t4', '(4, 2)_N_in_t5', '(4, 2)_S_out_t6', '(5, 2)_N_in_t7', '(5, 2)_S_out_t8', '(6, 2)_N_in_t9', '(6, 2)_S_out_t10', '(7, 2)_N_in_t11', '(7, 2)_W_out_t12', '(7, 1)_E_in_t13', '(7, 1)_S_out_t14', '(8, 1)_N_in_t15', '(8, 1)_W_out_t16', '(8, 0)_E_in_t17', '(8, 0)_S_out_t18', '(9, 0)_N_in_t19', 'sink_agent_0']\n",
      "10.0\n",
      "1.009952933989581\n",
      "0.9830031310538674\n",
      "0.794782544701128\n",
      "0.0014799200182023854\n",
      "0.019412261146809228\n",
      "0.04425665131666641\n",
      "10\n",
      "---\n",
      "[(1, 4)] [(7, 0)]\n",
      "Optimize a model with 26903 rows, 11957 columns and 44911 nonzeros\n",
      "Coefficient statistics:\n",
      "  Matrix range     [1e+00, 1e+00]\n",
      "  Objective range  [1e+00, 1e+00]\n",
      "  Bounds range     [0e+00, 0e+00]\n",
      "  RHS range        [1e+00, 1e+00]\n",
      "\n",
      "Concurrent LP optimizer: dual simplex and barrier\n",
      "Showing barrier log only...\n",
      "\n",
      "Presolve removed 26383 rows and 10862 columns\n",
      "Presolve time: 0.03s\n",
      "Presolved: 520 rows, 1095 columns, 2188 nonzeros\n",
      "\n",
      "Ordering time: 0.00s\n",
      "\n",
      "Barrier performed 0 iterations in 0.04 seconds\n",
      "Barrier solve interrupted - model solved by another algorithm\n",
      "\n",
      "\n",
      "Solved with dual simplex\n",
      "Solved in 239 iterations and 0.05 seconds\n",
      "Optimal objective  1.900000000e+01\n",
      "19.0\n",
      "['source_agent_0', '(1, 4)_S_out_t0', '(2, 4)_N_in_t1', '(2, 4)_S_out_t2', '(3, 4)_N_in_t3', '(3, 4)_W_out_t4', '(3, 3)_E_in_t5', '(3, 3)_W_out_t6', '(3, 2)_E_in_t7', '(3, 2)_W_out_t8', '(3, 1)_E_in_t9', '(3, 1)_S_out_t10', '(4, 1)_N_in_t11', '(4, 1)_S_out_t12', '(5, 1)_N_in_t13', '(5, 1)_S_out_t14', '(6, 1)_N_in_t15', '(6, 1)_W_out_t16', '(6, 0)_E_in_t17', '(6, 0)_S_out_t18', '(7, 0)_N_in_t19', 'sink_agent_0']\n",
      "10.0\n",
      "1.133826736259072\n",
      "0.07356307117521332\n",
      "0.8452374560000001\n",
      "0.08143100384767728\n",
      "0.7548329701539842\n",
      "0.57710679752704\n",
      "9\n",
      "---\n",
      "[(0, 2)] [(6, 4)]\n",
      "Optimize a model with 25455 rows, 11317 columns and 42511 nonzeros\n",
      "Coefficient statistics:\n",
      "  Matrix range     [1e+00, 1e+00]\n",
      "  Objective range  [1e+00, 1e+00]\n",
      "  Bounds range     [0e+00, 0e+00]\n",
      "  RHS range        [1e+00, 1e+00]\n",
      "\n",
      "Concurrent LP optimizer: dual simplex and barrier\n",
      "Showing barrier log only...\n",
      "\n",
      "Presolve removed 25106 rows and 10587 columns\n",
      "Presolve time: 0.02s\n",
      "Presolved: 349 rows, 730 columns, 1458 nonzeros\n",
      "\n",
      "Ordering time: 0.00s\n",
      "\n",
      "Barrier statistics:\n",
      " AA' NZ     : 7.280e+02\n",
      " Factor NZ  : 5.385e+03\n",
      " Factor Ops : 9.222e+04 (less than 1 second per iteration)\n",
      " Threads    : 1\n",
      "\n",
      "                  Objective                Residual\n",
      "Iter       Primal          Dual         Primal    Dual     Compl     Time\n",
      "   0   9.21050693e+03 -1.31331651e+04  4.05e+02 0.00e+00  2.12e+02     0s\n",
      "\n",
      "Barrier performed 0 iterations in 0.04 seconds\n",
      "Barrier solve interrupted - model solved by another algorithm\n",
      "\n",
      "\n",
      "Solved with dual simplex\n",
      "Solved in 100 iterations and 0.04 seconds\n",
      "Optimal objective  1.500000000e+01\n",
      "15.0\n",
      "['source_agent_0', '(0, 2)_S_out_t0', '(1, 2)_N_in_t1', '(1, 2)_S_out_t2', '(2, 2)_N_in_t3', '(2, 2)_S_out_t4', '(3, 2)_N_in_t5', '(3, 2)_S_out_t6', '(4, 2)_N_in_t7', '(4, 2)_E_out_t8', '(4, 3)_W_in_t9', '(4, 3)_S_out_t10', '(5, 3)_N_in_t11', '(5, 3)_E_out_t12', '(5, 4)_W_in_t13', '(5, 4)_S_out_t14', '(6, 4)_N_in_t15', 'sink_agent_0']\n",
      "8.0\n",
      "0.3067289600000001\n",
      "0.41344000000000003\n",
      "0.33920000000000006\n",
      "0.02781125324288487\n",
      "0.50944\n"
     ]
    }
   ],
   "source": [
    "run_experiment_and_save_results(run_flow, results, agents = 1, repetition=10, grids_size=grids_size)"
   ]
  },
  {
   "cell_type": "markdown",
   "metadata": {},
   "source": [
    "# PLOTS"
   ]
  },
  {
   "cell_type": "code",
   "execution_count": null,
   "metadata": {},
   "outputs": [],
   "source": [
    "df = pd.read_csv(\"../data/processed/results_comparison.csv\", index_col = 'Unnamed: 0')"
   ]
  },
  {
   "cell_type": "code",
   "execution_count": null,
   "metadata": {},
   "outputs": [],
   "source": [
    "df_20_agents = pd.read_csv(\"../data/processed/results_20_agents.csv\",index_col = 'Unnamed: 0')"
   ]
  },
  {
   "cell_type": "code",
   "execution_count": null,
   "metadata": {},
   "outputs": [],
   "source": [
    "df_10_agents = pd.read_csv(\"../data/processed/results_10_agents.csv\",index_col = 'Unnamed: 0')"
   ]
  },
  {
   "cell_type": "code",
   "execution_count": null,
   "metadata": {},
   "outputs": [],
   "source": [
    "df_4_agents = pd.read_csv(\"../data/processed/results_4_agents.csv\",index_col = 'Unnamed: 0')"
   ]
  },
  {
   "cell_type": "code",
   "execution_count": null,
   "metadata": {
    "scrolled": false
   },
   "outputs": [],
   "source": [
    "plt.rcParams['savefig.facecolor'] = (46/255., 48/255., 55/255.)\n",
    "plt.rcParams['axes.facecolor'] = (46/255., 48/255., 55/255.)\n",
    "fig, ax = plt.subplots(nrows=1, ncols=1)\n",
    "ax.spines['bottom'].set_color(\"white\")\n",
    "ax.spines['top'].set_color(\"white\") \n",
    "ax.spines['right'].set_color('white')\n",
    "ax.spines['left'].set_color('white')\n",
    "ax.tick_params(axis='x', colors='white')\n",
    "ax.tick_params(axis='y', colors='white')\n",
    "ax.title.set_color('white')\n",
    "ax.xaxis.label.set_color('white')\n",
    "ax.yaxis.label.set_color('white')\n",
    "fig.set_facecolor((46/255., 48/255., 55/255.))\n",
    "ax.set_facecolor((46/255., 48/255., 55/255.))\n",
    "\n",
    "\n",
    "plt.scatter(df_4_agents['Size of the grid'],df_4_agents['Time'].values/60, label = \"4 trains\",alpha= 0.8)\n",
    "plt.scatter(df_10_agents['Size of the grid'],df_10_agents['Time'].values/60, label = \"10 trains\",alpha = 0.8)\n",
    "plt.scatter(df_20_agents['Size of the grid'],df_20_agents['Time'].values/60, label = \"20 trains\",alpha = 0.8)\n",
    "\n",
    "\n",
    "plt.xlabel(\"size of the grid (number of cells)\")\n",
    "\n",
    "x1 = [20**2,40**2,50*50,60*60]\n",
    "squad = ['(20x20)','(40x40)','(50,50)','(60x60)']\n",
    "\n",
    "ax.set_xticks(x1)\n",
    "ax.set_xticklabels(squad)\n",
    "\n",
    "plt.ylabel(\"time until solution (min)\")\n",
    "#plt.title(\"Experiment of multicommodity flow formulation until memory error (model > 40 Gb)\")\n",
    "\n",
    "l = plt.legend()\n",
    "for text in l.get_texts():\n",
    "    text.set_color(\"white\")\n",
    "\n",
    "\n",
    "\n",
    "ax = plt.gca()\n",
    "plt.tight_layout()\n",
    "plt.savefig(\"../data/processed/time.png\", dpi = 300)"
   ]
  }
 ],
 "metadata": {
  "kernelspec": {
   "display_name": "Python 3",
   "language": "python",
   "name": "python3"
  },
  "language_info": {
   "codemirror_mode": {
    "name": "ipython",
    "version": 3
   },
   "file_extension": ".py",
   "mimetype": "text/x-python",
   "name": "python",
   "nbconvert_exporter": "python",
   "pygments_lexer": "ipython3",
   "version": "3.6.9"
  }
 },
 "nbformat": 4,
 "nbformat_minor": 2
}
