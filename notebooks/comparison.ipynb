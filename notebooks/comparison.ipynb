{
 "cells": [
  {
   "cell_type": "markdown",
   "metadata": {},
   "source": [
    "# Overview"
   ]
  },
  {
   "cell_type": "markdown",
   "metadata": {},
   "source": [
    "this notebook runs the models and save the time and score\n",
    "the saved dataframe can be found in `../data/processed/results_{date}`"
   ]
  },
  {
   "cell_type": "markdown",
   "metadata": {},
   "source": [
    "### Imports"
   ]
  },
  {
   "cell_type": "code",
   "execution_count": null,
   "metadata": {},
   "outputs": [],
   "source": [
    "%load_ext autoreload\n",
    "%autoreload 2"
   ]
  },
  {
   "cell_type": "code",
   "execution_count": null,
   "metadata": {},
   "outputs": [],
   "source": [
    "import sys\n",
    "sys.path.append(\"../\")\n",
    "from src.graph import NetworkGraph"
   ]
  },
  {
   "cell_type": "code",
   "execution_count": null,
   "metadata": {},
   "outputs": [],
   "source": [
    "import time\n",
    "import gurobi\n",
    "import pandas as pd\n",
    "import matplotlib.pyplot as plt\n",
    "import seaborn as sns\n",
    "from tqdm import tqdm\n",
    "import random\n",
    "import math\n",
    "import datetime"
   ]
  },
  {
   "cell_type": "code",
   "execution_count": null,
   "metadata": {},
   "outputs": [],
   "source": [
    "from src.models.DQL.DQL import run\n",
    "from src.flows import *"
   ]
  },
  {
   "cell_type": "code",
   "execution_count": null,
   "metadata": {},
   "outputs": [],
   "source": [
    "from flatland.envs.rail_env import RailEnv\n",
    "from flatland.envs.observations import *\n",
    "from flatland.envs.rail_generators import complex_rail_generator,rail_from_manual_specifications_generator,random_rail_generator, RailGenerator\n",
    "from flatland.envs.schedule_generators import complex_schedule_generator, random_schedule_generator, ScheduleGenerator\n",
    "from flatland.utils.rendertools import RenderTool\n",
    "from flatland.envs.rail_env import RailEnv\n",
    "from flatland.envs.observations import *\n",
    "from flatland.envs.rail_generators import complex_rail_generator,rail_from_manual_specifications_generator,random_rail_generator, RailGenerator,sparse_rail_generator\n",
    "from flatland.envs.schedule_generators import complex_schedule_generator, random_schedule_generator, ScheduleGenerator, sparse_schedule_generator\n",
    "from flatland.utils.rendertools import RenderTool, AgentRenderVariant"
   ]
  },
  {
   "cell_type": "markdown",
   "metadata": {},
   "source": [
    "### Helper functions"
   ]
  },
  {
   "cell_type": "code",
   "execution_count": null,
   "metadata": {},
   "outputs": [],
   "source": [
    "def create_env(height,width,seed,number_of_agents=5):\n",
    "    env = RailEnv(width=width,\n",
    "              height=height,\n",
    "              rail_generator=complex_rail_generator(nr_start_goal=20, nr_extra=1, \n",
    "                                                    min_dist=6, max_dist=99999, seed = seed),\n",
    "              schedule_generator=complex_schedule_generator(),\n",
    "              number_of_agents=number_of_agents)\n",
    "    \n",
    "    env.reset()\n",
    "    \n",
    "    return env"
   ]
  },
  {
   "cell_type": "code",
   "execution_count": null,
   "metadata": {},
   "outputs": [],
   "source": [
    "def create_env_sparse(height,width,seed,number_of_agents=5):\n",
    "\n",
    "    stochastic_data = {'prop_malfunction': 0,  # Percentage of defective agents\n",
    "                       'malfunction_rate': 30,  # Rate of malfunction occurence\n",
    "                       'min_duration': 3,  # Minimal duration of malfunction\n",
    "                       'max_duration': 20  # Max duration of malfunction\n",
    "                       }\n",
    "    speed_ration_map = {1.: 1,  # Fast passenger train\n",
    "                        1. / 2.: 0,  # Fast freight train\n",
    "                        1. / 3.: 0,  # Slow commuter train\n",
    "                        1. / 4.: 0}  # Slow freight train\n",
    "    env = RailEnv(width=height,\n",
    "                  height=width,\n",
    "                  rail_generator=sparse_rail_generator(max_num_cities=number_of_agents+2,  \n",
    "                                                       seed=seed, \n",
    "                                                       grid_mode=False,\n",
    "                                                       max_rails_between_cities=4,\n",
    "                                                       max_rails_in_city=4,\n",
    "                                                       ),\n",
    "                  schedule_generator=sparse_schedule_generator(speed_ration_map,seed = seed+2),\n",
    "                  number_of_agents=number_of_agents,\n",
    "                  stochastic_data=stochastic_data,  \n",
    "                  obs_builder_object=GlobalObsForRailEnv(),\n",
    "                  remove_agents_at_target=True\n",
    "                  )\n",
    "    env.reset()\n",
    "\n",
    "    return env"
   ]
  },
  {
   "cell_type": "code",
   "execution_count": null,
   "metadata": {},
   "outputs": [],
   "source": [
    "def run_flow_cg(env,*args):\n",
    "    solver = Solver(\"cg_sparse.log\",useDirections=True,verbose=False)\n",
    "    cost =  solver.solve(env)\n",
    "    number_of_variables = sum(solver.master.stats[\"variablesAdded\"])\n",
    "    time_init = solver.stats[\"timeInit\"]\n",
    "    return cost,number_of_variables, time_init"
   ]
  },
  {
   "cell_type": "code",
   "execution_count": null,
   "metadata": {},
   "outputs": [],
   "source": [
    "def run_flow_af(env,*args):\n",
    "    solver = Solver(\"cg_sparse.log\",method=\"Arc Formulation\",\n",
    "                    useDirections=True,verbose=False)\n",
    "    return solver.solve(env)"
   ]
  },
  {
   "cell_type": "code",
   "execution_count": null,
   "metadata": {},
   "outputs": [],
   "source": [
    "def run_flow(env,height,width):\n",
    "    \n",
    "    #extract the transition matrix\n",
    "    matrix_rail = np.array(env.rail.grid.tolist())\n",
    "    \n",
    "    #build the transition network\n",
    "    flatlandNetwork = NetworkGraph(matrix_rail)\n",
    "\n",
    "    #get the sources and sinks of the different agents\n",
    "    sources = []\n",
    "    sinks = []\n",
    "    for agent in env.agents:\n",
    "        sources.append(agent.initial_position)\n",
    "        sinks.append(agent.target)\n",
    "        \n",
    "    #build the time exanded network and connect the sources and sinks\n",
    "    TestNetworkTime = TimeNetwork(flatlandNetwork, depth=max(2*(height+width),40))\n",
    "    TestNetworkTime.connect_sources_and_sink(sources,sinks)\n",
    "    \n",
    "    \n",
    "    #get the Integral Program formulation of the problem and solve it \n",
    "    print(sources,sinks)\n",
    "    mcflow = MCFlow(TestNetworkTime.graph,len(sources),TestNetworkTime.topology)\n",
    "    mcflow.solve()\n",
    "    \n",
    "    #extract the path and compute the scores (total time spent by the agent in the grid)\n",
    "    cost= 0\n",
    "    if not mcflow.check_if_feasible():\n",
    "        return \"Infeasible\"\n",
    "    print(mcflow.m.objVal)\n",
    "    paths = mcflow.extract_paths()\n",
    "    for agent,path in paths.items():\n",
    "        print(path)\n",
    "        cost += -1+len(path)/2\n",
    "       \n",
    "    return cost"
   ]
  },
  {
   "cell_type": "code",
   "execution_count": null,
   "metadata": {},
   "outputs": [],
   "source": [
    "def run_flow_rl(env,width,height,seed,n_start_goal=20,initial_value = 0,\n",
    "             learning_rate = 0.8,gamma = 0.9,epsilon = 0.1,threshold = 0.3):\n",
    "    number_agents = len(env.agents)\n",
    "    n_episodes = width*height*number_agents*15\n",
    "    n_steps = 2*(width+height)\n",
    "    print(seed)\n",
    "    cost, n_episodes, total_time = run(number_agents,\n",
    "                                    width,height,\n",
    "                                    n_start_goal,\n",
    "                                    seed,\n",
    "                                    n_episodes,\n",
    "                                    n_steps,\n",
    "                                    initial_value,\n",
    "                                    learning_rate,\n",
    "                                    gamma,\n",
    "                                    epsilon,\n",
    "                                    threshold)\n",
    "    \n",
    "    return cost, n_episodes, total_time"
   ]
  },
  {
   "cell_type": "code",
   "execution_count": null,
   "metadata": {},
   "outputs": [],
   "source": [
    "def run_experiment_and_save_results(method, results,agents = 4, repetition = 5, create_env_f = create_env_sparse,\n",
    "                                    pathToSavedGrids = None, grids_size = None,path= \"../data/processed/\"):\n",
    "    nodes = []\n",
    "    edges = []\n",
    "    sizes_list = []\n",
    "    if pathToSavedGrids is None:\n",
    "        for sizes in tqdm(grids_size):\n",
    "            for i in range(repetition):\n",
    "                seed = sizes[0]*sizes[1]+i+10\n",
    "                print(f'seed {seed}')\n",
    "                env = create_env_f(sizes[0],sizes[1],seed,number_of_agents=agents)\n",
    "                print(\"env created\")\n",
    "                \n",
    "                start = time.time()\n",
    "                cost,number_of_variables, time_init = run_flow_cg(env,sizes[0],sizes[1])\n",
    "                sizes_list.append(sizes[0]*sizes[1])                    \n",
    "                time_spent = time.time()-start\n",
    "                results = results.append({'Size of the grid' : sizes[0]*sizes[1] , \n",
    "                                          'Score' : cost, \"Time\":time_spent,\"Variables added\":number_of_variables, \n",
    "                                          \"time initial solution\": time_init,\n",
    "                                          \"agents\": agents,\n",
    "                                          \"Type\":\"Column Generation\"} , \n",
    "                                         ignore_index=True)\n",
    "                results.to_csv(path + \"results_cg_sparse.csv\")\n",
    "\n",
    "                #start = time.time()\n",
    "                #cost = run_flow_af(env,sizes[1],sizes[0],seed)\n",
    "                #sizes_list.append(sizes[0]*sizes[1])                    \n",
    "                #time_spent = time.time()-start\n",
    "                #results = results.append({'Size of the grid' : sizes[0]*sizes[1] , \n",
    "                #                          'Score' : cost, \"Time\":time_spent, \"Variables added\": None,\n",
    "                #                           \"time initial solution\": None,\n",
    "                #                          \"agents\": agents,\n",
    "                #                          \"Type\":\"Arc Formulation\"} , \n",
    "                #                         ignore_index=True)\n",
    "                #results.to_csv(path + \"results_af.csv\")\n",
    "                print(\"---\")\n",
    "                                \n",
    "    else:\n",
    "        raise NotImplementedError(\"Load the map and proceed to inference\")"
   ]
  },
  {
   "cell_type": "markdown",
   "metadata": {},
   "source": [
    "### Constant definition"
   ]
  },
  {
   "cell_type": "code",
   "execution_count": null,
   "metadata": {},
   "outputs": [],
   "source": [
    "grids_size = [(25,25),(30,30),(40,40),(50,50),(60,60),(70,70),(80,80)]"
   ]
  },
  {
   "cell_type": "code",
   "execution_count": null,
   "metadata": {},
   "outputs": [],
   "source": [
    "results = pd.read_csv(\"../data/processed/cg/results_cg_sparse.csv\", index_col = 'Unnamed: 0')"
   ]
  },
  {
   "cell_type": "code",
   "execution_count": null,
   "metadata": {
    "scrolled": false
   },
   "outputs": [],
   "source": [
    "results"
   ]
  },
  {
   "cell_type": "code",
   "execution_count": null,
   "metadata": {},
   "outputs": [],
   "source": [
    "test  = results[results.agents == 5]"
   ]
  },
  {
   "cell_type": "code",
   "execution_count": null,
   "metadata": {},
   "outputs": [],
   "source": []
  },
  {
   "cell_type": "code",
   "execution_count": null,
   "metadata": {},
   "outputs": [],
   "source": [
    "mean = test.groupby(['Size of the grid']).mean()"
   ]
  },
  {
   "cell_type": "code",
   "execution_count": null,
   "metadata": {},
   "outputs": [],
   "source": [
    "mean"
   ]
  },
  {
   "cell_type": "code",
   "execution_count": null,
   "metadata": {},
   "outputs": [],
   "source": [
    "df = results"
   ]
  },
  {
   "cell_type": "code",
   "execution_count": null,
   "metadata": {},
   "outputs": [],
   "source": [
    "(100*mean[\"time initial solution\"].values/mean[\"Time\"].values).mean()"
   ]
  },
  {
   "cell_type": "markdown",
   "metadata": {},
   "source": [
    "## Actual run"
   ]
  },
  {
   "cell_type": "code",
   "execution_count": null,
   "metadata": {
    "scrolled": false
   },
   "outputs": [],
   "source": [
    "for number in [5,10,20,30]:\n",
    "    results = pd.read_csv(\"../data/processed/cg/results_cg_sparse.csv\", index_col = 'Unnamed: 0')\n",
    "        run_experiment_and_save_results(run_flow, results,\n",
    "                                    agents = number, \n",
    "                                    repetition = 5, \n",
    "                                    grids_size = grids_size,\n",
    "                                    path = \"../data/processed/cg/\")"
   ]
  },
  {
   "cell_type": "markdown",
   "metadata": {},
   "source": [
    "# PLOTS"
   ]
  },
  {
   "cell_type": "code",
   "execution_count": null,
   "metadata": {},
   "outputs": [],
   "source": [
    "df = pd.read_csv(\"../data/processed/small_grids/results_comparison5.csv\", index_col = 'Unnamed: 0')\n",
    "df2 = pd.read_csv(\"../data/processed/small_grids/results_comparison10.csv\", index_col = 'Unnamed: 0')"
   ]
  },
  {
   "cell_type": "code",
   "execution_count": null,
   "metadata": {
    "scrolled": true
   },
   "outputs": [],
   "source": [
    "df = df2"
   ]
  },
  {
   "cell_type": "code",
   "execution_count": null,
   "metadata": {},
   "outputs": [],
   "source": [
    "plt.rcParams['savefig.facecolor'] = (46/255., 48/255., 55/255.)\n",
    "plt.rcParams['axes.facecolor'] = (46/255., 48/255., 55/255.)\n",
    "fig, ax = plt.subplots(nrows=1, ncols=1)\n",
    "ax.spines['bottom'].set_color(\"white\")\n",
    "ax.spines['top'].set_color(\"white\") \n",
    "ax.spines['right'].set_color('white')\n",
    "ax.spines['left'].set_color('white')\n",
    "ax.tick_params(axis='x', colors='white')\n",
    "ax.tick_params(axis='y', colors='white')\n",
    "ax.title.set_color('white')\n",
    "ax.xaxis.label.set_color('white')\n",
    "ax.yaxis.label.set_color('white')\n",
    "fig.set_facecolor((46/255., 48/255., 55/255.))\n",
    "ax.set_facecolor((46/255., 48/255., 55/255.))\n",
    "\n",
    "\n",
    "plt.scatter(df[df.agents == 5]['Size of the grid'].values,\n",
    "            df[df.agents == 5].Time/3600,label = \"5 agents\")\n",
    "plt.scatter(df[df.agents == 10]['Size of the grid'].values,\n",
    "            df[df.agents == 10].Time/3600, label = \"10 agents\")\n",
    "plt.scatter(df[df.agents == 20]['Size of the grid'].values,\n",
    "            df[df.agents == 20].Time/3600, label = \"20 agents\")\n",
    "#sizes_jitter = [np.random.normal(x, 2,1) for x in sizes]\n",
    "#plt.scatter(sizes_jitter,diff)\n",
    "plt.xlabel(\"size of the grid in cell number\")\n",
    "\n",
    "#x1 = [15*15,20*20,25*25]\n",
    "#squad = ['(15,15)','(20x20)','(25,25)']#,'(20,20)','(25,20)','(25,25)','(25,30)']\n",
    "\n",
    "#ax.set_xticks(x1)\n",
    "#ax.set_xticklabels(squad)\n",
    "\n",
    "plt.ylabel(\"Time to solution in minutes\")\n",
    "\n",
    "l = plt.legend()\n",
    "for text in l.get_texts():\n",
    "    text.set_color(\"white\")\n",
    "\n",
    "\n",
    "\n",
    "ax = plt.gca()\n",
    "plt.tight_layout()\n",
    "plt.savefig(\"../data/processed/comparison_cg_time.png\", dpi = 300)"
   ]
  },
  {
   "cell_type": "code",
   "execution_count": null,
   "metadata": {},
   "outputs": [],
   "source": [
    "df_20_agents = pd.read_csv(\"../data/processed/results_20_agents.csv\",index_col = 'Unnamed: 0')"
   ]
  },
  {
   "cell_type": "code",
   "execution_count": null,
   "metadata": {},
   "outputs": [],
   "source": [
    "df_10_agents = pd.read_csv(\"../data/processed/results_10_agents.csv\",index_col = 'Unnamed: 0')"
   ]
  },
  {
   "cell_type": "code",
   "execution_count": null,
   "metadata": {},
   "outputs": [],
   "source": [
    "df_4_agents = pd.read_csv(\"../data/processed/results_4_agents.csv\",index_col = 'Unnamed: 0')"
   ]
  },
  {
   "cell_type": "code",
   "execution_count": null,
   "metadata": {
    "scrolled": false
   },
   "outputs": [],
   "source": [
    "plt.rcParams['savefig.facecolor'] = (46/255., 48/255., 55/255.)\n",
    "plt.rcParams['axes.facecolor'] = (46/255., 48/255., 55/255.)\n",
    "fig, ax = plt.subplots(nrows=1, ncols=1)\n",
    "ax.spines['bottom'].set_color(\"white\")\n",
    "ax.spines['top'].set_color(\"white\") \n",
    "ax.spines['right'].set_color('white')\n",
    "ax.spines['left'].set_color('white')\n",
    "ax.tick_params(axis='x', colors='white')\n",
    "ax.tick_params(axis='y', colors='white')\n",
    "ax.title.set_color('white')\n",
    "ax.xaxis.label.set_color('white')\n",
    "ax.yaxis.label.set_color('white')\n",
    "fig.set_facecolor((46/255., 48/255., 55/255.))\n",
    "ax.set_facecolor((46/255., 48/255., 55/255.))\n",
    "\n",
    "\n",
    "plt.scatter(df_4_agents['Size of the grid'],df_4_agents['Time'].values/60, label = \"4 trains\",alpha= 0.8)\n",
    "plt.scatter(df_10_agents['Size of the grid'],df_10_agents['Time'].values/60, label = \"10 trains\",alpha = 0.8)\n",
    "plt.scatter(df_20_agents['Size of the grid'],df_20_agents['Time'].values/60, label = \"20 trains\",alpha = 0.8)\n",
    "\n",
    "\n",
    "plt.xlabel(\"size of the grid (number of cells)\")\n",
    "\n",
    "x1 = [20**2,40**2,50*50,60*60]\n",
    "squad = ['(20x20)','(40x40)','(50,50)','(60x60)']\n",
    "\n",
    "ax.set_xticks(x1)\n",
    "ax.set_xticklabels(squad)\n",
    "\n",
    "plt.ylabel(\"time until solution (min)\")\n",
    "#plt.title(\"Experiment of multicommodity flow formulation until memory error (model > 40 Gb)\")\n",
    "\n",
    "l = plt.legend()\n",
    "for text in l.get_texts():\n",
    "    text.set_color(\"white\")\n",
    "\n",
    "\n",
    "\n",
    "ax = plt.gca()\n",
    "plt.tight_layout()\n",
    "plt.savefig(\"../data/processed/time.png\", dpi = 300)"
   ]
  }
 ],
 "metadata": {
  "kernelspec": {
   "display_name": "Python 3",
   "language": "python",
   "name": "python3"
  },
  "language_info": {
   "codemirror_mode": {
    "name": "ipython",
    "version": 3
   },
   "file_extension": ".py",
   "mimetype": "text/x-python",
   "name": "python",
   "nbconvert_exporter": "python",
   "pygments_lexer": "ipython3",
   "version": "3.6.9"
  }
 },
 "nbformat": 4,
 "nbformat_minor": 2
}
