{
 "cells": [
  {
   "cell_type": "markdown",
   "metadata": {},
   "source": [
    "# Imports"
   ]
  },
  {
   "cell_type": "markdown",
   "metadata": {},
   "source": [
    "##### General imports"
   ]
  },
  {
   "cell_type": "code",
   "execution_count": 1,
   "metadata": {},
   "outputs": [],
   "source": [
    "%load_ext autoreload\n",
    "%autoreload 2\n",
    "import sys\n",
    "sys.path.append(\"../\")"
   ]
  },
  {
   "cell_type": "code",
   "execution_count": 2,
   "metadata": {},
   "outputs": [],
   "source": [
    "import networkx as nx"
   ]
  },
  {
   "cell_type": "markdown",
   "metadata": {},
   "source": [
    "##### Import from flatland environment "
   ]
  },
  {
   "cell_type": "code",
   "execution_count": 3,
   "metadata": {},
   "outputs": [],
   "source": [
    "from flatland.envs.rail_env import RailEnv\n",
    "from flatland.envs.observations import *\n",
    "from flatland.envs.rail_generators import complex_rail_generator,rail_from_manual_specifications_generator,random_rail_generator, RailGenerator\n",
    "from flatland.envs.schedule_generators import complex_schedule_generator, random_schedule_generator, ScheduleGenerator\n",
    "from flatland.utils.rendertools import RenderTool"
   ]
  },
  {
   "cell_type": "markdown",
   "metadata": {},
   "source": [
    "##### Import from our framework"
   ]
  },
  {
   "cell_type": "code",
   "execution_count": 4,
   "metadata": {},
   "outputs": [],
   "source": [
    "from src.graph import NetworkGraph\n",
    "from src.flows import TimeNetwork\n",
    "from src.flows import MCFlow"
   ]
  },
  {
   "cell_type": "markdown",
   "metadata": {},
   "source": [
    "# Test of time expanded network"
   ]
  },
  {
   "cell_type": "markdown",
   "metadata": {},
   "source": [
    "##### Create a flatland network"
   ]
  },
  {
   "cell_type": "code",
   "execution_count": 5,
   "metadata": {
    "scrolled": false
   },
   "outputs": [
    {
     "name": "stdout",
     "output_type": "stream",
     "text": [
      "cycles detected in NetworkGraph, this may be due to the fact that endpoint can be used to do 180 turn\n"
     ]
    }
   ],
   "source": [
    "number_agents = 10\n",
    "\n",
    "size_side = 20\n",
    "env = RailEnv(width=size_side,\n",
    "              height=size_side,\n",
    "              rail_generator=complex_rail_generator(nr_start_goal=20, nr_extra=1, \n",
    "                                                    min_dist=6, max_dist=99999, \n",
    "                                                    seed = np.random.randint(0,2000)),\n",
    "              schedule_generator=complex_schedule_generator(),\n",
    "              number_of_agents=number_agents,\n",
    "              obs_builder_object=GlobalObsForRailEnv())\n",
    "\n",
    "env.reset()\n",
    "\n",
    "env_renderer = RenderTool(env)\n",
    "env_renderer.render_env(show=True, show_predictions=False, show_observations=False)\n",
    "\n",
    "\n",
    "matrix_rail = np.array(env.rail.grid.tolist())\n",
    "flatlandNetwork = NetworkGraph(matrix_rail,[(0,1)],[(1,0)])"
   ]
  },
  {
   "cell_type": "code",
   "execution_count": 6,
   "metadata": {},
   "outputs": [],
   "source": [
    "sources = []\n",
    "sinks = []\n",
    "for agent in env.agents:\n",
    "    sources.append(agent.initial_position)\n",
    "    sinks.append(agent.target)"
   ]
  },
  {
   "cell_type": "markdown",
   "metadata": {},
   "source": [
    "##### create a time expanded network"
   ]
  },
  {
   "cell_type": "code",
   "execution_count": 7,
   "metadata": {},
   "outputs": [],
   "source": [
    "import time"
   ]
  },
  {
   "cell_type": "code",
   "execution_count": 8,
   "metadata": {
    "scrolled": true
   },
   "outputs": [
    {
     "name": "stdout",
     "output_type": "stream",
     "text": [
      "time taken to build the graph: 10.841176271438599\n"
     ]
    }
   ],
   "source": [
    "start = time.time()\n",
    "TestNetworkTime = TimeNetwork(flatlandNetwork, depth=50)\n",
    "stop = time.time()\n",
    "print(f'time taken to build the graph: {stop-start}')"
   ]
  },
  {
   "cell_type": "code",
   "execution_count": 9,
   "metadata": {
    "scrolled": false
   },
   "outputs": [],
   "source": [
    "TestNetworkTime.connect_sources_and_sink(sources,sinks)"
   ]
  },
  {
   "cell_type": "markdown",
   "metadata": {},
   "source": [
    "##### Test LP Formulation"
   ]
  },
  {
   "cell_type": "markdown",
   "metadata": {},
   "source": [
    "test a simple graph"
   ]
  },
  {
   "cell_type": "code",
   "execution_count": 10,
   "metadata": {
    "scrolled": false
   },
   "outputs": [
    {
     "name": "stdout",
     "output_type": "stream",
     "text": [
      "Academic license - for non-commercial use only\n"
     ]
    }
   ],
   "source": [
    "mcflow = MCFlow(TestNetworkTime.graph,len(sources),TestNetworkTime.topology)"
   ]
  },
  {
   "cell_type": "code",
   "execution_count": 11,
   "metadata": {},
   "outputs": [
    {
     "name": "stdout",
     "output_type": "stream",
     "text": [
      "Optimize a model with 755880 rows, 1132600 columns and 4252800 nonzeros\n",
      "Coefficient statistics:\n",
      "  Matrix range     [1e+00, 1e+00]\n",
      "  Objective range  [1e+00, 1e+00]\n",
      "  Bounds range     [0e+00, 0e+00]\n",
      "  RHS range        [1e+00, 1e+00]\n",
      "\n",
      "Concurrent LP optimizer: dual simplex and barrier\n",
      "Showing barrier log only...\n",
      "\n",
      "Presolve removed 750618 rows and 1122118 columns\n",
      "Presolve time: 1.89s\n",
      "Presolved: 5262 rows, 10482 columns, 21778 nonzeros\n",
      "\n",
      "Ordering time: 0.00s\n",
      "\n",
      "Barrier statistics:\n",
      " AA' NZ     : 1.215e+04\n",
      " Factor NZ  : 9.910e+04 (roughly 7 MBytes of memory)\n",
      " Factor Ops : 2.457e+06 (less than 1 second per iteration)\n",
      " Threads    : 1\n",
      "\n",
      "                  Objective                Residual\n",
      "Iter       Primal          Dual         Primal    Dual     Compl     Time\n",
      "   0   1.82212961e+05 -3.13366095e+05  6.63e+02 1.17e+01  4.72e+02     2s\n",
      "   1   5.05558780e+04 -3.02228898e+05  1.81e+02 5.68e-14  1.34e+02     2s\n",
      "   2   1.38559547e+04 -2.18385135e+05  4.71e+01 8.17e-14  3.74e+01     2s\n",
      "   3   2.95350226e+03 -7.52958591e+04  7.82e+00 2.03e-13  7.26e+00     2s\n",
      "   4   1.14968890e+03 -1.75627748e+04  1.96e+00 2.27e-13  1.69e+00     2s\n",
      "   5   6.24155982e+02 -7.24482110e+03  4.38e-01 1.55e-13  5.13e-01     2s\n",
      "   6   5.24048293e+02 -3.11890324e+03  1.51e-01 1.28e-13  2.00e-01     2s\n",
      "   7   4.79088128e+02 -1.13476569e+03  3.47e-02 8.26e-14  8.06e-02     2s\n",
      "   8   4.49503336e+02 -7.56357764e+01  1.56e-03 4.05e-14  2.54e-02     2s\n",
      "   9   4.18651198e+02  2.02889718e+02  5.93e-14 1.77e-14  1.04e-02     2s\n",
      "  10   3.94598811e+02  2.66074211e+02  3.18e-14 1.29e-14  6.21e-03     2s\n",
      "  11   3.63210454e+02  2.85669130e+02  1.74e-14 1.09e-14  3.74e-03     2s\n",
      "  12   3.38807642e+02  3.00925425e+02  3.58e-14 1.05e-14  1.83e-03     2s\n",
      "  13   3.28414685e+02  3.23242293e+02  2.04e-14 7.11e-15  2.50e-04     2s\n",
      "  14   3.26020299e+02  3.25982868e+02  1.83e-14 7.11e-15  1.81e-06     2s\n",
      "  15   3.26000000e+02  3.26000000e+02  2.52e-12 7.11e-15  2.22e-11     2s\n",
      "\n",
      "Barrier solved model in 15 iterations and 2.08 seconds\n",
      "Optimal objective 3.26000000e+02\n",
      "\n",
      "Crossover log...\n",
      "\n",
      "       0 DPushes remaining with DInf 0.0000000e+00                 2s\n",
      "\n",
      "       4 PPushes remaining with PInf 0.0000000e+00                 2s\n",
      "       0 PPushes remaining with PInf 0.0000000e+00                 2s\n",
      "\n",
      "  Push phase complete: Pinf 0.0000000e+00, Dinf 0.0000000e+00      2s\n",
      "\n",
      "Iteration    Objective       Primal Inf.    Dual Inf.      Time\n",
      "    4929    3.2600000e+02   0.000000e+00   0.000000e+00      3s\n",
      "\n",
      "Solved with dual simplex\n",
      "Solved in 3010 iterations and 2.83 seconds\n",
      "Optimal objective  3.260000000e+02\n"
     ]
    }
   ],
   "source": [
    "mcflow.solve()"
   ]
  },
  {
   "cell_type": "code",
   "execution_count": 12,
   "metadata": {},
   "outputs": [],
   "source": [
    "paths = mcflow.extract_paths()"
   ]
  },
  {
   "cell_type": "code",
   "execution_count": 13,
   "metadata": {},
   "outputs": [
    {
     "data": {
      "text/plain": [
       "True"
      ]
     },
     "execution_count": 13,
     "metadata": {},
     "output_type": "execute_result"
    }
   ],
   "source": [
    "mcflow.check_no_collisions_solution(paths)"
   ]
  },
  {
   "cell_type": "code",
   "execution_count": 14,
   "metadata": {
    "scrolled": false
   },
   "outputs": [
    {
     "data": {
      "text/plain": [
       "{0: ['source_agent_0',\n",
       "  '(12, 7)_S_in_t1',\n",
       "  '(12, 7)_N_out_t2',\n",
       "  '(11, 7)_S_in_t3',\n",
       "  '(11, 7)_N_out_t4',\n",
       "  '(10, 7)_S_in_t5',\n",
       "  '(10, 7)_N_out_t6',\n",
       "  '(9, 7)_S_in_t7',\n",
       "  '(9, 7)_N_out_t8',\n",
       "  '(8, 7)_S_in_t9',\n",
       "  '(8, 7)_W_out_t10',\n",
       "  '(8, 6)_E_in_t11',\n",
       "  '(8, 6)_N_out_t12',\n",
       "  '(7, 6)_S_in_t13',\n",
       "  '(7, 6)_W_out_t14',\n",
       "  '(7, 5)_E_in_t15',\n",
       "  '(7, 5)_N_out_t16',\n",
       "  '(6, 5)_S_in_t17',\n",
       "  '(6, 5)_W_out_t18',\n",
       "  '(6, 4)_E_in_t19',\n",
       "  '(6, 4)_N_out_t20',\n",
       "  '(5, 4)_S_in_t21',\n",
       "  '(5, 4)_W_out_t22',\n",
       "  '(5, 3)_E_in_t23',\n",
       "  '(5, 3)_N_out_t24',\n",
       "  '(4, 3)_S_in_t25',\n",
       "  '(4, 3)_W_out_t26',\n",
       "  '(4, 2)_E_in_t27',\n",
       "  '(4, 2)_N_out_t28',\n",
       "  '(3, 2)_S_in_t29',\n",
       "  '(3, 2)_W_out_t30',\n",
       "  '(3, 1)_E_in_t31',\n",
       "  '(3, 1)_N_out_t32',\n",
       "  '(2, 1)_S_in_t33',\n",
       "  '(2, 1)_W_out_t34',\n",
       "  '(2, 0)_E_in_t35',\n",
       "  '(2, 0)_N_out_t36',\n",
       "  '(1, 0)_S_in_t37',\n",
       "  'sink_agent_0'],\n",
       " 1: ['source_agent_1',\n",
       "  '(14, 18)_E_in_t1',\n",
       "  '(14, 18)_W_out_t2',\n",
       "  '(14, 17)_E_in_t3',\n",
       "  '(14, 17)_W_out_t4',\n",
       "  '(14, 16)_E_in_t5',\n",
       "  '(14, 16)_W_out_t6',\n",
       "  '(14, 15)_E_in_t7',\n",
       "  '(14, 15)_W_out_t8',\n",
       "  '(14, 14)_E_in_t9',\n",
       "  '(14, 14)_W_out_t10',\n",
       "  '(14, 13)_E_in_t11',\n",
       "  '(14, 13)_W_out_t12',\n",
       "  '(14, 12)_E_in_t13',\n",
       "  '(14, 12)_W_out_t14',\n",
       "  '(14, 11)_E_in_t15',\n",
       "  '(14, 11)_W_out_t16',\n",
       "  '(14, 10)_E_in_t17',\n",
       "  '(14, 10)_W_out_t18',\n",
       "  '(14, 9)_E_in_t19',\n",
       "  '(14, 9)_N_out_t20',\n",
       "  '(13, 9)_S_in_t21',\n",
       "  '(13, 9)_W_out_t22',\n",
       "  '(13, 8)_E_in_t23',\n",
       "  '(13, 8)_N_out_t24',\n",
       "  '(12, 8)_S_in_t25',\n",
       "  '(12, 8)_W_out_t26',\n",
       "  '(12, 7)_E_in_t27',\n",
       "  '(12, 7)_N_out_t28',\n",
       "  '(11, 7)_S_in_t29',\n",
       "  '(11, 7)_W_out_t30',\n",
       "  '(11, 6)_E_in_t31',\n",
       "  '(11, 6)_N_out_t32',\n",
       "  '(10, 6)_S_in_t33',\n",
       "  '(10, 6)_W_out_t34',\n",
       "  '(10, 5)_E_in_t35',\n",
       "  '(10, 5)_N_out_t36',\n",
       "  '(9, 5)_S_in_t37',\n",
       "  '(9, 5)_W_out_t38',\n",
       "  '(9, 4)_E_in_t39',\n",
       "  '(9, 4)_N_out_t40',\n",
       "  '(8, 4)_S_in_t41',\n",
       "  '(8, 4)_W_out_t42',\n",
       "  '(8, 3)_E_in_t43',\n",
       "  '(8, 3)_N_out_t44',\n",
       "  '(7, 3)_S_in_t45',\n",
       "  '(7, 3)_W_out_t46',\n",
       "  '(7, 2)_E_in_t47',\n",
       "  '(7, 2)_N_out_t48',\n",
       "  '(6, 2)_S_in_t49',\n",
       "  'sink_agent_1'],\n",
       " 2: ['source_agent_2',\n",
       "  '(8, 18)_E_in_t1',\n",
       "  '(8, 18)_W_out_t2',\n",
       "  '(8, 17)_E_in_t3',\n",
       "  '(8, 17)_S_out_t4',\n",
       "  '(9, 17)_N_in_t5',\n",
       "  '(9, 17)_W_out_t6',\n",
       "  '(9, 16)_E_in_t7',\n",
       "  '(9, 16)_S_out_t8',\n",
       "  '(10, 16)_N_in_t9',\n",
       "  '(10, 16)_W_out_t10',\n",
       "  '(10, 15)_E_in_t11',\n",
       "  '(10, 15)_S_out_t12',\n",
       "  '(11, 15)_N_in_t13',\n",
       "  '(11, 15)_W_out_t14',\n",
       "  '(11, 14)_E_in_t15',\n",
       "  '(11, 14)_S_out_t16',\n",
       "  '(12, 14)_N_in_t17',\n",
       "  '(12, 14)_W_out_t18',\n",
       "  '(12, 13)_E_in_t19',\n",
       "  '(12, 13)_S_out_t20',\n",
       "  '(13, 13)_N_in_t21',\n",
       "  '(13, 13)_W_out_t22',\n",
       "  '(13, 12)_E_in_t23',\n",
       "  '(13, 12)_S_out_t24',\n",
       "  '(14, 12)_N_in_t25',\n",
       "  '(14, 12)_W_out_t26',\n",
       "  '(14, 11)_E_in_t27',\n",
       "  '(14, 11)_S_out_t28',\n",
       "  '(15, 11)_N_in_t29',\n",
       "  '(15, 11)_W_out_t30',\n",
       "  '(15, 10)_E_in_t31',\n",
       "  '(15, 10)_S_out_t32',\n",
       "  '(16, 10)_N_in_t33',\n",
       "  '(16, 10)_W_out_t34',\n",
       "  '(16, 9)_E_in_t35',\n",
       "  '(16, 9)_S_out_t36',\n",
       "  '(17, 9)_N_in_t37',\n",
       "  '(17, 9)_W_out_t38',\n",
       "  '(17, 8)_E_in_t39',\n",
       "  '(17, 8)_S_out_t40',\n",
       "  '(18, 8)_N_in_t41',\n",
       "  '(18, 8)_W_out_t42',\n",
       "  '(18, 7)_E_in_t43',\n",
       "  '(18, 7)_S_out_t44',\n",
       "  '(19, 7)_N_in_t45',\n",
       "  'sink_agent_2'],\n",
       " 3: ['source_agent_3',\n",
       "  '(15, 6)_E_in_t1',\n",
       "  '(15, 6)_W_out_t2',\n",
       "  '(15, 5)_E_in_t3',\n",
       "  '(15, 5)_W_out_t4',\n",
       "  '(15, 4)_E_in_t5',\n",
       "  '(15, 4)_W_out_t6',\n",
       "  '(15, 3)_E_in_t7',\n",
       "  '(15, 3)_W_out_t8',\n",
       "  '(15, 2)_E_in_t9',\n",
       "  '(15, 2)_W_out_t10',\n",
       "  '(15, 1)_E_in_t11',\n",
       "  '(15, 1)_S_out_t12',\n",
       "  '(16, 1)_N_in_t13',\n",
       "  '(16, 1)_W_out_t14',\n",
       "  '(16, 0)_E_in_t15',\n",
       "  '(16, 0)_S_out_t16',\n",
       "  '(17, 0)_N_in_t17',\n",
       "  'sink_agent_3'],\n",
       " 4: ['source_agent_4',\n",
       "  '(0, 9)_S_out_t0',\n",
       "  '(1, 9)_N_in_t1',\n",
       "  '(1, 9)_S_out_t2',\n",
       "  '(2, 9)_N_in_t3',\n",
       "  '(2, 9)_S_out_t4',\n",
       "  '(3, 9)_N_in_t5',\n",
       "  '(3, 9)_S_out_t6',\n",
       "  '(4, 9)_N_in_t7',\n",
       "  '(4, 9)_S_out_t8',\n",
       "  '(5, 9)_N_in_t9',\n",
       "  '(5, 9)_S_out_t10',\n",
       "  '(6, 9)_N_in_t11',\n",
       "  '(6, 9)_S_out_t12',\n",
       "  '(7, 9)_N_in_t13',\n",
       "  '(7, 9)_S_out_t14',\n",
       "  '(8, 9)_N_in_t15',\n",
       "  '(8, 9)_S_out_t16',\n",
       "  '(9, 9)_N_in_t17',\n",
       "  '(9, 9)_S_out_t18',\n",
       "  '(10, 9)_N_in_t19',\n",
       "  '(10, 9)_S_out_t20',\n",
       "  '(11, 9)_N_in_t21',\n",
       "  '(11, 9)_S_out_t22',\n",
       "  '(12, 9)_N_in_t23',\n",
       "  '(12, 9)_S_out_t24',\n",
       "  '(13, 9)_N_in_t25',\n",
       "  '(13, 9)_S_out_t26',\n",
       "  '(14, 9)_N_in_t27',\n",
       "  '(14, 9)_S_out_t28',\n",
       "  '(15, 9)_N_in_t29',\n",
       "  '(15, 9)_S_out_t30',\n",
       "  '(16, 9)_N_in_t31',\n",
       "  '(16, 9)_S_out_t32',\n",
       "  '(17, 9)_N_in_t33',\n",
       "  '(17, 9)_S_out_t34',\n",
       "  '(18, 9)_N_in_t35',\n",
       "  '(18, 9)_S_out_t36',\n",
       "  '(19, 9)_N_in_t37',\n",
       "  'sink_agent_4'],\n",
       " 5: ['source_agent_5',\n",
       "  '(14, 13)_S_in_t1',\n",
       "  '(14, 13)_N_out_t2',\n",
       "  '(13, 13)_S_in_t3',\n",
       "  '(13, 13)_W_out_t4',\n",
       "  '(13, 12)_E_in_t5',\n",
       "  '(13, 12)_N_out_t6',\n",
       "  '(12, 12)_S_in_t7',\n",
       "  '(12, 12)_W_out_t8',\n",
       "  '(12, 11)_E_in_t9',\n",
       "  '(12, 11)_N_out_t10',\n",
       "  '(11, 11)_S_in_t11',\n",
       "  '(11, 11)_W_out_t12',\n",
       "  '(11, 10)_E_in_t13',\n",
       "  '(11, 10)_N_out_t14',\n",
       "  '(10, 10)_S_in_t15',\n",
       "  '(10, 10)_W_out_t16',\n",
       "  '(10, 9)_E_in_t17',\n",
       "  '(10, 9)_N_out_t18',\n",
       "  '(9, 9)_S_in_t19',\n",
       "  '(9, 9)_W_out_t20',\n",
       "  '(9, 8)_E_in_t21',\n",
       "  '(9, 8)_N_out_t22',\n",
       "  '(8, 8)_S_in_t23',\n",
       "  'sink_agent_5'],\n",
       " 6: ['source_agent_6',\n",
       "  '(0, 6)_E_out_t0',\n",
       "  '(0, 7)_W_in_t1',\n",
       "  '(0, 7)_E_out_t2',\n",
       "  '(0, 8)_W_in_t3',\n",
       "  '(0, 8)_S_out_t4',\n",
       "  '(1, 8)_N_in_t5',\n",
       "  '(1, 8)_E_out_t6',\n",
       "  '(1, 9)_W_in_t7',\n",
       "  '(1, 9)_E_out_t8',\n",
       "  '(1, 10)_W_in_t9',\n",
       "  '(1, 10)_E_out_t10',\n",
       "  '(1, 11)_W_in_t11',\n",
       "  '(1, 11)_E_out_t12',\n",
       "  '(1, 12)_W_in_t13',\n",
       "  '(1, 12)_E_out_t14',\n",
       "  '(1, 13)_W_in_t15',\n",
       "  '(1, 13)_E_out_t16',\n",
       "  '(1, 14)_W_in_t17',\n",
       "  '(1, 14)_E_out_t18',\n",
       "  '(1, 15)_W_in_t19',\n",
       "  '(1, 15)_E_out_t20',\n",
       "  '(1, 16)_W_in_t21',\n",
       "  '(1, 16)_E_out_t22',\n",
       "  '(1, 17)_W_in_t23',\n",
       "  '(1, 17)_E_out_t24',\n",
       "  '(1, 18)_W_in_t25',\n",
       "  '(1, 18)_S_out_t26',\n",
       "  '(2, 18)_N_in_t27',\n",
       "  '(2, 18)_E_out_t28',\n",
       "  '(2, 19)_W_in_t29',\n",
       "  '(2, 19)_S_out_t30',\n",
       "  '(3, 19)_N_in_t31',\n",
       "  'sink_agent_6'],\n",
       " 7: ['source_agent_7',\n",
       "  '(16, 5)_E_out_t0',\n",
       "  '(16, 6)_W_in_t1',\n",
       "  '(16, 6)_E_out_t2',\n",
       "  '(16, 7)_W_in_t3',\n",
       "  '(16, 7)_E_out_t4',\n",
       "  '(16, 8)_W_in_t5',\n",
       "  '(16, 8)_N_out_t6',\n",
       "  '(15, 8)_S_in_t7',\n",
       "  '(15, 8)_E_out_t8',\n",
       "  '(15, 9)_W_in_t9',\n",
       "  '(15, 9)_N_out_t10',\n",
       "  '(14, 9)_S_in_t11',\n",
       "  '(14, 9)_N_out_t12',\n",
       "  '(13, 9)_S_in_t13',\n",
       "  '(13, 9)_N_out_t14',\n",
       "  '(12, 9)_S_in_t15',\n",
       "  '(12, 9)_E_out_t16',\n",
       "  '(12, 10)_W_in_t17',\n",
       "  '(12, 10)_E_out_t18',\n",
       "  '(12, 11)_W_in_t19',\n",
       "  '(12, 11)_E_out_t20',\n",
       "  '(12, 12)_W_in_t21',\n",
       "  '(12, 12)_N_out_t22',\n",
       "  '(11, 12)_S_in_t23',\n",
       "  '(11, 12)_E_out_t24',\n",
       "  '(11, 13)_W_in_t25',\n",
       "  '(11, 13)_N_out_t26',\n",
       "  '(10, 13)_S_in_t27',\n",
       "  '(10, 13)_E_out_t28',\n",
       "  '(10, 14)_W_in_t29',\n",
       "  '(10, 14)_N_out_t30',\n",
       "  '(9, 14)_S_in_t31',\n",
       "  'sink_agent_7'],\n",
       " 8: ['source_agent_8',\n",
       "  '(0, 16)_S_out_t0',\n",
       "  '(1, 16)_N_in_t1',\n",
       "  '(1, 16)_S_out_t2',\n",
       "  '(2, 16)_N_in_t3',\n",
       "  '(2, 16)_W_out_t4',\n",
       "  '(2, 15)_E_in_t5',\n",
       "  '(2, 15)_S_out_t6',\n",
       "  '(3, 15)_N_in_t7',\n",
       "  '(3, 15)_W_out_t8',\n",
       "  '(3, 14)_E_in_t9',\n",
       "  '(3, 14)_S_out_t10',\n",
       "  '(4, 14)_N_in_t11',\n",
       "  '(4, 14)_S_out_t12',\n",
       "  '(5, 14)_N_in_t13',\n",
       "  '(5, 14)_S_out_t14',\n",
       "  '(6, 14)_N_in_t15',\n",
       "  '(6, 14)_W_out_t16',\n",
       "  '(6, 13)_E_in_t17',\n",
       "  '(6, 13)_S_out_t18',\n",
       "  '(7, 13)_N_in_t19',\n",
       "  '(7, 13)_W_out_t20',\n",
       "  '(7, 12)_E_in_t21',\n",
       "  '(7, 12)_S_out_t22',\n",
       "  '(8, 12)_N_in_t23',\n",
       "  '(8, 12)_W_out_t24',\n",
       "  '(8, 11)_E_in_t25',\n",
       "  '(8, 11)_S_out_t26',\n",
       "  '(9, 11)_N_in_t27',\n",
       "  '(9, 11)_W_out_t28',\n",
       "  '(9, 10)_E_in_t29',\n",
       "  '(9, 10)_S_out_t30',\n",
       "  '(10, 10)_N_in_t31',\n",
       "  '(10, 10)_S_out_t32',\n",
       "  '(11, 10)_N_in_t33',\n",
       "  '(11, 10)_W_out_t34',\n",
       "  '(11, 9)_E_in_t35',\n",
       "  '(11, 9)_W_out_t36',\n",
       "  '(11, 8)_E_in_t37',\n",
       "  '(11, 8)_N_out_t38',\n",
       "  '(10, 8)_S_in_t39',\n",
       "  'sink_agent_8'],\n",
       " 9: ['source_agent_9',\n",
       "  '(0, 12)_S_out_t0',\n",
       "  '(1, 12)_N_in_t1',\n",
       "  '(1, 12)_S_out_t2',\n",
       "  '(2, 12)_N_in_t3',\n",
       "  '(2, 12)_S_out_t4',\n",
       "  '(3, 12)_N_in_t5',\n",
       "  '(3, 12)_S_out_t6',\n",
       "  '(4, 12)_N_in_t7',\n",
       "  '(4, 12)_S_out_t8',\n",
       "  '(5, 12)_N_in_t9',\n",
       "  '(5, 12)_S_out_t10',\n",
       "  '(6, 12)_N_in_t11',\n",
       "  '(6, 12)_S_out_t12',\n",
       "  '(7, 12)_N_in_t13',\n",
       "  '(7, 12)_S_out_t14',\n",
       "  '(8, 12)_N_in_t15',\n",
       "  '(8, 12)_S_out_t16',\n",
       "  '(9, 12)_N_in_t17',\n",
       "  'sink_agent_9']}"
      ]
     },
     "execution_count": 14,
     "metadata": {},
     "output_type": "execute_result"
    }
   ],
   "source": [
    "paths"
   ]
  },
  {
   "cell_type": "code",
   "execution_count": 15,
   "metadata": {},
   "outputs": [],
   "source": [
    "paths_simple = ([x.split(\"_\")[0] for x in paths[0]])"
   ]
  },
  {
   "cell_type": "code",
   "execution_count": 16,
   "metadata": {},
   "outputs": [
    {
     "data": {
      "text/plain": [
       "['source',\n",
       " '(12, 7)',\n",
       " '(12, 7)',\n",
       " '(11, 7)',\n",
       " '(11, 7)',\n",
       " '(10, 7)',\n",
       " '(10, 7)',\n",
       " '(9, 7)',\n",
       " '(9, 7)',\n",
       " '(8, 7)',\n",
       " '(8, 7)',\n",
       " '(8, 6)',\n",
       " '(8, 6)',\n",
       " '(7, 6)',\n",
       " '(7, 6)',\n",
       " '(7, 5)',\n",
       " '(7, 5)',\n",
       " '(6, 5)',\n",
       " '(6, 5)',\n",
       " '(6, 4)',\n",
       " '(6, 4)',\n",
       " '(5, 4)',\n",
       " '(5, 4)',\n",
       " '(5, 3)',\n",
       " '(5, 3)',\n",
       " '(4, 3)',\n",
       " '(4, 3)',\n",
       " '(4, 2)',\n",
       " '(4, 2)',\n",
       " '(3, 2)',\n",
       " '(3, 2)',\n",
       " '(3, 1)',\n",
       " '(3, 1)',\n",
       " '(2, 1)',\n",
       " '(2, 1)',\n",
       " '(2, 0)',\n",
       " '(2, 0)',\n",
       " '(1, 0)',\n",
       " 'sink']"
      ]
     },
     "execution_count": 16,
     "metadata": {},
     "output_type": "execute_result"
    }
   ],
   "source": [
    "paths_simple"
   ]
  }
 ],
 "metadata": {
  "kernelspec": {
   "display_name": "Python 3",
   "language": "python",
   "name": "python3"
  },
  "language_info": {
   "codemirror_mode": {
    "name": "ipython",
    "version": 3
   },
   "file_extension": ".py",
   "mimetype": "text/x-python",
   "name": "python",
   "nbconvert_exporter": "python",
   "pygments_lexer": "ipython3",
   "version": "3.6.9"
  }
 },
 "nbformat": 4,
 "nbformat_minor": 2
}
