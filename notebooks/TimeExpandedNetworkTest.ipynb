{
 "cells": [
  {
   "cell_type": "markdown",
   "metadata": {},
   "source": [
    "# Imports"
   ]
  },
  {
   "cell_type": "markdown",
   "metadata": {},
   "source": [
    "##### General imports"
   ]
  },
  {
   "cell_type": "code",
   "execution_count": 1,
   "metadata": {},
   "outputs": [],
   "source": [
    "%load_ext autoreload\n",
    "%autoreload 2\n",
    "import sys\n",
    "sys.path.append(\"../\")"
   ]
  },
  {
   "cell_type": "code",
   "execution_count": 2,
   "metadata": {},
   "outputs": [],
   "source": [
    "import networkx as nx\n",
    "import pandas as pd\n",
    "import matplotlib.pyplot as plt\n",
    "import copy\n",
    "from tqdm import tqdm\n",
    "import pprint"
   ]
  },
  {
   "cell_type": "markdown",
   "metadata": {},
   "source": [
    "##### Import from flatland environment "
   ]
  },
  {
   "cell_type": "code",
   "execution_count": 3,
   "metadata": {},
   "outputs": [],
   "source": [
    "from flatland.envs.rail_env import RailEnv\n",
    "from flatland.envs.observations import *\n",
    "from flatland.envs.rail_generators import complex_rail_generator,rail_from_manual_specifications_generator,random_rail_generator, RailGenerator,sparse_rail_generator\n",
    "from flatland.envs.schedule_generators import complex_schedule_generator, random_schedule_generator, ScheduleGenerator, sparse_schedule_generator\n",
    "from flatland.utils.rendertools import RenderTool, AgentRenderVariant"
   ]
  },
  {
   "cell_type": "markdown",
   "metadata": {},
   "source": [
    "##### Import from our framework"
   ]
  },
  {
   "cell_type": "code",
   "execution_count": 4,
   "metadata": {},
   "outputs": [],
   "source": [
    "from src.graph import NetworkGraph"
   ]
  },
  {
   "cell_type": "code",
   "execution_count": 5,
   "metadata": {},
   "outputs": [],
   "source": [
    "from src.flows import *\n",
    "from src.navigation.navigation_path import *"
   ]
  },
  {
   "cell_type": "markdown",
   "metadata": {},
   "source": [
    "# Test of time expanded network"
   ]
  },
  {
   "cell_type": "markdown",
   "metadata": {},
   "source": [
    "##### Create a flatland network"
   ]
  },
  {
   "cell_type": "markdown",
   "metadata": {},
   "source": [
    "sparse netwrok"
   ]
  },
  {
   "cell_type": "code",
   "execution_count": 6,
   "metadata": {
    "scrolled": false
   },
   "outputs": [],
   "source": [
    "if True:\n",
    "    number_agents = 20\n",
    "\n",
    "    size_side = 50\n",
    "    stochastic_data = {'prop_malfunction': 0,  # Percentage of defective agents\n",
    "                       'malfunction_rate': 30,  # Rate of malfunction occurence\n",
    "                       'min_duration': 3,  # Minimal duration of malfunction\n",
    "                       'max_duration': 20  # Max duration of malfunction\n",
    "                       }\n",
    "    speed_ration_map = {1.: 1,  # Fast passenger train\n",
    "                        1. / 2.: 0,  # Fast freight train\n",
    "                        1. / 3.: 0,  # Slow commuter train\n",
    "                        1. / 4.: 0}  # Slow freight train\n",
    "    env = RailEnv(width=size_side,\n",
    "                  height=size_side,\n",
    "                  rail_generator=sparse_rail_generator(max_num_cities=number_agents+2\n",
    "                                                       \n",
    "                                                       ,\n",
    "                                                       # Number of cities in map (where train stations are)\n",
    "                                                       seed=21,  # Random seed\n",
    "                                                       grid_mode=True,\n",
    "                                                       max_rails_between_cities=4,\n",
    "                                                       max_rails_in_city=4,\n",
    "                                                       ),\n",
    "                  schedule_generator=sparse_schedule_generator(speed_ration_map,seed = 2),\n",
    "                  number_of_agents=number_agents,\n",
    "                  stochastic_data=stochastic_data,  # Malfunction data generator\n",
    "                  obs_builder_object=GlobalObsForRailEnv(),\n",
    "                  remove_agents_at_target=True\n",
    "                  )\n",
    "\n",
    "    # RailEnv.DEPOT_POSITION = lambda agent, agent_handle : (agent_handle % env.height,0)\n",
    "    env.reset()\n",
    "\n",
    "    env_renderer = RenderTool(env,\n",
    "                              agent_render_variant=AgentRenderVariant.AGENT_SHOWS_OPTIONS_AND_BOX,\n",
    "                              show_debug=True,\n",
    "                              screen_height=1100,\n",
    "                              screen_width=1800)\n",
    "    env_renderer.reset()\n",
    "\n",
    "    env_renderer.render_env(show=True, show_observations=False, show_predictions=False)\n"
   ]
  },
  {
   "cell_type": "markdown",
   "metadata": {},
   "source": [
    "modify the starting point so that all agents have different starting point"
   ]
  },
  {
   "cell_type": "code",
   "execution_count": null,
   "metadata": {},
   "outputs": [],
   "source": [
    "%load_ext autoreload\n",
    "%autoreload 2\n",
    "import sys\n",
    "sys.path.append(\"../\")\n",
    "\n",
    "import networkx as nx\n",
    "import pandas as pd\n",
    "import matplotlib.pyplot as plt\n",
    "import copy\n",
    "from tqdm import tqdm\n",
    "import pprint\n",
    "\n",
    "from flatland.envs.rail_env import RailEnv\n",
    "from flatland.envs.observations import *\n",
    "from flatland.envs.rail_generators import complex_rail_generator,rail_from_manual_specifications_generator,random_rail_generator, RailGenerator,sparse_rail_generator\n",
    "from flatland.envs.schedule_generators import complex_schedule_generator, random_schedule_generator, ScheduleGenerator, sparse_schedule_generator\n",
    "from flatland.utils.rendertools import RenderTool, AgentRenderVariant\n",
    "\n",
    "from src.flows import *\n",
    "\n",
    "number_agents = 2\n",
    "\n",
    "size_side = 20\n",
    "env = RailEnv(width=size_side,\n",
    "              height=size_side,\n",
    "              rail_generator=complex_rail_generator(nr_start_goal=number_agents, nr_extra=1, \n",
    "                                                    min_dist=6, max_dist=99999, \n",
    "                                                    seed = np.random.randint(0,2000)),\n",
    "              schedule_generator=complex_schedule_generator(),\n",
    "              number_of_agents=number_agents,\n",
    "              obs_builder_object=GlobalObsForRailEnv())\n",
    "\n",
    "env.reset()\n",
    "\n",
    "\n",
    "\n",
    "env_renderer = RenderTool(env)\n",
    "env_renderer.render_env(show=True, show_predictions=False, show_observations=False)\n",
    "\n",
    "solver = Solver(\"test.log\",verbose=False)\n",
    "\n",
    "solver.solve(env,100)\n",
    "\n",
    "env.agents\n",
    "\n",
    "solver.master.get_solution()\n",
    "\n",
    "solver.solution\n",
    "\n",
    "solver.run(env,env_renderer)"
   ]
  },
  {
   "cell_type": "code",
   "execution_count": null,
   "metadata": {},
   "outputs": [],
   "source": [
    "flatlandNetwork = NetworkGraph(np.array(env.rail.grid.tolist()))"
   ]
  },
  {
   "cell_type": "code",
   "execution_count": null,
   "metadata": {},
   "outputs": [],
   "source": [
    "env.restart_agents()"
   ]
  },
  {
   "cell_type": "code",
   "execution_count": null,
   "metadata": {},
   "outputs": [],
   "source": [
    "env_renderer.render_env(show=True, show_predictions=False, show_observations=False)\n"
   ]
  },
  {
   "cell_type": "code",
   "execution_count": null,
   "metadata": {},
   "outputs": [],
   "source": [
    "env.agents[0].status"
   ]
  },
  {
   "cell_type": "code",
   "execution_count": null,
   "metadata": {},
   "outputs": [],
   "source": [
    "env.agents\n",
    "\n",
    "solver.initialSolutionGenerator.stats"
   ]
  },
  {
   "cell_type": "code",
   "execution_count": null,
   "metadata": {
    "scrolled": true
   },
   "outputs": [],
   "source": [
    "solver.solution"
   ]
  },
  {
   "cell_type": "code",
   "execution_count": null,
   "metadata": {},
   "outputs": [],
   "source": [
    "from src.navigation.navigation_path import *"
   ]
  },
  {
   "cell_type": "code",
   "execution_count": null,
   "metadata": {},
   "outputs": [],
   "source": [
    "walk_path(env,env_renderer,solver.solution[0],0)"
   ]
  },
  {
   "cell_type": "code",
   "execution_count": null,
   "metadata": {
    "scrolled": true
   },
   "outputs": [],
   "source": [
    "solver.initialSolutionGenerator.stats"
   ]
  },
  {
   "cell_type": "code",
   "execution_count": null,
   "metadata": {
    "scrolled": true
   },
   "outputs": [],
   "source": [
    "solver2 = Solver(\"test.log\",\"Arc Formulation\")\n",
    "solver2.solve(env,100)"
   ]
  },
  {
   "cell_type": "code",
   "execution_count": null,
   "metadata": {
    "scrolled": true
   },
   "outputs": [],
   "source": [
    "solver2.stats"
   ]
  },
  {
   "cell_type": "code",
   "execution_count": null,
   "metadata": {},
   "outputs": [],
   "source": [
    "solver.stats"
   ]
  },
  {
   "cell_type": "code",
   "execution_count": null,
   "metadata": {},
   "outputs": [],
   "source": [
    "master = solver.master "
   ]
  },
  {
   "cell_type": "code",
   "execution_count": null,
   "metadata": {},
   "outputs": [],
   "source": [
    "result = np.where(np.array(solutions) == 1.)"
   ]
  },
  {
   "cell_type": "code",
   "execution_count": null,
   "metadata": {},
   "outputs": [],
   "source": [
    "solutions = master.model.getAttr(\"X\")"
   ]
  },
  {
   "cell_type": "code",
   "execution_count": null,
   "metadata": {},
   "outputs": [],
   "source": [
    "result"
   ]
  },
  {
   "cell_type": "code",
   "execution_count": null,
   "metadata": {},
   "outputs": [],
   "source": [
    "for v in master.model.getVars():\n",
    "        print('%s %g' % (v.varName, v.x))"
   ]
  },
  {
   "cell_type": "code",
   "execution_count": null,
   "metadata": {},
   "outputs": [],
   "source": [
    "inter = v.VarName.split(\"[\")[-1]\n",
    "inter = inter.split(\"]\")[0]\n",
    "c = int(inter.split(\",\")[0])\n",
    "path = int(inter.split(\",\")[-1])"
   ]
  },
  {
   "cell_type": "code",
   "execution_count": null,
   "metadata": {},
   "outputs": [],
   "source": [
    "c,path"
   ]
  },
  {
   "cell_type": "code",
   "execution_count": null,
   "metadata": {},
   "outputs": [],
   "source": [
    "sources = []\n",
    "sinks = []\n",
    "directions = []\n",
    "for agent in env.agents:\n",
    "    sources.append(agent.initial_position)\n",
    "    sinks.append(agent.target)\n",
    "    try:\n",
    "        directions.append(agent.direction)\n",
    "    except:\n",
    "        pass"
   ]
  },
  {
   "cell_type": "code",
   "execution_count": null,
   "metadata": {
    "scrolled": true
   },
   "outputs": [],
   "source": [
    "sources"
   ]
  },
  {
   "cell_type": "code",
   "execution_count": null,
   "metadata": {},
   "outputs": [],
   "source": [
    "sinks"
   ]
  },
  {
   "cell_type": "code",
   "execution_count": null,
   "metadata": {},
   "outputs": [],
   "source": [
    "directions"
   ]
  },
  {
   "cell_type": "code",
   "execution_count": null,
   "metadata": {
    "scrolled": false
   },
   "outputs": [],
   "source": [
    "solver.master.get_solution()"
   ]
  },
  {
   "cell_type": "code",
   "execution_count": null,
   "metadata": {},
   "outputs": [],
   "source": [
    "if len(directions) == 0:\n",
    "    directions = None"
   ]
  },
  {
   "cell_type": "markdown",
   "metadata": {},
   "source": [
    "##### create a time expanded network"
   ]
  },
  {
   "cell_type": "code",
   "execution_count": null,
   "metadata": {},
   "outputs": [],
   "source": [
    "import time"
   ]
  },
  {
   "cell_type": "code",
   "execution_count": null,
   "metadata": {
    "scrolled": true
   },
   "outputs": [],
   "source": [
    "start = time.time()\n",
    "TestNetworkTime = TimeNetwork(flatlandNetwork, depth=200)\n",
    "stop = time.time()\n",
    "print(f'time taken to build the graph: {stop-start}')"
   ]
  },
  {
   "cell_type": "code",
   "execution_count": null,
   "metadata": {
    "scrolled": true
   },
   "outputs": [],
   "source": [
    "TestNetworkTime.connect_sources_and_sink(sources,sinks,directions)"
   ]
  },
  {
   "cell_type": "markdown",
   "metadata": {},
   "source": [
    "### create initial solution"
   ]
  },
  {
   "cell_type": "code",
   "execution_count": null,
   "metadata": {},
   "outputs": [],
   "source": [
    "from tqdm import tqdm"
   ]
  },
  {
   "cell_type": "code",
   "execution_count": null,
   "metadata": {},
   "outputs": [],
   "source": [
    "constraints, find_constraints = TestNetworkTime.get_topology_network()"
   ]
  },
  {
   "cell_type": "code",
   "execution_count": null,
   "metadata": {},
   "outputs": [],
   "source": [
    "test = InitialSolutionGenerator(TestNetworkTime,constraints,find_constraints,len(sources))"
   ]
  },
  {
   "cell_type": "code",
   "execution_count": null,
   "metadata": {
    "scrolled": false
   },
   "outputs": [],
   "source": [
    "solution = test.getInitialSolution()"
   ]
  },
  {
   "cell_type": "code",
   "execution_count": null,
   "metadata": {
    "scrolled": true
   },
   "outputs": [],
   "source": [
    "test.showStats()"
   ]
  },
  {
   "cell_type": "code",
   "execution_count": null,
   "metadata": {
    "scrolled": true
   },
   "outputs": [],
   "source": [
    "solution"
   ]
  },
  {
   "cell_type": "code",
   "execution_count": null,
   "metadata": {},
   "outputs": [],
   "source": [
    "len(solution)"
   ]
  },
  {
   "cell_type": "code",
   "execution_count": null,
   "metadata": {},
   "outputs": [],
   "source": [
    "cost = 0\n",
    "for p in solution:\n",
    "    cost += len(p)\n",
    "    \n",
    "print(cost)"
   ]
  },
  {
   "cell_type": "code",
   "execution_count": 11,
   "metadata": {},
   "outputs": [],
   "source": [
    "solver = Solver(\"./test_sparse.log\",useDirections=True)"
   ]
  },
  {
   "cell_type": "code",
   "execution_count": 12,
   "metadata": {
    "scrolled": true
   },
   "outputs": [
    {
     "name": "stdout",
     "output_type": "stream",
     "text": [
      "Had to drop multiple agents, conflict with their starting position\n",
      "[6, 9, 13, 14, 15, 18, 19]\n"
     ]
    },
    {
     "name": "stderr",
     "output_type": "stream",
     "text": [
      "13it [06:09, 28.44s/it]"
     ]
    },
    {
     "name": "stdout",
     "output_type": "stream",
     "text": [
      "Academic license - for non-commercial use only\n"
     ]
    },
    {
     "name": "stderr",
     "output_type": "stream",
     "text": [
      "\n"
     ]
    },
    {
     "name": "stdout",
     "output_type": "stream",
     "text": [
      "score: 1983.0\n"
     ]
    },
    {
     "data": {
      "text/plain": [
       "1983.0"
      ]
     },
     "execution_count": 12,
     "metadata": {},
     "output_type": "execute_result"
    }
   ],
   "source": [
    "solver.solve(env)"
   ]
  },
  {
   "cell_type": "code",
   "execution_count": 13,
   "metadata": {
    "scrolled": true
   },
   "outputs": [
    {
     "name": "stdout",
     "output_type": "stream",
     "text": [
      "Error ! agent  6 is supposed to be at cell (33, 17) but is at (6, 46) at time 1\n",
      "Error ! agent  7 is supposed to be at cell (31, 5) but is at (33, 17) at time 1\n",
      "Error ! agent  8 is supposed to be at cell (19, 20) but is at (31, 5) at time 1\n",
      "Error ! agent  9 is supposed to be at cell (43, 46) but is at (6, 30) at time 1\n",
      "Error ! agent  10 is supposed to be at cell (45, 44) but is at (19, 20) at time 1\n",
      "Error ! agent  11 is supposed to be at cell (6, 7) but is at (43, 46) at time 1\n",
      "Error ! agent  6 is supposed to be at cell (33, 17) but is at (6, 46) at time 2\n",
      "Error ! agent  7 is supposed to be at cell (31, 4) but is at (33, 16) at time 2\n",
      "Error ! agent  8 is supposed to be at cell (19, 19) but is at (31, 4) at time 2\n",
      "Error ! agent  9 is supposed to be at cell (42, 46) but is at (5, 30) at time 2\n",
      "Error ! agent  10 is supposed to be at cell (46, 44) but is at (19, 19) at time 2\n",
      "Error ! agent  11 is supposed to be at cell (6, 8) but is at (42, 46) at time 2\n",
      "Error ! agent  6 is supposed to be at cell (32, 17) but is at (5, 46) at time 3\n",
      "Error ! agent  7 is supposed to be at cell (32, 4) but is at (33, 15) at time 3\n",
      "Error ! agent  8 is supposed to be at cell (20, 19) but is at (32, 4) at time 3\n",
      "Error ! agent  9 is supposed to be at cell (41, 46) but is at (5, 31) at time 3\n",
      "Error ! agent  10 is supposed to be at cell (47, 44) but is at (20, 19) at time 3\n",
      "Error ! agent  11 is supposed to be at cell (6, 9) but is at (41, 46) at time 3\n",
      "Error ! agent  6 is supposed to be at cell (32, 16) but is at (4, 46) at time 4\n",
      "Error ! agent  7 is supposed to be at cell (32, 3) but is at (33, 14) at time 4\n",
      "Error ! agent  8 is supposed to be at cell (21, 19) but is at (32, 3) at time 4\n",
      "Error ! agent  9 is supposed to be at cell (41, 45) but is at (4, 31) at time 4\n",
      "Error ! agent  10 is supposed to be at cell (48, 44) but is at (21, 19) at time 4\n",
      "Error ! agent  11 is supposed to be at cell (6, 10) but is at (40, 46) at time 4\n",
      "Error ! agent  6 is supposed to be at cell (32, 16) but is at (4, 46) at time 5\n",
      "Error ! agent  7 is supposed to be at cell (31, 3) but is at (33, 13) at time 5\n",
      "Error ! agent  8 is supposed to be at cell (22, 19) but is at (31, 3) at time 5\n",
      "Error ! agent  9 is supposed to be at cell (40, 45) but is at (4, 32) at time 5\n",
      "Error ! agent  10 is supposed to be at cell (49, 44) but is at (22, 19) at time 5\n",
      "Error ! agent  11 is supposed to be at cell (6, 11) but is at (39, 46) at time 5\n",
      "Error ! agent  6 is supposed to be at cell (32, 15) but is at (3, 46) at time 6\n",
      "Error ! agent  7 is supposed to be at cell (31, 3) but is at (33, 13) at time 6\n",
      "Error ! agent  8 is supposed to be at cell (23, 19) but is at (31, 2) at time 6\n",
      "Error ! agent  9 is supposed to be at cell (39, 45) but is at (3, 32) at time 6\n",
      "Error ! agent  10 is supposed to be at cell (49, 43) but is at (23, 19) at time 6\n",
      "Error ! agent  11 is supposed to be at cell (7, 11) but is at (38, 46) at time 6\n",
      "Error ! agent  6 is supposed to be at cell (32, 15) but is at (3, 46) at time 7\n",
      "Error ! agent  7 is supposed to be at cell (31, 2) but is at (33, 12) at time 7\n",
      "Error ! agent  8 is supposed to be at cell (23, 20) but is at (31, 1) at time 7\n",
      "Error ! agent  9 is supposed to be at cell (38, 45) but is at (3, 31) at time 7\n",
      "Error ! agent  10 is supposed to be at cell (49, 42) but is at (24, 19) at time 7\n",
      "Error ! agent  11 is supposed to be at cell (8, 11) but is at (37, 46) at time 7\n",
      "Error ! agent  6 is supposed to be at cell (32, 15) but is at (3, 46) at time 8\n",
      "Error ! agent  7 is supposed to be at cell (31, 1) but is at (33, 11) at time 8\n",
      "Error ! agent  8 is supposed to be at cell (23, 21) but is at (31, 0) at time 8\n",
      "Error ! agent  9 is supposed to be at cell (37, 45) but is at (2, 31) at time 8\n",
      "Error ! agent  10 is supposed to be at cell (49, 41) but is at (24, 20) at time 8\n",
      "Error ! agent  11 is supposed to be at cell (9, 11) but is at (36, 46) at time 8\n",
      "Error ! agent  6 is supposed to be at cell (32, 15) but is at (3, 46) at time 9\n",
      "Error ! agent  7 is supposed to be at cell (31, 0) but is at (32, 11) at time 9\n",
      "Error ! agent  8 is supposed to be at cell (23, 22) but is at (32, 0) at time 9\n",
      "Error ! agent  9 is supposed to be at cell (36, 45) but is at (1, 31) at time 9\n",
      "Error ! agent  10 is supposed to be at cell (49, 40) but is at (24, 21) at time 9\n",
      "Error ! agent  11 is supposed to be at cell (10, 11) but is at (36, 45) at time 9\n",
      "Error ! agent  6 is supposed to be at cell (32, 15) but is at (3, 46) at time 10\n",
      "Error ! agent  7 is supposed to be at cell (32, 0) but is at (31, 11) at time 10\n",
      "Error ! agent  8 is supposed to be at cell (23, 23) but is at (33, 0) at time 10\n",
      "Error ! agent  9 is supposed to be at cell (35, 45) but is at (0, 31) at time 10\n",
      "Error ! agent  10 is supposed to be at cell (49, 39) but is at (25, 21) at time 10\n",
      "Error ! agent  11 is supposed to be at cell (11, 11) but is at (35, 45) at time 10\n",
      "Error ! agent  6 is supposed to be at cell (32, 15) but is at (3, 46) at time 11\n",
      "Error ! agent  7 is supposed to be at cell (32, 0) but is at (31, 11) at time 11\n",
      "Error ! agent  8 is supposed to be at cell (22, 23) but is at (34, 0) at time 11\n",
      "Error ! agent  9 is supposed to be at cell (34, 45) but is at (0, 32) at time 11\n",
      "Error ! agent  10 is supposed to be at cell (48, 39) but is at (26, 21) at time 11\n",
      "Error ! agent  11 is supposed to be at cell (11, 10) but is at (34, 45) at time 11\n",
      "Error ! agent  6 is supposed to be at cell (32, 15) but is at (3, 46) at time 12\n",
      "Error ! agent  7 is supposed to be at cell (33, 0) but is at (30, 11) at time 12\n",
      "Error ! agent  8 is supposed to be at cell (21, 23) but is at (35, 0) at time 12\n",
      "Error ! agent  9 is supposed to be at cell (33, 45) but is at (0, 33) at time 12\n",
      "Error ! agent  10 is supposed to be at cell (47, 39) but is at (26, 22) at time 12\n",
      "Error ! agent  11 is supposed to be at cell (12, 10) but is at (33, 45) at time 12\n",
      "Error ! agent  6 is supposed to be at cell (32, 15) but is at (3, 46) at time 13\n",
      "Error ! agent  7 is supposed to be at cell (33, 0) but is at (30, 11) at time 13\n",
      "Error ! agent  8 is supposed to be at cell (20, 23) but is at (36, 0) at time 13\n",
      "Error ! agent  9 is supposed to be at cell (33, 44) but is at (0, 34) at time 13\n",
      "Error ! agent  10 is supposed to be at cell (46, 39) but is at (26, 23) at time 13\n",
      "Error ! agent  11 is supposed to be at cell (13, 10) but is at (32, 45) at time 13\n",
      "Error ! agent  6 is supposed to be at cell (32, 15) but is at (3, 46) at time 14\n",
      "Error ! agent  7 is supposed to be at cell (33, 0) but is at (30, 11) at time 14\n",
      "Error ! agent  8 is supposed to be at cell (19, 23) but is at (37, 0) at time 14\n",
      "Error ! agent  9 is supposed to be at cell (32, 44) but is at (0, 35) at time 14\n",
      "Error ! agent  10 is supposed to be at cell (45, 39) but is at (27, 23) at time 14\n",
      "Error ! agent  11 is supposed to be at cell (13, 9) but is at (32, 46) at time 14\n",
      "Error ! agent  1 is supposed to be at cell (0, 35) but is at (0, 36) at time 15\n",
      "Error ! agent  6 is supposed to be at cell (32, 15) but is at (3, 46) at time 15\n",
      "Error ! agent  7 is supposed to be at cell (33, 0) but is at (30, 11) at time 15\n",
      "Error ! agent  8 is supposed to be at cell (19, 24) but is at (38, 0) at time 15\n",
      "Error ! agent  9 is supposed to be at cell (31, 44) but is at (0, 35) at time 15\n",
      "Error ! agent  10 is supposed to be at cell (45, 38) but is at (28, 23) at time 15\n",
      "Error ! agent  11 is supposed to be at cell (13, 8) but is at (31, 46) at time 15\n",
      "Error ! agent  1 is supposed to be at cell (0, 34) but is at (0, 36) at time 16\n",
      "Error ! agent  6 is supposed to be at cell (32, 15) but is at (3, 46) at time 16\n",
      "Error ! agent  7 is supposed to be at cell (33, 0) but is at (30, 11) at time 16\n",
      "Error ! agent  8 is supposed to be at cell (19, 25) but is at (38, 1) at time 16\n",
      "Error ! agent  9 is supposed to be at cell (30, 44) but is at (0, 35) at time 16\n",
      "Error ! agent  10 is supposed to be at cell (45, 37) but is at (29, 23) at time 16\n",
      "Error ! agent  11 is supposed to be at cell (13, 7) but is at (30, 46) at time 16\n",
      "Error ! agent  1 is supposed to be at cell (0, 33) but is at (0, 36) at time 17\n",
      "Error ! agent  6 is supposed to be at cell (31, 15) but is at (2, 46) at time 17\n",
      "Error ! agent  7 is supposed to be at cell (33, 0) but is at (30, 11) at time 17\n",
      "Error ! agent  8 is supposed to be at cell (19, 26) but is at (39, 1) at time 17\n",
      "Error ! agent  9 is supposed to be at cell (29, 44) but is at (0, 35) at time 17\n",
      "Error ! agent  10 is supposed to be at cell (45, 36) but is at (30, 23) at time 17\n",
      "Error ! agent  11 is supposed to be at cell (13, 6) but is at (30, 45) at time 17\n",
      "Error ! agent  1 is supposed to be at cell (0, 32) but is at (0, 36) at time 18\n",
      "Error ! agent  6 is supposed to be at cell (31, 14) but is at (1, 46) at time 18\n",
      "Error ! agent  7 is supposed to be at cell (33, 0) but is at (30, 11) at time 18\n",
      "Error ! agent  8 is supposed to be at cell (19, 27) but is at (40, 1) at time 18\n",
      "Error ! agent  9 is supposed to be at cell (28, 44) but is at (0, 35) at time 18\n",
      "Error ! agent  10 is supposed to be at cell (45, 35) but is at (31, 23) at time 18\n",
      "Error ! agent  11 is supposed to be at cell (14, 6) but is at (29, 45) at time 18\n",
      "Error ! agent  1 is supposed to be at cell (0, 31) but is at (0, 36) at time 19\n",
      "Error ! agent  6 is supposed to be at cell (31, 13) but is at (1, 45) at time 19\n",
      "Error ! agent  7 is supposed to be at cell (33, 0) but is at (30, 11) at time 19\n",
      "Error ! agent  8 is supposed to be at cell (19, 28) but is at (41, 1) at time 19\n",
      "Error ! agent  9 is supposed to be at cell (27, 44) but is at (0, 35) at time 19\n",
      "Error ! agent  10 is supposed to be at cell (45, 34) but is at (31, 22) at time 19\n",
      "Error ! agent  11 is supposed to be at cell (15, 6) but is at (28, 45) at time 19\n"
     ]
    },
    {
     "name": "stdout",
     "output_type": "stream",
     "text": [
      "Error ! agent  1 is supposed to be at cell (1, 31) but is at (0, 36) at time 20\n",
      "Error ! agent  6 is supposed to be at cell (31, 12) but is at (1, 44) at time 20\n",
      "Error ! agent  7 is supposed to be at cell (33, 0) but is at (30, 11) at time 20\n",
      "Error ! agent  8 is supposed to be at cell (19, 29) but is at (42, 1) at time 20\n",
      "Error ! agent  9 is supposed to be at cell (26, 44) but is at (0, 35) at time 20\n",
      "Error ! agent  10 is supposed to be at cell (45, 33) but is at (31, 21) at time 20\n",
      "Error ! agent  11 is supposed to be at cell (16, 6) but is at (27, 45) at time 20\n",
      "Error ! agent  1 is supposed to be at cell (1, 32) but is at (0, 36) at time 21\n",
      "Error ! agent  6 is supposed to be at cell (31, 11) but is at (1, 43) at time 21\n",
      "Error ! agent  7 is supposed to be at cell (33, 0) but is at (30, 11) at time 21\n",
      "Error ! agent  8 is supposed to be at cell (19, 30) but is at (43, 1) at time 21\n",
      "Error ! agent  9 is supposed to be at cell (25, 44) but is at (0, 35) at time 21\n",
      "Error ! agent  10 is supposed to be at cell (44, 33) but is at (31, 20) at time 21\n",
      "Error ! agent  11 is supposed to be at cell (17, 6) but is at (26, 45) at time 21\n",
      "Error ! agent  1 is supposed to be at cell (1, 33) but is at (0, 36) at time 22\n",
      "Error ! agent  6 is supposed to be at cell (32, 11) but is at (1, 42) at time 22\n",
      "Error ! agent  7 is supposed to be at cell (33, 0) but is at (30, 11) at time 22\n",
      "Error ! agent  8 is supposed to be at cell (19, 31) but is at (44, 1) at time 22\n",
      "Error ! agent  9 is supposed to be at cell (24, 44) but is at (0, 35) at time 22\n",
      "Error ! agent  10 is supposed to be at cell (44, 32) but is at (31, 19) at time 22\n",
      "Error ! agent  11 is supposed to be at cell (18, 6) but is at (25, 45) at time 22\n",
      "Error ! agent  1 is supposed to be at cell (1, 34) but is at (0, 36) at time 23\n",
      "Error ! agent  6 is supposed to be at cell (32, 12) but is at (1, 41) at time 23\n",
      "Error ! agent  7 is supposed to be at cell (33, 0) but is at (30, 11) at time 23\n",
      "Error ! agent  9 is supposed to be at cell (23, 44) but is at (0, 35) at time 23\n",
      "Error ! agent  10 is supposed to be at cell (44, 31) but is at (31, 18) at time 23\n",
      "Error ! agent  11 is supposed to be at cell (19, 6) but is at (24, 45) at time 23\n",
      "Error ! agent  1 is supposed to be at cell (1, 35) but is at (0, 36) at time 24\n",
      "Error ! agent  6 is supposed to be at cell (32, 13) but is at (1, 40) at time 24\n",
      "Error ! agent  7 is supposed to be at cell (34, 0) but is at (29, 11) at time 24\n",
      "Error ! agent  9 is supposed to be at cell (22, 44) but is at (0, 35) at time 24\n",
      "Error ! agent  10 is supposed to be at cell (44, 30) but is at (31, 17) at time 24\n",
      "Error ! agent  11 is supposed to be at cell (20, 6) but is at (23, 45) at time 24\n",
      "Error ! agent  1 is supposed to be at cell (1, 36) but is at (0, 36) at time 25\n",
      "Error ! agent  6 is supposed to be at cell (32, 14) but is at (1, 39) at time 25\n",
      "Error ! agent  7 is supposed to be at cell (35, 0) but is at (28, 11) at time 25\n",
      "Error ! agent  9 is supposed to be at cell (21, 44) but is at (0, 35) at time 25\n",
      "Error ! agent  10 is supposed to be at cell (44, 29) but is at (31, 16) at time 25\n",
      "Error ! agent  11 is supposed to be at cell (21, 6) but is at (23, 44) at time 25\n",
      "Error ! agent  1 is supposed to be at cell (1, 37) but is at (0, 36) at time 26\n",
      "Error ! agent  6 is supposed to be at cell (32, 15) but is at (1, 38) at time 26\n",
      "Error ! agent  7 is supposed to be at cell (36, 0) but is at (27, 11) at time 26\n",
      "Error ! agent  9 is supposed to be at cell (21, 45) but is at (0, 35) at time 26\n",
      "Error ! agent  10 is supposed to be at cell (44, 28) but is at (31, 16) at time 26\n",
      "Error ! agent  11 is supposed to be at cell (22, 6) but is at (23, 43) at time 26\n",
      "Error ! agent  1 is supposed to be at cell (1, 38) but is at (0, 36) at time 27\n",
      "Error ! agent  6 is supposed to be at cell (32, 16) but is at (1, 37) at time 27\n",
      "Error ! agent  7 is supposed to be at cell (37, 0) but is at (26, 11) at time 27\n",
      "Error ! agent  9 is supposed to be at cell (20, 45) but is at (0, 35) at time 27\n",
      "Error ! agent  10 is supposed to be at cell (44, 27) but is at (31, 15) at time 27\n",
      "Error ! agent  11 is supposed to be at cell (23, 6) but is at (23, 42) at time 27\n",
      "Error ! agent  1 is supposed to be at cell (1, 39) but is at (0, 36) at time 28\n",
      "Error ! agent  6 is supposed to be at cell (32, 17) but is at (1, 36) at time 28\n",
      "Error ! agent  7 is supposed to be at cell (38, 0) but is at (26, 10) at time 28\n",
      "Error ! agent  9 is supposed to be at cell (19, 45) but is at (0, 35) at time 28\n",
      "Error ! agent  10 is supposed to be at cell (44, 26) but is at (31, 14) at time 28\n",
      "Error ! agent  11 is supposed to be at cell (23, 7) but is at (23, 41) at time 28\n",
      "Error ! agent  1 is supposed to be at cell (1, 40) but is at (0, 36) at time 29\n",
      "Error ! agent  6 is supposed to be at cell (33, 17) but is at (1, 35) at time 29\n",
      "Error ! agent  7 is supposed to be at cell (38, 1) but is at (25, 10) at time 29\n",
      "Error ! agent  9 is supposed to be at cell (18, 45) but is at (0, 35) at time 29\n",
      "Error ! agent  10 is supposed to be at cell (44, 25) but is at (31, 13) at time 29\n",
      "Error ! agent  11 is supposed to be at cell (23, 8) but is at (23, 40) at time 29\n",
      "Error ! agent  1 is supposed to be at cell (1, 41) but is at (0, 36) at time 30\n",
      "Error ! agent  6 is supposed to be at cell (33, 18) but is at (1, 34) at time 30\n",
      "Error ! agent  7 is supposed to be at cell (39, 1) but is at (24, 10) at time 30\n",
      "Error ! agent  9 is supposed to be at cell (17, 45) but is at (0, 35) at time 30\n",
      "Error ! agent  10 is supposed to be at cell (44, 24) but is at (31, 12) at time 30\n",
      "Error ! agent  11 is supposed to be at cell (23, 9) but is at (23, 39) at time 30\n",
      "Error ! agent  1 is supposed to be at cell (1, 42) but is at (0, 36) at time 31\n",
      "Error ! agent  6 is supposed to be at cell (33, 19) but is at (1, 33) at time 31\n",
      "Error ! agent  7 is supposed to be at cell (40, 1) but is at (23, 10) at time 31\n",
      "Error ! agent  9 is supposed to be at cell (16, 45) but is at (0, 35) at time 31\n",
      "Error ! agent  10 is supposed to be at cell (44, 23) but is at (31, 11) at time 31\n",
      "Error ! agent  11 is supposed to be at cell (23, 10) but is at (22, 39) at time 31\n",
      "Error ! agent  1 is supposed to be at cell (1, 43) but is at (0, 36) at time 32\n",
      "Error ! agent  6 is supposed to be at cell (33, 20) but is at (1, 32) at time 32\n",
      "Error ! agent  7 is supposed to be at cell (41, 1) but is at (23, 9) at time 32\n",
      "Error ! agent  9 is supposed to be at cell (15, 45) but is at (0, 35) at time 32\n",
      "Error ! agent  10 is supposed to be at cell (43, 23) but is at (31, 10) at time 32\n",
      "Error ! agent  11 is supposed to be at cell (24, 10) but is at (21, 39) at time 32\n",
      "Error ! agent  1 is supposed to be at cell (1, 44) but is at (0, 36) at time 33\n",
      "Error ! agent  6 is supposed to be at cell (33, 21) but is at (1, 31) at time 33\n",
      "Error ! agent  7 is supposed to be at cell (42, 1) but is at (23, 8) at time 33\n",
      "Error ! agent  9 is supposed to be at cell (15, 44) but is at (0, 35) at time 33\n",
      "Error ! agent  10 is supposed to be at cell (42, 23) but is at (31, 9) at time 33\n",
      "Error ! agent  11 is supposed to be at cell (25, 10) but is at (20, 39) at time 33\n",
      "Error ! agent  1 is supposed to be at cell (2, 44) but is at (0, 36) at time 34\n",
      "Error ! agent  6 is supposed to be at cell (33, 22) but is at (1, 30) at time 34\n",
      "Error ! agent  7 is supposed to be at cell (43, 1) but is at (23, 7) at time 34\n",
      "Error ! agent  9 is supposed to be at cell (14, 44) but is at (0, 35) at time 34\n",
      "Error ! agent  10 is supposed to be at cell (41, 23) but is at (31, 8) at time 34\n",
      "Error ! agent  11 is supposed to be at cell (26, 10) but is at (19, 39) at time 34\n",
      "Error ! agent  1 is supposed to be at cell (3, 44) but is at (0, 36) at time 35\n",
      "Error ! agent  6 is supposed to be at cell (33, 23) but is at (1, 29) at time 35\n",
      "Error ! agent  7 is supposed to be at cell (44, 1) but is at (23, 6) at time 35\n",
      "Error ! agent  9 is supposed to be at cell (13, 44) but is at (0, 35) at time 35\n",
      "Error ! agent  10 is supposed to be at cell (40, 23) but is at (31, 7) at time 35\n",
      "Error ! agent  11 is supposed to be at cell (26, 11) but is at (19, 38) at time 35\n",
      "Error ! agent  1 is supposed to be at cell (4, 44) but is at (0, 36) at time 36\n",
      "Error ! agent  6 is supposed to be at cell (34, 23) but is at (1, 28) at time 36\n",
      "Error ! agent  7 is supposed to be at cell (44, 2) but is at (22, 6) at time 36\n",
      "Error ! agent  9 is supposed to be at cell (13, 45) but is at (0, 35) at time 36\n",
      "Error ! agent  10 is supposed to be at cell (39, 23) but is at (31, 6) at time 36\n",
      "Error ! agent  11 is supposed to be at cell (27, 11) but is at (19, 37) at time 36\n",
      "Error ! agent  1 is supposed to be at cell (5, 44) but is at (0, 36) at time 37\n",
      "Error ! agent  6 is supposed to be at cell (35, 23) but is at (1, 27) at time 37\n",
      "Error ! agent  7 is supposed to be at cell (44, 3) but is at (21, 6) at time 37\n",
      "Error ! agent  9 is supposed to be at cell (12, 45) but is at (0, 35) at time 37\n",
      "Error ! agent  10 is supposed to be at cell (39, 22) but is at (31, 5) at time 37\n",
      "Error ! agent  11 is supposed to be at cell (28, 11) but is at (19, 36) at time 37\n"
     ]
    },
    {
     "name": "stdout",
     "output_type": "stream",
     "text": [
      "Error ! agent  1 is supposed to be at cell (6, 44) but is at (0, 36) at time 38\n",
      "Error ! agent  6 is supposed to be at cell (36, 23) but is at (1, 26) at time 38\n",
      "Error ! agent  7 is supposed to be at cell (44, 4) but is at (20, 6) at time 38\n",
      "Error ! agent  9 is supposed to be at cell (11, 45) but is at (0, 35) at time 38\n",
      "Error ! agent  10 is supposed to be at cell (39, 21) but is at (31, 4) at time 38\n",
      "Error ! agent  11 is supposed to be at cell (29, 11) but is at (19, 35) at time 38\n",
      "Error ! agent  1 is supposed to be at cell (7, 44) but is at (0, 36) at time 39\n",
      "Error ! agent  6 is supposed to be at cell (36, 22) but is at (1, 25) at time 39\n",
      "Error ! agent  7 is supposed to be at cell (44, 5) but is at (19, 6) at time 39\n",
      "Error ! agent  9 is supposed to be at cell (10, 45) but is at (0, 35) at time 39\n",
      "Error ! agent  10 is supposed to be at cell (39, 20) but is at (31, 3) at time 39\n",
      "Error ! agent  11 is supposed to be at cell (30, 11) but is at (19, 34) at time 39\n",
      "Error ! agent  1 is supposed to be at cell (8, 44) but is at (0, 36) at time 40\n",
      "Error ! agent  6 is supposed to be at cell (37, 22) but is at (1, 24) at time 40\n",
      "Error ! agent  7 is supposed to be at cell (44, 6) but is at (18, 6) at time 40\n",
      "Error ! agent  9 is supposed to be at cell (9, 45) but is at (0, 35) at time 40\n",
      "Error ! agent  10 is supposed to be at cell (39, 19) but is at (31, 2) at time 40\n",
      "Error ! agent  11 is supposed to be at cell (31, 11) but is at (19, 33) at time 40\n",
      "Error ! agent  1 is supposed to be at cell (9, 44) but is at (0, 36) at time 41\n",
      "Error ! agent  6 is supposed to be at cell (38, 22) but is at (1, 23) at time 41\n",
      "Error ! agent  7 is supposed to be at cell (44, 7) but is at (17, 6) at time 41\n",
      "Error ! agent  9 is supposed to be at cell (8, 45) but is at (0, 35) at time 41\n",
      "Error ! agent  10 is supposed to be at cell (39, 18) but is at (31, 1) at time 41\n",
      "Error ! agent  11 is supposed to be at cell (32, 11) but is at (19, 32) at time 41\n",
      "Error ! agent  1 is supposed to be at cell (10, 44) but is at (0, 36) at time 42\n",
      "Error ! agent  6 is supposed to be at cell (39, 22) but is at (1, 22) at time 42\n",
      "Error ! agent  7 is supposed to be at cell (44, 8) but is at (16, 6) at time 42\n",
      "Error ! agent  9 is supposed to be at cell (7, 45) but is at (0, 35) at time 42\n",
      "Error ! agent  10 is supposed to be at cell (40, 18) but is at (32, 1) at time 42\n",
      "Error ! agent  11 is supposed to be at cell (32, 12) but is at (19, 31) at time 42\n",
      "Error ! agent  1 is supposed to be at cell (11, 44) but is at (0, 36) at time 43\n",
      "Error ! agent  6 is supposed to be at cell (39, 21) but is at (1, 21) at time 43\n",
      "Error ! agent  7 is supposed to be at cell (45, 8) but is at (16, 7) at time 43\n",
      "Error ! agent  9 is supposed to be at cell (6, 45) but is at (0, 35) at time 43\n",
      "Error ! agent  10 is supposed to be at cell (41, 18) but is at (33, 1) at time 43\n",
      "Error ! agent  11 is supposed to be at cell (32, 13) but is at (19, 30) at time 43\n",
      "Error ! agent  1 is supposed to be at cell (12, 44) but is at (0, 36) at time 44\n",
      "Error ! agent  6 is supposed to be at cell (39, 20) but is at (2, 21) at time 44\n",
      "Error ! agent  7 is supposed to be at cell (45, 9) but is at (15, 7) at time 44\n",
      "Error ! agent  9 is supposed to be at cell (5, 45) but is at (0, 35) at time 44\n",
      "Error ! agent  10 is supposed to be at cell (42, 18) but is at (34, 1) at time 44\n",
      "Error ! agent  11 is supposed to be at cell (32, 14) but is at (19, 29) at time 44\n",
      "Error ! agent  1 is supposed to be at cell (13, 44) but is at (0, 36) at time 45\n",
      "Error ! agent  6 is supposed to be at cell (39, 19) but is at (3, 21) at time 45\n",
      "Error ! agent  7 is supposed to be at cell (45, 10) but is at (15, 6) at time 45\n",
      "Error ! agent  9 is supposed to be at cell (4, 45) but is at (0, 35) at time 45\n",
      "Error ! agent  10 is supposed to be at cell (43, 18) but is at (35, 1) at time 45\n",
      "Error ! agent  11 is supposed to be at cell (32, 15) but is at (19, 28) at time 45\n",
      "Error ! agent  1 is supposed to be at cell (14, 44) but is at (0, 36) at time 46\n",
      "Error ! agent  6 is supposed to be at cell (39, 18) but is at (4, 21) at time 46\n",
      "Error ! agent  7 is supposed to be at cell (45, 11) but is at (14, 6) at time 46\n",
      "Error ! agent  9 is supposed to be at cell (3, 45) but is at (0, 35) at time 46\n",
      "Error ! agent  10 is supposed to be at cell (44, 18) but is at (36, 1) at time 46\n",
      "Error ! agent  11 is supposed to be at cell (32, 16) but is at (19, 27) at time 46\n",
      "Error ! agent  1 is supposed to be at cell (15, 44) but is at (0, 36) at time 47\n",
      "Error ! agent  6 is supposed to be at cell (40, 18) but is at (5, 21) at time 47\n",
      "Error ! agent  7 is supposed to be at cell (45, 12) but is at (13, 6) at time 47\n",
      "Error ! agent  9 is supposed to be at cell (2, 45) but is at (0, 35) at time 47\n",
      "Error ! agent  10 is supposed to be at cell (45, 18) but is at (37, 1) at time 47\n",
      "Error ! agent  11 is supposed to be at cell (32, 17) but is at (19, 26) at time 47\n",
      "Error ! agent  1 is supposed to be at cell (16, 44) but is at (0, 36) at time 48\n",
      "Error ! agent  6 is supposed to be at cell (41, 18) but is at (6, 21) at time 48\n",
      "Error ! agent  7 is supposed to be at cell (45, 13) but is at (12, 6) at time 48\n",
      "Error ! agent  9 is supposed to be at cell (1, 45) but is at (0, 35) at time 48\n",
      "Error ! agent  10 is supposed to be at cell (46, 18) but is at (38, 1) at time 48\n",
      "Error ! agent  11 is supposed to be at cell (32, 18) but is at (19, 25) at time 48\n",
      "Error ! agent  1 is supposed to be at cell (17, 44) but is at (0, 36) at time 49\n",
      "Error ! agent  6 is supposed to be at cell (42, 18) but is at (7, 21) at time 49\n",
      "Error ! agent  7 is supposed to be at cell (46, 13) but is at (11, 6) at time 49\n",
      "Error ! agent  9 is supposed to be at cell (1, 44) but is at (0, 35) at time 49\n",
      "Error ! agent  10 is supposed to be at cell (47, 18) but is at (39, 1) at time 49\n",
      "Error ! agent  11 is supposed to be at cell (32, 19) but is at (19, 24) at time 49\n",
      "Error ! agent  1 is supposed to be at cell (18, 44) but is at (0, 36) at time 50\n",
      "Error ! agent  6 is supposed to be at cell (43, 18) but is at (8, 21) at time 50\n",
      "Error ! agent  7 is supposed to be at cell (47, 13) but is at (11, 5) at time 50\n",
      "Error ! agent  9 is supposed to be at cell (1, 43) but is at (0, 35) at time 50\n",
      "Error ! agent  10 is supposed to be at cell (48, 18) but is at (40, 1) at time 50\n",
      "Error ! agent  11 is supposed to be at cell (32, 20) but is at (19, 23) at time 50\n",
      "Error ! agent  1 is supposed to be at cell (19, 44) but is at (0, 36) at time 51\n",
      "Error ! agent  6 is supposed to be at cell (44, 18) but is at (9, 21) at time 51\n",
      "Error ! agent  7 is supposed to be at cell (48, 13) but is at (11, 4) at time 51\n",
      "Error ! agent  9 is supposed to be at cell (1, 42) but is at (0, 35) at time 51\n",
      "Error ! agent  10 is supposed to be at cell (49, 18) but is at (41, 1) at time 51\n",
      "Error ! agent  11 is supposed to be at cell (32, 21) but is at (20, 23) at time 51\n",
      "Error ! agent  1 is supposed to be at cell (20, 44) but is at (0, 36) at time 52\n",
      "Error ! agent  6 is supposed to be at cell (45, 18) but is at (10, 21) at time 52\n",
      "Error ! agent  7 is supposed to be at cell (49, 13) but is at (11, 3) at time 52\n",
      "Error ! agent  9 is supposed to be at cell (1, 41) but is at (0, 35) at time 52\n",
      "Error ! agent  10 is supposed to be at cell (49, 19) but is at (42, 1) at time 52\n",
      "Error ! agent  11 is supposed to be at cell (32, 22) but is at (21, 23) at time 52\n",
      "Error ! agent  1 is supposed to be at cell (21, 44) but is at (0, 36) at time 53\n",
      "Error ! agent  6 is supposed to be at cell (46, 18) but is at (11, 21) at time 53\n",
      "Error ! agent  7 is supposed to be at cell (49, 14) but is at (11, 2) at time 53\n",
      "Error ! agent  9 is supposed to be at cell (1, 40) but is at (0, 35) at time 53\n",
      "Error ! agent  10 is supposed to be at cell (49, 20) but is at (43, 1) at time 53\n",
      "Error ! agent  11 is supposed to be at cell (32, 23) but is at (22, 23) at time 53\n",
      "Error ! agent  1 is supposed to be at cell (22, 44) but is at (0, 36) at time 54\n",
      "Error ! agent  6 is supposed to be at cell (47, 18) but is at (12, 21) at time 54\n",
      "Error ! agent  7 is supposed to be at cell (49, 15) but is at (11, 1) at time 54\n",
      "Error ! agent  9 is supposed to be at cell (1, 39) but is at (0, 35) at time 54\n",
      "Error ! agent  10 is supposed to be at cell (49, 21) but is at (44, 1) at time 54\n",
      "Error ! agent  11 is supposed to be at cell (32, 24) but is at (23, 23) at time 54\n",
      "Error ! agent  1 is supposed to be at cell (23, 44) but is at (0, 36) at time 55\n",
      "Error ! agent  6 is supposed to be at cell (48, 18) but is at (13, 21) at time 55\n",
      "Error ! agent  7 is supposed to be at cell (49, 16) but is at (10, 1) at time 55\n",
      "Error ! agent  9 is supposed to be at cell (1, 38) but is at (0, 35) at time 55\n",
      "Error ! agent  10 is supposed to be at cell (49, 22) but is at (45, 1) at time 55\n",
      "Error ! agent  11 is supposed to be at cell (32, 25) but is at (23, 23) at time 55\n"
     ]
    },
    {
     "name": "stdout",
     "output_type": "stream",
     "text": [
      "Error ! agent  1 is supposed to be at cell (24, 44) but is at (0, 36) at time 56\n",
      "Error ! agent  5 is supposed to be at cell (23, 23) but is at (23, 22) at time 56\n",
      "Error ! agent  6 is supposed to be at cell (49, 18) but is at (13, 20) at time 56\n",
      "Error ! agent  7 is supposed to be at cell (49, 17) but is at (9, 1) at time 56\n",
      "Error ! agent  9 is supposed to be at cell (0, 38) but is at (0, 35) at time 56\n",
      "Error ! agent  10 is supposed to be at cell (49, 23) but is at (46, 1) at time 56\n",
      "Error ! agent  11 is supposed to be at cell (32, 26) but is at (23, 23) at time 56\n",
      "Error ! agent  1 is supposed to be at cell (25, 44) but is at (0, 36) at time 57\n",
      "Error ! agent  5 is supposed to be at cell (22, 23) but is at (23, 22) at time 57\n",
      "Error ! agent  6 is supposed to be at cell (49, 19) but is at (13, 19) at time 57\n",
      "Error ! agent  7 is supposed to be at cell (49, 18) but is at (8, 1) at time 57\n",
      "Error ! agent  9 is supposed to be at cell (0, 37) but is at (0, 35) at time 57\n",
      "Error ! agent  10 is supposed to be at cell (48, 23) but is at (46, 2) at time 57\n",
      "Error ! agent  11 is supposed to be at cell (33, 26) but is at (23, 23) at time 57\n",
      "Error ! agent  1 is supposed to be at cell (26, 44) but is at (0, 36) at time 58\n",
      "Error ! agent  5 is supposed to be at cell (21, 23) but is at (23, 22) at time 58\n",
      "Error ! agent  6 is supposed to be at cell (49, 20) but is at (14, 19) at time 58\n",
      "Error ! agent  7 is supposed to be at cell (48, 18) but is at (7, 1) at time 58\n",
      "Error ! agent  9 is supposed to be at cell (0, 36) but is at (0, 35) at time 58\n",
      "Error ! agent  10 is supposed to be at cell (47, 23) but is at (46, 3) at time 58\n",
      "Error ! agent  11 is supposed to be at cell (34, 26) but is at (23, 23) at time 58\n",
      "Error ! agent  1 is supposed to be at cell (27, 44) but is at (0, 36) at time 59\n",
      "Error ! agent  5 is supposed to be at cell (20, 23) but is at (23, 22) at time 59\n",
      "Error ! agent  6 is supposed to be at cell (49, 21) but is at (15, 19) at time 59\n",
      "Error ! agent  7 is supposed to be at cell (47, 18) but is at (6, 1) at time 59\n",
      "Error ! agent  10 is supposed to be at cell (46, 23) but is at (46, 4) at time 59\n",
      "Error ! agent  11 is supposed to be at cell (35, 26) but is at (23, 23) at time 59\n",
      "Error ! agent  1 is supposed to be at cell (28, 44) but is at (0, 36) at time 60\n",
      "Error ! agent  5 is supposed to be at cell (19, 23) but is at (23, 22) at time 60\n",
      "Error ! agent  6 is supposed to be at cell (49, 22) but is at (16, 19) at time 60\n",
      "Error ! agent  7 is supposed to be at cell (46, 18) but is at (6, 2) at time 60\n",
      "Error ! agent  9 is supposed to be at cell (0, 34) but is at (0, 35) at time 60\n",
      "Error ! agent  10 is supposed to be at cell (45, 23) but is at (46, 5) at time 60\n",
      "Error ! agent  11 is supposed to be at cell (36, 26) but is at (23, 23) at time 60\n",
      "Error ! agent  1 is supposed to be at cell (28, 45) but is at (0, 36) at time 61\n",
      "Error ! agent  5 is supposed to be at cell (19, 24) but is at (23, 22) at time 61\n",
      "Error ! agent  6 is supposed to be at cell (49, 23) but is at (17, 19) at time 61\n",
      "Error ! agent  7 is supposed to be at cell (45, 18) but is at (6, 3) at time 61\n",
      "Error ! agent  9 is supposed to be at cell (0, 33) but is at (0, 35) at time 61\n",
      "Error ! agent  10 is supposed to be at cell (45, 24) but is at (46, 6) at time 61\n",
      "Error ! agent  11 is supposed to be at cell (36, 27) but is at (23, 23) at time 61\n",
      "Error ! agent  1 is supposed to be at cell (29, 45) but is at (0, 36) at time 62\n",
      "Error ! agent  5 is supposed to be at cell (19, 25) but is at (23, 22) at time 62\n",
      "Error ! agent  6 is supposed to be at cell (48, 23) but is at (17, 20) at time 62\n",
      "Error ! agent  7 is supposed to be at cell (44, 18) but is at (6, 4) at time 62\n",
      "Error ! agent  9 is supposed to be at cell (0, 32) but is at (0, 35) at time 62\n",
      "Error ! agent  10 is supposed to be at cell (45, 25) but is at (46, 7) at time 62\n",
      "Error ! agent  11 is supposed to be at cell (36, 28) but is at (23, 23) at time 62\n",
      "Error ! agent  1 is supposed to be at cell (30, 45) but is at (0, 36) at time 63\n",
      "Error ! agent  5 is supposed to be at cell (19, 26) but is at (23, 22) at time 63\n",
      "Error ! agent  6 is supposed to be at cell (47, 23) but is at (18, 20) at time 63\n",
      "Error ! agent  7 is supposed to be at cell (43, 18) but is at (6, 5) at time 63\n",
      "Error ! agent  9 is supposed to be at cell (0, 31) but is at (0, 35) at time 63\n",
      "Error ! agent  10 is supposed to be at cell (45, 26) but is at (46, 8) at time 63\n",
      "Error ! agent  11 is supposed to be at cell (36, 29) but is at (23, 23) at time 63\n",
      "Error ! agent  1 is supposed to be at cell (31, 45) but is at (0, 36) at time 64\n",
      "Error ! agent  5 is supposed to be at cell (19, 27) but is at (23, 22) at time 64\n",
      "Error ! agent  6 is supposed to be at cell (46, 23) but is at (19, 20) at time 64\n",
      "Error ! agent  7 is supposed to be at cell (42, 18) but is at (6, 6) at time 64\n",
      "Error ! agent  9 is supposed to be at cell (1, 31) but is at (0, 35) at time 64\n",
      "Error ! agent  10 is supposed to be at cell (45, 27) but is at (46, 9) at time 64\n",
      "Error ! agent  11 is supposed to be at cell (36, 30) but is at (23, 23) at time 64\n",
      "Error ! agent  5 is supposed to be at cell (19, 28) but is at (23, 22) at time 65\n",
      "Error ! agent  6 is supposed to be at cell (45, 23) but is at (19, 19) at time 65\n",
      "Error ! agent  7 is supposed to be at cell (41, 18) but is at (6, 7) at time 65\n",
      "Error ! agent  9 is supposed to be at cell (2, 31) but is at (0, 35) at time 65\n",
      "Error ! agent  10 is supposed to be at cell (45, 28) but is at (46, 10) at time 65\n",
      "Error ! agent  11 is supposed to be at cell (36, 31) but is at (23, 23) at time 65\n",
      "Error ! agent  5 is supposed to be at cell (19, 29) but is at (23, 22) at time 66\n",
      "Error ! agent  6 is supposed to be at cell (45, 24) but is at (20, 19) at time 66\n",
      "Error ! agent  7 is supposed to be at cell (40, 18) but is at (6, 8) at time 66\n",
      "Error ! agent  9 is supposed to be at cell (3, 31) but is at (0, 35) at time 66\n",
      "Error ! agent  10 is supposed to be at cell (45, 29) but is at (46, 11) at time 66\n",
      "Error ! agent  11 is supposed to be at cell (35, 31) but is at (23, 23) at time 66\n",
      "Error ! agent  5 is supposed to be at cell (19, 30) but is at (23, 22) at time 67\n",
      "Error ! agent  6 is supposed to be at cell (45, 25) but is at (21, 19) at time 67\n",
      "Error ! agent  7 is supposed to be at cell (39, 18) but is at (6, 9) at time 67\n",
      "Error ! agent  9 is supposed to be at cell (4, 31) but is at (0, 35) at time 67\n",
      "Error ! agent  10 is supposed to be at cell (45, 30) but is at (46, 12) at time 67\n",
      "Error ! agent  11 is supposed to be at cell (34, 31) but is at (23, 23) at time 67\n",
      "Error ! agent  4 is supposed to be at cell (23, 22) but is at (23, 21) at time 68\n",
      "Error ! agent  5 is supposed to be at cell (19, 31) but is at (23, 22) at time 68\n",
      "Error ! agent  6 is supposed to be at cell (45, 26) but is at (22, 19) at time 68\n",
      "Error ! agent  7 is supposed to be at cell (39, 19) but is at (6, 10) at time 68\n",
      "Error ! agent  9 is supposed to be at cell (5, 31) but is at (0, 35) at time 68\n",
      "Error ! agent  10 is supposed to be at cell (45, 31) but is at (47, 12) at time 68\n",
      "Error ! agent  11 is supposed to be at cell (34, 32) but is at (23, 23) at time 68\n",
      "Error ! agent  4 is supposed to be at cell (23, 23) but is at (23, 21) at time 69\n",
      "Error ! agent  5 is supposed to be at cell (19, 32) but is at (23, 22) at time 69\n",
      "Error ! agent  6 is supposed to be at cell (45, 27) but is at (23, 19) at time 69\n",
      "Error ! agent  7 is supposed to be at cell (39, 20) but is at (6, 11) at time 69\n",
      "Error ! agent  9 is supposed to be at cell (6, 31) but is at (0, 35) at time 69\n",
      "Error ! agent  10 is supposed to be at cell (45, 32) but is at (48, 12) at time 69\n",
      "Error ! agent  11 is supposed to be at cell (33, 32) but is at (23, 23) at time 69\n",
      "Error ! agent  4 is supposed to be at cell (22, 23) but is at (23, 21) at time 70\n",
      "Error ! agent  5 is supposed to be at cell (19, 33) but is at (23, 22) at time 70\n",
      "Error ! agent  6 is supposed to be at cell (45, 28) but is at (24, 19) at time 70\n",
      "Error ! agent  7 is supposed to be at cell (39, 21) but is at (6, 12) at time 70\n",
      "Error ! agent  10 is supposed to be at cell (45, 33) but is at (48, 13) at time 70\n",
      "Error ! agent  11 is supposed to be at cell (32, 32) but is at (23, 23) at time 70\n",
      "Error ! agent  4 is supposed to be at cell (21, 23) but is at (23, 21) at time 71\n",
      "Error ! agent  5 is supposed to be at cell (19, 34) but is at (23, 22) at time 71\n",
      "Error ! agent  6 is supposed to be at cell (45, 29) but is at (24, 20) at time 71\n",
      "Error ! agent  7 is supposed to be at cell (39, 22) but is at (6, 13) at time 71\n",
      "Error ! agent  10 is supposed to be at cell (45, 34) but is at (49, 13) at time 71\n",
      "Error ! agent  11 is supposed to be at cell (31, 32) but is at (23, 23) at time 71\n",
      "Error ! agent  4 is supposed to be at cell (20, 23) but is at (23, 21) at time 72\n",
      "Error ! agent  5 is supposed to be at cell (19, 35) but is at (23, 22) at time 72\n",
      "Error ! agent  6 is supposed to be at cell (45, 30) but is at (24, 21) at time 72\n",
      "Error ! agent  7 is supposed to be at cell (38, 22) but is at (5, 13) at time 72\n",
      "Error ! agent  10 is supposed to be at cell (45, 35) but is at (49, 14) at time 72\n",
      "Error ! agent  4 is supposed to be at cell (19, 23) but is at (23, 21) at time 73\n",
      "Error ! agent  5 is supposed to be at cell (19, 36) but is at (23, 22) at time 73\n",
      "Error ! agent  6 is supposed to be at cell (45, 31) but is at (25, 21) at time 73\n",
      "Error ! agent  7 is supposed to be at cell (37, 22) but is at (4, 13) at time 73\n",
      "Error ! agent  10 is supposed to be at cell (45, 36) but is at (49, 15) at time 73\n"
     ]
    },
    {
     "name": "stdout",
     "output_type": "stream",
     "text": [
      "Error ! agent  4 is supposed to be at cell (19, 24) but is at (23, 21) at time 74\n",
      "Error ! agent  5 is supposed to be at cell (19, 37) but is at (23, 22) at time 74\n",
      "Error ! agent  6 is supposed to be at cell (45, 32) but is at (26, 21) at time 74\n",
      "Error ! agent  7 is supposed to be at cell (36, 22) but is at (3, 13) at time 74\n",
      "Error ! agent  10 is supposed to be at cell (45, 37) but is at (49, 16) at time 74\n",
      "Error ! agent  4 is supposed to be at cell (19, 25) but is at (23, 21) at time 75\n",
      "Error ! agent  5 is supposed to be at cell (19, 38) but is at (23, 22) at time 75\n",
      "Error ! agent  6 is supposed to be at cell (45, 33) but is at (26, 22) at time 75\n",
      "Error ! agent  7 is supposed to be at cell (36, 23) but is at (2, 13) at time 75\n",
      "Error ! agent  10 is supposed to be at cell (45, 38) but is at (49, 17) at time 75\n",
      "Error ! agent  4 is supposed to be at cell (19, 26) but is at (23, 21) at time 76\n",
      "Error ! agent  5 is supposed to be at cell (19, 39) but is at (23, 22) at time 76\n",
      "Error ! agent  6 is supposed to be at cell (45, 34) but is at (26, 23) at time 76\n",
      "Error ! agent  7 is supposed to be at cell (35, 23) but is at (1, 13) at time 76\n",
      "Error ! agent  10 is supposed to be at cell (45, 39) but is at (49, 18) at time 76\n",
      "Error ! agent  4 is supposed to be at cell (19, 27) but is at (23, 21) at time 77\n",
      "Error ! agent  5 is supposed to be at cell (20, 39) but is at (23, 22) at time 77\n",
      "Error ! agent  6 is supposed to be at cell (45, 35) but is at (27, 23) at time 77\n",
      "Error ! agent  7 is supposed to be at cell (34, 23) but is at (1, 14) at time 77\n",
      "Error ! agent  10 is supposed to be at cell (46, 39) but is at (48, 18) at time 77\n",
      "Error ! agent  4 is supposed to be at cell (19, 28) but is at (23, 21) at time 78\n",
      "Error ! agent  5 is supposed to be at cell (21, 39) but is at (23, 22) at time 78\n",
      "Error ! agent  6 is supposed to be at cell (45, 36) but is at (28, 23) at time 78\n",
      "Error ! agent  7 is supposed to be at cell (33, 23) but is at (1, 15) at time 78\n",
      "Error ! agent  10 is supposed to be at cell (47, 39) but is at (47, 18) at time 78\n",
      "Error ! agent  4 is supposed to be at cell (19, 29) but is at (23, 21) at time 79\n",
      "Error ! agent  5 is supposed to be at cell (22, 39) but is at (23, 22) at time 79\n",
      "Error ! agent  6 is supposed to be at cell (45, 37) but is at (29, 23) at time 79\n",
      "Error ! agent  7 is supposed to be at cell (33, 22) but is at (1, 16) at time 79\n",
      "Error ! agent  10 is supposed to be at cell (48, 39) but is at (46, 18) at time 79\n",
      "Error ! agent  4 is supposed to be at cell (19, 30) but is at (23, 21) at time 80\n",
      "Error ! agent  5 is supposed to be at cell (23, 39) but is at (23, 22) at time 80\n",
      "Error ! agent  6 is supposed to be at cell (45, 38) but is at (30, 23) at time 80\n",
      "Error ! agent  7 is supposed to be at cell (33, 21) but is at (1, 17) at time 80\n",
      "Error ! agent  10 is supposed to be at cell (49, 39) but is at (45, 18) at time 80\n",
      "Error ! agent  4 is supposed to be at cell (19, 31) but is at (23, 21) at time 81\n",
      "Error ! agent  5 is supposed to be at cell (23, 40) but is at (23, 22) at time 81\n",
      "Error ! agent  6 is supposed to be at cell (45, 39) but is at (31, 23) at time 81\n",
      "Error ! agent  7 is supposed to be at cell (33, 20) but is at (1, 18) at time 81\n",
      "Error ! agent  10 is supposed to be at cell (49, 40) but is at (44, 18) at time 81\n",
      "Error ! agent  4 is supposed to be at cell (19, 32) but is at (23, 21) at time 82\n",
      "Error ! agent  5 is supposed to be at cell (23, 41) but is at (23, 22) at time 82\n",
      "Error ! agent  6 is supposed to be at cell (46, 39) but is at (31, 22) at time 82\n",
      "Error ! agent  7 is supposed to be at cell (33, 19) but is at (1, 19) at time 82\n",
      "Error ! agent  10 is supposed to be at cell (49, 41) but is at (43, 18) at time 82\n",
      "Error ! agent  4 is supposed to be at cell (19, 33) but is at (23, 21) at time 83\n",
      "Error ! agent  5 is supposed to be at cell (23, 42) but is at (23, 22) at time 83\n",
      "Error ! agent  6 is supposed to be at cell (47, 39) but is at (31, 21) at time 83\n",
      "Error ! agent  7 is supposed to be at cell (33, 18) but is at (1, 20) at time 83\n",
      "Error ! agent  10 is supposed to be at cell (49, 42) but is at (42, 18) at time 83\n",
      "Error ! agent  4 is supposed to be at cell (19, 34) but is at (23, 21) at time 84\n",
      "Error ! agent  5 is supposed to be at cell (23, 43) but is at (23, 22) at time 84\n",
      "Error ! agent  6 is supposed to be at cell (48, 39) but is at (31, 20) at time 84\n",
      "Error ! agent  7 is supposed to be at cell (33, 17) but is at (1, 21) at time 84\n",
      "Error ! agent  10 is supposed to be at cell (49, 43) but is at (41, 18) at time 84\n",
      "Error ! agent  4 is supposed to be at cell (19, 35) but is at (23, 21) at time 85\n",
      "Error ! agent  5 is supposed to be at cell (23, 44) but is at (23, 22) at time 85\n",
      "Error ! agent  6 is supposed to be at cell (49, 39) but is at (31, 19) at time 85\n",
      "Error ! agent  7 is supposed to be at cell (32, 17) but is at (2, 21) at time 85\n",
      "Error ! agent  10 is supposed to be at cell (49, 44) but is at (40, 18) at time 85\n",
      "Error ! agent  4 is supposed to be at cell (19, 36) but is at (23, 21) at time 86\n",
      "Error ! agent  5 is supposed to be at cell (22, 44) but is at (23, 22) at time 86\n",
      "Error ! agent  6 is supposed to be at cell (49, 40) but is at (31, 18) at time 86\n",
      "Error ! agent  7 is supposed to be at cell (32, 16) but is at (3, 21) at time 86\n",
      "Error ! agent  10 is supposed to be at cell (48, 44) but is at (40, 18) at time 86\n",
      "Error ! agent  4 is supposed to be at cell (20, 36) but is at (23, 21) at time 87\n",
      "Error ! agent  5 is supposed to be at cell (21, 44) but is at (23, 22) at time 87\n",
      "Error ! agent  6 is supposed to be at cell (49, 41) but is at (31, 17) at time 87\n",
      "Error ! agent  7 is supposed to be at cell (32, 15) but is at (4, 21) at time 87\n",
      "Error ! agent  10 is supposed to be at cell (47, 44) but is at (40, 18) at time 87\n",
      "Error ! agent  4 is supposed to be at cell (21, 36) but is at (23, 21) at time 88\n",
      "Error ! agent  5 is supposed to be at cell (21, 45) but is at (23, 22) at time 88\n",
      "Error ! agent  6 is supposed to be at cell (49, 42) but is at (31, 16) at time 88\n",
      "Error ! agent  7 is supposed to be at cell (32, 14) but is at (5, 21) at time 88\n",
      "Error ! agent  10 is supposed to be at cell (46, 44) but is at (40, 18) at time 88\n",
      "Error ! agent  4 is supposed to be at cell (22, 36) but is at (23, 21) at time 89\n",
      "Error ! agent  5 is supposed to be at cell (20, 45) but is at (23, 22) at time 89\n",
      "Error ! agent  6 is supposed to be at cell (49, 43) but is at (31, 15) at time 89\n",
      "Error ! agent  7 is supposed to be at cell (32, 13) but is at (6, 21) at time 89\n",
      "Error ! agent  10 is supposed to be at cell (45, 44) but is at (40, 18) at time 89\n",
      "Error ! agent  4 is supposed to be at cell (23, 36) but is at (23, 21) at time 90\n",
      "Error ! agent  5 is supposed to be at cell (19, 45) but is at (23, 22) at time 90\n",
      "Error ! agent  6 is supposed to be at cell (49, 44) but is at (31, 14) at time 90\n",
      "Error ! agent  7 is supposed to be at cell (32, 12) but is at (7, 21) at time 90\n",
      "Error ! agent  10 is supposed to be at cell (44, 44) but is at (40, 18) at time 90\n",
      "Error ! agent  4 is supposed to be at cell (23, 35) but is at (23, 21) at time 91\n",
      "Error ! agent  5 is supposed to be at cell (18, 45) but is at (23, 22) at time 91\n",
      "Error ! agent  6 is supposed to be at cell (49, 45) but is at (31, 13) at time 91\n",
      "Error ! agent  7 is supposed to be at cell (32, 11) but is at (8, 21) at time 91\n",
      "Error ! agent  10 is supposed to be at cell (43, 44) but is at (40, 18) at time 91\n",
      "Error ! agent  4 is supposed to be at cell (23, 34) but is at (23, 21) at time 92\n",
      "Error ! agent  6 is supposed to be at cell (48, 45) but is at (31, 12) at time 92\n",
      "Error ! agent  7 is supposed to be at cell (31, 11) but is at (9, 21) at time 92\n",
      "Error ! agent  10 is supposed to be at cell (42, 44) but is at (40, 18) at time 92\n",
      "Error ! agent  4 is supposed to be at cell (24, 34) but is at (23, 21) at time 93\n",
      "Error ! agent  6 is supposed to be at cell (47, 45) but is at (31, 11) at time 93\n",
      "Error ! agent  7 is supposed to be at cell (31, 12) but is at (10, 21) at time 93\n",
      "Error ! agent  10 is supposed to be at cell (41, 44) but is at (40, 18) at time 93\n",
      "Error ! agent  4 is supposed to be at cell (25, 34) but is at (23, 21) at time 94\n",
      "Error ! agent  6 is supposed to be at cell (46, 45) but is at (31, 10) at time 94\n",
      "Error ! agent  7 is supposed to be at cell (31, 13) but is at (11, 21) at time 94\n",
      "Error ! agent  10 is supposed to be at cell (40, 44) but is at (40, 18) at time 94\n",
      "Error ! agent  4 is supposed to be at cell (25, 33) but is at (23, 21) at time 95\n",
      "Error ! agent  6 is supposed to be at cell (45, 45) but is at (31, 9) at time 95\n",
      "Error ! agent  7 is supposed to be at cell (31, 14) but is at (12, 21) at time 95\n",
      "Error ! agent  10 is supposed to be at cell (39, 44) but is at (40, 18) at time 95\n"
     ]
    },
    {
     "name": "stdout",
     "output_type": "stream",
     "text": [
      "Error ! agent  4 is supposed to be at cell (25, 32) but is at (23, 21) at time 96\n",
      "Error ! agent  6 is supposed to be at cell (44, 45) but is at (31, 8) at time 96\n",
      "Error ! agent  7 is supposed to be at cell (31, 15) but is at (13, 21) at time 96\n",
      "Error ! agent  10 is supposed to be at cell (38, 44) but is at (40, 18) at time 96\n",
      "Error ! agent  4 is supposed to be at cell (26, 32) but is at (23, 21) at time 97\n",
      "Error ! agent  7 is supposed to be at cell (31, 16) but is at (13, 20) at time 97\n",
      "Error ! agent  10 is supposed to be at cell (37, 44) but is at (40, 18) at time 97\n",
      "Error ! agent  4 is supposed to be at cell (27, 32) but is at (23, 21) at time 98\n",
      "Error ! agent  7 is supposed to be at cell (31, 17) but is at (13, 19) at time 98\n",
      "Error ! agent  10 is supposed to be at cell (36, 44) but is at (40, 18) at time 98\n",
      "Error ! agent  4 is supposed to be at cell (28, 32) but is at (23, 21) at time 99\n",
      "Error ! agent  7 is supposed to be at cell (31, 18) but is at (14, 19) at time 99\n",
      "Error ! agent  10 is supposed to be at cell (35, 44) but is at (40, 18) at time 99\n",
      "Error ! agent  4 is supposed to be at cell (29, 32) but is at (23, 21) at time 100\n",
      "Error ! agent  7 is supposed to be at cell (31, 19) but is at (15, 19) at time 100\n",
      "Error ! agent  10 is supposed to be at cell (34, 44) but is at (40, 18) at time 100\n",
      "Error ! agent  4 is supposed to be at cell (30, 32) but is at (23, 21) at time 101\n",
      "Error ! agent  7 is supposed to be at cell (31, 20) but is at (16, 19) at time 101\n",
      "Error ! agent  10 is supposed to be at cell (34, 45) but is at (40, 18) at time 101\n",
      "Error ! agent  4 is supposed to be at cell (31, 32) but is at (23, 21) at time 102\n",
      "Error ! agent  7 is supposed to be at cell (31, 21) but is at (17, 19) at time 102\n",
      "Error ! agent  10 is supposed to be at cell (33, 45) but is at (40, 18) at time 102\n",
      "Error ! agent  4 is supposed to be at cell (32, 32) but is at (23, 21) at time 103\n",
      "Error ! agent  7 is supposed to be at cell (31, 22) but is at (18, 19) at time 103\n",
      "Error ! agent  10 is supposed to be at cell (32, 45) but is at (40, 18) at time 103\n",
      "Error ! agent  4 is supposed to be at cell (33, 32) but is at (23, 21) at time 104\n",
      "Error ! agent  7 is supposed to be at cell (31, 23) but is at (19, 19) at time 104\n",
      "Error ! agent  10 is supposed to be at cell (31, 45) but is at (40, 18) at time 104\n",
      "Error ! agent  4 is supposed to be at cell (34, 32) but is at (23, 21) at time 105\n",
      "Error ! agent  7 is supposed to be at cell (30, 23) but is at (20, 19) at time 105\n",
      "Error ! agent  4 is supposed to be at cell (35, 32) but is at (23, 21) at time 106\n",
      "Error ! agent  7 is supposed to be at cell (29, 23) but is at (21, 19) at time 106\n",
      "Error ! agent  4 is supposed to be at cell (36, 32) but is at (23, 21) at time 107\n",
      "Error ! agent  7 is supposed to be at cell (28, 23) but is at (22, 19) at time 107\n",
      "Error ! agent  4 is supposed to be at cell (37, 32) but is at (23, 21) at time 108\n",
      "Error ! agent  7 is supposed to be at cell (27, 23) but is at (23, 19) at time 108\n",
      "Error ! agent  4 is supposed to be at cell (37, 33) but is at (23, 21) at time 109\n",
      "Error ! agent  7 is supposed to be at cell (26, 23) but is at (24, 19) at time 109\n",
      "Error ! agent  4 is supposed to be at cell (37, 34) but is at (23, 21) at time 110\n",
      "Error ! agent  7 is supposed to be at cell (26, 22) but is at (24, 20) at time 110\n",
      "Error ! agent  4 is supposed to be at cell (38, 34) but is at (23, 21) at time 111\n",
      "Error ! agent  7 is supposed to be at cell (25, 22) but is at (24, 21) at time 111\n",
      "Error ! agent  4 is supposed to be at cell (39, 34) but is at (23, 21) at time 112\n",
      "Error ! agent  7 is supposed to be at cell (24, 22) but is at (25, 21) at time 112\n",
      "Error ! agent  4 is supposed to be at cell (39, 35) but is at (23, 21) at time 113\n",
      "Error ! agent  7 is supposed to be at cell (23, 22) but is at (26, 21) at time 113\n",
      "Error ! agent  4 is supposed to be at cell (39, 36) but is at (23, 21) at time 114\n",
      "Error ! agent  7 is supposed to be at cell (23, 21) but is at (26, 22) at time 114\n",
      "Error ! agent  4 is supposed to be at cell (40, 36) but is at (23, 21) at time 115\n",
      "Error ! agent  7 is supposed to be at cell (23, 20) but is at (26, 23) at time 115\n",
      "Error ! agent  4 is supposed to be at cell (41, 36) but is at (23, 21) at time 116\n",
      "Error ! agent  7 is supposed to be at cell (23, 19) but is at (27, 23) at time 116\n",
      "Error ! agent  4 is supposed to be at cell (42, 36) but is at (23, 21) at time 117\n",
      "Error ! agent  7 is supposed to be at cell (22, 19) but is at (28, 23) at time 117\n",
      "Error ! agent  4 is supposed to be at cell (43, 36) but is at (23, 21) at time 118\n",
      "Error ! agent  7 is supposed to be at cell (21, 19) but is at (29, 23) at time 118\n",
      "Error ! agent  4 is supposed to be at cell (44, 36) but is at (23, 21) at time 119\n",
      "Error ! agent  7 is supposed to be at cell (20, 19) but is at (30, 23) at time 119\n",
      "Error ! agent  4 is supposed to be at cell (44, 35) but is at (23, 21) at time 120\n",
      "Error ! agent  7 is supposed to be at cell (19, 19) but is at (31, 23) at time 120\n",
      "Error ! agent  4 is supposed to be at cell (44, 34) but is at (23, 21) at time 121\n",
      "Error ! agent  7 is supposed to be at cell (18, 19) but is at (31, 22) at time 121\n",
      "Error ! agent  4 is supposed to be at cell (44, 33) but is at (23, 21) at time 122\n",
      "Error ! agent  7 is supposed to be at cell (17, 19) but is at (31, 21) at time 122\n",
      "Error ! agent  4 is supposed to be at cell (44, 32) but is at (23, 21) at time 123\n",
      "Error ! agent  7 is supposed to be at cell (16, 19) but is at (31, 20) at time 123\n",
      "Error ! agent  4 is supposed to be at cell (44, 31) but is at (23, 21) at time 124\n",
      "Error ! agent  7 is supposed to be at cell (15, 19) but is at (31, 19) at time 124\n",
      "Error ! agent  7 is supposed to be at cell (14, 19) but is at (31, 18) at time 125\n",
      "Error ! agent  7 is supposed to be at cell (13, 19) but is at (31, 17) at time 126\n",
      "Error ! agent  7 is supposed to be at cell (12, 19) but is at (31, 16) at time 127\n",
      "Error ! agent  7 is supposed to be at cell (11, 19) but is at (31, 15) at time 128\n",
      "Error ! agent  7 is supposed to be at cell (10, 19) but is at (31, 14) at time 129\n",
      "Error ! agent  7 is supposed to be at cell (9, 19) but is at (31, 13) at time 130\n",
      "Error ! agent  7 is supposed to be at cell (9, 20) but is at (31, 12) at time 131\n",
      "Error ! agent  7 is supposed to be at cell (8, 20) but is at (31, 11) at time 132\n",
      "Error ! agent  7 is supposed to be at cell (7, 20) but is at (31, 10) at time 133\n",
      "Error ! agent  7 is supposed to be at cell (7, 21) but is at (31, 9) at time 134\n",
      "Error ! agent  7 is supposed to be at cell (6, 21) but is at (32, 9) at time 135\n"
     ]
    }
   ],
   "source": [
    "solver.run(env,env_renderer)"
   ]
  },
  {
   "cell_type": "code",
   "execution_count": null,
   "metadata": {},
   "outputs": [],
   "source": [
    "env_renderer.render_env(show = True,show_predictions=False,show_observations= False)"
   ]
  },
  {
   "cell_type": "code",
   "execution_count": null,
   "metadata": {
    "scrolled": false
   },
   "outputs": [],
   "source": [
    "env.agents"
   ]
  },
  {
   "cell_type": "code",
   "execution_count": null,
   "metadata": {},
   "outputs": [],
   "source": [
    "solver.solution_cell[0][0] = (9,8)"
   ]
  },
  {
   "cell_type": "code",
   "execution_count": null,
   "metadata": {},
   "outputs": [],
   "source": [
    "_ = env.step({0:4,1:2,2:4})\n",
    "_ = env.step({0:4,1:2,2:4})\n",
    "_ = env.step({0:1,1:4,2:1})"
   ]
  },
  {
   "cell_type": "code",
   "execution_count": null,
   "metadata": {},
   "outputs": [],
   "source": [
    " _ = env.step({i:1 for i in range(3)})"
   ]
  },
  {
   "cell_type": "code",
   "execution_count": null,
   "metadata": {},
   "outputs": [],
   "source": [
    "env_renderer.render_env(show=True, \n",
    "                            show_predictions=False, \n",
    "                            show_observations=False)"
   ]
  },
  {
   "cell_type": "code",
   "execution_count": null,
   "metadata": {},
   "outputs": [],
   "source": [
    "for k in range(number_agents):\n",
    "    _ = env.step({k:1})\n",
    "    env_renderer.render_env(show=True, \n",
    "                            show_predictions=False, \n",
    "                            show_observations=False)\n",
    "    #_ = env.step({k:actions_list[k][0]})\n",
    "    env_renderer.render_env(show=True, \n",
    "                            show_predictions=False, \n",
    "                            show_observations=False)"
   ]
  },
  {
   "cell_type": "code",
   "execution_count": null,
   "metadata": {},
   "outputs": [],
   "source": [
    "_ = env.step({})\n",
    "env_renderer.render_env(show=True, show_predictions=False, show_observations=False)"
   ]
  },
  {
   "cell_type": "code",
   "execution_count": null,
   "metadata": {},
   "outputs": [],
   "source": [
    "env_renderer.render_env(show=True, show_predictions=False, show_observations=False)"
   ]
  },
  {
   "cell_type": "code",
   "execution_count": null,
   "metadata": {},
   "outputs": [],
   "source": [
    "actions_list = [actions_for_path(path, env.agents[k].direction) for k, path in solver.solution_cell.items()]"
   ]
  },
  {
   "cell_type": "code",
   "execution_count": null,
   "metadata": {},
   "outputs": [],
   "source": [
    "setup_env(env,[p for _,p in solver.solution_cell.items()],actions_list)"
   ]
  },
  {
   "cell_type": "code",
   "execution_count": null,
   "metadata": {},
   "outputs": [],
   "source": [
    "check_position(1,env,[p for _,p in solver.solution_cell.items()])"
   ]
  },
  {
   "cell_type": "code",
   "execution_count": null,
   "metadata": {},
   "outputs": [],
   "source": [
    "i = 1"
   ]
  },
  {
   "cell_type": "code",
   "execution_count": null,
   "metadata": {},
   "outputs": [],
   "source": [
    "actions_dict = {k:actions_list[k][i] for k in range(3) if len(actions_list[k])>i}\n",
    "env.step(actions_dict)\n",
    "check_position(i+1,env,[p for _,p in solver.solution_cell.items()])\n",
    "env_renderer.render_env(show=True, show_predictions=False, \n",
    "                        show_observations=False)\n",
    "i += 1"
   ]
  },
  {
   "cell_type": "code",
   "execution_count": null,
   "metadata": {},
   "outputs": [],
   "source": [
    "env.agents"
   ]
  },
  {
   "cell_type": "code",
   "execution_count": null,
   "metadata": {},
   "outputs": [],
   "source": [
    "i"
   ]
  },
  {
   "cell_type": "code",
   "execution_count": null,
   "metadata": {},
   "outputs": [],
   "source": [
    "env.agents[0].position"
   ]
  },
  {
   "cell_type": "code",
   "execution_count": null,
   "metadata": {},
   "outputs": [],
   "source": [
    "solver.solution_cell[0]"
   ]
  },
  {
   "cell_type": "code",
   "execution_count": null,
   "metadata": {},
   "outputs": [],
   "source": [
    "[len(p) for p in actions_list]"
   ]
  },
  {
   "cell_type": "code",
   "execution_count": null,
   "metadata": {},
   "outputs": [],
   "source": [
    "walk_path(env,env_renderer,path_faulty,1)"
   ]
  },
  {
   "cell_type": "code",
   "execution_count": null,
   "metadata": {},
   "outputs": [],
   "source": [
    "path_faulty = solver.solution_cell[1]"
   ]
  },
  {
   "cell_type": "code",
   "execution_count": null,
   "metadata": {},
   "outputs": [],
   "source": [
    "from src.navigation.navigation_path import *"
   ]
  },
  {
   "cell_type": "code",
   "execution_count": null,
   "metadata": {},
   "outputs": [],
   "source": [
    "actions = actions_for_path(path_faulty,env.agents[1].direction)"
   ]
  },
  {
   "cell_type": "code",
   "execution_count": null,
   "metadata": {},
   "outputs": [],
   "source": [
    "print(actions)"
   ]
  },
  {
   "cell_type": "code",
   "execution_count": null,
   "metadata": {},
   "outputs": [],
   "source": [
    "_= env.step({1:1})\n",
    "i = 0"
   ]
  },
  {
   "cell_type": "code",
   "execution_count": null,
   "metadata": {},
   "outputs": [],
   "source": [
    "_ = env.step({1:actions[i]})\n",
    "print(actions[i])\n",
    "env_renderer.render_env(show=True, \n",
    "                        show_predictions=False, \n",
    "                        show_observations=False)\n",
    "i += 1"
   ]
  },
  {
   "cell_type": "code",
   "execution_count": null,
   "metadata": {
    "scrolled": true
   },
   "outputs": [],
   "source": [
    "solver.solution_cell"
   ]
  },
  {
   "cell_type": "code",
   "execution_count": null,
   "metadata": {
    "scrolled": false
   },
   "outputs": [],
   "source": [
    "cost = 0\n",
    "for p in solver.initialSolutionGenerator.solution:\n",
    "    cost += len(p)\n",
    "    \n",
    "print(cost)"
   ]
  },
  {
   "cell_type": "code",
   "execution_count": null,
   "metadata": {},
   "outputs": [],
   "source": [
    "env.agents"
   ]
  },
  {
   "cell_type": "code",
   "execution_count": null,
   "metadata": {
    "scrolled": true
   },
   "outputs": [],
   "source": [
    "solver.solution_cell"
   ]
  },
  {
   "cell_type": "code",
   "execution_count": null,
   "metadata": {},
   "outputs": [],
   "source": [
    "env.agents"
   ]
  },
  {
   "cell_type": "code",
   "execution_count": null,
   "metadata": {},
   "outputs": [],
   "source": [
    "solver.solution_cell[]"
   ]
  },
  {
   "cell_type": "code",
   "execution_count": null,
   "metadata": {
    "scrolled": false
   },
   "outputs": [],
   "source": [
    "longest = 0\n",
    "for agent,path in solver.solution_cell.items():\n",
    "        longest = max(longest,len(path))\n"
   ]
  },
  {
   "cell_type": "code",
   "execution_count": null,
   "metadata": {},
   "outputs": [],
   "source": [
    "pathsSameSize = []"
   ]
  },
  {
   "cell_type": "code",
   "execution_count": null,
   "metadata": {},
   "outputs": [],
   "source": [
    "for agent,path in solver.solution_cell.items():\n",
    "    for i in range(longest-len(path)):\n",
    "        path.append(None)\n",
    "    pathsSameSize.append(path)"
   ]
  },
  {
   "cell_type": "code",
   "execution_count": null,
   "metadata": {
    "scrolled": false
   },
   "outputs": [],
   "source": [
    "for i in range(longest-1):\n",
    "    cell_used = []\n",
    "    cell_to_be_used = []\n",
    "    for p in pathsSameSize:\n",
    "        cell_used.append(p[i])\n",
    "        cell_to_be_used.append(p[i+1])\n",
    "    if len(set(cell_used)) != len(cell_used) and None not in cell_used:\n",
    "        print(\"error at time \",i)\n",
    "        print(cell_used)\n",
    "    usedattwotimestep = set(cell_used).intersection(cell_to_be_used)\n",
    "    if len(usedattwotimestep)>0:\n",
    "        for i,elt in enumerate(cell_used):\n",
    "            for j,elt2 in enumerate(cell_to_be_used):\n",
    "                if i!= j and elt2 == elt and elt2 is not None:\n",
    "                    print(\"swapping\")\n",
    "                    print(cell_used)\n",
    "                    print(cell_to_be_used)\n",
    "                    print(\"\")"
   ]
  },
  {
   "cell_type": "code",
   "execution_count": null,
   "metadata": {},
   "outputs": [],
   "source": [
    "from src.flows.PricingProblem import PricingSolver"
   ]
  },
  {
   "cell_type": "code",
   "execution_count": null,
   "metadata": {
    "scrolled": true
   },
   "outputs": [],
   "source": [
    "start = time.time()\n",
    "flag = True\n",
    "iteration = 1\n",
    "master = MasterProblem.MasterProblem(solution,constraints,find_constraints,number_agents)\n",
    "master.build()\n",
    "pricingSolver = PricingSolver(TestNetworkTime.graph,constraints,find_constraints,len(sources))\n",
    "while flag:\n",
    "    print(\"iteration \",iteration)\n",
    "    master.solveRelaxedModel()\n",
    "    duals = master.getDualVariables()\n",
    "    pathsToAdd, flag = pricingSolver.get_columns_to_add(master.getDualVariables(),master.constraintsActivated)\n",
    "    if flag:\n",
    "        #pprint.pprint(pathsToAdd)\n",
    "        print(f\" commodities with updated paths: {pathsToAdd.keys()}\")\n",
    "        iteration+= 1\n",
    "        master.addColumn(pathsToAdd)\n",
    "print(f\"column generation method took {np.round(time.time()-start,3)} sec\")"
   ]
  },
  {
   "cell_type": "code",
   "execution_count": null,
   "metadata": {
    "scrolled": true
   },
   "outputs": [],
   "source": [
    "master.relaxedModel.objVal"
   ]
  },
  {
   "cell_type": "code",
   "execution_count": null,
   "metadata": {},
   "outputs": [],
   "source": [
    "master.model.optimize()"
   ]
  },
  {
   "cell_type": "code",
   "execution_count": null,
   "metadata": {},
   "outputs": [],
   "source": [
    "master.model.objVal"
   ]
  },
  {
   "cell_type": "code",
   "execution_count": null,
   "metadata": {},
   "outputs": [],
   "source": [
    "for v in master.relaxedModel.getVars():\n",
    "    print('%s %g' % (v.varName, v.x))"
   ]
  },
  {
   "cell_type": "code",
   "execution_count": null,
   "metadata": {
    "scrolled": false
   },
   "outputs": [],
   "source": [
    "for v in master.model.getVars():\n",
    "    print('%s %g' % (v.varName, v.x))"
   ]
  },
  {
   "cell_type": "code",
   "execution_count": null,
   "metadata": {
    "scrolled": false
   },
   "outputs": [],
   "source": [
    "master.cost"
   ]
  },
  {
   "cell_type": "code",
   "execution_count": null,
   "metadata": {},
   "outputs": [],
   "source": [
    "master.model.write(\"temp/test.lp\")"
   ]
  },
  {
   "cell_type": "markdown",
   "metadata": {},
   "source": [
    "##### Test LP Formulation"
   ]
  },
  {
   "cell_type": "markdown",
   "metadata": {},
   "source": [
    "test a simple graph"
   ]
  },
  {
   "cell_type": "code",
   "execution_count": null,
   "metadata": {
    "scrolled": true
   },
   "outputs": [],
   "source": [
    "import datetime as dt\n",
    "print(dt.datetime.now())"
   ]
  },
  {
   "cell_type": "code",
   "execution_count": null,
   "metadata": {},
   "outputs": [],
   "source": [
    "constraints,findConstraints = TestNetworkTime.get_topology_network()"
   ]
  },
  {
   "cell_type": "code",
   "execution_count": null,
   "metadata": {
    "scrolled": false
   },
   "outputs": [],
   "source": [
    "mcflow = MCFlow(TestNetworkTime.graph,len(sources),constraints,integer = True)"
   ]
  },
  {
   "cell_type": "code",
   "execution_count": null,
   "metadata": {
    "scrolled": false
   },
   "outputs": [],
   "source": [
    "mcflow.solve()"
   ]
  },
  {
   "cell_type": "code",
   "execution_count": null,
   "metadata": {},
   "outputs": [],
   "source": [
    "paths = solver2.mcflow.solution_complete_edges"
   ]
  },
  {
   "cell_type": "code",
   "execution_count": null,
   "metadata": {},
   "outputs": [],
   "source": [
    "score = 0\n",
    "for _,path in paths.items():\n",
    "    score += len(path)\n",
    "    \n",
    "print(f\"score {score}\")"
   ]
  },
  {
   "cell_type": "code",
   "execution_count": null,
   "metadata": {},
   "outputs": [],
   "source": [
    "mcflow = solver2.mcflow"
   ]
  },
  {
   "cell_type": "code",
   "execution_count": null,
   "metadata": {
    "scrolled": true
   },
   "outputs": [],
   "source": [
    "paths"
   ]
  },
  {
   "cell_type": "code",
   "execution_count": null,
   "metadata": {},
   "outputs": [],
   "source": [
    "lengths = []\n",
    "pathsToAllongate = copy.deepcopy(mcflow.solution)\n",
    "for agent,path in pathsToAllongate.items():\n",
    "    lengths.append(len(path))\n",
    "    \n",
    "maxLength = max(lengths)\n",
    "for agent,path in pathsToAllongate.items():\n",
    "    for i in range(maxLength-len(path)):\n",
    "        path.append(None)\n",
    "    pathsToAllongate[agent] = path"
   ]
  },
  {
   "cell_type": "code",
   "execution_count": null,
   "metadata": {},
   "outputs": [],
   "source": [
    "dfPaths = pd.DataFrame(pathsToAllongate)\n",
    "dfPaths"
   ]
  },
  {
   "cell_type": "code",
   "execution_count": null,
   "metadata": {},
   "outputs": [],
   "source": [
    "colors = [(230, 25, 75), (60, 180, 75), (255, 225, 25), (0, 130, 200), (245, 130, 48),\n",
    "          (145, 30, 180), (70, 240, 240), (240, 50, 230), (210, 245, 60), (250, 190, 190),\n",
    "          (0, 128, 128), (230, 190, 255), (170, 110, 40), (255, 250, 200), (128, 0, 0), (170, 255, 195),\n",
    "          (128, 128, 0), (255, 215, 180), (0, 0, 128), (128, 128, 128), (255, 255, 255), (0, 0, 0)]\n",
    "colors = [(x[0]/255.,x[1]/255.,x[2]/255.) for x in colors]"
   ]
  },
  {
   "cell_type": "code",
   "execution_count": null,
   "metadata": {
    "scrolled": false
   },
   "outputs": [],
   "source": [
    "solver.transitionNetwork.show(paths = mcflow.solution_complete_edges)"
   ]
  }
 ],
 "metadata": {
  "kernelspec": {
   "display_name": "Python 3",
   "language": "python",
   "name": "python3"
  },
  "language_info": {
   "codemirror_mode": {
    "name": "ipython",
    "version": 3
   },
   "file_extension": ".py",
   "mimetype": "text/x-python",
   "name": "python",
   "nbconvert_exporter": "python",
   "pygments_lexer": "ipython3",
   "version": "3.6.9"
  }
 },
 "nbformat": 4,
 "nbformat_minor": 2
}
