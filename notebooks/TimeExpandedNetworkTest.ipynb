{
 "cells": [
  {
   "cell_type": "markdown",
   "metadata": {},
   "source": [
    "# Imports"
   ]
  },
  {
   "cell_type": "markdown",
   "metadata": {},
   "source": [
    "##### General imports"
   ]
  },
  {
   "cell_type": "code",
   "execution_count": 1,
   "metadata": {},
   "outputs": [],
   "source": [
    "%load_ext autoreload\n",
    "%autoreload 2\n",
    "import sys\n",
    "sys.path.append(\"../\")"
   ]
  },
  {
   "cell_type": "code",
   "execution_count": 2,
   "metadata": {},
   "outputs": [],
   "source": [
    "import networkx as nx\n",
    "import pandas as pd\n",
    "import matplotlib.pyplot as plt\n",
    "import copy\n",
    "from tqdm import tqdm\n",
    "import pprint"
   ]
  },
  {
   "cell_type": "markdown",
   "metadata": {},
   "source": [
    "##### Import from flatland environment "
   ]
  },
  {
   "cell_type": "code",
   "execution_count": 3,
   "metadata": {},
   "outputs": [],
   "source": [
    "from flatland.envs.rail_env import RailEnv\n",
    "from flatland.envs.observations import *\n",
    "from flatland.envs.rail_generators import complex_rail_generator,rail_from_manual_specifications_generator,random_rail_generator, RailGenerator,sparse_rail_generator\n",
    "from flatland.envs.schedule_generators import complex_schedule_generator, random_schedule_generator, ScheduleGenerator, sparse_schedule_generator\n",
    "from flatland.utils.rendertools import RenderTool, AgentRenderVariant"
   ]
  },
  {
   "cell_type": "markdown",
   "metadata": {},
   "source": [
    "##### Import from our framework"
   ]
  },
  {
   "cell_type": "code",
   "execution_count": 4,
   "metadata": {},
   "outputs": [],
   "source": [
    "from src.graph import NetworkGraph"
   ]
  },
  {
   "cell_type": "code",
   "execution_count": 5,
   "metadata": {},
   "outputs": [],
   "source": [
    "from src.flows import *"
   ]
  },
  {
   "cell_type": "markdown",
   "metadata": {},
   "source": [
    "# Test of time expanded network"
   ]
  },
  {
   "cell_type": "markdown",
   "metadata": {},
   "source": [
    "##### Create a flatland network"
   ]
  },
  {
   "cell_type": "markdown",
   "metadata": {},
   "source": [
    "sparse netwrok"
   ]
  },
  {
   "cell_type": "code",
   "execution_count": null,
   "metadata": {},
   "outputs": [],
   "source": [
    "if False:\n",
    "    number_agents = 5\n",
    "\n",
    "    size_side = 50\n",
    "    stochastic_data = {'prop_malfunction': 0.3,  # Percentage of defective agents\n",
    "                       'malfunction_rate': 30,  # Rate of malfunction occurence\n",
    "                       'min_duration': 3,  # Minimal duration of malfunction\n",
    "                       'max_duration': 20  # Max duration of malfunction\n",
    "                       }\n",
    "    speed_ration_map = {1.: 0.25,  # Fast passenger train\n",
    "                        1. / 2.: 0.25,  # Fast freight train\n",
    "                        1. / 3.: 0.25,  # Slow commuter train\n",
    "                        1. / 4.: 0.25}  # Slow freight train\n",
    "    env = RailEnv(width=size_side,\n",
    "                  height=size_side,\n",
    "                  rail_generator=sparse_rail_generator(max_num_cities=4,\n",
    "                                                       # Number of cities in map (where train stations are)\n",
    "                                                       seed=14,  # Random seed\n",
    "                                                       grid_mode=False,\n",
    "                                                       max_rails_between_cities=2,\n",
    "                                                       max_rails_in_city=8,\n",
    "                                                       ),\n",
    "                  schedule_generator=sparse_schedule_generator(speed_ration_map),\n",
    "                  number_of_agents=number_agents,\n",
    "                  stochastic_data=stochastic_data,  # Malfunction data generator\n",
    "                  obs_builder_object=GlobalObsForRailEnv(),\n",
    "                  remove_agents_at_target=True\n",
    "                  )\n",
    "\n",
    "    # RailEnv.DEPOT_POSITION = lambda agent, agent_handle : (agent_handle % env.height,0)\n",
    "    env.reset()\n",
    "\n",
    "    env_renderer = RenderTool(env,\n",
    "                              agent_render_variant=AgentRenderVariant.AGENT_SHOWS_OPTIONS_AND_BOX,\n",
    "                              show_debug=True,\n",
    "                              screen_height=1100,\n",
    "                              screen_width=1800)\n",
    "    env_renderer.reset()\n",
    "\n",
    "    env_renderer.render_env(show=True, show_observations=False, show_predictions=False)\n",
    "\n"
   ]
  },
  {
   "cell_type": "markdown",
   "metadata": {},
   "source": [
    "usual network"
   ]
  },
  {
   "cell_type": "code",
   "execution_count": 6,
   "metadata": {},
   "outputs": [],
   "source": [
    "number_agents = 50\n",
    "\n",
    "size_side = 50\n",
    "env = RailEnv(width=size_side,\n",
    "              height=size_side,\n",
    "              rail_generator=complex_rail_generator(nr_start_goal=number_agents, nr_extra=1, \n",
    "                                                    min_dist=6, max_dist=99999, \n",
    "                                                    seed = np.random.randint(0,2000)),\n",
    "              schedule_generator=complex_schedule_generator(),\n",
    "              number_of_agents=number_agents,\n",
    "              obs_builder_object=GlobalObsForRailEnv())\n",
    "\n",
    "env.reset()\n",
    "\n",
    "\n",
    "\n",
    "env_renderer = RenderTool(env)\n",
    "env_renderer.render_env(show=True, show_predictions=False, show_observations=False)"
   ]
  },
  {
   "cell_type": "code",
   "execution_count": 7,
   "metadata": {},
   "outputs": [],
   "source": [
    "matrix_rail = np.array(env.rail.grid.tolist())\n",
    "flatlandNetwork = NetworkGraph(matrix_rail,[(0,1)],[(1,0)])"
   ]
  },
  {
   "cell_type": "code",
   "execution_count": 8,
   "metadata": {},
   "outputs": [],
   "source": [
    "sources = []\n",
    "sinks = []\n",
    "directions = []\n",
    "for agent in env.agents:\n",
    "    sources.append(agent.initial_position)\n",
    "    sinks.append(agent.target)\n",
    "    try:\n",
    "        directions.append(agent.direction)\n",
    "    except:\n",
    "        pass"
   ]
  },
  {
   "cell_type": "code",
   "execution_count": 9,
   "metadata": {},
   "outputs": [],
   "source": [
    "if len(directions) == 0:\n",
    "    directions = None"
   ]
  },
  {
   "cell_type": "markdown",
   "metadata": {},
   "source": [
    "##### create a time expanded network"
   ]
  },
  {
   "cell_type": "code",
   "execution_count": 10,
   "metadata": {},
   "outputs": [],
   "source": [
    "import time"
   ]
  },
  {
   "cell_type": "code",
   "execution_count": 11,
   "metadata": {
    "scrolled": true
   },
   "outputs": [
    {
     "name": "stdout",
     "output_type": "stream",
     "text": [
      "time taken to build the graph: 31.811854600906372\n"
     ]
    }
   ],
   "source": [
    "start = time.time()\n",
    "TestNetworkTime = TimeNetwork(flatlandNetwork, depth=200)\n",
    "stop = time.time()\n",
    "print(f'time taken to build the graph: {stop-start}')"
   ]
  },
  {
   "cell_type": "code",
   "execution_count": 12,
   "metadata": {
    "scrolled": false
   },
   "outputs": [],
   "source": [
    "TestNetworkTime.connect_sources_and_sink(sources,sinks,directions = None)"
   ]
  },
  {
   "cell_type": "markdown",
   "metadata": {},
   "source": [
    "### create initial solution"
   ]
  },
  {
   "cell_type": "code",
   "execution_count": 13,
   "metadata": {},
   "outputs": [],
   "source": [
    "from tqdm import tqdm"
   ]
  },
  {
   "cell_type": "code",
   "execution_count": 14,
   "metadata": {},
   "outputs": [],
   "source": [
    "constraints, find_constraints = TestNetworkTime.get_topology_network()"
   ]
  },
  {
   "cell_type": "code",
   "execution_count": 15,
   "metadata": {},
   "outputs": [],
   "source": [
    "test = InitialSolutionGenerator(TestNetworkTime,constraints,find_constraints,len(sources))"
   ]
  },
  {
   "cell_type": "code",
   "execution_count": 16,
   "metadata": {
    "scrolled": false
   },
   "outputs": [
    {
     "name": "stderr",
     "output_type": "stream",
     "text": [
      "50it [17:58, 21.57s/it] \n"
     ]
    }
   ],
   "source": [
    "solution = test.getInitialSolution()"
   ]
  },
  {
   "cell_type": "code",
   "execution_count": 17,
   "metadata": {
    "scrolled": false
   },
   "outputs": [
    {
     "name": "stdout",
     "output_type": "stream",
     "text": [
      "{'not shortest path for 16': 14,\n",
      " 'not shortest path for 19': 6,\n",
      " 'not shortest path for 26': 2,\n",
      " 'not shortest path for 27': 20,\n",
      " 'not shortest path for 30': 16,\n",
      " 'not shortest path for 37': 19,\n",
      " 'not shortest path for 41': 67,\n",
      " 'not shortest path for 42': 8,\n",
      " 'not shortest path for 43': 26,\n",
      " 'not shortest path for 44': 55,\n",
      " 'not shortest path for 47': 35,\n",
      " 'not shortest path for 48': 2,\n",
      " 'not shortest path for 49': 22}\n"
     ]
    }
   ],
   "source": [
    "test.showStats()"
   ]
  },
  {
   "cell_type": "code",
   "execution_count": 18,
   "metadata": {},
   "outputs": [
    {
     "data": {
      "text/plain": [
       "50"
      ]
     },
     "execution_count": 18,
     "metadata": {},
     "output_type": "execute_result"
    }
   ],
   "source": [
    "len(solution)"
   ]
  },
  {
   "cell_type": "code",
   "execution_count": 19,
   "metadata": {},
   "outputs": [
    {
     "name": "stdout",
     "output_type": "stream",
     "text": [
      "4158\n"
     ]
    }
   ],
   "source": [
    "cost = 0\n",
    "for p in solution:\n",
    "    cost += len(p)\n",
    "    \n",
    "print(cost)"
   ]
  },
  {
   "cell_type": "code",
   "execution_count": 20,
   "metadata": {},
   "outputs": [],
   "source": [
    "from src.flows.PricingProblem import PricingSolver"
   ]
  },
  {
   "cell_type": "code",
   "execution_count": 21,
   "metadata": {
    "scrolled": true
   },
   "outputs": [
    {
     "name": "stdout",
     "output_type": "stream",
     "text": [
      "Academic license - for non-commercial use only\n",
      "iteration  1\n",
      "Optimize a model with 6060 rows, 50 columns and 6060 nonzeros\n",
      "Coefficient statistics:\n",
      "  Matrix range     [1e+00, 1e+00]\n",
      "  Objective range  [2e+01, 2e+02]\n",
      "  Bounds range     [1e+00, 1e+00]\n",
      "  RHS range        [1e+00, 1e+00]\n",
      "Presolve removed 50 rows and 6110 columns\n",
      "Presolve time: 0.01s\n",
      "Presolve: All rows and columns removed\n",
      "Iteration    Objective       Primal Inf.    Dual Inf.      Time\n",
      "       0    4.1580000e+03   0.000000e+00   0.000000e+00      0s\n",
      "\n",
      "Solved in 0 iterations and 0.01 seconds\n",
      "Optimal objective  4.158000000e+03\n",
      "certificat for ('source_16', 'sink_16'): weight is 129.0, sigma is 143.0\n",
      "certificat for ('source_19', 'sink_19'): weight is 49.0, sigma is 55.0\n",
      "certificat for ('source_26', 'sink_26'): weight is 73.0, sigma is 75.0\n",
      "certificat for ('source_27', 'sink_27'): weight is 97.0, sigma is 117.0\n",
      "certificat for ('source_30', 'sink_30'): weight is 149.0, sigma is 165.0\n",
      "certificat for ('source_37', 'sink_37'): weight is 177.0, sigma is 187.0\n",
      "certificat for ('source_41', 'sink_41'): weight is 131.0, sigma is 159.0\n",
      "certificat for ('source_42', 'sink_42'): weight is 43.0, sigma is 51.0\n",
      "certificat for ('source_43', 'sink_43'): weight is 139.0, sigma is 165.0\n",
      "certificat for ('source_44', 'sink_44'): weight is 147.0, sigma is 174.0\n",
      "certificat for ('source_47', 'sink_47'): weight is 105.0, sigma is 140.0\n",
      "certificat for ('source_48', 'sink_48'): weight is 45.0, sigma is 47.0\n",
      "certificat for ('source_49', 'sink_49'): weight is 57.0, sigma is 79.0\n",
      " commodities with updated paths: dict_keys([16, 19, 26, 27, 30, 37, 41, 42, 43, 44, 47, 48, 49])\n",
      "iteration  2\n",
      "Optimize a model with 7941 rows, 63 columns and 8052 nonzeros\n",
      "Coefficient statistics:\n",
      "  Matrix range     [1e+00, 1e+00]\n",
      "  Objective range  [2e+01, 2e+02]\n",
      "  Bounds range     [1e+00, 1e+00]\n",
      "  RHS range        [1e+00, 1e+00]\n",
      "Presolve removed 63 rows and 8004 columns\n",
      "Presolve time: 0.00s\n",
      "Presolve: All rows and columns removed\n",
      "Iteration    Objective       Primal Inf.    Dual Inf.      Time\n",
      "       0    4.1580000e+03   0.000000e+00   0.000000e+00      0s\n",
      "\n",
      "Solved in 0 iterations and 0.01 seconds\n",
      "Optimal objective  4.158000000e+03\n",
      "certificat for ('source_0', 'sink_0'): weight is 65.0, sigma is 98.0\n",
      "certificat for ('source_1', 'sink_1'): weight is 70.0, sigma is 115.0\n",
      "certificat for ('source_2', 'sink_2'): weight is 64.0, sigma is 77.0\n",
      "certificat for ('source_4', 'sink_4'): weight is 68.0, sigma is 75.0\n",
      "certificat for ('source_6', 'sink_6'): weight is 97.0, sigma is 124.0\n",
      "certificat for ('source_8', 'sink_8'): weight is 90.0, sigma is 117.0\n",
      "certificat for ('source_11', 'sink_11'): weight is 56.0, sigma is 63.0\n",
      "certificat for ('source_12', 'sink_12'): weight is 94.0, sigma is 95.0\n",
      "certificat for ('source_16', 'sink_16'): weight is 129.0, sigma is 143.0\n",
      "certificat for ('source_19', 'sink_19'): weight is 50.0, sigma is 57.0\n",
      "certificat for ('source_21', 'sink_21'): weight is 87.0, sigma is 107.0\n",
      "certificat for ('source_26', 'sink_26'): weight is 74.0, sigma is 75.0\n",
      "certificat for ('source_27', 'sink_27'): weight is 98.0, sigma is 117.0\n",
      "certificat for ('source_30', 'sink_30'): weight is 149.0, sigma is 165.0\n",
      "certificat for ('source_32', 'sink_32'): weight is 115.0, sigma is 131.0\n",
      "certificat for ('source_37', 'sink_37'): weight is 179.0, sigma is 187.0\n",
      "certificat for ('source_41', 'sink_41'): weight is 131.0, sigma is 159.0\n",
      "certificat for ('source_42', 'sink_42'): weight is 44.0, sigma is 51.0\n",
      "certificat for ('source_43', 'sink_43'): weight is 139.0, sigma is 165.0\n",
      "certificat for ('source_44', 'sink_44'): weight is 147.0, sigma is 174.0\n",
      "certificat for ('source_47', 'sink_47'): weight is 107.0, sigma is 140.0\n",
      "certificat for ('source_49', 'sink_49'): weight is 59.0, sigma is 79.0\n",
      " commodities with updated paths: dict_keys([0, 1, 2, 4, 6, 8, 11, 12, 16, 19, 21, 26, 27, 30, 32, 37, 41, 42, 43, 44, 47, 49])\n",
      "iteration  3\n",
      "Optimize a model with 9658 rows, 85 columns and 11175 nonzeros\n",
      "Coefficient statistics:\n",
      "  Matrix range     [1e+00, 1e+00]\n",
      "  Objective range  [2e+01, 2e+02]\n",
      "  Bounds range     [1e+00, 1e+00]\n",
      "  RHS range        [1e+00, 1e+00]\n",
      "Presolve removed 80 rows and 9730 columns\n",
      "Presolve time: 0.01s\n",
      "Presolved: 5 rows, 13 columns, 23 nonzeros\n",
      "\n",
      "Iteration    Objective       Primal Inf.    Dual Inf.      Time\n",
      "       0    4.0540000e+03   0.000000e+00   2.000000e+00      0s\n",
      "       2    4.0675000e+03   0.000000e+00   0.000000e+00      0s\n",
      "\n",
      "Solved in 2 iterations and 0.01 seconds\n",
      "Optimal objective  4.067500000e+03\n",
      "certificat for ('source_0', 'sink_0'): weight is 65.0, sigma is 131.0\n",
      "certificat for ('source_4', 'sink_4'): weight is 69.0, sigma is 75.0\n",
      "certificat for ('source_7', 'sink_7'): weight is 81.0, sigma is 135.0\n",
      "certificat for ('source_8', 'sink_8'): weight is 92.0, sigma is 103.5\n",
      "certificat for ('source_11', 'sink_11'): weight is 57.0, sigma is 64.0\n",
      "certificat for ('source_12', 'sink_12'): weight is 95.0, sigma is 123.0\n",
      "certificat for ('source_19', 'sink_19'): weight is 51.0, sigma is 57.0\n",
      "certificat for ('source_25', 'sink_25'): weight is 89, sigma is 153.0\n",
      "certificat for ('source_27', 'sink_27'): weight is 99.0, sigma is 117.0\n",
      "certificat for ('source_30', 'sink_30'): weight is 150.0, sigma is 165.0\n",
      "certificat for ('source_37', 'sink_37'): weight is 179.0, sigma is 233.0\n",
      "certificat for ('source_41', 'sink_41'): weight is 131.0, sigma is 159.0\n",
      "certificat for ('source_42', 'sink_42'): weight is 45.0, sigma is 51.0\n",
      "certificat for ('source_43', 'sink_43'): weight is 140.0, sigma is 185.0\n",
      "certificat for ('source_47', 'sink_47'): weight is 108.0, sigma is 140.0\n",
      "certificat for ('source_48', 'sink_48'): weight is 46.0, sigma is 47.0\n",
      " commodities with updated paths: dict_keys([0, 4, 7, 8, 11, 12, 19, 25, 27, 30, 37, 41, 42, 43, 47, 48])\n",
      "iteration  4\n",
      "Optimize a model with 10991 rows, 101 columns and 13380 nonzeros\n",
      "Coefficient statistics:\n",
      "  Matrix range     [1e+00, 1e+00]\n",
      "  Objective range  [2e+01, 2e+02]\n",
      "  Bounds range     [1e+00, 1e+00]\n",
      "  RHS range        [1e+00, 1e+00]\n",
      "Presolve removed 66 rows and 10985 columns\n",
      "Presolve time: 0.01s\n",
      "Presolved: 35 rows, 107 columns, 219 nonzeros\n",
      "\n",
      "Iteration    Objective       Primal Inf.    Dual Inf.      Time\n",
      "       0    3.6420000e+03   0.000000e+00   2.100000e+01      0s\n",
      "      18    4.0040000e+03   0.000000e+00   0.000000e+00      0s\n",
      "\n",
      "Solved in 18 iterations and 0.02 seconds\n",
      "Optimal objective  4.004000000e+03\n",
      "certificat for ('source_0', 'sink_0'): weight is 65.0, sigma is 67.0\n",
      "certificat for ('source_1', 'sink_1'): weight is 71.0, sigma is 180.0\n",
      "certificat for ('source_11', 'sink_11'): weight is 59.0, sigma is 60.0\n",
      "certificat for ('source_16', 'sink_16'): weight is 129.0, sigma is 143.0\n",
      "certificat for ('source_25', 'sink_25'): weight is 88.0, sigma is 89.0\n",
      "certificat for ('source_27', 'sink_27'): weight is 99.0, sigma is 118.0\n",
      "certificat for ('source_30', 'sink_30'): weight is 151.0, sigma is 165.0\n",
      "certificat for ('source_32', 'sink_32'): weight is 116.0, sigma is 118.0\n",
      "certificat for ('source_37', 'sink_37'): weight is 179.0, sigma is 182.0\n",
      "certificat for ('source_42', 'sink_42'): weight is 47.0, sigma is 51.0\n",
      "certificat for ('source_43', 'sink_43'): weight is 141.0, sigma is 185.0\n",
      " commodities with updated paths: dict_keys([0, 1, 11, 16, 25, 27, 30, 32, 37, 42, 43])\n",
      "iteration  5\n",
      "Optimize a model with 11814 rows, 112 columns and 15070 nonzeros\n",
      "Coefficient statistics:\n",
      "  Matrix range     [1e+00, 1e+00]\n",
      "  Objective range  [2e+01, 2e+02]\n",
      "  Bounds range     [1e+00, 1e+00]\n",
      "  RHS range        [1e+00, 1e+00]\n",
      "Presolve removed 50 rows and 11678 columns\n",
      "Presolve time: 0.01s\n",
      "Presolved: 62 rows, 248 columns, 563 nonzeros\n",
      "\n",
      "Iteration    Objective       Primal Inf.    Dual Inf.      Time\n",
      "       0    3.0680000e+03   0.000000e+00   1.300000e+01      0s\n",
      "      35    3.9570000e+03   0.000000e+00   0.000000e+00      0s\n",
      "\n",
      "Solved in 35 iterations and 0.02 seconds\n",
      "Optimal objective  3.957000000e+03\n",
      "certificat for ('source_0', 'sink_0'): weight is 64.0, sigma is 65.0\n",
      "certificat for ('source_10', 'sink_10'): weight is 109.0, sigma is 123.0\n",
      "certificat for ('source_16', 'sink_16'): weight is 129.0, sigma is 143.0\n",
      "certificat for ('source_32', 'sink_32'): weight is 117.0, sigma is 118.0\n",
      "certificat for ('source_42', 'sink_42'): weight is 46.0, sigma is 48.0\n",
      "certificat for ('source_47', 'sink_47'): weight is 106.0, sigma is 107.0\n"
     ]
    },
    {
     "name": "stdout",
     "output_type": "stream",
     "text": [
      " commodities with updated paths: dict_keys([0, 10, 16, 32, 42, 47])\n",
      "iteration  6\n",
      "Optimize a model with 12075 rows, 118 columns and 15911 nonzeros\n",
      "Coefficient statistics:\n",
      "  Matrix range     [1e+00, 1e+00]\n",
      "  Objective range  [2e+01, 2e+02]\n",
      "  Bounds range     [1e+00, 1e+00]\n",
      "  RHS range        [1e+00, 1e+00]\n",
      "Presolve removed 50 rows and 11916 columns\n",
      "Presolve time: 0.01s\n",
      "Presolved: 68 rows, 277 columns, 663 nonzeros\n",
      "\n",
      "Iteration    Objective       Primal Inf.    Dual Inf.      Time\n",
      "       0    2.9520000e+03   0.000000e+00   1.600000e+01      0s\n",
      "      28    3.9565000e+03   0.000000e+00   0.000000e+00      0s\n",
      "\n",
      "Solved in 28 iterations and 0.02 seconds\n",
      "Optimal objective  3.956500000e+03\n",
      "certificat for ('source_7', 'sink_7'): weight is 80.0, sigma is 81.0\n",
      "certificat for ('source_16', 'sink_16'): weight is 130.0, sigma is 143.0\n",
      "certificat for ('source_21', 'sink_21'): weight is 86.0, sigma is 87.0\n",
      "certificat for ('source_37', 'sink_37'): weight is 178.5, sigma is 179.5\n",
      "certificat for ('source_42', 'sink_42'): weight is 45.5, sigma is 46.5\n",
      "certificat for ('source_49', 'sink_49'): weight is 58.0, sigma is 59.0\n",
      " commodities with updated paths: dict_keys([7, 16, 21, 37, 42, 49])\n",
      "iteration  7\n",
      "Optimize a model with 12399 rows, 124 columns and 16764 nonzeros\n",
      "Coefficient statistics:\n",
      "  Matrix range     [1e+00, 1e+00]\n",
      "  Objective range  [2e+01, 2e+02]\n",
      "  Bounds range     [1e+00, 1e+00]\n",
      "  RHS range        [1e+00, 1e+00]\n",
      "Presolve removed 50 rows and 12217 columns\n",
      "Presolve time: 0.01s\n",
      "Presolved: 74 rows, 306 columns, 753 nonzeros\n",
      "\n",
      "Iteration    Objective       Primal Inf.    Dual Inf.      Time\n",
      "       0    2.8940000e+03   0.000000e+00   1.300000e+01      0s\n",
      "      31    3.9560000e+03   0.000000e+00   0.000000e+00      0s\n",
      "\n",
      "Solved in 31 iterations and 0.02 seconds\n",
      "Optimal objective  3.956000000e+03\n",
      "certificat for ('source_2', 'sink_2'): weight is 65.0, sigma is 77.0\n",
      "certificat for ('source_12', 'sink_12'): weight is 95.0, sigma is 96.0\n",
      "certificat for ('source_16', 'sink_16'): weight is 130.0, sigma is 143.0\n",
      " commodities with updated paths: dict_keys([2, 12, 16])\n",
      "iteration  8\n",
      "Optimize a model with 12607 rows, 127 columns and 17192 nonzeros\n",
      "Coefficient statistics:\n",
      "  Matrix range     [1e+00, 1e+00]\n",
      "  Objective range  [2e+01, 2e+02]\n",
      "  Bounds range     [1e+00, 1e+00]\n",
      "  RHS range        [1e+00, 1e+00]\n",
      "Presolve removed 42 rows and 12385 columns\n",
      "Presolve time: 0.01s\n",
      "Presolved: 85 rows, 349 columns, 855 nonzeros\n",
      "\n",
      "Iteration    Objective       Primal Inf.    Dual Inf.      Time\n",
      "       0    2.8760000e+03   0.000000e+00   2.600000e+01      0s\n",
      "      41    3.9560000e+03   0.000000e+00   0.000000e+00      0s\n",
      "\n",
      "Solved in 41 iterations and 0.02 seconds\n",
      "Optimal objective  3.956000000e+03\n",
      "certificat for ('source_16', 'sink_16'): weight is 131.0, sigma is 143.0\n",
      " commodities with updated paths: dict_keys([16])\n",
      "iteration  9\n",
      "Optimize a model with 12735 rows, 128 columns and 17386 nonzeros\n",
      "Coefficient statistics:\n",
      "  Matrix range     [1e+00, 1e+00]\n",
      "  Objective range  [2e+01, 2e+02]\n",
      "  Bounds range     [1e+00, 1e+00]\n",
      "  RHS range        [1e+00, 1e+00]\n",
      "Presolve removed 41 rows and 12508 columns\n",
      "Presolve time: 0.01s\n",
      "Presolved: 87 rows, 355 columns, 870 nonzeros\n",
      "\n",
      "Iteration    Objective       Primal Inf.    Dual Inf.      Time\n",
      "       0    2.7620000e+03   0.000000e+00   1.800000e+01      0s\n",
      "      33    3.9560000e+03   0.000000e+00   0.000000e+00      0s\n",
      "\n",
      "Solved in 33 iterations and 0.02 seconds\n",
      "Optimal objective  3.956000000e+03\n",
      "column generation method took 2221.051 sec\n"
     ]
    }
   ],
   "source": [
    "start = time.time()\n",
    "flag = True\n",
    "iteration = 1\n",
    "master = MasterProblem.MasterProblem(solution,constraints,find_constraints,number_agents)\n",
    "master.build()\n",
    "pricingSolver = PricingSolver(TestNetworkTime.graph,constraints,find_constraints,len(sources))\n",
    "while flag:\n",
    "    print(\"iteration \",iteration)\n",
    "    master.solveRelaxedModel()\n",
    "    duals = master.getDualVariables()\n",
    "    pathsToAdd, flag = pricingSolver.get_columns_to_add(master.getDualVariables(),master.constraintsActivated)\n",
    "    if flag:\n",
    "        #pprint.pprint(pathsToAdd)\n",
    "        print(f\" commodities with updated paths: {pathsToAdd.keys()}\")\n",
    "        iteration+= 1\n",
    "        master.addColumn(pathsToAdd)\n",
    "print(f\"column generation method took {np.round(time.time()-start,3)} sec\")"
   ]
  },
  {
   "cell_type": "code",
   "execution_count": 22,
   "metadata": {
    "scrolled": true
   },
   "outputs": [
    {
     "name": "stdout",
     "output_type": "stream",
     "text": [
      "Optimize a model with 12735 rows, 128 columns and 17386 nonzeros\n",
      "Coefficient statistics:\n",
      "  Matrix range     [1e+00, 1e+00]\n",
      "  Objective range  [2e+01, 2e+02]\n",
      "  Bounds range     [1e+00, 1e+00]\n",
      "  RHS range        [1e+00, 1e+00]\n",
      "Presolve removed 41 rows and 12508 columns\n",
      "Presolve time: 0.02s\n",
      "Presolved: 87 rows, 355 columns, 870 nonzeros\n",
      "\n",
      "Iteration    Objective       Primal Inf.    Dual Inf.      Time\n",
      "       0    2.7620000e+03   0.000000e+00   1.800000e+01      0s\n",
      "      33    3.9560000e+03   0.000000e+00   0.000000e+00      0s\n",
      "\n",
      "Solved in 33 iterations and 0.03 seconds\n",
      "Optimal objective  3.956000000e+03\n"
     ]
    }
   ],
   "source": [
    "master.solveRelaxedModel()"
   ]
  },
  {
   "cell_type": "code",
   "execution_count": 23,
   "metadata": {
    "scrolled": true
   },
   "outputs": [
    {
     "data": {
      "text/plain": [
       "3956.0"
      ]
     },
     "execution_count": 23,
     "metadata": {},
     "output_type": "execute_result"
    }
   ],
   "source": [
    "master.relaxedModel.objVal"
   ]
  },
  {
   "cell_type": "code",
   "execution_count": 24,
   "metadata": {},
   "outputs": [
    {
     "name": "stdout",
     "output_type": "stream",
     "text": [
      "Optimize a model with 12735 rows, 128 columns and 17386 nonzeros\n",
      "Variable types: 0 continuous, 128 integer (128 binary)\n",
      "Coefficient statistics:\n",
      "  Matrix range     [1e+00, 1e+00]\n",
      "  Objective range  [2e+01, 2e+02]\n",
      "  Bounds range     [1e+00, 1e+00]\n",
      "  RHS range        [1e+00, 1e+00]\n",
      "Found heuristic solution: objective 4158.0000000\n",
      "Presolve removed 12727 rows and 120 columns\n",
      "Presolve time: 0.01s\n",
      "Presolved: 8 rows, 8 columns, 21 nonzeros\n",
      "Found heuristic solution: objective 4067.0000000\n",
      "Variable types: 0 continuous, 8 integer (8 binary)\n",
      "\n",
      "Root relaxation: cutoff, 1 iterations, 0.00 seconds\n",
      "\n",
      "    Nodes    |    Current Node    |     Objective Bounds      |     Work\n",
      " Expl Unexpl |  Obj  Depth IntInf | Incumbent    BestBd   Gap | It/Node Time\n",
      "\n",
      "     0     0     cutoff    0      4067.00000 4067.00000  0.00%     -    0s\n",
      "\n",
      "Explored 0 nodes (1 simplex iterations) in 0.04 seconds\n",
      "Thread count was 4 (of 4 available processors)\n",
      "\n",
      "Solution count 2: 4067 4073 \n",
      "\n",
      "Optimal solution found (tolerance 1.00e-04)\n",
      "Best objective 4.067000000000e+03, best bound 4.067000000000e+03, gap 0.0000%\n"
     ]
    }
   ],
   "source": [
    "master.model.optimize()"
   ]
  },
  {
   "cell_type": "code",
   "execution_count": 26,
   "metadata": {},
   "outputs": [
    {
     "name": "stdout",
     "output_type": "stream",
     "text": [
      "path[0,0] 0.5\n",
      "path[1,0] 0.5\n",
      "path[2,0] 1\n",
      "path[3,0] 1\n",
      "path[4,0] 0.5\n",
      "path[5,0] 1\n",
      "path[6,0] 0\n",
      "path[7,0] 0.5\n",
      "path[8,0] 1\n",
      "path[9,0] 1\n",
      "path[10,0] 1\n",
      "path[11,0] 0.5\n",
      "path[12,0] 0.5\n",
      "path[13,0] 1\n",
      "path[14,0] 1\n",
      "path[15,0] 1\n",
      "path[16,0] 0\n",
      "path[17,0] 1\n",
      "path[18,0] 1\n",
      "path[19,0] 0\n",
      "path[20,0] 1\n",
      "path[21,0] 0.5\n",
      "path[22,0] 1\n",
      "path[23,0] 1\n",
      "path[24,0] 1\n",
      "path[25,0] 1\n",
      "path[26,0] 0.5\n",
      "path[27,0] 0\n",
      "path[28,0] 1\n",
      "path[29,0] 1\n",
      "path[30,0] 0\n",
      "path[31,0] 1\n",
      "path[32,0] 0\n",
      "path[33,0] 1\n",
      "path[34,0] 1\n",
      "path[35,0] 1\n",
      "path[36,0] 1\n",
      "path[37,0] 0\n",
      "path[38,0] 1\n",
      "path[39,0] 1\n",
      "path[40,0] 1\n",
      "path[41,0] 0\n",
      "path[42,0] 0\n",
      "path[43,0] 0\n",
      "path[44,0] 0\n",
      "path[45,0] 1\n",
      "path[46,0] 1\n",
      "path[47,0] 0\n",
      "path[48,0] 0\n",
      "path[49,0] 0\n",
      "path[16,1] 0\n",
      "path[19,1] 0.5\n",
      "path[26,1] 0.5\n",
      "path[27,1] 0.5\n",
      "path[30,1] 0\n",
      "path[37,1] 0\n",
      "path[41,1] 0\n",
      "path[42,1] 0.5\n",
      "path[43,1] 0.5\n",
      "path[44,1] 0\n",
      "path[47,1] 0.5\n",
      "path[48,1] 1\n",
      "path[49,1] 0.5\n",
      "path[0,1] 0\n",
      "path[1,1] 0\n",
      "path[2,1] 0\n",
      "path[4,1] 0\n",
      "path[6,1] 1\n",
      "path[8,1] 0\n",
      "path[11,1] 0\n",
      "path[12,1] 0\n",
      "path[16,2] 0\n",
      "path[19,2] 0\n",
      "path[21,1] 0.5\n",
      "path[26,2] 0\n",
      "path[27,2] 0\n",
      "path[30,2] 1\n",
      "path[32,1] 0\n",
      "path[37,2] 0.5\n",
      "path[41,2] 0\n",
      "path[42,2] 0\n",
      "path[43,2] 0.5\n",
      "path[44,2] 1\n",
      "path[47,2] 0.5\n",
      "path[49,2] 0.5\n",
      "path[0,2] 0\n",
      "path[4,2] 0.5\n",
      "path[7,1] 0.5\n",
      "path[8,2] 0\n",
      "path[11,2] 0.5\n",
      "path[12,2] 0\n",
      "path[19,3] 0.5\n",
      "path[25,1] 0\n",
      "path[27,3] 0.5\n",
      "path[30,3] 0\n",
      "path[37,3] 0\n",
      "path[41,3] 1\n",
      "path[42,3] 0\n",
      "path[43,3] 0\n",
      "path[47,3] 0\n",
      "path[48,2] 0\n",
      "path[0,3] 0.5\n",
      "path[1,2] 0.5\n",
      "path[11,3] 0\n",
      "path[16,3] 1\n",
      "path[25,2] 0\n",
      "path[27,4] 0\n",
      "path[30,4] 0\n",
      "path[32,2] 0\n",
      "path[37,4] 0.5\n",
      "path[42,4] 0\n",
      "path[43,4] 0\n",
      "path[0,4] 0\n",
      "path[10,1] 0\n",
      "path[16,4] 0\n",
      "path[32,3] 1\n",
      "path[42,5] 0\n",
      "path[47,4] 0\n",
      "path[7,2] 0\n",
      "path[16,5] 0\n",
      "path[21,2] 0\n",
      "path[37,5] 0\n",
      "path[42,6] 0.5\n",
      "path[49,3] 0\n",
      "path[2,2] 0\n",
      "path[12,3] 0.5\n",
      "path[16,6] 0\n",
      "path[16,7] 0\n"
     ]
    }
   ],
   "source": [
    "for v in master.relaxedModel.getVars():\n",
    "    print('%s %g' % (v.varName, v.x))"
   ]
  },
  {
   "cell_type": "code",
   "execution_count": 25,
   "metadata": {
    "scrolled": false
   },
   "outputs": [
    {
     "name": "stdout",
     "output_type": "stream",
     "text": [
      "path[0,0] 1\n",
      "path[1,0] 1\n",
      "path[2,0] 1\n",
      "path[3,0] 1\n",
      "path[4,0] 1\n",
      "path[5,0] 1\n",
      "path[6,0] -0\n",
      "path[7,0] 1\n",
      "path[8,0] 1\n",
      "path[9,0] 1\n",
      "path[10,0] 1\n",
      "path[11,0] 1\n",
      "path[12,0] 1\n",
      "path[13,0] 1\n",
      "path[14,0] 1\n",
      "path[15,0] 1\n",
      "path[16,0] 0\n",
      "path[17,0] 1\n",
      "path[18,0] 1\n",
      "path[19,0] 1\n",
      "path[20,0] 1\n",
      "path[21,0] 1\n",
      "path[22,0] 1\n",
      "path[23,0] 1\n",
      "path[24,0] 1\n",
      "path[25,0] 1\n",
      "path[26,0] 1\n",
      "path[27,0] 1\n",
      "path[28,0] 1\n",
      "path[29,0] 1\n",
      "path[30,0] 0\n",
      "path[31,0] 1\n",
      "path[32,0] 0\n",
      "path[33,0] 1\n",
      "path[34,0] 1\n",
      "path[35,0] 1\n",
      "path[36,0] 1\n",
      "path[37,0] 1\n",
      "path[38,0] 1\n",
      "path[39,0] 1\n",
      "path[40,0] 1\n",
      "path[41,0] 0\n",
      "path[42,0] 0\n",
      "path[43,0] 1\n",
      "path[44,0] 0\n",
      "path[45,0] 1\n",
      "path[46,0] 1\n",
      "path[47,0] 1\n",
      "path[48,0] 1\n",
      "path[49,0] 1\n",
      "path[16,1] 0\n",
      "path[19,1] 0\n",
      "path[26,1] 0\n",
      "path[27,1] 0\n",
      "path[30,1] 1\n",
      "path[37,1] 0\n",
      "path[41,1] 0\n",
      "path[42,1] -0\n",
      "path[43,1] 0\n",
      "path[44,1] 0\n",
      "path[47,1] 0\n",
      "path[48,1] 0\n",
      "path[49,1] 0\n",
      "path[0,1] 0\n",
      "path[1,1] 0\n",
      "path[2,1] 0\n",
      "path[4,1] 0\n",
      "path[6,1] 1\n",
      "path[8,1] 0\n",
      "path[11,1] 0\n",
      "path[12,1] 0\n",
      "path[16,2] 1\n",
      "path[19,2] 0\n",
      "path[21,1] 0\n",
      "path[26,2] 0\n",
      "path[27,2] 0\n",
      "path[30,2] 0\n",
      "path[32,1] 1\n",
      "path[37,2] 0\n",
      "path[41,2] 0\n",
      "path[42,2] 0\n",
      "path[43,2] 0\n",
      "path[44,2] 1\n",
      "path[47,2] 0\n",
      "path[49,2] 0\n",
      "path[0,2] 0\n",
      "path[4,2] 0\n",
      "path[7,1] 0\n",
      "path[8,2] 0\n",
      "path[11,2] 0\n",
      "path[12,2] 0\n",
      "path[19,3] 0\n",
      "path[25,1] 0\n",
      "path[27,3] 0\n",
      "path[30,3] 0\n",
      "path[37,3] 0\n",
      "path[41,3] 1\n",
      "path[42,3] 0\n",
      "path[43,3] 0\n",
      "path[47,3] 0\n",
      "path[48,2] 0\n",
      "path[0,3] 0\n",
      "path[1,2] 0\n",
      "path[11,3] 0\n",
      "path[16,3] 0\n",
      "path[25,2] 0\n",
      "path[27,4] 0\n",
      "path[30,4] 0\n",
      "path[32,2] 0\n",
      "path[37,4] 0\n",
      "path[42,4] -0\n",
      "path[43,4] 0\n",
      "path[0,4] 0\n",
      "path[10,1] 0\n",
      "path[16,4] 0\n",
      "path[32,3] 0\n",
      "path[42,5] 0\n",
      "path[47,4] 0\n",
      "path[7,2] 0\n",
      "path[16,5] 0\n",
      "path[21,2] 0\n",
      "path[37,5] 0\n",
      "path[42,6] 1\n",
      "path[49,3] 0\n",
      "path[2,2] 0\n",
      "path[12,3] 0\n",
      "path[16,6] 0\n",
      "path[16,7] 0\n"
     ]
    }
   ],
   "source": [
    "for v in master.model.getVars():\n",
    "    print('%s %g' % (v.varName, v.x))"
   ]
  },
  {
   "cell_type": "code",
   "execution_count": 27,
   "metadata": {
    "scrolled": false
   },
   "outputs": [
    {
     "data": {
      "text/plain": [
       "{(0, 0): 63,\n",
       " (1, 0): 69,\n",
       " (2, 0): 63,\n",
       " (3, 0): 79,\n",
       " (4, 0): 67,\n",
       " (5, 0): 65,\n",
       " (6, 0): 97,\n",
       " (7, 0): 79,\n",
       " (8, 0): 89,\n",
       " (9, 0): 93,\n",
       " (10, 0): 109,\n",
       " (11, 0): 55,\n",
       " (12, 0): 93,\n",
       " (13, 0): 79,\n",
       " (14, 0): 69,\n",
       " (15, 0): 71,\n",
       " (16, 0): 143,\n",
       " (17, 0): 99,\n",
       " (18, 0): 47,\n",
       " (19, 0): 55,\n",
       " (20, 0): 45,\n",
       " (21, 0): 85,\n",
       " (22, 0): 59,\n",
       " (23, 0): 51,\n",
       " (24, 0): 67,\n",
       " (25, 0): 87,\n",
       " (26, 0): 75,\n",
       " (27, 0): 117,\n",
       " (28, 0): 129,\n",
       " (29, 0): 21,\n",
       " (30, 0): 165,\n",
       " (31, 0): 73,\n",
       " (32, 0): 115,\n",
       " (33, 0): 61,\n",
       " (34, 0): 51,\n",
       " (35, 0): 33,\n",
       " (36, 0): 57,\n",
       " (37, 0): 187,\n",
       " (38, 0): 37,\n",
       " (39, 0): 117,\n",
       " (40, 0): 51,\n",
       " (41, 0): 159,\n",
       " (42, 0): 51,\n",
       " (43, 0): 165,\n",
       " (44, 0): 174,\n",
       " (45, 0): 33,\n",
       " (46, 0): 43,\n",
       " (47, 0): 140,\n",
       " (48, 0): 47,\n",
       " (49, 0): 79,\n",
       " (16, 1): 129,\n",
       " (19, 1): 49,\n",
       " (26, 1): 73,\n",
       " (27, 1): 97,\n",
       " (30, 1): 149,\n",
       " (37, 1): 177,\n",
       " (41, 1): 131,\n",
       " (42, 1): 43,\n",
       " (43, 1): 139,\n",
       " (44, 1): 147,\n",
       " (47, 1): 105,\n",
       " (48, 1): 45,\n",
       " (49, 1): 57,\n",
       " (0, 1): 65,\n",
       " (1, 1): 70,\n",
       " (2, 1): 64,\n",
       " (4, 1): 68,\n",
       " (6, 1): 97,\n",
       " (8, 1): 90,\n",
       " (11, 1): 56,\n",
       " (12, 1): 94,\n",
       " (16, 2): 129,\n",
       " (19, 2): 50,\n",
       " (21, 1): 87,\n",
       " (26, 2): 74,\n",
       " (27, 2): 98,\n",
       " (30, 2): 149,\n",
       " (32, 1): 115,\n",
       " (37, 2): 177,\n",
       " (41, 2): 131,\n",
       " (42, 2): 44,\n",
       " (43, 2): 139,\n",
       " (44, 2): 147,\n",
       " (47, 2): 107,\n",
       " (49, 2): 59,\n",
       " (0, 2): 65,\n",
       " (4, 2): 69,\n",
       " (7, 1): 81,\n",
       " (8, 2): 92,\n",
       " (11, 2): 57,\n",
       " (12, 2): 93,\n",
       " (19, 3): 51,\n",
       " (25, 1): 89,\n",
       " (27, 3): 99,\n",
       " (30, 3): 150,\n",
       " (37, 3): 179,\n",
       " (41, 3): 131,\n",
       " (42, 3): 45,\n",
       " (43, 3): 140,\n",
       " (47, 3): 108,\n",
       " (48, 2): 46,\n",
       " (0, 3): 65,\n",
       " (1, 2): 71,\n",
       " (11, 3): 59,\n",
       " (16, 3): 129,\n",
       " (25, 2): 88,\n",
       " (27, 4): 99,\n",
       " (30, 4): 151,\n",
       " (32, 2): 116,\n",
       " (37, 4): 179,\n",
       " (42, 4): 47,\n",
       " (43, 4): 141,\n",
       " (0, 4): 64,\n",
       " (10, 1): 109,\n",
       " (16, 4): 129,\n",
       " (32, 3): 115,\n",
       " (42, 5): 45,\n",
       " (47, 4): 106,\n",
       " (7, 2): 80,\n",
       " (16, 5): 130,\n",
       " (21, 2): 86,\n",
       " (37, 5): 178,\n",
       " (42, 6): 45,\n",
       " (49, 3): 58,\n",
       " (2, 2): 65,\n",
       " (12, 3): 95,\n",
       " (16, 6): 130,\n",
       " (16, 7): 131}"
      ]
     },
     "execution_count": 27,
     "metadata": {},
     "output_type": "execute_result"
    }
   ],
   "source": [
    "master.cost"
   ]
  },
  {
   "cell_type": "code",
   "execution_count": 28,
   "metadata": {},
   "outputs": [],
   "source": [
    "master.model.write(\"temp/test.lp\")"
   ]
  },
  {
   "cell_type": "markdown",
   "metadata": {},
   "source": [
    "##### Test LP Formulation"
   ]
  },
  {
   "cell_type": "markdown",
   "metadata": {},
   "source": [
    "test a simple graph"
   ]
  },
  {
   "cell_type": "code",
   "execution_count": null,
   "metadata": {
    "scrolled": true
   },
   "outputs": [],
   "source": [
    "import datetime as dt\n",
    "print(dt.datetime.now())"
   ]
  },
  {
   "cell_type": "code",
   "execution_count": null,
   "metadata": {},
   "outputs": [],
   "source": [
    "constraints,findConstraints = TestNetworkTime.get_topology_network()"
   ]
  },
  {
   "cell_type": "code",
   "execution_count": null,
   "metadata": {
    "scrolled": false
   },
   "outputs": [],
   "source": [
    "mcflow = MCFlow(TestNetworkTime.graph,len(sources),constraints,integer = True)"
   ]
  },
  {
   "cell_type": "code",
   "execution_count": null,
   "metadata": {
    "scrolled": false
   },
   "outputs": [],
   "source": [
    "mcflow.solve()"
   ]
  },
  {
   "cell_type": "code",
   "execution_count": null,
   "metadata": {},
   "outputs": [],
   "source": [
    "paths = mcflow.solution_complete_edges"
   ]
  },
  {
   "cell_type": "code",
   "execution_count": null,
   "metadata": {},
   "outputs": [],
   "source": [
    "score = 0\n",
    "for _,path in paths.items():\n",
    "    score += len(path)\n",
    "    \n",
    "print(f\"score {score}\")"
   ]
  },
  {
   "cell_type": "code",
   "execution_count": null,
   "metadata": {
    "scrolled": false
   },
   "outputs": [],
   "source": [
    "paths"
   ]
  },
  {
   "cell_type": "code",
   "execution_count": null,
   "metadata": {},
   "outputs": [],
   "source": [
    "lengths = []\n",
    "pathsToAllongate = copy.deepcopy(mcflow.solution)\n",
    "for agent,path in pathsToAllongate.items():\n",
    "    lengths.append(len(path))\n",
    "    \n",
    "maxLength = max(lengths)\n",
    "for agent,path in pathsToAllongate.items():\n",
    "    for i in range(maxLength-len(path)):\n",
    "        path.append(None)\n",
    "    pathsToAllongate[agent] = path"
   ]
  },
  {
   "cell_type": "code",
   "execution_count": null,
   "metadata": {},
   "outputs": [],
   "source": [
    "dfPaths = pd.DataFrame(pathsToAllongate)\n",
    "dfPaths"
   ]
  },
  {
   "cell_type": "code",
   "execution_count": null,
   "metadata": {},
   "outputs": [],
   "source": [
    "import datetime as dt\n",
    "print(dt.datetime.now())"
   ]
  },
  {
   "cell_type": "code",
   "execution_count": null,
   "metadata": {},
   "outputs": [],
   "source": [
    "colors = [(230, 25, 75), (60, 180, 75), (255, 225, 25), (0, 130, 200), (245, 130, 48),\n",
    "          (145, 30, 180), (70, 240, 240), (240, 50, 230), (210, 245, 60), (250, 190, 190),\n",
    "          (0, 128, 128), (230, 190, 255), (170, 110, 40), (255, 250, 200), (128, 0, 0), (170, 255, 195),\n",
    "          (128, 128, 0), (255, 215, 180), (0, 0, 128), (128, 128, 128), (255, 255, 255), (0, 0, 0)]\n",
    "colors = [(x[0]/255.,x[1]/255.,x[2]/255.) for x in colors]"
   ]
  },
  {
   "cell_type": "code",
   "execution_count": null,
   "metadata": {
    "scrolled": false
   },
   "outputs": [],
   "source": [
    "flatlandNetwork.show(paths = mcflow.solution_complete_edges)"
   ]
  }
 ],
 "metadata": {
  "kernelspec": {
   "display_name": "Python 3",
   "language": "python",
   "name": "python3"
  },
  "language_info": {
   "codemirror_mode": {
    "name": "ipython",
    "version": 3
   },
   "file_extension": ".py",
   "mimetype": "text/x-python",
   "name": "python",
   "nbconvert_exporter": "python",
   "pygments_lexer": "ipython3",
   "version": "3.6.9"
  }
 },
 "nbformat": 4,
 "nbformat_minor": 2
}
