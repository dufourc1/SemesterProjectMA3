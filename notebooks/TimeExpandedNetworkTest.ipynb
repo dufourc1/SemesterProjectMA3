{
 "cells": [
  {
   "cell_type": "markdown",
   "metadata": {},
   "source": [
    "# Imports"
   ]
  },
  {
   "cell_type": "markdown",
   "metadata": {},
   "source": [
    "##### General imports"
   ]
  },
  {
   "cell_type": "code",
   "execution_count": null,
   "metadata": {},
   "outputs": [],
   "source": [
    "%load_ext autoreload\n",
    "%autoreload 2\n",
    "import sys\n",
    "sys.path.append(\"../\")"
   ]
  },
  {
   "cell_type": "code",
   "execution_count": null,
   "metadata": {},
   "outputs": [],
   "source": [
    "import networkx as nx\n",
    "import pandas as pd\n",
    "import matplotlib.pyplot as plt\n",
    "import copy"
   ]
  },
  {
   "cell_type": "markdown",
   "metadata": {},
   "source": [
    "##### Import from flatland environment "
   ]
  },
  {
   "cell_type": "code",
   "execution_count": null,
   "metadata": {},
   "outputs": [],
   "source": [
    "from flatland.envs.rail_env import RailEnv\n",
    "from flatland.envs.observations import *\n",
    "from flatland.envs.rail_generators import complex_rail_generator,rail_from_manual_specifications_generator,random_rail_generator, RailGenerator\n",
    "from flatland.envs.schedule_generators import complex_schedule_generator, random_schedule_generator, ScheduleGenerator\n",
    "from flatland.utils.rendertools import RenderTool"
   ]
  },
  {
   "cell_type": "markdown",
   "metadata": {},
   "source": [
    "##### Import from our framework"
   ]
  },
  {
   "cell_type": "code",
   "execution_count": null,
   "metadata": {},
   "outputs": [],
   "source": [
    "from src.graph import NetworkGraph\n",
    "from src.flows import TimeNetwork\n",
    "from src.flows import MCFlow"
   ]
  },
  {
   "cell_type": "markdown",
   "metadata": {},
   "source": [
    "# Test of time expanded network"
   ]
  },
  {
   "cell_type": "markdown",
   "metadata": {},
   "source": [
    "##### Create a flatland network"
   ]
  },
  {
   "cell_type": "code",
   "execution_count": null,
   "metadata": {
    "scrolled": false
   },
   "outputs": [],
   "source": [
    "number_agents = 10\n",
    "\n",
    "size_side = 20\n",
    "env = RailEnv(width=size_side,\n",
    "              height=size_side,\n",
    "              rail_generator=complex_rail_generator(nr_start_goal=20, nr_extra=1, \n",
    "                                                    min_dist=6, max_dist=99999, \n",
    "                                                    seed = np.random.randint(0,2000)),\n",
    "              schedule_generator=complex_schedule_generator(),\n",
    "              number_of_agents=number_agents,\n",
    "              obs_builder_object=GlobalObsForRailEnv())\n",
    "\n",
    "env.reset()\n",
    "\n",
    "env_renderer = RenderTool(env)\n",
    "env_renderer.render_env(show=True, show_predictions=False, show_observations=False)\n",
    "\n",
    "\n",
    "matrix_rail = np.array(env.rail.grid.tolist())\n",
    "flatlandNetwork = NetworkGraph(matrix_rail,[(0,1)],[(1,0)])"
   ]
  },
  {
   "cell_type": "code",
   "execution_count": null,
   "metadata": {},
   "outputs": [],
   "source": [
    "sources = []\n",
    "sinks = []\n",
    "for agent in env.agents:\n",
    "    sources.append(agent.initial_position)\n",
    "    sinks.append(agent.target)"
   ]
  },
  {
   "cell_type": "markdown",
   "metadata": {},
   "source": [
    "##### create a time expanded network"
   ]
  },
  {
   "cell_type": "code",
   "execution_count": null,
   "metadata": {},
   "outputs": [],
   "source": [
    "import time"
   ]
  },
  {
   "cell_type": "code",
   "execution_count": null,
   "metadata": {
    "scrolled": true
   },
   "outputs": [],
   "source": [
    "start = time.time()\n",
    "TestNetworkTime = TimeNetwork(flatlandNetwork, depth=50)\n",
    "stop = time.time()\n",
    "print(f'time taken to build the graph: {stop-start}')"
   ]
  },
  {
   "cell_type": "code",
   "execution_count": null,
   "metadata": {
    "scrolled": true
   },
   "outputs": [],
   "source": [
    "TestNetworkTime.connect_sources_and_sink(sources,sinks)"
   ]
  },
  {
   "cell_type": "markdown",
   "metadata": {},
   "source": [
    "##### Test LP Formulation"
   ]
  },
  {
   "cell_type": "markdown",
   "metadata": {},
   "source": [
    "test a simple graph"
   ]
  },
  {
   "cell_type": "code",
   "execution_count": null,
   "metadata": {
    "scrolled": true
   },
   "outputs": [],
   "source": [
    "mcflow = MCFlow(TestNetworkTime.graph,len(sources),TestNetworkTime.get_topology_network())"
   ]
  },
  {
   "cell_type": "code",
   "execution_count": null,
   "metadata": {},
   "outputs": [],
   "source": [
    "mcflow.solve()"
   ]
  },
  {
   "cell_type": "code",
   "execution_count": null,
   "metadata": {},
   "outputs": [],
   "source": [
    "paths = mcflow.get_paths_solution()"
   ]
  },
  {
   "cell_type": "code",
   "execution_count": null,
   "metadata": {},
   "outputs": [],
   "source": [
    "lengths = []\n",
    "pathsToAllongate = copy.deepcopy(mcflow.solution)\n",
    "for agent,path in pathsToAllongate.items():\n",
    "    lengths.append(len(path))\n",
    "    \n",
    "maxLength = max(lengths)\n",
    "for agent,path in pathsToAllongate.items():\n",
    "    for i in range(maxLength-len(path)):\n",
    "        path.append(None)\n",
    "    pathsToAllongate[agent] = path"
   ]
  },
  {
   "cell_type": "code",
   "execution_count": null,
   "metadata": {},
   "outputs": [],
   "source": [
    "dfPaths = pd.DataFrame(pathsToAllongate)\n",
    "dfPaths"
   ]
  }
 ],
 "metadata": {
  "kernelspec": {
   "display_name": "Python 3",
   "language": "python",
   "name": "python3"
  },
  "language_info": {
   "codemirror_mode": {
    "name": "ipython",
    "version": 3
   },
   "file_extension": ".py",
   "mimetype": "text/x-python",
   "name": "python",
   "nbconvert_exporter": "python",
   "pygments_lexer": "ipython3",
   "version": "3.6.9"
  }
 },
 "nbformat": 4,
 "nbformat_minor": 2
}
