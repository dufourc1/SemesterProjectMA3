{
 "cells": [
  {
   "cell_type": "markdown",
   "metadata": {},
   "source": [
    "# Imports"
   ]
  },
  {
   "cell_type": "markdown",
   "metadata": {},
   "source": [
    "##### General imports"
   ]
  },
  {
   "cell_type": "code",
   "execution_count": 1,
   "metadata": {},
   "outputs": [],
   "source": [
    "%load_ext autoreload\n",
    "%autoreload 2\n",
    "import sys\n",
    "sys.path.append(\"../\")"
   ]
  },
  {
   "cell_type": "code",
   "execution_count": 21,
   "metadata": {},
   "outputs": [],
   "source": [
    "import networkx as nx\n",
    "import pandas as pd\n",
    "import matplotlib.pyplot as plt\n",
    "import copy\n",
    "from tqdm import tqdm\n",
    "import pprint"
   ]
  },
  {
   "cell_type": "markdown",
   "metadata": {},
   "source": [
    "##### Import from flatland environment "
   ]
  },
  {
   "cell_type": "code",
   "execution_count": 3,
   "metadata": {},
   "outputs": [],
   "source": [
    "from flatland.envs.rail_env import RailEnv\n",
    "from flatland.envs.observations import *\n",
    "from flatland.envs.rail_generators import complex_rail_generator,rail_from_manual_specifications_generator,random_rail_generator, RailGenerator,sparse_rail_generator\n",
    "from flatland.envs.schedule_generators import complex_schedule_generator, random_schedule_generator, ScheduleGenerator, sparse_schedule_generator\n",
    "from flatland.utils.rendertools import RenderTool, AgentRenderVariant"
   ]
  },
  {
   "cell_type": "markdown",
   "metadata": {},
   "source": [
    "##### Import from our framework"
   ]
  },
  {
   "cell_type": "code",
   "execution_count": 4,
   "metadata": {},
   "outputs": [],
   "source": [
    "from src.graph import NetworkGraph"
   ]
  },
  {
   "cell_type": "code",
   "execution_count": 5,
   "metadata": {},
   "outputs": [],
   "source": [
    "from src.flows import *"
   ]
  },
  {
   "cell_type": "markdown",
   "metadata": {},
   "source": [
    "# Test of time expanded network"
   ]
  },
  {
   "cell_type": "markdown",
   "metadata": {},
   "source": [
    "##### Create a flatland network"
   ]
  },
  {
   "cell_type": "markdown",
   "metadata": {},
   "source": [
    "sparse netwrok"
   ]
  },
  {
   "cell_type": "code",
   "execution_count": 6,
   "metadata": {},
   "outputs": [],
   "source": [
    "if False:\n",
    "    number_agents = 5\n",
    "\n",
    "    size_side = 50\n",
    "    stochastic_data = {'prop_malfunction': 0.3,  # Percentage of defective agents\n",
    "                       'malfunction_rate': 30,  # Rate of malfunction occurence\n",
    "                       'min_duration': 3,  # Minimal duration of malfunction\n",
    "                       'max_duration': 20  # Max duration of malfunction\n",
    "                       }\n",
    "    speed_ration_map = {1.: 0.25,  # Fast passenger train\n",
    "                        1. / 2.: 0.25,  # Fast freight train\n",
    "                        1. / 3.: 0.25,  # Slow commuter train\n",
    "                        1. / 4.: 0.25}  # Slow freight train\n",
    "    env = RailEnv(width=size_side,\n",
    "                  height=size_side,\n",
    "                  rail_generator=sparse_rail_generator(max_num_cities=4,\n",
    "                                                       # Number of cities in map (where train stations are)\n",
    "                                                       seed=14,  # Random seed\n",
    "                                                       grid_mode=False,\n",
    "                                                       max_rails_between_cities=2,\n",
    "                                                       max_rails_in_city=8,\n",
    "                                                       ),\n",
    "                  schedule_generator=sparse_schedule_generator(speed_ration_map),\n",
    "                  number_of_agents=number_agents,\n",
    "                  stochastic_data=stochastic_data,  # Malfunction data generator\n",
    "                  obs_builder_object=GlobalObsForRailEnv(),\n",
    "                  remove_agents_at_target=True\n",
    "                  )\n",
    "\n",
    "    # RailEnv.DEPOT_POSITION = lambda agent, agent_handle : (agent_handle % env.height,0)\n",
    "    env.reset()\n",
    "\n",
    "    env_renderer = RenderTool(env,\n",
    "                              agent_render_variant=AgentRenderVariant.AGENT_SHOWS_OPTIONS_AND_BOX,\n",
    "                              show_debug=True,\n",
    "                              screen_height=1100,\n",
    "                              screen_width=1800)\n",
    "    env_renderer.reset()\n",
    "\n",
    "    env_renderer.render_env(show=True, show_observations=False, show_predictions=False)\n",
    "\n"
   ]
  },
  {
   "cell_type": "markdown",
   "metadata": {},
   "source": [
    "usual network"
   ]
  },
  {
   "cell_type": "code",
   "execution_count": 7,
   "metadata": {},
   "outputs": [],
   "source": [
    "number_agents = 10\n",
    "\n",
    "size_side = 20\n",
    "env = RailEnv(width=size_side,\n",
    "              height=size_side,\n",
    "              rail_generator=complex_rail_generator(nr_start_goal=number_agents, nr_extra=1, \n",
    "                                                    min_dist=6, max_dist=99999, \n",
    "                                                    seed = np.random.randint(0,2000)),\n",
    "              schedule_generator=complex_schedule_generator(),\n",
    "              number_of_agents=number_agents,\n",
    "              obs_builder_object=GlobalObsForRailEnv())\n",
    "\n",
    "env.reset()\n",
    "\n",
    "\n",
    "\n",
    "env_renderer = RenderTool(env)\n",
    "env_renderer.render_env(show=True, show_predictions=False, show_observations=False)"
   ]
  },
  {
   "cell_type": "code",
   "execution_count": 8,
   "metadata": {},
   "outputs": [],
   "source": [
    "matrix_rail = np.array(env.rail.grid.tolist())\n",
    "flatlandNetwork = NetworkGraph(matrix_rail,[(0,1)],[(1,0)])"
   ]
  },
  {
   "cell_type": "code",
   "execution_count": 9,
   "metadata": {},
   "outputs": [],
   "source": [
    "sources = []\n",
    "sinks = []\n",
    "directions = []\n",
    "for agent in env.agents:\n",
    "    sources.append(agent.initial_position)\n",
    "    sinks.append(agent.target)\n",
    "    try:\n",
    "        directions.append(agent.direction)\n",
    "    except:\n",
    "        pass"
   ]
  },
  {
   "cell_type": "code",
   "execution_count": 10,
   "metadata": {},
   "outputs": [],
   "source": [
    "if len(directions) == 0:\n",
    "    directions = None"
   ]
  },
  {
   "cell_type": "markdown",
   "metadata": {},
   "source": [
    "##### create a time expanded network"
   ]
  },
  {
   "cell_type": "code",
   "execution_count": 11,
   "metadata": {},
   "outputs": [],
   "source": [
    "import time"
   ]
  },
  {
   "cell_type": "code",
   "execution_count": 12,
   "metadata": {
    "scrolled": true
   },
   "outputs": [
    {
     "name": "stdout",
     "output_type": "stream",
     "text": [
      "time taken to build the graph: 2.858142137527466\n"
     ]
    }
   ],
   "source": [
    "start = time.time()\n",
    "TestNetworkTime = TimeNetwork(flatlandNetwork, depth=200)\n",
    "stop = time.time()\n",
    "print(f'time taken to build the graph: {stop-start}')"
   ]
  },
  {
   "cell_type": "code",
   "execution_count": 13,
   "metadata": {
    "scrolled": false
   },
   "outputs": [],
   "source": [
    "TestNetworkTime.connect_sources_and_sink(sources,sinks,directions = None)"
   ]
  },
  {
   "cell_type": "markdown",
   "metadata": {},
   "source": [
    "### create initial solution"
   ]
  },
  {
   "cell_type": "code",
   "execution_count": 14,
   "metadata": {},
   "outputs": [],
   "source": [
    "from tqdm import tqdm"
   ]
  },
  {
   "cell_type": "code",
   "execution_count": 15,
   "metadata": {},
   "outputs": [],
   "source": [
    "constraints, find_constraints = TestNetworkTime.get_topology_network()"
   ]
  },
  {
   "cell_type": "code",
   "execution_count": 16,
   "metadata": {},
   "outputs": [],
   "source": [
    "test = InitialSolutionGenerator(TestNetworkTime,constraints,find_constraints,len(sources))"
   ]
  },
  {
   "cell_type": "code",
   "execution_count": 17,
   "metadata": {
    "scrolled": true
   },
   "outputs": [
    {
     "name": "stderr",
     "output_type": "stream",
     "text": [
      "10it [00:01,  6.22it/s]\n"
     ]
    }
   ],
   "source": [
    "solution = test.getInitialSolution()"
   ]
  },
  {
   "cell_type": "code",
   "execution_count": 18,
   "metadata": {
    "scrolled": true
   },
   "outputs": [
    {
     "name": "stdout",
     "output_type": "stream",
     "text": [
      "{'not shortest path ': 16}\n"
     ]
    }
   ],
   "source": [
    "test.showStats()"
   ]
  },
  {
   "cell_type": "code",
   "execution_count": 19,
   "metadata": {},
   "outputs": [],
   "source": [
    "from src.flows.PricingProblem import PricingSolver"
   ]
  },
  {
   "cell_type": "code",
   "execution_count": 25,
   "metadata": {
    "scrolled": true
   },
   "outputs": [
    {
     "name": "stdout",
     "output_type": "stream",
     "text": [
      "iteration  1\n",
      "Optimize a model with 559 rows, 10 columns and 559 nonzeros\n",
      "Coefficient statistics:\n",
      "  Matrix range     [1e+00, 1e+00]\n",
      "  Objective range  [2e+01, 6e+01]\n",
      "  Bounds range     [1e+00, 1e+00]\n",
      "  RHS range        [1e+00, 1e+00]\n",
      "Presolve removed 10 rows and 569 columns\n",
      "Presolve time: 0.00s\n",
      "Presolve: All rows and columns removed\n",
      "Iteration    Objective       Primal Inf.    Dual Inf.      Time\n",
      "       0    3.8800000e+02   0.000000e+00   0.000000e+00      0s\n",
      "\n",
      "Solved in 0 iterations and 0.01 seconds\n",
      "Optimal objective  3.880000000e+02\n",
      "{6: (('source_6', '(19, 15)_N_out_t0'),\n",
      "     ('(19, 15)_N_out_t0', '(18, 15)_S_in_t1'),\n",
      "     ('(18, 15)_S_in_t1', '(18, 15)_W_out_t2'),\n",
      "     ('(18, 15)_W_out_t2', '(18, 14)_E_in_t3'),\n",
      "     ('(18, 14)_E_in_t3', '(18, 14)_N_out_t4'),\n",
      "     ('(18, 14)_N_out_t4', '(17, 14)_S_in_t5'),\n",
      "     ('(17, 14)_S_in_t5', '(17, 14)_W_out_t6'),\n",
      "     ('(17, 14)_W_out_t6', '(17, 13)_E_in_t7'),\n",
      "     ('(17, 13)_E_in_t7', '(17, 13)_N_out_t8'),\n",
      "     ('(17, 13)_N_out_t8', '(16, 13)_S_in_t9'),\n",
      "     ('(16, 13)_S_in_t9', '(16, 13)_W_out_t10'),\n",
      "     ('(16, 13)_W_out_t10', '(16, 12)_E_in_t11'),\n",
      "     ('(16, 12)_E_in_t11', '(16, 12)_W_out_t12'),\n",
      "     ('(16, 12)_W_out_t12', '(16, 11)_E_in_t13'),\n",
      "     ('(16, 11)_E_in_t13', '(16, 11)_N_out_t14'),\n",
      "     ('(16, 11)_N_out_t14', '(15, 11)_S_in_t15'),\n",
      "     ('(15, 11)_S_in_t15', '(15, 11)_N_out_t16'),\n",
      "     ('(15, 11)_N_out_t16', '(14, 11)_S_in_t17'),\n",
      "     ('(14, 11)_S_in_t17', '(14, 11)_W_out_t18'),\n",
      "     ('(14, 11)_W_out_t18', '(14, 10)_E_in_t19'),\n",
      "     ('(14, 10)_E_in_t19', '(14, 10)_N_out_t20'),\n",
      "     ('(14, 10)_N_out_t20', '(13, 10)_S_in_t21'),\n",
      "     ('(13, 10)_S_in_t21', '(13, 10)_W_out_t22'),\n",
      "     ('(13, 10)_W_out_t22', '(13, 9)_E_in_t23'),\n",
      "     ('(13, 9)_E_in_t23', '(13, 9)_N_out_t24'),\n",
      "     ('(13, 9)_N_out_t24', '(12, 9)_S_in_t25'),\n",
      "     ('(12, 9)_S_in_t25', 'sink_6')),\n",
      " 7: (('source_7', '(17, 16)_N_out_t0'),\n",
      "     ('(17, 16)_N_out_t0', '(16, 16)_S_in_t1'),\n",
      "     ('(16, 16)_S_in_t1', '(16, 16)_N_out_t2'),\n",
      "     ('(16, 16)_N_out_t2', '(15, 16)_S_in_t3'),\n",
      "     ('(15, 16)_S_in_t3', '(15, 16)_N_out_t4'),\n",
      "     ('(15, 16)_N_out_t4', '(14, 16)_S_in_t5'),\n",
      "     ('(14, 16)_S_in_t5', '(14, 16)_N_out_t6'),\n",
      "     ('(14, 16)_N_out_t6', '(13, 16)_S_in_t7'),\n",
      "     ('(13, 16)_S_in_t7', '(13, 16)_N_out_t8'),\n",
      "     ('(13, 16)_N_out_t8', '(12, 16)_S_in_t9'),\n",
      "     ('(12, 16)_S_in_t9', '(12, 16)_N_out_t10'),\n",
      "     ('(12, 16)_N_out_t10', '(11, 16)_S_in_t11'),\n",
      "     ('(11, 16)_S_in_t11', '(11, 16)_N_out_t12'),\n",
      "     ('(11, 16)_N_out_t12', '(10, 16)_S_in_t13'),\n",
      "     ('(10, 16)_S_in_t13', '(10, 16)_N_out_t14'),\n",
      "     ('(10, 16)_N_out_t14', '(9, 16)_S_in_t15'),\n",
      "     ('(9, 16)_S_in_t15', '(9, 16)_W_out_t16'),\n",
      "     ('(9, 16)_W_out_t16', '(9, 15)_E_in_t17'),\n",
      "     ('(9, 15)_E_in_t17', '(9, 15)_N_out_t18'),\n",
      "     ('(9, 15)_N_out_t18', '(8, 15)_S_in_t19'),\n",
      "     ('(8, 15)_S_in_t19', '(8, 15)_N_out_t20'),\n",
      "     ('(8, 15)_N_out_t20', '(7, 15)_S_in_t21'),\n",
      "     ('(7, 15)_S_in_t21', '(7, 15)_W_out_t22'),\n",
      "     ('(7, 15)_W_out_t22', '(7, 14)_E_in_t23'),\n",
      "     ('(7, 14)_E_in_t23', '(7, 14)_N_out_t24'),\n",
      "     ('(7, 14)_N_out_t24', '(6, 14)_S_in_t25'),\n",
      "     ('(6, 14)_S_in_t25', '(6, 14)_W_out_t26'),\n",
      "     ('(6, 14)_W_out_t26', '(6, 13)_E_in_t27'),\n",
      "     ('(6, 13)_E_in_t27', '(6, 13)_N_out_t28'),\n",
      "     ('(6, 13)_N_out_t28', '(5, 13)_S_in_t29'),\n",
      "     ('(5, 13)_S_in_t29', '(5, 13)_W_out_t30'),\n",
      "     ('(5, 13)_W_out_t30', '(5, 12)_E_in_t31'),\n",
      "     ('(5, 12)_E_in_t31', '(5, 12)_N_out_t32'),\n",
      "     ('(5, 12)_N_out_t32', '(4, 12)_S_in_t33'),\n",
      "     ('(4, 12)_S_in_t33', '(4, 12)_W_out_t34'),\n",
      "     ('(4, 12)_W_out_t34', '(4, 11)_E_in_t35'),\n",
      "     ('(4, 11)_E_in_t35', '(4, 11)_N_out_t36'),\n",
      "     ('(4, 11)_N_out_t36', '(3, 11)_S_in_t37'),\n",
      "     ('(3, 11)_S_in_t37', '(3, 11)_W_out_t38'),\n",
      "     ('(3, 11)_W_out_t38', '(3, 10)_E_in_t39'),\n",
      "     ('(3, 10)_E_in_t39', '(3, 10)_N_out_t40'),\n",
      "     ('(3, 10)_N_out_t40', '(2, 10)_S_in_t41'),\n",
      "     ('(2, 10)_S_in_t41', '(2, 10)_W_out_t42'),\n",
      "     ('(2, 10)_W_out_t42', '(2, 9)_E_in_t43'),\n",
      "     ('(2, 9)_E_in_t43', '(2, 9)_N_out_t44'),\n",
      "     ('(2, 9)_N_out_t44', '(1, 9)_S_in_t45'),\n",
      "     ('(1, 9)_S_in_t45', '(1, 9)_W_out_t46'),\n",
      "     ('(1, 9)_W_out_t46', '(1, 8)_E_in_t47'),\n",
      "     ('(1, 8)_E_in_t47', '(1, 8)_N_out_t48'),\n",
      "     ('(1, 8)_N_out_t48', '(0, 8)_S_in_t49'),\n",
      "     ('(0, 8)_S_in_t49', 'sink_7')),\n",
      " 9: (('source_9', '(10, 0)_E_out_t0'),\n",
      "     ('(10, 0)_E_out_t0', '(10, 1)_W_in_t1'),\n",
      "     ('(10, 1)_W_in_t1', '(10, 1)_E_out_t2'),\n",
      "     ('(10, 1)_E_out_t2', '(10, 2)_W_in_t3'),\n",
      "     ('(10, 2)_W_in_t3', '(10, 2)_E_out_t4'),\n",
      "     ('(10, 2)_E_out_t4', '(10, 3)_W_in_t5'),\n",
      "     ('(10, 3)_W_in_t5', '(10, 3)_E_out_t6'),\n",
      "     ('(10, 3)_E_out_t6', '(10, 4)_W_in_t7'),\n",
      "     ('(10, 4)_W_in_t7', '(10, 4)_E_out_t8'),\n",
      "     ('(10, 4)_E_out_t8', '(10, 5)_W_in_t9'),\n",
      "     ('(10, 5)_W_in_t9', '(10, 5)_E_out_t10'),\n",
      "     ('(10, 5)_E_out_t10', '(10, 6)_W_in_t11'),\n",
      "     ('(10, 6)_W_in_t11', '(10, 6)_E_out_t12'),\n",
      "     ('(10, 6)_E_out_t12', '(10, 7)_W_in_t13'),\n",
      "     ('(10, 7)_W_in_t13', '(10, 7)_E_out_t14'),\n",
      "     ('(10, 7)_E_out_t14', '(10, 8)_W_in_t15'),\n",
      "     ('(10, 8)_W_in_t15', '(10, 8)_E_out_t16'),\n",
      "     ('(10, 8)_E_out_t16', '(10, 9)_W_in_t17'),\n",
      "     ('(10, 9)_W_in_t17', '(10, 9)_E_out_t18'),\n",
      "     ('(10, 9)_E_out_t18', '(10, 10)_W_in_t19'),\n",
      "     ('(10, 10)_W_in_t19', '(10, 10)_E_out_t20'),\n",
      "     ('(10, 10)_E_out_t20', '(10, 11)_W_in_t21'),\n",
      "     ('(10, 11)_W_in_t21', '(10, 11)_E_out_t22'),\n",
      "     ('(10, 11)_E_out_t22', '(10, 12)_W_in_t23'),\n",
      "     ('(10, 12)_W_in_t23', '(10, 12)_S_out_t24'),\n",
      "     ('(10, 12)_S_out_t24', '(11, 12)_N_in_t25'),\n",
      "     ('(11, 12)_N_in_t25', '(11, 12)_S_out_t26'),\n",
      "     ('(11, 12)_S_out_t26', '(12, 12)_N_in_t27'),\n",
      "     ('(12, 12)_N_in_t27', '(12, 12)_E_out_t28'),\n",
      "     ('(12, 12)_E_out_t28', '(12, 13)_W_in_t29'),\n",
      "     ('(12, 13)_W_in_t29', '(12, 13)_E_out_t30'),\n",
      "     ('(12, 13)_E_out_t30', '(12, 14)_W_in_t31'),\n",
      "     ('(12, 14)_W_in_t31', '(12, 14)_S_out_t32'),\n",
      "     ('(12, 14)_S_out_t32', '(13, 14)_N_in_t33'),\n",
      "     ('(13, 14)_N_in_t33', '(13, 14)_E_out_t34'),\n",
      "     ('(13, 14)_E_out_t34', '(13, 15)_W_in_t35'),\n",
      "     ('(13, 15)_W_in_t35', '(13, 15)_S_out_t36'),\n",
      "     ('(13, 15)_S_out_t36', '(14, 15)_N_in_t37'),\n",
      "     ('(14, 15)_N_in_t37', '(14, 15)_E_out_t38'),\n",
      "     ('(14, 15)_E_out_t38', '(14, 16)_W_in_t39'),\n",
      "     ('(14, 16)_W_in_t39', '(14, 16)_S_out_t40'),\n",
      "     ('(14, 16)_S_out_t40', '(15, 16)_N_in_t41'),\n",
      "     ('(15, 16)_N_in_t41', '(15, 16)_E_out_t42'),\n",
      "     ('(15, 16)_E_out_t42', '(15, 17)_W_in_t43'),\n",
      "     ('(15, 17)_W_in_t43', '(15, 17)_S_out_t44'),\n",
      "     ('(15, 17)_S_out_t44', '(16, 17)_N_in_t45'),\n",
      "     ('(16, 17)_N_in_t45', '(16, 17)_E_out_t46'),\n",
      "     ('(16, 17)_E_out_t46', '(16, 18)_W_in_t47'),\n",
      "     ('(16, 18)_W_in_t47', '(16, 18)_S_out_t48'),\n",
      "     ('(16, 18)_S_out_t48', '(17, 18)_N_in_t49'),\n",
      "     ('(17, 18)_N_in_t49', 'sink_9'))}\n",
      "iteration  2\n",
      "Optimize a model with 735 rows, 13 columns and 748 nonzeros\n",
      "Coefficient statistics:\n",
      "  Matrix range     [1e+00, 1e+00]\n",
      "  Objective range  [2e+01, 6e+01]\n",
      "  Bounds range     [1e+00, 1e+00]\n",
      "  RHS range        [1e+00, 1e+00]\n",
      "Presolve removed 13 rows and 748 columns\n",
      "Presolve time: 0.00s\n",
      "Presolve: All rows and columns removed\n",
      "Iteration    Objective       Primal Inf.    Dual Inf.      Time\n",
      "       0    3.8800000e+02   0.000000e+00   0.000000e+00      0s\n",
      "\n",
      "Solved in 0 iterations and 0.01 seconds\n",
      "Optimal objective  3.880000000e+02\n",
      "{0: (('source_0', '(19, 13)_N_out_t0'),\n",
      "     ('(19, 13)_N_out_t0', '(18, 13)_S_in_t1'),\n",
      "     ('(18, 13)_S_in_t1', '(18, 13)_N_out_t2'),\n",
      "     ('(18, 13)_N_out_t2', '(17, 13)_S_in_t3'),\n",
      "     ('(17, 13)_S_in_t3', '(17, 13)_N_out_t4'),\n",
      "     ('(17, 13)_N_out_t4', '(16, 13)_S_in_t5'),\n",
      "     ('(16, 13)_S_in_t5', '(16, 13)_N_out_t6'),\n",
      "     ('(16, 13)_N_out_t6', '(15, 13)_S_in_t7'),\n",
      "     ('(15, 13)_S_in_t7', '(15, 13)_N_out_t8'),\n",
      "     ('(15, 13)_N_out_t8', '(14, 13)_S_in_t9'),\n",
      "     ('(14, 13)_S_in_t9', '(14, 13)_N_out_t10'),\n",
      "     ('(14, 13)_N_out_t10', '(13, 13)_S_in_t11'),\n",
      "     ('(13, 13)_S_in_t11', '(13, 13)_N_out_t12'),\n",
      "     ('(13, 13)_N_out_t12', '(12, 13)_S_in_t13'),\n",
      "     ('(12, 13)_S_in_t13', '(12, 13)_W_out_t14'),\n",
      "     ('(12, 13)_W_out_t14', '(12, 12)_E_in_t15'),\n",
      "     ('(12, 12)_E_in_t15', '(12, 12)_N_out_t16'),\n",
      "     ('(12, 12)_N_out_t16', '(11, 12)_S_in_t17'),\n",
      "     ('(11, 12)_S_in_t17', '(11, 12)_N_out_t18'),\n",
      "     ('(11, 12)_N_out_t18', '(10, 12)_S_in_t19'),\n",
      "     ('(10, 12)_S_in_t19', '(10, 12)_W_out_t20'),\n",
      "     ('(10, 12)_W_out_t20', '(10, 11)_E_in_t21'),\n",
      "     ('(10, 11)_E_in_t21', '(10, 11)_W_out_t22'),\n",
      "     ('(10, 11)_W_out_t22', '(10, 10)_E_in_t23'),\n",
      "     ('(10, 10)_E_in_t23', '(10, 10)_N_out_t24'),\n",
      "     ('(10, 10)_N_out_t24', '(9, 10)_S_in_t25'),\n",
      "     ('(9, 10)_S_in_t25', '(9, 10)_W_out_t26'),\n",
      "     ('(9, 10)_W_out_t26', '(9, 9)_E_in_t27'),\n",
      "     ('(9, 9)_E_in_t27', '(9, 9)_N_out_t28'),\n",
      "     ('(9, 9)_N_out_t28', '(8, 9)_S_in_t29'),\n",
      "     ('(8, 9)_S_in_t29', '(8, 9)_W_out_t30'),\n",
      "     ('(8, 9)_W_out_t30', '(8, 8)_E_in_t31'),\n",
      "     ('(8, 8)_E_in_t31', '(8, 8)_N_out_t32'),\n",
      "     ('(8, 8)_N_out_t32', '(7, 8)_S_in_t33'),\n",
      "     ('(7, 8)_S_in_t33', '(7, 8)_W_out_t34'),\n",
      "     ('(7, 8)_W_out_t34', '(7, 7)_E_in_t35'),\n",
      "     ('(7, 7)_E_in_t35', '(7, 7)_N_out_t36'),\n",
      "     ('(7, 7)_N_out_t36', '(6, 7)_S_in_t37'),\n",
      "     ('(6, 7)_S_in_t37', '(6, 7)_W_out_t38'),\n",
      "     ('(6, 7)_W_out_t38', '(6, 6)_E_in_t39'),\n",
      "     ('(6, 6)_E_in_t39', '(6, 6)_N_out_t40'),\n",
      "     ('(6, 6)_N_out_t40', '(5, 6)_S_in_t41'),\n",
      "     ('(5, 6)_S_in_t41', '(5, 6)_W_out_t42'),\n",
      "     ('(5, 6)_W_out_t42', '(5, 5)_E_in_t43'),\n",
      "     ('(5, 5)_E_in_t43', '(5, 5)_N_out_t44'),\n",
      "     ('(5, 5)_N_out_t44', '(4, 5)_S_in_t45'),\n",
      "     ('(4, 5)_S_in_t45', '(4, 5)_W_out_t46'),\n",
      "     ('(4, 5)_W_out_t46', '(4, 4)_E_in_t47'),\n",
      "     ('(4, 4)_E_in_t47', '(4, 4)_N_out_t48'),\n",
      "     ('(4, 4)_N_out_t48', '(3, 4)_S_in_t49'),\n",
      "     ('(3, 4)_S_in_t49', '(3, 4)_W_out_t50'),\n",
      "     ('(3, 4)_W_out_t50', '(3, 3)_E_in_t51'),\n",
      "     ('(3, 3)_E_in_t51', '(3, 3)_N_out_t52'),\n",
      "     ('(3, 3)_N_out_t52', '(2, 3)_S_in_t53'),\n",
      "     ('(2, 3)_S_in_t53', '(2, 3)_W_out_t54'),\n",
      "     ('(2, 3)_W_out_t54', '(2, 2)_E_in_t55'),\n",
      "     ('(2, 2)_E_in_t55', '(2, 2)_N_out_t56'),\n",
      "     ('(2, 2)_N_out_t56', '(1, 2)_S_in_t57'),\n",
      "     ('(1, 2)_S_in_t57', '(1, 2)_W_out_t58'),\n",
      "     ('(1, 2)_W_out_t58', '(1, 1)_E_in_t59'),\n",
      "     ('(1, 1)_E_in_t59', '(1, 1)_N_out_t60'),\n",
      "     ('(1, 1)_N_out_t60', '(0, 1)_S_in_t61'),\n",
      "     ('(0, 1)_S_in_t61', 'sink_0')),\n",
      " 4: (('source_4', '(18, 6)_E_out_t0'),\n",
      "     ('(18, 6)_E_out_t0', '(18, 7)_W_in_t1'),\n",
      "     ('(18, 7)_W_in_t1', '(18, 7)_E_out_t2'),\n",
      "     ('(18, 7)_E_out_t2', '(18, 8)_W_in_t3'),\n",
      "     ('(18, 8)_W_in_t3', '(18, 8)_E_out_t4'),\n",
      "     ('(18, 8)_E_out_t4', '(18, 9)_W_in_t5'),\n",
      "     ('(18, 9)_W_in_t5', '(18, 9)_E_out_t6'),\n",
      "     ('(18, 9)_E_out_t6', '(18, 10)_W_in_t7'),\n",
      "     ('(18, 10)_W_in_t7', '(18, 10)_N_out_t8'),\n",
      "     ('(18, 10)_N_out_t8', '(17, 10)_S_in_t9'),\n",
      "     ('(17, 10)_S_in_t9', '(17, 10)_E_out_t10'),\n",
      "     ('(17, 10)_E_out_t10', '(17, 11)_W_in_t11'),\n",
      "     ('(17, 11)_W_in_t11', '(17, 11)_N_out_t12'),\n",
      "     ('(17, 11)_N_out_t12', '(16, 11)_S_in_t13'),\n",
      "     ('(16, 11)_S_in_t13', '(16, 11)_E_out_t14'),\n",
      "     ('(16, 11)_E_out_t14', '(16, 12)_W_in_t15'),\n",
      "     ('(16, 12)_W_in_t15', '(16, 12)_N_out_t16'),\n",
      "     ('(16, 12)_N_out_t16', '(15, 12)_S_in_t17'),\n",
      "     ('(15, 12)_S_in_t17', 'sink_4')),\n",
      " 5: (('source_5', '(9, 3)_E_out_t0'),\n",
      "     ('(9, 3)_E_out_t0', '(9, 4)_W_in_t1'),\n",
      "     ('(9, 4)_W_in_t1', '(9, 4)_E_out_t2'),\n",
      "     ('(9, 4)_E_out_t2', '(9, 5)_W_in_t3'),\n",
      "     ('(9, 5)_W_in_t3', '(9, 5)_E_out_t4'),\n",
      "     ('(9, 5)_E_out_t4', '(9, 6)_W_in_t5'),\n",
      "     ('(9, 6)_W_in_t5', '(9, 6)_E_out_t6'),\n",
      "     ('(9, 6)_E_out_t6', '(9, 7)_W_in_t7'),\n",
      "     ('(9, 7)_W_in_t7', '(9, 7)_E_out_t8'),\n",
      "     ('(9, 7)_E_out_t8', '(9, 8)_W_in_t9'),\n",
      "     ('(9, 8)_W_in_t9', '(9, 8)_E_out_t10'),\n",
      "     ('(9, 8)_E_out_t10', '(9, 9)_W_in_t11'),\n",
      "     ('(9, 9)_W_in_t11', '(9, 9)_E_out_t12'),\n",
      "     ('(9, 9)_E_out_t12', '(9, 10)_W_in_t13'),\n",
      "     ('(9, 10)_W_in_t13', '(9, 10)_E_out_t14'),\n",
      "     ('(9, 10)_E_out_t14', '(9, 11)_W_in_t15'),\n",
      "     ('(9, 11)_W_in_t15', '(9, 11)_N_out_t16'),\n",
      "     ('(9, 11)_N_out_t16', '(8, 11)_S_in_t17'),\n",
      "     ('(8, 11)_S_in_t17', '(8, 11)_E_out_t18'),\n",
      "     ('(8, 11)_E_out_t18', '(8, 12)_W_in_t19'),\n",
      "     ('(8, 12)_W_in_t19', '(8, 12)_N_out_t20'),\n",
      "     ('(8, 12)_N_out_t20', '(7, 12)_S_in_t21'),\n",
      "     ('(7, 12)_S_in_t21', '(7, 12)_E_out_t22'),\n",
      "     ('(7, 12)_E_out_t22', '(7, 13)_W_in_t23'),\n",
      "     ('(7, 13)_W_in_t23', '(7, 13)_N_out_t24'),\n",
      "     ('(7, 13)_N_out_t24', '(6, 13)_S_in_t25'),\n",
      "     ('(6, 13)_S_in_t25', '(6, 13)_E_out_t26'),\n",
      "     ('(6, 13)_E_out_t26', '(6, 14)_W_in_t27'),\n",
      "     ('(6, 14)_W_in_t27', '(6, 14)_N_out_t28'),\n",
      "     ('(6, 14)_N_out_t28', '(5, 14)_S_in_t29'),\n",
      "     ('(5, 14)_S_in_t29', '(5, 14)_E_out_t30'),\n",
      "     ('(5, 14)_E_out_t30', '(5, 15)_W_in_t31'),\n",
      "     ('(5, 15)_W_in_t31', '(5, 15)_N_out_t32'),\n",
      "     ('(5, 15)_N_out_t32', '(4, 15)_S_in_t33'),\n",
      "     ('(4, 15)_S_in_t33', '(4, 15)_E_out_t34'),\n",
      "     ('(4, 15)_E_out_t34', '(4, 16)_W_in_t35'),\n",
      "     ('(4, 16)_W_in_t35', '(4, 16)_N_out_t36'),\n",
      "     ('(4, 16)_N_out_t36', '(3, 16)_S_in_t37'),\n",
      "     ('(3, 16)_S_in_t37', '(3, 16)_E_out_t38'),\n",
      "     ('(3, 16)_E_out_t38', '(3, 17)_W_in_t39'),\n",
      "     ('(3, 17)_W_in_t39', '(3, 17)_N_out_t40'),\n",
      "     ('(3, 17)_N_out_t40', '(2, 17)_S_in_t41'),\n",
      "     ('(2, 17)_S_in_t41', 'sink_5')),\n",
      " 6: (('source_6', '(19, 15)_N_out_t0'),\n",
      "     ('(19, 15)_N_out_t0', '(18, 15)_S_in_t1'),\n",
      "     ('(18, 15)_S_in_t1', '(18, 15)_W_out_t2'),\n",
      "     ('(18, 15)_W_out_t2', '(18, 14)_E_in_t3'),\n",
      "     ('(18, 14)_E_in_t3', '(18, 14)_N_out_t4'),\n",
      "     ('(18, 14)_N_out_t4', '(17, 14)_S_in_t5'),\n",
      "     ('(17, 14)_S_in_t5', '(17, 14)_W_out_t6'),\n",
      "     ('(17, 14)_W_out_t6', '(17, 13)_E_in_t7'),\n",
      "     ('(17, 13)_E_in_t7', '(17, 13)_N_out_t8'),\n",
      "     ('(17, 13)_N_out_t8', '(16, 13)_S_in_t9'),\n",
      "     ('(16, 13)_S_in_t9', '(16, 13)_W_out_t10'),\n",
      "     ('(16, 13)_W_out_t10', '(16, 12)_E_in_t11'),\n",
      "     ('(16, 12)_E_in_t11', '(16, 12)_W_out_t12'),\n",
      "     ('(16, 12)_W_out_t12', '(16, 11)_E_in_t13'),\n",
      "     ('(16, 11)_E_in_t13', '(16, 11)_N_out_t14'),\n",
      "     ('(16, 11)_N_out_t14', '(15, 11)_S_in_t15'),\n",
      "     ('(15, 11)_S_in_t15', '(15, 11)_N_out_t16'),\n",
      "     ('(15, 11)_N_out_t16', '(14, 11)_S_in_t17'),\n",
      "     ('(14, 11)_S_in_t17', '(14, 11)_W_out_t18'),\n",
      "     ('(14, 11)_W_out_t18', '(14, 10)_E_in_t19'),\n",
      "     ('(14, 10)_E_in_t19', '(14, 10)_N_out_t20'),\n",
      "     ('(14, 10)_N_out_t20', '(13, 10)_S_in_t21'),\n",
      "     ('(13, 10)_S_in_t21', '(13, 10)_W_out_t22'),\n",
      "     ('(13, 10)_W_out_t22', '(13, 9)_E_in_t23'),\n",
      "     ('(13, 9)_E_in_t23', '(13, 9)_N_out_t24'),\n",
      "     ('(13, 9)_N_out_t24', '(12, 9)_S_in_t25'),\n",
      "     ('(12, 9)_S_in_t25', 'sink_6')),\n",
      " 7: (('source_7', '(17, 16)_N_out_t0'),\n",
      "     ('(17, 16)_N_out_t0', '(16, 16)_S_in_t1'),\n",
      "     ('(16, 16)_S_in_t1', '(16, 16)_N_out_t2'),\n",
      "     ('(16, 16)_N_out_t2', '(15, 16)_S_in_t3'),\n",
      "     ('(15, 16)_S_in_t3', '(15, 16)_N_out_t4'),\n",
      "     ('(15, 16)_N_out_t4', '(14, 16)_S_in_t5'),\n",
      "     ('(14, 16)_S_in_t5', '(14, 16)_N_out_t6'),\n",
      "     ('(14, 16)_N_out_t6', '(13, 16)_S_in_t7'),\n",
      "     ('(13, 16)_S_in_t7', '(13, 16)_N_out_t8'),\n",
      "     ('(13, 16)_N_out_t8', '(12, 16)_S_in_t9'),\n",
      "     ('(12, 16)_S_in_t9', '(12, 16)_N_out_t10'),\n",
      "     ('(12, 16)_N_out_t10', '(11, 16)_S_in_t11'),\n",
      "     ('(11, 16)_S_in_t11', '(11, 16)_N_out_t12'),\n",
      "     ('(11, 16)_N_out_t12', '(10, 16)_S_in_t13'),\n",
      "     ('(10, 16)_S_in_t13', '(10, 16)_N_out_t14'),\n",
      "     ('(10, 16)_N_out_t14', '(9, 16)_S_in_t15'),\n",
      "     ('(9, 16)_S_in_t15', '(9, 16)_W_out_t16'),\n",
      "     ('(9, 16)_W_out_t16', '(9, 15)_E_in_t17'),\n",
      "     ('(9, 15)_E_in_t17', '(9, 15)_N_out_t18'),\n",
      "     ('(9, 15)_N_out_t18', '(8, 15)_S_in_t19'),\n",
      "     ('(8, 15)_S_in_t19', '(8, 15)_N_out_t20'),\n",
      "     ('(8, 15)_N_out_t20', '(7, 15)_S_in_t21'),\n",
      "     ('(7, 15)_S_in_t21', '(7, 15)_W_out_t22'),\n",
      "     ('(7, 15)_W_out_t22', '(7, 14)_E_in_t23'),\n",
      "     ('(7, 14)_E_in_t23', '(7, 14)_N_out_t24'),\n",
      "     ('(7, 14)_N_out_t24', '(6, 14)_S_in_t25'),\n",
      "     ('(6, 14)_S_in_t25', '(6, 14)_W_out_t26'),\n",
      "     ('(6, 14)_W_out_t26', '(6, 13)_E_in_t27'),\n",
      "     ('(6, 13)_E_in_t27', '(6, 13)_N_out_t28'),\n",
      "     ('(6, 13)_N_out_t28', '(5, 13)_S_in_t29'),\n",
      "     ('(5, 13)_S_in_t29', '(5, 13)_W_out_t30'),\n",
      "     ('(5, 13)_W_out_t30', '(5, 12)_E_in_t31'),\n",
      "     ('(5, 12)_E_in_t31', '(5, 12)_N_out_t32'),\n",
      "     ('(5, 12)_N_out_t32', '(4, 12)_S_in_t33'),\n",
      "     ('(4, 12)_S_in_t33', '(4, 12)_W_out_t34'),\n",
      "     ('(4, 12)_W_out_t34', '(4, 11)_E_in_t35'),\n",
      "     ('(4, 11)_E_in_t35', '(4, 11)_N_out_t36'),\n",
      "     ('(4, 11)_N_out_t36', '(3, 11)_S_in_t37'),\n",
      "     ('(3, 11)_S_in_t37', '(3, 11)_W_out_t38'),\n",
      "     ('(3, 11)_W_out_t38', '(3, 10)_E_in_t39'),\n",
      "     ('(3, 10)_E_in_t39', '(3, 10)_N_out_t40'),\n",
      "     ('(3, 10)_N_out_t40', '(2, 10)_S_in_t41'),\n",
      "     ('(2, 10)_S_in_t41', '(2, 10)_W_out_t42'),\n",
      "     ('(2, 10)_W_out_t42', '(2, 9)_E_in_t43'),\n",
      "     ('(2, 9)_E_in_t43', '(2, 9)_N_out_t44'),\n",
      "     ('(2, 9)_N_out_t44', '(1, 9)_S_in_t45'),\n",
      "     ('(1, 9)_S_in_t45', '(1, 9)_W_out_t46'),\n",
      "     ('(1, 9)_W_out_t46', '(1, 8)_E_in_t47'),\n",
      "     ('(1, 8)_E_in_t47', '(1, 8)_N_out_t48'),\n",
      "     ('(1, 8)_N_out_t48', '(0, 8)_S_in_t49'),\n",
      "     ('(0, 8)_S_in_t49', 'sink_7')),\n",
      " 9: (('source_9', '(10, 0)_E_out_t0'),\n",
      "     ('(10, 0)_E_out_t0', '(10, 1)_W_in_t1'),\n",
      "     ('(10, 1)_W_in_t1', '(10, 1)_E_out_t2'),\n",
      "     ('(10, 1)_E_out_t2', '(10, 2)_W_in_t3'),\n",
      "     ('(10, 2)_W_in_t3', '(10, 2)_E_out_t4'),\n",
      "     ('(10, 2)_E_out_t4', '(10, 3)_W_in_t5'),\n",
      "     ('(10, 3)_W_in_t5', '(10, 3)_E_out_t6'),\n",
      "     ('(10, 3)_E_out_t6', '(10, 4)_W_in_t7'),\n",
      "     ('(10, 4)_W_in_t7', '(10, 4)_E_out_t8'),\n",
      "     ('(10, 4)_E_out_t8', '(10, 5)_W_in_t9'),\n",
      "     ('(10, 5)_W_in_t9', '(10, 5)_E_out_t10'),\n",
      "     ('(10, 5)_E_out_t10', '(10, 6)_W_in_t11'),\n",
      "     ('(10, 6)_W_in_t11', '(10, 6)_E_out_t12'),\n",
      "     ('(10, 6)_E_out_t12', '(10, 7)_W_in_t13'),\n",
      "     ('(10, 7)_W_in_t13', '(10, 7)_E_out_t14'),\n",
      "     ('(10, 7)_E_out_t14', '(10, 8)_W_in_t15'),\n",
      "     ('(10, 8)_W_in_t15', '(10, 8)_E_out_t16'),\n",
      "     ('(10, 8)_E_out_t16', '(10, 9)_W_in_t17'),\n",
      "     ('(10, 9)_W_in_t17', '(10, 9)_E_out_t18'),\n",
      "     ('(10, 9)_E_out_t18', '(10, 10)_W_in_t19'),\n",
      "     ('(10, 10)_W_in_t19', '(10, 10)_E_out_t20'),\n",
      "     ('(10, 10)_E_out_t20', '(10, 11)_W_in_t21'),\n",
      "     ('(10, 11)_W_in_t21', '(10, 11)_E_out_t22'),\n",
      "     ('(10, 11)_E_out_t22', '(10, 12)_W_in_t23'),\n",
      "     ('(10, 12)_W_in_t23', '(10, 12)_S_out_t24'),\n",
      "     ('(10, 12)_S_out_t24', '(11, 12)_N_in_t25'),\n",
      "     ('(11, 12)_N_in_t25', '(11, 12)_S_out_t26'),\n",
      "     ('(11, 12)_S_out_t26', '(12, 12)_N_in_t27'),\n",
      "     ('(12, 12)_N_in_t27', '(12, 12)_E_out_t28'),\n",
      "     ('(12, 12)_E_out_t28', '(12, 13)_W_in_t29'),\n",
      "     ('(12, 13)_W_in_t29', '(12, 13)_E_out_t30'),\n",
      "     ('(12, 13)_E_out_t30', '(12, 14)_W_in_t31'),\n",
      "     ('(12, 14)_W_in_t31', '(12, 14)_S_out_t32'),\n",
      "     ('(12, 14)_S_out_t32', '(13, 14)_N_in_t33'),\n",
      "     ('(13, 14)_N_in_t33', '(13, 14)_E_out_t34'),\n",
      "     ('(13, 14)_E_out_t34', '(13, 15)_W_in_t35'),\n",
      "     ('(13, 15)_W_in_t35', '(13, 15)_S_out_t36'),\n",
      "     ('(13, 15)_S_out_t36', '(14, 15)_N_in_t37'),\n",
      "     ('(14, 15)_N_in_t37', '(14, 15)_E_out_t38'),\n",
      "     ('(14, 15)_E_out_t38', '(14, 16)_W_in_t39'),\n",
      "     ('(14, 16)_W_in_t39', '(14, 16)_S_out_t40'),\n",
      "     ('(14, 16)_S_out_t40', '(15, 16)_N_in_t41'),\n",
      "     ('(15, 16)_N_in_t41', '(15, 16)_E_out_t42'),\n",
      "     ('(15, 16)_E_out_t42', '(15, 17)_W_in_t43'),\n",
      "     ('(15, 17)_W_in_t43', '(15, 17)_S_out_t44'),\n",
      "     ('(15, 17)_S_out_t44', '(16, 17)_N_in_t45'),\n",
      "     ('(16, 17)_N_in_t45', '(16, 17)_E_out_t46'),\n",
      "     ('(16, 17)_E_out_t46', '(16, 18)_W_in_t47'),\n",
      "     ('(16, 18)_W_in_t47', '(16, 18)_S_out_t48'),\n",
      "     ('(16, 18)_S_out_t48', '(17, 18)_N_in_t49'),\n",
      "     ('(17, 18)_N_in_t49', 'sink_9'))}\n",
      "skipped addition of path for commodity  0\n",
      "skipped addition of path for commodity  4\n",
      "skipped addition of path for commodity  5\n",
      "skipped addition of path for commodity  6\n",
      "skipped addition of path for commodity  7\n",
      "skipped addition of path for commodity  9\n"
     ]
    },
    {
     "ename": "ValueError",
     "evalue": "only adding already added columns",
     "output_type": "error",
     "traceback": [
      "\u001b[0;31m---------------------------------------------------------------------------\u001b[0m",
      "\u001b[0;31mValueError\u001b[0m                                Traceback (most recent call last)",
      "\u001b[0;32m<ipython-input-25-322a2ba09cca>\u001b[0m in \u001b[0;36m<module>\u001b[0;34m\u001b[0m\n\u001b[1;32m     12\u001b[0m         \u001b[0mpprint\u001b[0m\u001b[0;34m.\u001b[0m\u001b[0mpprint\u001b[0m\u001b[0;34m(\u001b[0m\u001b[0mpathsToAdd\u001b[0m\u001b[0;34m)\u001b[0m\u001b[0;34m\u001b[0m\u001b[0;34m\u001b[0m\u001b[0m\n\u001b[1;32m     13\u001b[0m         \u001b[0miteration\u001b[0m\u001b[0;34m+=\u001b[0m \u001b[0;36m1\u001b[0m\u001b[0;34m\u001b[0m\u001b[0;34m\u001b[0m\u001b[0m\n\u001b[0;32m---> 14\u001b[0;31m         \u001b[0mmaster\u001b[0m\u001b[0;34m.\u001b[0m\u001b[0maddColumn\u001b[0m\u001b[0;34m(\u001b[0m\u001b[0mpathsToAdd\u001b[0m\u001b[0;34m)\u001b[0m\u001b[0;34m\u001b[0m\u001b[0;34m\u001b[0m\u001b[0m\n\u001b[0m",
      "\u001b[0;32m~/Desktop/semester_project/repository/src/flows/MasterProblem.py\u001b[0m in \u001b[0;36maddColumn\u001b[0;34m(self, pathToAdd)\u001b[0m\n\u001b[1;32m    149\u001b[0m                             \u001b[0mself\u001b[0m\u001b[0;34m.\u001b[0m\u001b[0mfindConstraints_path\u001b[0m\u001b[0;34m[\u001b[0m\u001b[0mfrozenset\u001b[0m\u001b[0;34m(\u001b[0m\u001b[0mc\u001b[0m\u001b[0;34m)\u001b[0m\u001b[0;34m]\u001b[0m \u001b[0;34m=\u001b[0m \u001b[0;34m[\u001b[0m\u001b[0;34m(\u001b[0m\u001b[0mcommodity\u001b[0m\u001b[0;34m,\u001b[0m\u001b[0mindex\u001b[0m\u001b[0;34m)\u001b[0m\u001b[0;34m]\u001b[0m\u001b[0;34m\u001b[0m\u001b[0;34m\u001b[0m\u001b[0m\n\u001b[1;32m    150\u001b[0m         \u001b[0;32mif\u001b[0m \u001b[0mskipped\u001b[0m \u001b[0;34m==\u001b[0m \u001b[0mlen\u001b[0m\u001b[0;34m(\u001b[0m\u001b[0mlist\u001b[0m\u001b[0;34m(\u001b[0m\u001b[0mpathToAdd\u001b[0m\u001b[0;34m.\u001b[0m\u001b[0mkeys\u001b[0m\u001b[0;34m(\u001b[0m\u001b[0;34m)\u001b[0m\u001b[0;34m)\u001b[0m\u001b[0;34m)\u001b[0m\u001b[0;34m:\u001b[0m\u001b[0;34m\u001b[0m\u001b[0;34m\u001b[0m\u001b[0m\n\u001b[0;32m--> 151\u001b[0;31m             \u001b[0;32mraise\u001b[0m \u001b[0mValueError\u001b[0m\u001b[0;34m(\u001b[0m\u001b[0;34m\"only adding already added columns\"\u001b[0m\u001b[0;34m)\u001b[0m\u001b[0;34m\u001b[0m\u001b[0;34m\u001b[0m\u001b[0m\n\u001b[0m\u001b[1;32m    152\u001b[0m         \u001b[0mself\u001b[0m\u001b[0;34m.\u001b[0m\u001b[0mmodel\u001b[0m \u001b[0;34m=\u001b[0m \u001b[0mgurobipy\u001b[0m\u001b[0;34m.\u001b[0m\u001b[0mModel\u001b[0m\u001b[0;34m(\u001b[0m\u001b[0;34m\"Master Problem\"\u001b[0m\u001b[0;34m)\u001b[0m\u001b[0;34m\u001b[0m\u001b[0;34m\u001b[0m\u001b[0m\n\u001b[1;32m    153\u001b[0m         \u001b[0mself\u001b[0m\u001b[0;34m.\u001b[0m\u001b[0mbuild\u001b[0m\u001b[0;34m(\u001b[0m\u001b[0;34m)\u001b[0m\u001b[0;34m\u001b[0m\u001b[0;34m\u001b[0m\u001b[0m\n",
      "\u001b[0;31mValueError\u001b[0m: only adding already added columns"
     ]
    }
   ],
   "source": [
    "flag = True\n",
    "iteration = 1\n",
    "master = MasterProblem.MasterProblem(solution,constraints,find_constraints,number_agents)\n",
    "master.build()\n",
    "pricingSolver = PricingSolver(TestNetworkTime.graph,constraints,find_constraints,len(sources))\n",
    "while flag:\n",
    "    print(\"iteration \",iteration)\n",
    "    master.solveRelaxedModel()\n",
    "    duals = master.getDualVariables()\n",
    "    pathsToAdd, flag = pricingSolver.get_columns_to_add(master.getDualVariables(),master.constraintsActivated)\n",
    "    if flag:\n",
    "        pprint.pprint(pathsToAdd)\n",
    "        iteration+= 1\n",
    "        master.addColumn(pathsToAdd)"
   ]
  },
  {
   "cell_type": "code",
   "execution_count": 26,
   "metadata": {},
   "outputs": [
    {
     "name": "stdout",
     "output_type": "stream",
     "text": [
      "Optimize a model with 735 rows, 13 columns and 748 nonzeros\n",
      "Variable types: 0 continuous, 13 integer (13 binary)\n",
      "Coefficient statistics:\n",
      "  Matrix range     [1e+00, 1e+00]\n",
      "  Objective range  [2e+01, 6e+01]\n",
      "  Bounds range     [1e+00, 1e+00]\n",
      "  RHS range        [1e+00, 1e+00]\n",
      "Found heuristic solution: objective 388.0000000\n",
      "Presolve removed 735 rows and 13 columns\n",
      "Presolve time: 0.00s\n",
      "Presolve: All rows and columns removed\n",
      "\n",
      "Explored 0 nodes (0 simplex iterations) in 0.01 seconds\n",
      "Thread count was 1 (of 4 available processors)\n",
      "\n",
      "Solution count 1: 388 \n",
      "\n",
      "Optimal solution found (tolerance 1.00e-04)\n",
      "Best objective 3.880000000000e+02, best bound 3.880000000000e+02, gap 0.0000%\n"
     ]
    }
   ],
   "source": [
    "master.model.optimize()"
   ]
  },
  {
   "cell_type": "code",
   "execution_count": 27,
   "metadata": {
    "scrolled": true
   },
   "outputs": [
    {
     "name": "stdout",
     "output_type": "stream",
     "text": [
      "path[0,0] 1\n",
      "path[1,0] 1\n",
      "path[2,0] 1\n",
      "path[3,0] 1\n",
      "path[4,0] 1\n",
      "path[5,0] 1\n",
      "path[6,0] 1\n",
      "path[7,0] 1\n",
      "path[8,0] 1\n",
      "path[9,0] 1\n",
      "path[6,1] 0\n",
      "path[7,2] 0\n",
      "path[9,3] 0\n"
     ]
    }
   ],
   "source": [
    "for v in master.model.getVars():\n",
    "    print('%s %g' % (v.varName, v.x))"
   ]
  },
  {
   "cell_type": "markdown",
   "metadata": {},
   "source": [
    "##### Test LP Formulation"
   ]
  },
  {
   "cell_type": "markdown",
   "metadata": {},
   "source": [
    "test a simple graph"
   ]
  },
  {
   "cell_type": "code",
   "execution_count": null,
   "metadata": {
    "scrolled": true
   },
   "outputs": [],
   "source": [
    "import datetime as dt\n",
    "print(dt.datetime.now())"
   ]
  },
  {
   "cell_type": "code",
   "execution_count": null,
   "metadata": {},
   "outputs": [],
   "source": [
    "constraints,findConstraints = TestNetworkTime.get_topology_network()"
   ]
  },
  {
   "cell_type": "code",
   "execution_count": null,
   "metadata": {
    "scrolled": false
   },
   "outputs": [],
   "source": [
    "mcflow = MCFlow(TestNetworkTime.graph,len(sources),constraints,integer = False)"
   ]
  },
  {
   "cell_type": "code",
   "execution_count": null,
   "metadata": {
    "scrolled": false
   },
   "outputs": [],
   "source": [
    "mcflow.solve()"
   ]
  },
  {
   "cell_type": "code",
   "execution_count": null,
   "metadata": {},
   "outputs": [],
   "source": [
    "paths = mcflow.get_paths_solution()"
   ]
  },
  {
   "cell_type": "code",
   "execution_count": null,
   "metadata": {},
   "outputs": [],
   "source": [
    "score = 0\n",
    "for _,path in paths.items():\n",
    "    score += int(len(path)/2)\n",
    "    \n",
    "print(f\"score {score}\")"
   ]
  },
  {
   "cell_type": "code",
   "execution_count": null,
   "metadata": {},
   "outputs": [],
   "source": [
    "lengths = []\n",
    "pathsToAllongate = copy.deepcopy(mcflow.solution)\n",
    "for agent,path in pathsToAllongate.items():\n",
    "    lengths.append(len(path))\n",
    "    \n",
    "maxLength = max(lengths)\n",
    "for agent,path in pathsToAllongate.items():\n",
    "    for i in range(maxLength-len(path)):\n",
    "        path.append(None)\n",
    "    pathsToAllongate[agent] = path"
   ]
  },
  {
   "cell_type": "code",
   "execution_count": null,
   "metadata": {},
   "outputs": [],
   "source": [
    "dfPaths = pd.DataFrame(pathsToAllongate)\n",
    "dfPaths"
   ]
  },
  {
   "cell_type": "code",
   "execution_count": null,
   "metadata": {},
   "outputs": [],
   "source": [
    "import datetime as dt\n",
    "print(dt.datetime.now())"
   ]
  },
  {
   "cell_type": "code",
   "execution_count": null,
   "metadata": {},
   "outputs": [],
   "source": [
    "colors = [(230, 25, 75), (60, 180, 75), (255, 225, 25), (0, 130, 200), (245, 130, 48),\n",
    "          (145, 30, 180), (70, 240, 240), (240, 50, 230), (210, 245, 60), (250, 190, 190),\n",
    "          (0, 128, 128), (230, 190, 255), (170, 110, 40), (255, 250, 200), (128, 0, 0), (170, 255, 195),\n",
    "          (128, 128, 0), (255, 215, 180), (0, 0, 128), (128, 128, 128), (255, 255, 255), (0, 0, 0)]\n",
    "colors = [(x[0]/255.,x[1]/255.,x[2]/255.) for x in colors]"
   ]
  },
  {
   "cell_type": "code",
   "execution_count": null,
   "metadata": {
    "scrolled": false
   },
   "outputs": [],
   "source": [
    "flatlandNetwork.show(paths = solutions)"
   ]
  }
 ],
 "metadata": {
  "kernelspec": {
   "display_name": "Python 3",
   "language": "python",
   "name": "python3"
  },
  "language_info": {
   "codemirror_mode": {
    "name": "ipython",
    "version": 3
   },
   "file_extension": ".py",
   "mimetype": "text/x-python",
   "name": "python",
   "nbconvert_exporter": "python",
   "pygments_lexer": "ipython3",
   "version": "3.6.9"
  }
 },
 "nbformat": 4,
 "nbformat_minor": 2
}
