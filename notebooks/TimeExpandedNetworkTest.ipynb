{
 "cells": [
  {
   "cell_type": "markdown",
   "metadata": {},
   "source": [
    "# Imports"
   ]
  },
  {
   "cell_type": "markdown",
   "metadata": {},
   "source": [
    "##### General imports"
   ]
  },
  {
   "cell_type": "code",
   "execution_count": 1,
   "metadata": {},
   "outputs": [],
   "source": [
    "%load_ext autoreload\n",
    "%autoreload 2\n",
    "import sys\n",
    "sys.path.append(\"../\")"
   ]
  },
  {
   "cell_type": "code",
   "execution_count": 2,
   "metadata": {},
   "outputs": [],
   "source": [
    "import networkx as nx\n",
    "import pandas as pd\n",
    "import matplotlib.pyplot as plt\n",
    "import copy\n",
    "from tqdm import tqdm"
   ]
  },
  {
   "cell_type": "markdown",
   "metadata": {},
   "source": [
    "##### Import from flatland environment "
   ]
  },
  {
   "cell_type": "code",
   "execution_count": 3,
   "metadata": {},
   "outputs": [],
   "source": [
    "from flatland.envs.rail_env import RailEnv\n",
    "from flatland.envs.observations import *\n",
    "from flatland.envs.rail_generators import complex_rail_generator,rail_from_manual_specifications_generator,random_rail_generator, RailGenerator,sparse_rail_generator\n",
    "from flatland.envs.schedule_generators import complex_schedule_generator, random_schedule_generator, ScheduleGenerator, sparse_schedule_generator\n",
    "from flatland.utils.rendertools import RenderTool, AgentRenderVariant"
   ]
  },
  {
   "cell_type": "markdown",
   "metadata": {},
   "source": [
    "##### Import from our framework"
   ]
  },
  {
   "cell_type": "code",
   "execution_count": 4,
   "metadata": {},
   "outputs": [],
   "source": [
    "from src.graph import NetworkGraph"
   ]
  },
  {
   "cell_type": "code",
   "execution_count": 5,
   "metadata": {},
   "outputs": [],
   "source": [
    "from src.flows import *"
   ]
  },
  {
   "cell_type": "markdown",
   "metadata": {},
   "source": [
    "# Test of time expanded network"
   ]
  },
  {
   "cell_type": "markdown",
   "metadata": {},
   "source": [
    "##### Create a flatland network"
   ]
  },
  {
   "cell_type": "markdown",
   "metadata": {},
   "source": [
    "sparse netwrok"
   ]
  },
  {
   "cell_type": "code",
   "execution_count": null,
   "metadata": {
    "scrolled": false
   },
   "outputs": [],
   "source": [
    "number_agents = 5\n",
    "\n",
    "size_side = 50\n",
    "stochastic_data = {'prop_malfunction': 0.3,  # Percentage of defective agents\n",
    "                   'malfunction_rate': 30,  # Rate of malfunction occurence\n",
    "                   'min_duration': 3,  # Minimal duration of malfunction\n",
    "                   'max_duration': 20  # Max duration of malfunction\n",
    "                   }\n",
    "speed_ration_map = {1.: 0.25,  # Fast passenger train\n",
    "                    1. / 2.: 0.25,  # Fast freight train\n",
    "                    1. / 3.: 0.25,  # Slow commuter train\n",
    "                    1. / 4.: 0.25}  # Slow freight train\n",
    "env = RailEnv(width=size_side,\n",
    "              height=size_side,\n",
    "              rail_generator=sparse_rail_generator(max_num_cities=4,\n",
    "                                                   # Number of cities in map (where train stations are)\n",
    "                                                   seed=14,  # Random seed\n",
    "                                                   grid_mode=False,\n",
    "                                                   max_rails_between_cities=2,\n",
    "                                                   max_rails_in_city=8,\n",
    "                                                   ),\n",
    "              schedule_generator=sparse_schedule_generator(speed_ration_map),\n",
    "              number_of_agents=number_agents,\n",
    "              stochastic_data=stochastic_data,  # Malfunction data generator\n",
    "              obs_builder_object=GlobalObsForRailEnv(),\n",
    "              remove_agents_at_target=True\n",
    "              )\n",
    "\n",
    "# RailEnv.DEPOT_POSITION = lambda agent, agent_handle : (agent_handle % env.height,0)\n",
    "env.reset()\n",
    "\n",
    "env_renderer = RenderTool(env,\n",
    "                          agent_render_variant=AgentRenderVariant.AGENT_SHOWS_OPTIONS_AND_BOX,\n",
    "                          show_debug=True,\n",
    "                          screen_height=1100,\n",
    "                          screen_width=1800)\n",
    "env_renderer.reset()\n",
    "\n",
    "env_renderer.render_env(show=True, show_observations=False, show_predictions=False)\n",
    "\n"
   ]
  },
  {
   "cell_type": "markdown",
   "metadata": {},
   "source": [
    "usual network"
   ]
  },
  {
   "cell_type": "code",
   "execution_count": 6,
   "metadata": {},
   "outputs": [],
   "source": [
    "number_agents = 10\n",
    "\n",
    "size_side = 20\n",
    "env = RailEnv(width=size_side,\n",
    "              height=size_side,\n",
    "              rail_generator=complex_rail_generator(nr_start_goal=number_agents, nr_extra=1, \n",
    "                                                    min_dist=6, max_dist=99999, \n",
    "                                                    seed = np.random.randint(0,2000)),\n",
    "              schedule_generator=complex_schedule_generator(),\n",
    "              number_of_agents=number_agents,\n",
    "              obs_builder_object=GlobalObsForRailEnv())\n",
    "\n",
    "env.reset()\n",
    "\n",
    "\n",
    "\n",
    "env_renderer = RenderTool(env)\n",
    "env_renderer.render_env(show=True, show_predictions=False, show_observations=False)"
   ]
  },
  {
   "cell_type": "code",
   "execution_count": 7,
   "metadata": {},
   "outputs": [],
   "source": [
    "matrix_rail = np.array(env.rail.grid.tolist())\n",
    "flatlandNetwork = NetworkGraph(matrix_rail,[(0,1)],[(1,0)])"
   ]
  },
  {
   "cell_type": "code",
   "execution_count": 8,
   "metadata": {},
   "outputs": [],
   "source": [
    "sources = []\n",
    "sinks = []\n",
    "directions = []\n",
    "for agent in env.agents:\n",
    "    sources.append(agent.initial_position)\n",
    "    sinks.append(agent.target)\n",
    "    try:\n",
    "        directions.append(agent.direction)\n",
    "    except:\n",
    "        pass"
   ]
  },
  {
   "cell_type": "code",
   "execution_count": 9,
   "metadata": {},
   "outputs": [],
   "source": [
    "if len(directions) == 0:\n",
    "    directions = None"
   ]
  },
  {
   "cell_type": "markdown",
   "metadata": {},
   "source": [
    "##### create a time expanded network"
   ]
  },
  {
   "cell_type": "code",
   "execution_count": 10,
   "metadata": {},
   "outputs": [],
   "source": [
    "import time"
   ]
  },
  {
   "cell_type": "code",
   "execution_count": 11,
   "metadata": {
    "scrolled": true
   },
   "outputs": [
    {
     "name": "stdout",
     "output_type": "stream",
     "text": [
      "time taken to build the graph: 2.4424314498901367\n"
     ]
    }
   ],
   "source": [
    "start = time.time()\n",
    "TestNetworkTime = TimeNetwork(flatlandNetwork, depth=200)\n",
    "stop = time.time()\n",
    "print(f'time taken to build the graph: {stop-start}')"
   ]
  },
  {
   "cell_type": "code",
   "execution_count": 12,
   "metadata": {
    "scrolled": false
   },
   "outputs": [],
   "source": [
    "TestNetworkTime.connect_sources_and_sink(sources,sinks,directions = None)"
   ]
  },
  {
   "cell_type": "markdown",
   "metadata": {},
   "source": [
    "### create initial solution"
   ]
  },
  {
   "cell_type": "code",
   "execution_count": 13,
   "metadata": {},
   "outputs": [],
   "source": [
    "from tqdm import tqdm"
   ]
  },
  {
   "cell_type": "code",
   "execution_count": 14,
   "metadata": {},
   "outputs": [],
   "source": [
    "constraints, find_constraints = TestNetworkTime.get_topology_network()"
   ]
  },
  {
   "cell_type": "code",
   "execution_count": 15,
   "metadata": {},
   "outputs": [],
   "source": [
    "test = InitialSolutionGenerator(TestNetworkTime,constraints,find_constraints,len(sources))"
   ]
  },
  {
   "cell_type": "code",
   "execution_count": 16,
   "metadata": {
    "scrolled": true
   },
   "outputs": [
    {
     "name": "stderr",
     "output_type": "stream",
     "text": [
      "10it [00:01,  7.19it/s]\n"
     ]
    }
   ],
   "source": [
    "solution = test.getInitialSolution()"
   ]
  },
  {
   "cell_type": "code",
   "execution_count": 17,
   "metadata": {
    "scrolled": true
   },
   "outputs": [
    {
     "name": "stdout",
     "output_type": "stream",
     "text": [
      "{'not shortest path ': 13}\n"
     ]
    }
   ],
   "source": [
    "test.showStats()"
   ]
  },
  {
   "cell_type": "code",
   "execution_count": 18,
   "metadata": {},
   "outputs": [],
   "source": [
    "from src.flows.PricingProblem import PricingSolver"
   ]
  },
  {
   "cell_type": "code",
   "execution_count": 27,
   "metadata": {
    "scrolled": false
   },
   "outputs": [
    {
     "name": "stdout",
     "output_type": "stream",
     "text": [
      "iteration  0\n",
      "Optimize a model with 493 rows, 10 columns and 493 nonzeros\n",
      "Coefficient statistics:\n",
      "  Matrix range     [1e+00, 1e+00]\n",
      "  Objective range  [2e+01, 6e+01]\n",
      "  Bounds range     [1e+00, 1e+00]\n",
      "  RHS range        [1e+00, 1e+00]\n",
      "Presolve removed 10 rows and 503 columns\n",
      "Presolve time: 0.00s\n",
      "Presolve: All rows and columns removed\n",
      "Iteration    Objective       Primal Inf.    Dual Inf.      Time\n",
      "       0    3.4300000e+02   0.000000e+00   0.000000e+00      0s\n",
      "\n",
      "Solved in 0 iterations and 0.01 seconds\n",
      "Optimal objective  3.430000000e+02\n"
     ]
    }
   ],
   "source": [
    "flag = True\n",
    "iteration = 1\n",
    "master = MasterProblem.MasterProblem(solution,constraints,find_constraints,number_agents)\n",
    "master.build()\n",
    "pricingSolver = PricingSolver(TestNetworkTime.graph,constraints,find_constraints,len(sources))\n",
    "while flag:\n",
    "    print(\"iteration \",iteration)\n",
    "    master.solveRelaxedModel()\n",
    "    duals = master.getDualVariables()\n",
    "    pathsToAdd, flag = pricingSolver.get_columns_to_add(master.getDualVariables(),master.constraintsActivated)\n",
    "    if flag:\n",
    "        iteration+= 1\n",
    "        master.addColumn(pathsToAdd)"
   ]
  },
  {
   "cell_type": "code",
   "execution_count": 33,
   "metadata": {},
   "outputs": [
    {
     "name": "stdout",
     "output_type": "stream",
     "text": [
      "Optimize a model with 493 rows, 10 columns and 493 nonzeros\n",
      "Variable types: 0 continuous, 10 integer (10 binary)\n",
      "Coefficient statistics:\n",
      "  Matrix range     [1e+00, 1e+00]\n",
      "  Objective range  [2e+01, 6e+01]\n",
      "  Bounds range     [1e+00, 1e+00]\n",
      "  RHS range        [1e+00, 1e+00]\n",
      "Found heuristic solution: objective 343.0000000\n",
      "Presolve removed 493 rows and 10 columns\n",
      "Presolve time: 0.00s\n",
      "Presolve: All rows and columns removed\n",
      "\n",
      "Explored 0 nodes (0 simplex iterations) in 0.01 seconds\n",
      "Thread count was 1 (of 4 available processors)\n",
      "\n",
      "Solution count 1: 343 \n",
      "\n",
      "Optimal solution found (tolerance 1.00e-04)\n",
      "Best objective 3.430000000000e+02, best bound 3.430000000000e+02, gap 0.0000%\n"
     ]
    }
   ],
   "source": [
    "master.model.optimize()"
   ]
  },
  {
   "cell_type": "code",
   "execution_count": 35,
   "metadata": {},
   "outputs": [
    {
     "name": "stdout",
     "output_type": "stream",
     "text": [
      "path[0,0] 1\n",
      "path[1,0] 1\n",
      "path[2,0] 1\n",
      "path[3,0] 1\n",
      "path[4,0] 1\n",
      "path[5,0] 1\n",
      "path[6,0] 1\n",
      "path[7,0] 1\n",
      "path[8,0] 1\n",
      "path[9,0] 1\n"
     ]
    }
   ],
   "source": [
    "for v in master.model.getVars():\n",
    "    print('%s %g' % (v.varName, v.x))"
   ]
  },
  {
   "cell_type": "markdown",
   "metadata": {},
   "source": [
    "##### Test LP Formulation"
   ]
  },
  {
   "cell_type": "markdown",
   "metadata": {},
   "source": [
    "test a simple graph"
   ]
  },
  {
   "cell_type": "code",
   "execution_count": null,
   "metadata": {
    "scrolled": true
   },
   "outputs": [],
   "source": [
    "import datetime as dt\n",
    "print(dt.datetime.now())"
   ]
  },
  {
   "cell_type": "code",
   "execution_count": null,
   "metadata": {},
   "outputs": [],
   "source": [
    "constraints,findConstraints = TestNetworkTime.get_topology_network()"
   ]
  },
  {
   "cell_type": "code",
   "execution_count": null,
   "metadata": {
    "scrolled": false
   },
   "outputs": [],
   "source": [
    "mcflow = MCFlow(TestNetworkTime.graph,len(sources),constraints,integer = False)"
   ]
  },
  {
   "cell_type": "code",
   "execution_count": null,
   "metadata": {
    "scrolled": false
   },
   "outputs": [],
   "source": [
    "mcflow.solve()"
   ]
  },
  {
   "cell_type": "code",
   "execution_count": null,
   "metadata": {},
   "outputs": [],
   "source": [
    "paths = mcflow.get_paths_solution()"
   ]
  },
  {
   "cell_type": "code",
   "execution_count": null,
   "metadata": {},
   "outputs": [],
   "source": [
    "score = 0\n",
    "for _,path in paths.items():\n",
    "    score += int(len(path)/2)\n",
    "    \n",
    "print(f\"score {score}\")"
   ]
  },
  {
   "cell_type": "code",
   "execution_count": null,
   "metadata": {},
   "outputs": [],
   "source": [
    "lengths = []\n",
    "pathsToAllongate = copy.deepcopy(mcflow.solution)\n",
    "for agent,path in pathsToAllongate.items():\n",
    "    lengths.append(len(path))\n",
    "    \n",
    "maxLength = max(lengths)\n",
    "for agent,path in pathsToAllongate.items():\n",
    "    for i in range(maxLength-len(path)):\n",
    "        path.append(None)\n",
    "    pathsToAllongate[agent] = path"
   ]
  },
  {
   "cell_type": "code",
   "execution_count": null,
   "metadata": {},
   "outputs": [],
   "source": [
    "dfPaths = pd.DataFrame(pathsToAllongate)\n",
    "dfPaths"
   ]
  },
  {
   "cell_type": "code",
   "execution_count": null,
   "metadata": {},
   "outputs": [],
   "source": [
    "import datetime as dt\n",
    "print(dt.datetime.now())"
   ]
  },
  {
   "cell_type": "code",
   "execution_count": null,
   "metadata": {},
   "outputs": [],
   "source": [
    "colors = [(230, 25, 75), (60, 180, 75), (255, 225, 25), (0, 130, 200), (245, 130, 48),\n",
    "          (145, 30, 180), (70, 240, 240), (240, 50, 230), (210, 245, 60), (250, 190, 190),\n",
    "          (0, 128, 128), (230, 190, 255), (170, 110, 40), (255, 250, 200), (128, 0, 0), (170, 255, 195),\n",
    "          (128, 128, 0), (255, 215, 180), (0, 0, 128), (128, 128, 128), (255, 255, 255), (0, 0, 0)]\n",
    "colors = [(x[0]/255.,x[1]/255.,x[2]/255.) for x in colors]"
   ]
  },
  {
   "cell_type": "code",
   "execution_count": null,
   "metadata": {
    "scrolled": false
   },
   "outputs": [],
   "source": [
    "flatlandNetwork.show(paths = solutions)"
   ]
  }
 ],
 "metadata": {
  "kernelspec": {
   "display_name": "Python 3",
   "language": "python",
   "name": "python3"
  },
  "language_info": {
   "codemirror_mode": {
    "name": "ipython",
    "version": 3
   },
   "file_extension": ".py",
   "mimetype": "text/x-python",
   "name": "python",
   "nbconvert_exporter": "python",
   "pygments_lexer": "ipython3",
   "version": "3.6.9"
  }
 },
 "nbformat": 4,
 "nbformat_minor": 2
}
