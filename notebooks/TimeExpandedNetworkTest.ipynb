{
 "cells": [
  {
   "cell_type": "markdown",
   "metadata": {},
   "source": [
    "# Imports"
   ]
  },
  {
   "cell_type": "markdown",
   "metadata": {},
   "source": [
    "##### General imports"
   ]
  },
  {
   "cell_type": "code",
   "execution_count": 1,
   "metadata": {},
   "outputs": [],
   "source": [
    "%load_ext autoreload\n",
    "%autoreload 2\n",
    "\n",
    "import sys\n",
    "sys.path.append(\"../\")"
   ]
  },
  {
   "cell_type": "code",
   "execution_count": 2,
   "metadata": {},
   "outputs": [],
   "source": [
    "import networkx as nx\n",
    "import pandas as pd\n",
    "import matplotlib.pyplot as plt\n",
    "import copy\n",
    "from tqdm import tqdm\n",
    "import pprint"
   ]
  },
  {
   "cell_type": "markdown",
   "metadata": {},
   "source": [
    "##### Import from flatland environment "
   ]
  },
  {
   "cell_type": "code",
   "execution_count": 3,
   "metadata": {},
   "outputs": [],
   "source": [
    "from flatland.envs.rail_env import RailEnv\n",
    "from flatland.envs.observations import *\n",
    "from flatland.envs.rail_generators import complex_rail_generator,rail_from_manual_specifications_generator,random_rail_generator, RailGenerator,sparse_rail_generator\n",
    "from flatland.envs.schedule_generators import complex_schedule_generator, random_schedule_generator, ScheduleGenerator, sparse_schedule_generator\n",
    "from flatland.utils.rendertools import RenderTool, AgentRenderVariant"
   ]
  },
  {
   "cell_type": "markdown",
   "metadata": {},
   "source": [
    "##### Import from our framework"
   ]
  },
  {
   "cell_type": "code",
   "execution_count": 4,
   "metadata": {},
   "outputs": [],
   "source": [
    "from src.graph import NetworkGraph"
   ]
  },
  {
   "cell_type": "code",
   "execution_count": 5,
   "metadata": {},
   "outputs": [],
   "source": [
    "from src.flows import *\n",
    "from src.navigation.navigation_path import *"
   ]
  },
  {
   "cell_type": "markdown",
   "metadata": {},
   "source": [
    "# Test of time expanded network"
   ]
  },
  {
   "cell_type": "markdown",
   "metadata": {},
   "source": [
    "##### Create a flatland network"
   ]
  },
  {
   "cell_type": "markdown",
   "metadata": {},
   "source": [
    "sparse netwrok"
   ]
  },
  {
   "cell_type": "code",
   "execution_count": 6,
   "metadata": {
    "scrolled": false
   },
   "outputs": [],
   "source": [
    "if True:\n",
    "    number_agents = 6\n",
    "\n",
    "    size_side = 30\n",
    "    stochastic_data = {'prop_malfunction': 0,  # Percentage of defective agents\n",
    "                       'malfunction_rate': 30,  # Rate of malfunction occurence\n",
    "                       'min_duration': 3,  # Minimal duration of malfunction\n",
    "                       'max_duration': 20  # Max duration of malfunction\n",
    "                       }\n",
    "    speed_ration_map = {1.: 1,  # Fast passenger train\n",
    "                        1. / 2.: 0,  # Fast freight train\n",
    "                        1. / 3.: 0,  # Slow commuter train\n",
    "                        1. / 4.: 0}  # Slow freight train\n",
    "    env = RailEnv(width=size_side,\n",
    "                  height=size_side,\n",
    "                  rail_generator=sparse_rail_generator(max_num_cities=number_agents+2\n",
    "                                                       \n",
    "                                                       ,\n",
    "                                                       # Number of cities in map (where train stations are)\n",
    "                                                       seed=14,  # Random seed\n",
    "                                                       grid_mode=True,\n",
    "                                                       max_rails_between_cities=4,\n",
    "                                                       max_rails_in_city=4,\n",
    "                                                       ),\n",
    "                  schedule_generator=sparse_schedule_generator(speed_ration_map,seed = 2),\n",
    "                  number_of_agents=number_agents,\n",
    "                  stochastic_data=stochastic_data,  # Malfunction data generator\n",
    "                  obs_builder_object=GlobalObsForRailEnv(),\n",
    "                  remove_agents_at_target=True\n",
    "                  )\n",
    "\n",
    "    # RailEnv.DEPOT_POSITION = lambda agent, agent_handle : (agent_handle % env.height,0)\n",
    "    env.reset()\n",
    "\n",
    "    env_renderer = RenderTool(env,\n",
    "                              agent_render_variant=AgentRenderVariant.AGENT_SHOWS_OPTIONS_AND_BOX,\n",
    "                              show_debug=True,\n",
    "                              screen_height=1100,\n",
    "                              screen_width=1800)\n",
    "    env_renderer.reset()\n",
    "\n",
    "    env_renderer.render_env(show=True, show_observations=False, show_predictions=False)\n"
   ]
  },
  {
   "cell_type": "code",
   "execution_count": 7,
   "metadata": {},
   "outputs": [
    {
     "data": {
      "text/plain": [
       "[EnvAgent(initial_position=(6, 24), direction=0, target=(24, 24), moving=False, speed_data={'position_fraction': 0.0, 'speed': 1.0, 'transition_action_on_cellexit': 0}, malfunction_data={'malfunction': 0, 'malfunction_rate': 0.0, 'next_malfunction': 0, 'nr_malfunctions': 0}, status=<RailAgentStatus.READY_TO_DEPART: 0>, position=None, handle=0, old_direction=None, old_position=None),\n",
       " EnvAgent(initial_position=(6, 6), direction=3, target=(6, 25), moving=False, speed_data={'position_fraction': 0.0, 'speed': 1.0, 'transition_action_on_cellexit': 0}, malfunction_data={'malfunction': 0, 'malfunction_rate': 0.0, 'next_malfunction': 0, 'nr_malfunctions': 0}, status=<RailAgentStatus.READY_TO_DEPART: 0>, position=None, handle=1, old_direction=None, old_position=None),\n",
       " EnvAgent(initial_position=(6, 24), direction=2, target=(24, 7), moving=False, speed_data={'position_fraction': 0.0, 'speed': 1.0, 'transition_action_on_cellexit': 0}, malfunction_data={'malfunction': 0, 'malfunction_rate': 0.0, 'next_malfunction': 0, 'nr_malfunctions': 0}, status=<RailAgentStatus.READY_TO_DEPART: 0>, position=None, handle=2, old_direction=None, old_position=None),\n",
       " EnvAgent(initial_position=(6, 24), direction=0, target=(24, 24), moving=False, speed_data={'position_fraction': 0.0, 'speed': 1.0, 'transition_action_on_cellexit': 0}, malfunction_data={'malfunction': 0, 'malfunction_rate': 0.0, 'next_malfunction': 0, 'nr_malfunctions': 0}, status=<RailAgentStatus.READY_TO_DEPART: 0>, position=None, handle=3, old_direction=None, old_position=None),\n",
       " EnvAgent(initial_position=(24, 8), direction=0, target=(24, 24), moving=False, speed_data={'position_fraction': 0.0, 'speed': 1.0, 'transition_action_on_cellexit': 0}, malfunction_data={'malfunction': 0, 'malfunction_rate': 0.0, 'next_malfunction': 0, 'nr_malfunctions': 0}, status=<RailAgentStatus.READY_TO_DEPART: 0>, position=None, handle=4, old_direction=None, old_position=None),\n",
       " EnvAgent(initial_position=(24, 8), direction=2, target=(7, 6), moving=False, speed_data={'position_fraction': 0.0, 'speed': 1.0, 'transition_action_on_cellexit': 0}, malfunction_data={'malfunction': 0, 'malfunction_rate': 0.0, 'next_malfunction': 0, 'nr_malfunctions': 0}, status=<RailAgentStatus.READY_TO_DEPART: 0>, position=None, handle=5, old_direction=None, old_position=None)]"
      ]
     },
     "execution_count": 7,
     "metadata": {},
     "output_type": "execute_result"
    }
   ],
   "source": [
    "env.agents"
   ]
  },
  {
   "cell_type": "code",
   "execution_count": 8,
   "metadata": {},
   "outputs": [],
   "source": [
    "solver = Solver(\"wtf.log\",useDirections=True)"
   ]
  },
  {
   "cell_type": "code",
   "execution_count": 9,
   "metadata": {
    "scrolled": true
   },
   "outputs": [
    {
     "name": "stdout",
     "output_type": "stream",
     "text": [
      "Had to drop 3 agents, conflict with their starting position\n",
      "[2, 3, 5]\n",
      " configuration is to clean problematic agent, deleting agent from env\n"
     ]
    },
    {
     "name": "stderr",
     "output_type": "stream",
     "text": [
      "3it [00:11,  3.86s/it]"
     ]
    },
    {
     "name": "stdout",
     "output_type": "stream",
     "text": [
      "Academic license - for non-commercial use only\n"
     ]
    },
    {
     "name": "stderr",
     "output_type": "stream",
     "text": [
      "\n"
     ]
    },
    {
     "name": "stdout",
     "output_type": "stream",
     "text": [
      "score: 468.0\n"
     ]
    },
    {
     "data": {
      "text/plain": [
       "468.0"
      ]
     },
     "execution_count": 9,
     "metadata": {},
     "output_type": "execute_result"
    }
   ],
   "source": [
    "solver.solve(env)"
   ]
  },
  {
   "cell_type": "code",
   "execution_count": 10,
   "metadata": {
    "scrolled": false
   },
   "outputs": [],
   "source": [
    "solver.run(env,env_renderer)"
   ]
  },
  {
   "cell_type": "code",
   "execution_count": null,
   "metadata": {},
   "outputs": [],
   "source": [
    "env.agents"
   ]
  },
  {
   "cell_type": "code",
   "execution_count": null,
   "metadata": {},
   "outputs": [],
   "source": [
    "env.restart_agents()"
   ]
  },
  {
   "cell_type": "markdown",
   "metadata": {},
   "source": [
    "modify the starting point so that all agents have different starting point"
   ]
  },
  {
   "cell_type": "code",
   "execution_count": null,
   "metadata": {},
   "outputs": [],
   "source": [
    "%load_ext autoreload\n",
    "%autoreload 2\n",
    "import sys\n",
    "sys.path.append(\"../\")\n",
    "\n",
    "import networkx as nx\n",
    "import pandas as pd\n",
    "import matplotlib.pyplot as plt\n",
    "import copy\n",
    "from tqdm import tqdm\n",
    "import pprint\n",
    "\n",
    "from flatland.envs.rail_env import RailEnv\n",
    "from flatland.envs.observations import *\n",
    "from flatland.envs.rail_generators import complex_rail_generator,rail_from_manual_specifications_generator,random_rail_generator, RailGenerator,sparse_rail_generator\n",
    "from flatland.envs.schedule_generators import complex_schedule_generator, random_schedule_generator, ScheduleGenerator, sparse_schedule_generator\n",
    "from flatland.utils.rendertools import RenderTool, AgentRenderVariant\n",
    "\n",
    "from src.flows import *\n",
    "\n",
    "number_agents = 2\n",
    "\n",
    "size_side = 20\n",
    "env = RailEnv(width=size_side,\n",
    "              height=size_side,\n",
    "              rail_generator=complex_rail_generator(nr_start_goal=number_agents, nr_extra=1, \n",
    "                                                    min_dist=6, max_dist=99999, \n",
    "                                                    seed = np.random.randint(0,2000)),\n",
    "              schedule_generator=complex_schedule_generator(),\n",
    "              number_of_agents=number_agents,\n",
    "              obs_builder_object=GlobalObsForRailEnv())\n",
    "\n",
    "env.reset()\n",
    "\n",
    "\n",
    "\n",
    "env_renderer = RenderTool(env)\n",
    "env_renderer.render_env(show=True, show_predictions=False, show_observations=False)\n",
    "\n",
    "solver = Solver(\"test.log\",verbose=False)\n",
    "\n",
    "solver.solve(env,100)\n",
    "\n",
    "env.agents\n",
    "\n",
    "solver.master.get_solution()\n",
    "\n",
    "solver.solution\n",
    "\n",
    "solver.run(env,env_renderer)"
   ]
  },
  {
   "cell_type": "code",
   "execution_count": null,
   "metadata": {},
   "outputs": [],
   "source": [
    "flatlandNetwork = NetworkGraph(np.array(env.rail.grid.tolist()))"
   ]
  },
  {
   "cell_type": "code",
   "execution_count": null,
   "metadata": {},
   "outputs": [],
   "source": [
    "env.restart_agents()"
   ]
  },
  {
   "cell_type": "code",
   "execution_count": null,
   "metadata": {},
   "outputs": [],
   "source": [
    "env_renderer.render_env(show=True, show_predictions=False, show_observations=False)\n"
   ]
  },
  {
   "cell_type": "code",
   "execution_count": null,
   "metadata": {},
   "outputs": [],
   "source": [
    "env.agents[0].status"
   ]
  },
  {
   "cell_type": "code",
   "execution_count": null,
   "metadata": {},
   "outputs": [],
   "source": [
    "env.agents\n",
    "\n",
    "solver.initialSolutionGenerator.stats"
   ]
  },
  {
   "cell_type": "code",
   "execution_count": null,
   "metadata": {
    "scrolled": true
   },
   "outputs": [],
   "source": [
    "solver.solution"
   ]
  },
  {
   "cell_type": "code",
   "execution_count": null,
   "metadata": {},
   "outputs": [],
   "source": [
    "from src.navigation.navigation_path import *"
   ]
  },
  {
   "cell_type": "code",
   "execution_count": null,
   "metadata": {},
   "outputs": [],
   "source": [
    "walk_path(env,env_renderer,solver.solution[0],0)"
   ]
  },
  {
   "cell_type": "code",
   "execution_count": null,
   "metadata": {
    "scrolled": true
   },
   "outputs": [],
   "source": [
    "solver.initialSolutionGenerator.stats"
   ]
  },
  {
   "cell_type": "code",
   "execution_count": null,
   "metadata": {
    "scrolled": true
   },
   "outputs": [],
   "source": [
    "solver2 = Solver(\"test.log\",\"Arc Formulation\")\n",
    "solver2.solve(env,100)"
   ]
  },
  {
   "cell_type": "code",
   "execution_count": null,
   "metadata": {
    "scrolled": true
   },
   "outputs": [],
   "source": [
    "solver2.stats"
   ]
  },
  {
   "cell_type": "code",
   "execution_count": null,
   "metadata": {},
   "outputs": [],
   "source": [
    "solver.stats"
   ]
  },
  {
   "cell_type": "code",
   "execution_count": null,
   "metadata": {},
   "outputs": [],
   "source": [
    "master = solver.master "
   ]
  },
  {
   "cell_type": "code",
   "execution_count": null,
   "metadata": {},
   "outputs": [],
   "source": [
    "result = np.where(np.array(solutions) == 1.)"
   ]
  },
  {
   "cell_type": "code",
   "execution_count": null,
   "metadata": {},
   "outputs": [],
   "source": [
    "solutions = master.model.getAttr(\"X\")"
   ]
  },
  {
   "cell_type": "code",
   "execution_count": null,
   "metadata": {},
   "outputs": [],
   "source": [
    "result"
   ]
  },
  {
   "cell_type": "code",
   "execution_count": null,
   "metadata": {},
   "outputs": [],
   "source": [
    "for v in master.model.getVars():\n",
    "        print('%s %g' % (v.varName, v.x))"
   ]
  },
  {
   "cell_type": "code",
   "execution_count": null,
   "metadata": {},
   "outputs": [],
   "source": [
    "inter = v.VarName.split(\"[\")[-1]\n",
    "inter = inter.split(\"]\")[0]\n",
    "c = int(inter.split(\",\")[0])\n",
    "path = int(inter.split(\",\")[-1])"
   ]
  },
  {
   "cell_type": "code",
   "execution_count": null,
   "metadata": {},
   "outputs": [],
   "source": [
    "c,path"
   ]
  },
  {
   "cell_type": "code",
   "execution_count": null,
   "metadata": {},
   "outputs": [],
   "source": [
    "sources = []\n",
    "sinks = []\n",
    "directions = []\n",
    "for agent in env.agents:\n",
    "    sources.append(agent.initial_position)\n",
    "    sinks.append(agent.target)\n",
    "    try:\n",
    "        directions.append(agent.direction)\n",
    "    except:\n",
    "        pass"
   ]
  },
  {
   "cell_type": "code",
   "execution_count": null,
   "metadata": {
    "scrolled": true
   },
   "outputs": [],
   "source": [
    "sources"
   ]
  },
  {
   "cell_type": "code",
   "execution_count": null,
   "metadata": {},
   "outputs": [],
   "source": [
    "sinks"
   ]
  },
  {
   "cell_type": "code",
   "execution_count": null,
   "metadata": {},
   "outputs": [],
   "source": [
    "directions"
   ]
  },
  {
   "cell_type": "code",
   "execution_count": null,
   "metadata": {
    "scrolled": false
   },
   "outputs": [],
   "source": [
    "solver.master.get_solution()"
   ]
  },
  {
   "cell_type": "code",
   "execution_count": null,
   "metadata": {},
   "outputs": [],
   "source": [
    "if len(directions) == 0:\n",
    "    directions = None"
   ]
  },
  {
   "cell_type": "markdown",
   "metadata": {},
   "source": [
    "##### create a time expanded network"
   ]
  },
  {
   "cell_type": "code",
   "execution_count": null,
   "metadata": {},
   "outputs": [],
   "source": [
    "import time"
   ]
  },
  {
   "cell_type": "code",
   "execution_count": null,
   "metadata": {
    "scrolled": true
   },
   "outputs": [],
   "source": [
    "start = time.time()\n",
    "TestNetworkTime = TimeNetwork(flatlandNetwork, depth=200)\n",
    "stop = time.time()\n",
    "print(f'time taken to build the graph: {stop-start}')"
   ]
  },
  {
   "cell_type": "code",
   "execution_count": null,
   "metadata": {
    "scrolled": true
   },
   "outputs": [],
   "source": [
    "TestNetworkTime.connect_sources_and_sink(sources,sinks,directions)"
   ]
  },
  {
   "cell_type": "markdown",
   "metadata": {},
   "source": [
    "### create initial solution"
   ]
  },
  {
   "cell_type": "code",
   "execution_count": null,
   "metadata": {},
   "outputs": [],
   "source": [
    "from tqdm import tqdm"
   ]
  },
  {
   "cell_type": "code",
   "execution_count": null,
   "metadata": {},
   "outputs": [],
   "source": [
    "constraints, find_constraints = TestNetworkTime.get_topology_network()"
   ]
  },
  {
   "cell_type": "code",
   "execution_count": null,
   "metadata": {},
   "outputs": [],
   "source": [
    "test = InitialSolutionGenerator(TestNetworkTime,constraints,find_constraints,len(sources))"
   ]
  },
  {
   "cell_type": "code",
   "execution_count": null,
   "metadata": {
    "scrolled": false
   },
   "outputs": [],
   "source": [
    "solution = test.getInitialSolution()"
   ]
  },
  {
   "cell_type": "code",
   "execution_count": null,
   "metadata": {
    "scrolled": true
   },
   "outputs": [],
   "source": [
    "test.showStats()"
   ]
  },
  {
   "cell_type": "code",
   "execution_count": null,
   "metadata": {
    "scrolled": true
   },
   "outputs": [],
   "source": [
    "solution"
   ]
  },
  {
   "cell_type": "code",
   "execution_count": null,
   "metadata": {},
   "outputs": [],
   "source": [
    "len(solution)"
   ]
  },
  {
   "cell_type": "code",
   "execution_count": null,
   "metadata": {},
   "outputs": [],
   "source": [
    "cost = 0\n",
    "for p in solution:\n",
    "    cost += len(p)\n",
    "    \n",
    "print(cost)"
   ]
  },
  {
   "cell_type": "code",
   "execution_count": null,
   "metadata": {},
   "outputs": [],
   "source": [
    "solver = Solver(\"./test_new.log\",useDirections=True)"
   ]
  },
  {
   "cell_type": "code",
   "execution_count": null,
   "metadata": {
    "scrolled": false
   },
   "outputs": [],
   "source": [
    "solver.solve(env)"
   ]
  },
  {
   "cell_type": "code",
   "execution_count": null,
   "metadata": {
    "scrolled": true
   },
   "outputs": [],
   "source": [
    "starter = [p[0] for _,p in solver.solution_cell.items()]\n",
    "finished = [p[-1] for _,p in solver.solution_cell.items()]"
   ]
  },
  {
   "cell_type": "code",
   "execution_count": null,
   "metadata": {},
   "outputs": [],
   "source": [
    "starter"
   ]
  },
  {
   "cell_type": "code",
   "execution_count": null,
   "metadata": {
    "scrolled": true
   },
   "outputs": [],
   "source": [
    "finished"
   ]
  },
  {
   "cell_type": "code",
   "execution_count": null,
   "metadata": {},
   "outputs": [],
   "source": [
    "initial_positions_agents = [agent.initial_position for agent in env.agents]\n",
    "destination_agents = [agent.target for agent in env.agents]"
   ]
  },
  {
   "cell_type": "code",
   "execution_count": null,
   "metadata": {},
   "outputs": [],
   "source": [
    "starter"
   ]
  },
  {
   "cell_type": "code",
   "execution_count": null,
   "metadata": {},
   "outputs": [],
   "source": [
    "env.agents"
   ]
  },
  {
   "cell_type": "code",
   "execution_count": null,
   "metadata": {
    "scrolled": false
   },
   "outputs": [],
   "source": []
  },
  {
   "cell_type": "code",
   "execution_count": null,
   "metadata": {},
   "outputs": [],
   "source": [
    "env.restart_agents()"
   ]
  },
  {
   "cell_type": "code",
   "execution_count": null,
   "metadata": {},
   "outputs": [],
   "source": [
    "env.agents"
   ]
  },
  {
   "cell_type": "code",
   "execution_count": null,
   "metadata": {},
   "outputs": [],
   "source": [
    "paths = solver.prepare_paths(env)"
   ]
  },
  {
   "cell_type": "code",
   "execution_count": null,
   "metadata": {},
   "outputs": [],
   "source": [
    "droppped = [6, 9, 13, 14, 15, 18, 19]"
   ]
  },
  {
   "cell_type": "code",
   "execution_count": null,
   "metadata": {},
   "outputs": [],
   "source": [
    "solver.dropped = droppped"
   ]
  },
  {
   "cell_type": "code",
   "execution_count": null,
   "metadata": {},
   "outputs": [],
   "source": [
    "solver.run(env,env_renderer)"
   ]
  },
  {
   "cell_type": "code",
   "execution_count": null,
   "metadata": {},
   "outputs": [],
   "source": [
    "env_renderer.render_env(show = True,show_predictions=False,show_observations= False)"
   ]
  },
  {
   "cell_type": "code",
   "execution_count": null,
   "metadata": {
    "scrolled": false
   },
   "outputs": [],
   "source": [
    "env.agents"
   ]
  },
  {
   "cell_type": "code",
   "execution_count": null,
   "metadata": {},
   "outputs": [],
   "source": [
    "solver.solution_cell[0][0] = (9,8)"
   ]
  },
  {
   "cell_type": "code",
   "execution_count": null,
   "metadata": {},
   "outputs": [],
   "source": [
    "_ = env.step({0:4,1:2,2:4})\n",
    "_ = env.step({0:4,1:2,2:4})\n",
    "_ = env.step({0:1,1:4,2:1})"
   ]
  },
  {
   "cell_type": "code",
   "execution_count": null,
   "metadata": {},
   "outputs": [],
   "source": [
    " _ = env.step({i:1 for i in range(3)})"
   ]
  },
  {
   "cell_type": "code",
   "execution_count": null,
   "metadata": {},
   "outputs": [],
   "source": [
    "env_renderer.render_env(show=True, \n",
    "                            show_predictions=False, \n",
    "                            show_observations=False)"
   ]
  },
  {
   "cell_type": "code",
   "execution_count": null,
   "metadata": {},
   "outputs": [],
   "source": [
    "for k in range(number_agents):\n",
    "    _ = env.step({k:1})\n",
    "    env_renderer.render_env(show=True, \n",
    "                            show_predictions=False, \n",
    "                            show_observations=False)\n",
    "    #_ = env.step({k:actions_list[k][0]})\n",
    "    env_renderer.render_env(show=True, \n",
    "                            show_predictions=False, \n",
    "                            show_observations=False)"
   ]
  },
  {
   "cell_type": "code",
   "execution_count": null,
   "metadata": {},
   "outputs": [],
   "source": [
    "_ = env.step({})\n",
    "env_renderer.render_env(show=True, show_predictions=False, show_observations=False)"
   ]
  },
  {
   "cell_type": "code",
   "execution_count": null,
   "metadata": {},
   "outputs": [],
   "source": [
    "env_renderer.render_env(show=True, show_predictions=False, show_observations=False)"
   ]
  },
  {
   "cell_type": "code",
   "execution_count": null,
   "metadata": {},
   "outputs": [],
   "source": [
    "actions_list = [actions_for_path(path, env.agents[k].direction) for k, path in solver.solution_cell.items()]"
   ]
  },
  {
   "cell_type": "code",
   "execution_count": null,
   "metadata": {},
   "outputs": [],
   "source": [
    "setup_env(env,[p for _,p in solver.solution_cell.items()],actions_list)"
   ]
  },
  {
   "cell_type": "code",
   "execution_count": null,
   "metadata": {},
   "outputs": [],
   "source": [
    "check_position(1,env,[p for _,p in solver.solution_cell.items()])"
   ]
  },
  {
   "cell_type": "code",
   "execution_count": null,
   "metadata": {},
   "outputs": [],
   "source": [
    "i = 1"
   ]
  },
  {
   "cell_type": "code",
   "execution_count": null,
   "metadata": {},
   "outputs": [],
   "source": [
    "actions_dict = {k:actions_list[k][i] for k in range(3) if len(actions_list[k])>i}\n",
    "env.step(actions_dict)\n",
    "check_position(i+1,env,[p for _,p in solver.solution_cell.items()])\n",
    "env_renderer.render_env(show=True, show_predictions=False, \n",
    "                        show_observations=False)\n",
    "i += 1"
   ]
  },
  {
   "cell_type": "code",
   "execution_count": null,
   "metadata": {},
   "outputs": [],
   "source": [
    "env.agents"
   ]
  },
  {
   "cell_type": "code",
   "execution_count": null,
   "metadata": {},
   "outputs": [],
   "source": [
    "i"
   ]
  },
  {
   "cell_type": "code",
   "execution_count": null,
   "metadata": {},
   "outputs": [],
   "source": [
    "env.agents[0].position"
   ]
  },
  {
   "cell_type": "code",
   "execution_count": null,
   "metadata": {},
   "outputs": [],
   "source": [
    "solver.solution_cell[0]"
   ]
  },
  {
   "cell_type": "code",
   "execution_count": null,
   "metadata": {},
   "outputs": [],
   "source": [
    "[len(p) for p in actions_list]"
   ]
  },
  {
   "cell_type": "code",
   "execution_count": null,
   "metadata": {},
   "outputs": [],
   "source": [
    "walk_path(env,env_renderer,path_faulty,1)"
   ]
  },
  {
   "cell_type": "code",
   "execution_count": null,
   "metadata": {},
   "outputs": [],
   "source": [
    "path_faulty = solver.solution_cell[1]"
   ]
  },
  {
   "cell_type": "code",
   "execution_count": null,
   "metadata": {},
   "outputs": [],
   "source": [
    "from src.navigation.navigation_path import *"
   ]
  },
  {
   "cell_type": "code",
   "execution_count": null,
   "metadata": {},
   "outputs": [],
   "source": [
    "actions = actions_for_path(path_faulty,env.agents[1].direction)"
   ]
  },
  {
   "cell_type": "code",
   "execution_count": null,
   "metadata": {},
   "outputs": [],
   "source": [
    "print(actions)"
   ]
  },
  {
   "cell_type": "code",
   "execution_count": null,
   "metadata": {},
   "outputs": [],
   "source": [
    "_= env.step({1:1})\n",
    "i = 0"
   ]
  },
  {
   "cell_type": "code",
   "execution_count": null,
   "metadata": {},
   "outputs": [],
   "source": [
    "_ = env.step({1:actions[i]})\n",
    "print(actions[i])\n",
    "env_renderer.render_env(show=True, \n",
    "                        show_predictions=False, \n",
    "                        show_observations=False)\n",
    "i += 1"
   ]
  },
  {
   "cell_type": "code",
   "execution_count": null,
   "metadata": {
    "scrolled": true
   },
   "outputs": [],
   "source": [
    "solver.solution_cell"
   ]
  },
  {
   "cell_type": "code",
   "execution_count": null,
   "metadata": {
    "scrolled": false
   },
   "outputs": [],
   "source": [
    "cost = 0\n",
    "for p in solver.initialSolutionGenerator.solution:\n",
    "    cost += len(p)\n",
    "    \n",
    "print(cost)"
   ]
  },
  {
   "cell_type": "code",
   "execution_count": null,
   "metadata": {},
   "outputs": [],
   "source": [
    "env.agents"
   ]
  },
  {
   "cell_type": "code",
   "execution_count": null,
   "metadata": {
    "scrolled": true
   },
   "outputs": [],
   "source": [
    "solver.solution_cell"
   ]
  },
  {
   "cell_type": "code",
   "execution_count": null,
   "metadata": {},
   "outputs": [],
   "source": [
    "env.agents"
   ]
  },
  {
   "cell_type": "code",
   "execution_count": null,
   "metadata": {},
   "outputs": [],
   "source": [
    "solver.solution_cell[]"
   ]
  },
  {
   "cell_type": "code",
   "execution_count": null,
   "metadata": {
    "scrolled": false
   },
   "outputs": [],
   "source": [
    "longest = 0\n",
    "for agent,path in solver.solution_cell.items():\n",
    "        longest = max(longest,len(path))\n"
   ]
  },
  {
   "cell_type": "code",
   "execution_count": null,
   "metadata": {},
   "outputs": [],
   "source": [
    "pathsSameSize = []"
   ]
  },
  {
   "cell_type": "code",
   "execution_count": null,
   "metadata": {},
   "outputs": [],
   "source": [
    "for agent,path in solver.solution_cell.items():\n",
    "    for i in range(longest-len(path)):\n",
    "        path.append(None)\n",
    "    pathsSameSize.append(path)"
   ]
  },
  {
   "cell_type": "code",
   "execution_count": null,
   "metadata": {
    "scrolled": false
   },
   "outputs": [],
   "source": [
    "for i in range(longest-1):\n",
    "    cell_used = []\n",
    "    cell_to_be_used = []\n",
    "    for p in pathsSameSize:\n",
    "        cell_used.append(p[i])\n",
    "        cell_to_be_used.append(p[i+1])\n",
    "    if len(set(cell_used)) != len(cell_used) and None not in cell_used:\n",
    "        print(\"error at time \",i)\n",
    "        print(cell_used)\n",
    "    usedattwotimestep = set(cell_used).intersection(cell_to_be_used)\n",
    "    if len(usedattwotimestep)>0:\n",
    "        for i,elt in enumerate(cell_used):\n",
    "            for j,elt2 in enumerate(cell_to_be_used):\n",
    "                if i!= j and elt2 == elt and elt2 is not None:\n",
    "                    print(\"swapping\")\n",
    "                    print(cell_used)\n",
    "                    print(cell_to_be_used)\n",
    "                    print(\"\")"
   ]
  },
  {
   "cell_type": "code",
   "execution_count": null,
   "metadata": {},
   "outputs": [],
   "source": [
    "from src.flows.PricingProblem import PricingSolver"
   ]
  },
  {
   "cell_type": "code",
   "execution_count": null,
   "metadata": {
    "scrolled": true
   },
   "outputs": [],
   "source": [
    "start = time.time()\n",
    "flag = True\n",
    "iteration = 1\n",
    "master = MasterProblem.MasterProblem(solution,constraints,find_constraints,number_agents)\n",
    "master.build()\n",
    "pricingSolver = PricingSolver(TestNetworkTime.graph,constraints,find_constraints,len(sources))\n",
    "while flag:\n",
    "    print(\"iteration \",iteration)\n",
    "    master.solveRelaxedModel()\n",
    "    duals = master.getDualVariables()\n",
    "    pathsToAdd, flag = pricingSolver.get_columns_to_add(master.getDualVariables(),master.constraintsActivated)\n",
    "    if flag:\n",
    "        #pprint.pprint(pathsToAdd)\n",
    "        print(f\" commodities with updated paths: {pathsToAdd.keys()}\")\n",
    "        iteration+= 1\n",
    "        master.addColumn(pathsToAdd)\n",
    "print(f\"column generation method took {np.round(time.time()-start,3)} sec\")"
   ]
  },
  {
   "cell_type": "code",
   "execution_count": null,
   "metadata": {
    "scrolled": true
   },
   "outputs": [],
   "source": [
    "master.relaxedModel.objVal"
   ]
  },
  {
   "cell_type": "code",
   "execution_count": null,
   "metadata": {},
   "outputs": [],
   "source": [
    "master.model.optimize()"
   ]
  },
  {
   "cell_type": "code",
   "execution_count": null,
   "metadata": {},
   "outputs": [],
   "source": [
    "master.model.objVal"
   ]
  },
  {
   "cell_type": "code",
   "execution_count": null,
   "metadata": {},
   "outputs": [],
   "source": [
    "for v in master.relaxedModel.getVars():\n",
    "    print('%s %g' % (v.varName, v.x))"
   ]
  },
  {
   "cell_type": "code",
   "execution_count": null,
   "metadata": {
    "scrolled": false
   },
   "outputs": [],
   "source": [
    "for v in master.model.getVars():\n",
    "    print('%s %g' % (v.varName, v.x))"
   ]
  },
  {
   "cell_type": "code",
   "execution_count": null,
   "metadata": {
    "scrolled": false
   },
   "outputs": [],
   "source": [
    "master.cost"
   ]
  },
  {
   "cell_type": "code",
   "execution_count": null,
   "metadata": {},
   "outputs": [],
   "source": [
    "master.model.write(\"temp/test.lp\")"
   ]
  },
  {
   "cell_type": "markdown",
   "metadata": {},
   "source": [
    "##### Test LP Formulation"
   ]
  },
  {
   "cell_type": "markdown",
   "metadata": {},
   "source": [
    "test a simple graph"
   ]
  },
  {
   "cell_type": "code",
   "execution_count": null,
   "metadata": {
    "scrolled": true
   },
   "outputs": [],
   "source": [
    "import datetime as dt\n",
    "print(dt.datetime.now())"
   ]
  },
  {
   "cell_type": "code",
   "execution_count": null,
   "metadata": {},
   "outputs": [],
   "source": [
    "constraints,findConstraints = TestNetworkTime.get_topology_network()"
   ]
  },
  {
   "cell_type": "code",
   "execution_count": null,
   "metadata": {
    "scrolled": false
   },
   "outputs": [],
   "source": [
    "mcflow = MCFlow(TestNetworkTime.graph,len(sources),constraints,integer = True)"
   ]
  },
  {
   "cell_type": "code",
   "execution_count": null,
   "metadata": {
    "scrolled": false
   },
   "outputs": [],
   "source": [
    "mcflow.solve()"
   ]
  },
  {
   "cell_type": "code",
   "execution_count": null,
   "metadata": {},
   "outputs": [],
   "source": [
    "paths = solver2.mcflow.solution_complete_edges"
   ]
  },
  {
   "cell_type": "code",
   "execution_count": null,
   "metadata": {},
   "outputs": [],
   "source": [
    "score = 0\n",
    "for _,path in paths.items():\n",
    "    score += len(path)\n",
    "    \n",
    "print(f\"score {score}\")"
   ]
  },
  {
   "cell_type": "code",
   "execution_count": null,
   "metadata": {},
   "outputs": [],
   "source": [
    "mcflow = solver2.mcflow"
   ]
  },
  {
   "cell_type": "code",
   "execution_count": null,
   "metadata": {
    "scrolled": true
   },
   "outputs": [],
   "source": [
    "paths"
   ]
  },
  {
   "cell_type": "code",
   "execution_count": null,
   "metadata": {},
   "outputs": [],
   "source": [
    "lengths = []\n",
    "pathsToAllongate = copy.deepcopy(mcflow.solution)\n",
    "for agent,path in pathsToAllongate.items():\n",
    "    lengths.append(len(path))\n",
    "    \n",
    "maxLength = max(lengths)\n",
    "for agent,path in pathsToAllongate.items():\n",
    "    for i in range(maxLength-len(path)):\n",
    "        path.append(None)\n",
    "    pathsToAllongate[agent] = path"
   ]
  },
  {
   "cell_type": "code",
   "execution_count": null,
   "metadata": {},
   "outputs": [],
   "source": [
    "dfPaths = pd.DataFrame(pathsToAllongate)\n",
    "dfPaths"
   ]
  },
  {
   "cell_type": "code",
   "execution_count": null,
   "metadata": {},
   "outputs": [],
   "source": [
    "colors = [(230, 25, 75), (60, 180, 75), (255, 225, 25), (0, 130, 200), (245, 130, 48),\n",
    "          (145, 30, 180), (70, 240, 240), (240, 50, 230), (210, 245, 60), (250, 190, 190),\n",
    "          (0, 128, 128), (230, 190, 255), (170, 110, 40), (255, 250, 200), (128, 0, 0), (170, 255, 195),\n",
    "          (128, 128, 0), (255, 215, 180), (0, 0, 128), (128, 128, 128), (255, 255, 255), (0, 0, 0)]\n",
    "colors = [(x[0]/255.,x[1]/255.,x[2]/255.) for x in colors]"
   ]
  },
  {
   "cell_type": "code",
   "execution_count": null,
   "metadata": {
    "scrolled": false
   },
   "outputs": [],
   "source": [
    "solver.transitionNetwork.show(paths = mcflow.solution_complete_edges)"
   ]
  }
 ],
 "metadata": {
  "kernelspec": {
   "display_name": "Python 3",
   "language": "python",
   "name": "python3"
  },
  "language_info": {
   "codemirror_mode": {
    "name": "ipython",
    "version": 3
   },
   "file_extension": ".py",
   "mimetype": "text/x-python",
   "name": "python",
   "nbconvert_exporter": "python",
   "pygments_lexer": "ipython3",
   "version": "3.6.9"
  }
 },
 "nbformat": 4,
 "nbformat_minor": 2
}
