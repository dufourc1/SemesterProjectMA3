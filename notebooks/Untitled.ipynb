{
 "cells": [
  {
   "cell_type": "code",
   "execution_count": 6,
   "metadata": {},
   "outputs": [],
   "source": [
    "import matplotlib\n",
    "import matplotlib.pyplot as plt\n",
    "import numpy as np\n",
    "import sys\n",
    "sys.path.append(\"../\")\n",
    "from src.graph import NetworkGraph"
   ]
  },
  {
   "cell_type": "code",
   "execution_count": 15,
   "metadata": {},
   "outputs": [],
   "source": [
    "from tqdm import tqdm"
   ]
  },
  {
   "cell_type": "code",
   "execution_count": 7,
   "metadata": {},
   "outputs": [],
   "source": [
    "from flatland.envs.rail_env import RailEnv\n",
    "from flatland.envs.observations import *\n",
    "from flatland.envs.rail_generators import complex_rail_generator,rail_from_manual_specifications_generator,random_rail_generator, RailGenerator\n",
    "from flatland.envs.schedule_generators import complex_schedule_generator, random_schedule_generator, ScheduleGenerator\n",
    "from flatland.utils.rendertools import RenderTool\n",
    "from flatland.envs.rail_env import RailEnv\n",
    "from flatland.envs.observations import *\n",
    "from flatland.envs.rail_generators import complex_rail_generator,rail_from_manual_specifications_generator,random_rail_generator, RailGenerator,sparse_rail_generator\n",
    "from flatland.envs.schedule_generators import complex_schedule_generator, random_schedule_generator, ScheduleGenerator, sparse_schedule_generator\n",
    "from flatland.utils.rendertools import RenderTool, AgentRenderVariant"
   ]
  },
  {
   "cell_type": "code",
   "execution_count": 8,
   "metadata": {},
   "outputs": [],
   "source": [
    "def create_env_sparse(height,width,seed,number_of_agents=5):\n",
    "\n",
    "    stochastic_data = {'prop_malfunction': 0,  # Percentage of defective agents\n",
    "                       'malfunction_rate': 30,  # Rate of malfunction occurence\n",
    "                       'min_duration': 3,  # Minimal duration of malfunction\n",
    "                       'max_duration': 20  # Max duration of malfunction\n",
    "                       }\n",
    "    speed_ration_map = {1.: 1,  # Fast passenger train\n",
    "                        1. / 2.: 0,  # Fast freight train\n",
    "                        1. / 3.: 0,  # Slow commuter train\n",
    "                        1. / 4.: 0}  # Slow freight train\n",
    "    env = RailEnv(width=height,\n",
    "                  height=width,\n",
    "                  rail_generator=sparse_rail_generator(max_num_cities=number_of_agents+2,  \n",
    "                                                       seed=seed, \n",
    "                                                       grid_mode=False,\n",
    "                                                       max_rails_between_cities=4,\n",
    "                                                       max_rails_in_city=4,\n",
    "                                                       ),\n",
    "                  schedule_generator=sparse_schedule_generator(speed_ration_map,seed = seed),\n",
    "                  number_of_agents=number_of_agents,\n",
    "                  stochastic_data=stochastic_data,  \n",
    "                  obs_builder_object=GlobalObsForRailEnv(),\n",
    "                  remove_agents_at_target=True\n",
    "                  )\n",
    "    env.reset()\n",
    "\n",
    "    return env"
   ]
  },
  {
   "cell_type": "code",
   "execution_count": 9,
   "metadata": {},
   "outputs": [],
   "source": [
    "def create_env(height,width,seed,number_of_agents=5):\n",
    "    env = RailEnv(width=width,\n",
    "              height=height,\n",
    "              rail_generator=complex_rail_generator(nr_start_goal=20, nr_extra=1, \n",
    "                                                    min_dist=6, max_dist=99999, seed = seed),\n",
    "              schedule_generator=complex_schedule_generator(),\n",
    "              number_of_agents=number_of_agents)\n",
    "    \n",
    "    env.reset()\n",
    "    \n",
    "    return env"
   ]
  },
  {
   "cell_type": "code",
   "execution_count": 19,
   "metadata": {},
   "outputs": [],
   "source": [
    "results = {}"
   ]
  },
  {
   "cell_type": "code",
   "execution_count": 20,
   "metadata": {
    "scrolled": true
   },
   "outputs": [
    {
     "name": "stderr",
     "output_type": "stream",
     "text": [
      "\n",
      "  0%|          | 0/49 [00:00<?, ?it/s]\u001b[A\n",
      "  2%|▏         | 1/49 [00:01<00:49,  1.03s/it]\u001b[A\n",
      "  4%|▍         | 2/49 [00:01<00:43,  1.09it/s]\u001b[A\n",
      "  6%|▌         | 3/49 [00:02<00:47,  1.03s/it]\u001b[A\n",
      "  8%|▊         | 4/49 [00:05<01:03,  1.40s/it]\u001b[A\n",
      " 10%|█         | 5/49 [00:09<01:32,  2.11s/it]\u001b[A\n",
      " 12%|█▏        | 6/49 [00:13<02:01,  2.83s/it]\u001b[A\n",
      " 14%|█▍        | 7/49 [00:19<02:32,  3.63s/it]\u001b[A\n",
      " 16%|█▋        | 8/49 [00:30<04:00,  5.87s/it]\u001b[A\n",
      " 18%|█▊        | 9/49 [00:41<04:59,  7.50s/it]\u001b[A\n",
      " 20%|██        | 10/49 [00:51<05:21,  8.23s/it]\u001b[A\n",
      " 22%|██▏       | 11/49 [01:08<06:58, 11.01s/it]\u001b[A\n",
      " 24%|██▍       | 12/49 [01:26<08:02, 13.04s/it]\u001b[A\n",
      " 27%|██▋       | 13/49 [01:51<09:54, 16.53s/it]\u001b[A\n",
      " 29%|██▊       | 14/49 [02:17<11:16, 19.34s/it]\u001b[A\n",
      " 31%|███       | 15/49 [03:09<16:30, 29.14s/it]\u001b[A\n",
      " 33%|███▎      | 16/49 [03:41<16:34, 30.12s/it]\u001b[A\n",
      " 35%|███▍      | 17/49 [04:34<19:41, 36.92s/it]\u001b[A\n",
      " 37%|███▋      | 18/49 [06:10<28:18, 54.79s/it]\u001b[A\n",
      " 39%|███▉      | 19/49 [07:33<31:33, 63.13s/it]\u001b[A\n",
      " 41%|████      | 20/49 [09:08<35:05, 72.59s/it]\u001b[A\n",
      " 43%|████▎     | 21/49 [10:36<36:01, 77.21s/it]\u001b[A\n",
      " 45%|████▍     | 22/49 [12:33<40:12, 89.34s/it]\u001b[A\n",
      " 47%|████▋     | 23/49 [14:02<38:40, 89.25s/it]\u001b[A\n",
      " 49%|████▉     | 24/49 [15:55<40:07, 96.29s/it]\u001b[A\n",
      " 51%|█████     | 25/49 [17:49<40:38, 101.60s/it]\u001b[A\n",
      " 53%|█████▎    | 26/49 [20:21<44:42, 116.62s/it]\u001b[A\n",
      " 55%|█████▌    | 27/49 [22:02<41:07, 112.14s/it]\u001b[A\n",
      " 57%|█████▋    | 28/49 [24:59<46:01, 131.48s/it]\u001b[A\n",
      " 59%|█████▉    | 29/49 [28:51<53:50, 161.52s/it]\u001b[A\n",
      " 61%|██████    | 30/49 [31:27<50:39, 160.00s/it]\u001b[A\n",
      " 63%|██████▎   | 31/49 [34:17<48:52, 162.89s/it]\u001b[A\n",
      " 65%|██████▌   | 32/49 [38:13<52:24, 184.99s/it]\u001b[A\n",
      " 67%|██████▋   | 33/49 [44:55<1:06:39, 249.99s/it]\u001b[A\n",
      " 69%|██████▉   | 34/49 [49:06<1:02:34, 250.30s/it]\u001b[A\n",
      " 71%|███████▏  | 35/49 [52:49<56:30, 242.20s/it]  \u001b[A\n",
      " 73%|███████▎  | 36/49 [59:51<1:04:10, 296.15s/it]\u001b[A\n",
      " 76%|███████▌  | 37/49 [1:06:40<1:06:00, 330.02s/it]\u001b[A\n",
      " 78%|███████▊  | 38/49 [1:11:51<59:26, 324.21s/it]  \u001b[A\n",
      " 80%|███████▉  | 39/49 [1:18:37<58:08, 348.80s/it]\u001b[A\n",
      " 82%|████████▏ | 40/49 [1:28:35<1:03:32, 423.64s/it]\u001b[A\n",
      " 84%|████████▎ | 41/49 [1:36:29<58:28, 438.61s/it]  \u001b[A\n",
      " 86%|████████▌ | 42/49 [1:46:33<56:57, 488.28s/it]\u001b[A\n",
      " 88%|████████▊ | 43/49 [1:55:52<50:56, 509.38s/it]\u001b[A\n",
      " 90%|████████▉ | 44/49 [2:05:18<43:51, 526.31s/it]\u001b[A\n",
      " 92%|█████████▏| 45/49 [2:13:51<34:49, 522.46s/it]\u001b[A\n",
      " 94%|█████████▍| 46/49 [2:25:58<29:11, 583.76s/it]\u001b[A"
     ]
    },
    {
     "ename": "KeyboardInterrupt",
     "evalue": "",
     "output_type": "error",
     "traceback": [
      "\u001b[0;31m---------------------------------------------------------------------------\u001b[0m",
      "\u001b[0;31mKeyboardInterrupt\u001b[0m                         Traceback (most recent call last)",
      "\u001b[0;32m<ipython-input-20-6c529be1bb47>\u001b[0m in \u001b[0;36m<module>\u001b[0;34m\u001b[0m\n\u001b[1;32m      2\u001b[0m     \u001b[0mresults\u001b[0m\u001b[0;34m[\u001b[0m\u001b[0mi\u001b[0m\u001b[0;34m*\u001b[0m\u001b[0;36m10\u001b[0m\u001b[0;34m]\u001b[0m \u001b[0;34m=\u001b[0m \u001b[0;34m[\u001b[0m\u001b[0;34m]\u001b[0m\u001b[0;34m\u001b[0m\u001b[0;34m\u001b[0m\u001b[0m\n\u001b[1;32m      3\u001b[0m     \u001b[0;32mfor\u001b[0m \u001b[0mrepet\u001b[0m \u001b[0;32min\u001b[0m \u001b[0mrange\u001b[0m\u001b[0;34m(\u001b[0m\u001b[0;36m3\u001b[0m\u001b[0;34m)\u001b[0m\u001b[0;34m:\u001b[0m\u001b[0;34m\u001b[0m\u001b[0;34m\u001b[0m\u001b[0m\n\u001b[0;32m----> 4\u001b[0;31m         \u001b[0menv\u001b[0m \u001b[0;34m=\u001b[0m \u001b[0mcreate_env\u001b[0m\u001b[0;34m(\u001b[0m\u001b[0mi\u001b[0m\u001b[0;34m*\u001b[0m\u001b[0;36m10\u001b[0m\u001b[0;34m,\u001b[0m\u001b[0mi\u001b[0m\u001b[0;34m*\u001b[0m\u001b[0;36m10\u001b[0m\u001b[0;34m,\u001b[0m\u001b[0;36m1\u001b[0m\u001b[0;34m+\u001b[0m\u001b[0mrepet\u001b[0m\u001b[0;34m,\u001b[0m\u001b[0;36m1\u001b[0m\u001b[0;34m)\u001b[0m\u001b[0;34m\u001b[0m\u001b[0;34m\u001b[0m\u001b[0m\n\u001b[0m\u001b[1;32m      5\u001b[0m         \u001b[0mT\u001b[0m \u001b[0;34m=\u001b[0m \u001b[0;36m4\u001b[0m \u001b[0;34m*\u001b[0m \u001b[0;36m2\u001b[0m \u001b[0;34m*\u001b[0m \u001b[0;34m(\u001b[0m\u001b[0menv\u001b[0m\u001b[0;34m.\u001b[0m\u001b[0mwidth\u001b[0m \u001b[0;34m+\u001b[0m \u001b[0menv\u001b[0m\u001b[0;34m.\u001b[0m\u001b[0mheight\u001b[0m \u001b[0;34m+\u001b[0m \u001b[0;36m20\u001b[0m\u001b[0;34m)\u001b[0m\u001b[0;34m\u001b[0m\u001b[0;34m\u001b[0m\u001b[0m\n\u001b[1;32m      6\u001b[0m         \u001b[0mtest\u001b[0m \u001b[0;34m=\u001b[0m \u001b[0mNetworkGraph\u001b[0m\u001b[0;34m(\u001b[0m\u001b[0mnp\u001b[0m\u001b[0;34m.\u001b[0m\u001b[0marray\u001b[0m\u001b[0;34m(\u001b[0m\u001b[0menv\u001b[0m\u001b[0;34m.\u001b[0m\u001b[0mrail\u001b[0m\u001b[0;34m.\u001b[0m\u001b[0mgrid\u001b[0m\u001b[0;34m.\u001b[0m\u001b[0mtolist\u001b[0m\u001b[0;34m(\u001b[0m\u001b[0;34m)\u001b[0m\u001b[0;34m)\u001b[0m\u001b[0;34m)\u001b[0m\u001b[0;34m\u001b[0m\u001b[0;34m\u001b[0m\u001b[0m\n",
      "\u001b[0;32m<ipython-input-9-ed7e99e5bff4>\u001b[0m in \u001b[0;36mcreate_env\u001b[0;34m(height, width, seed, number_of_agents)\u001b[0m\n\u001b[1;32m      7\u001b[0m               number_of_agents=number_of_agents)\n\u001b[1;32m      8\u001b[0m \u001b[0;34m\u001b[0m\u001b[0m\n\u001b[0;32m----> 9\u001b[0;31m     \u001b[0menv\u001b[0m\u001b[0;34m.\u001b[0m\u001b[0mreset\u001b[0m\u001b[0;34m(\u001b[0m\u001b[0;34m)\u001b[0m\u001b[0;34m\u001b[0m\u001b[0;34m\u001b[0m\u001b[0m\n\u001b[0m\u001b[1;32m     10\u001b[0m \u001b[0;34m\u001b[0m\u001b[0m\n\u001b[1;32m     11\u001b[0m     \u001b[0;32mreturn\u001b[0m \u001b[0menv\u001b[0m\u001b[0;34m\u001b[0m\u001b[0;34m\u001b[0m\u001b[0m\n",
      "\u001b[0;32m~/anaconda3/envs/flatland-rl/lib/python3.6/site-packages/flatland/envs/rail_env.py\u001b[0m in \u001b[0;36mreset\u001b[0;34m(self, regenerate_rail, regenerate_schedule, activate_agents, random_seed)\u001b[0m\n\u001b[1;32m    307\u001b[0m         \u001b[0moptionals\u001b[0m \u001b[0;34m=\u001b[0m \u001b[0;34m{\u001b[0m\u001b[0;34m}\u001b[0m\u001b[0;34m\u001b[0m\u001b[0;34m\u001b[0m\u001b[0m\n\u001b[1;32m    308\u001b[0m         \u001b[0;32mif\u001b[0m \u001b[0mregenerate_rail\u001b[0m \u001b[0;32mor\u001b[0m \u001b[0mself\u001b[0m\u001b[0;34m.\u001b[0m\u001b[0mrail\u001b[0m \u001b[0;32mis\u001b[0m \u001b[0;32mNone\u001b[0m\u001b[0;34m:\u001b[0m\u001b[0;34m\u001b[0m\u001b[0;34m\u001b[0m\u001b[0m\n\u001b[0;32m--> 309\u001b[0;31m             \u001b[0mrail\u001b[0m\u001b[0;34m,\u001b[0m \u001b[0moptionals\u001b[0m \u001b[0;34m=\u001b[0m \u001b[0mself\u001b[0m\u001b[0;34m.\u001b[0m\u001b[0mrail_generator\u001b[0m\u001b[0;34m(\u001b[0m\u001b[0mself\u001b[0m\u001b[0;34m.\u001b[0m\u001b[0mwidth\u001b[0m\u001b[0;34m,\u001b[0m \u001b[0mself\u001b[0m\u001b[0;34m.\u001b[0m\u001b[0mheight\u001b[0m\u001b[0;34m,\u001b[0m \u001b[0mself\u001b[0m\u001b[0;34m.\u001b[0m\u001b[0mget_num_agents\u001b[0m\u001b[0;34m(\u001b[0m\u001b[0;34m)\u001b[0m\u001b[0;34m,\u001b[0m \u001b[0mself\u001b[0m\u001b[0;34m.\u001b[0m\u001b[0mnum_resets\u001b[0m\u001b[0;34m)\u001b[0m\u001b[0;34m\u001b[0m\u001b[0;34m\u001b[0m\u001b[0m\n\u001b[0m\u001b[1;32m    310\u001b[0m \u001b[0;34m\u001b[0m\u001b[0m\n\u001b[1;32m    311\u001b[0m             \u001b[0mself\u001b[0m\u001b[0;34m.\u001b[0m\u001b[0mrail\u001b[0m \u001b[0;34m=\u001b[0m \u001b[0mrail\u001b[0m\u001b[0;34m\u001b[0m\u001b[0;34m\u001b[0m\u001b[0m\n",
      "\u001b[0;32m~/anaconda3/envs/flatland-rl/lib/python3.6/site-packages/flatland/envs/rail_generators.py\u001b[0m in \u001b[0;36mgenerator\u001b[0;34m(width, height, num_agents, num_resets)\u001b[0m\n\u001b[1;32m    136\u001b[0m             new_path = connect_rail_in_grid_map(grid_map, start, goal, rail_trans, Vec2d.get_chebyshev_distance,\n\u001b[1;32m    137\u001b[0m                                                 \u001b[0mflip_start_node_trans\u001b[0m\u001b[0;34m=\u001b[0m\u001b[0;32mTrue\u001b[0m\u001b[0;34m,\u001b[0m \u001b[0mflip_end_node_trans\u001b[0m\u001b[0;34m=\u001b[0m\u001b[0;32mTrue\u001b[0m\u001b[0;34m,\u001b[0m\u001b[0;34m\u001b[0m\u001b[0;34m\u001b[0m\u001b[0m\n\u001b[0;32m--> 138\u001b[0;31m                                                 respect_transition_validity=True, forbidden_cells=None)\n\u001b[0m\u001b[1;32m    139\u001b[0m             \u001b[0;32mif\u001b[0m \u001b[0mlen\u001b[0m\u001b[0;34m(\u001b[0m\u001b[0mnew_path\u001b[0m\u001b[0;34m)\u001b[0m \u001b[0;34m>=\u001b[0m \u001b[0;36m2\u001b[0m\u001b[0;34m:\u001b[0m\u001b[0;34m\u001b[0m\u001b[0;34m\u001b[0m\u001b[0m\n\u001b[1;32m    140\u001b[0m                 \u001b[0mnr_created\u001b[0m \u001b[0;34m+=\u001b[0m \u001b[0;36m1\u001b[0m\u001b[0;34m\u001b[0m\u001b[0;34m\u001b[0m\u001b[0m\n",
      "\u001b[0;32m~/anaconda3/envs/flatland-rl/lib/python3.6/site-packages/flatland/envs/grid4_generators_utils.py\u001b[0m in \u001b[0;36mconnect_rail_in_grid_map\u001b[0;34m(grid_map, start, end, rail_trans, a_star_distance_function, flip_start_node_trans, flip_end_node_trans, respect_transition_validity, forbidden_cells, avoid_rail)\u001b[0m\n\u001b[1;32m     41\u001b[0m     path: IntVector2DArray = a_star(grid_map, start, end, a_star_distance_function, avoid_rail,\n\u001b[1;32m     42\u001b[0m                                     \u001b[0mrespect_transition_validity\u001b[0m\u001b[0;34m,\u001b[0m\u001b[0;34m\u001b[0m\u001b[0;34m\u001b[0m\u001b[0m\n\u001b[0;32m---> 43\u001b[0;31m                                     forbidden_cells)\n\u001b[0m\u001b[1;32m     44\u001b[0m     \u001b[0;32mif\u001b[0m \u001b[0mlen\u001b[0m\u001b[0;34m(\u001b[0m\u001b[0mpath\u001b[0m\u001b[0;34m)\u001b[0m \u001b[0;34m<\u001b[0m \u001b[0;36m2\u001b[0m\u001b[0;34m:\u001b[0m\u001b[0;34m\u001b[0m\u001b[0;34m\u001b[0m\u001b[0m\n\u001b[1;32m     45\u001b[0m         \u001b[0;32mreturn\u001b[0m \u001b[0;34m[\u001b[0m\u001b[0;34m]\u001b[0m\u001b[0;34m\u001b[0m\u001b[0;34m\u001b[0m\u001b[0m\n",
      "\u001b[0;32m~/anaconda3/envs/flatland-rl/lib/python3.6/site-packages/flatland/core/grid/grid4_astar.py\u001b[0m in \u001b[0;36ma_star\u001b[0;34m(grid_map, start, end, a_star_distance_function, avoid_rails, respect_transition_validity, forbidden_cells)\u001b[0m\n\u001b[1;32m     73\u001b[0m         \u001b[0mcurrent_node\u001b[0m \u001b[0;34m=\u001b[0m \u001b[0;32mNone\u001b[0m\u001b[0;34m\u001b[0m\u001b[0;34m\u001b[0m\u001b[0m\n\u001b[1;32m     74\u001b[0m         \u001b[0;32mfor\u001b[0m \u001b[0mitem\u001b[0m \u001b[0;32min\u001b[0m \u001b[0mopen_nodes\u001b[0m\u001b[0;34m:\u001b[0m\u001b[0;34m\u001b[0m\u001b[0;34m\u001b[0m\u001b[0m\n\u001b[0;32m---> 75\u001b[0;31m             \u001b[0;32mif\u001b[0m \u001b[0mcurrent_node\u001b[0m \u001b[0;32mis\u001b[0m \u001b[0;32mNone\u001b[0m\u001b[0;34m:\u001b[0m\u001b[0;34m\u001b[0m\u001b[0;34m\u001b[0m\u001b[0m\n\u001b[0m\u001b[1;32m     76\u001b[0m                 \u001b[0mcurrent_node\u001b[0m \u001b[0;34m=\u001b[0m \u001b[0mitem\u001b[0m\u001b[0;34m\u001b[0m\u001b[0;34m\u001b[0m\u001b[0m\n\u001b[1;32m     77\u001b[0m                 \u001b[0;32mcontinue\u001b[0m\u001b[0;34m\u001b[0m\u001b[0;34m\u001b[0m\u001b[0m\n",
      "\u001b[0;31mKeyboardInterrupt\u001b[0m: "
     ]
    }
   ],
   "source": [
    "for i in tqdm(range(1,50)):\n",
    "    results[i*10] = []\n",
    "    for repet in range(3):\n",
    "        env = create_env(i*10,i*10,1+repet,1)\n",
    "        T = 4 * 2 * (env.width + env.height + 20)\n",
    "        test = NetworkGraph(np.array(env.rail.grid.tolist()))\n",
    "        results[i*10].append(len(test.edges)*T)"
   ]
  },
  {
   "cell_type": "code",
   "execution_count": 21,
   "metadata": {
    "scrolled": false
   },
   "outputs": [
    {
     "data": {
      "text/plain": [
       "{10: [103680, 99200, 96000],\n",
       " 20: [607680, 578880, 589440],\n",
       " 30: [1180160, 1178880, 1287680],\n",
       " 40: [1737600, 1873600, 1800000],\n",
       " 50: [2515200, 2828160, 2461440],\n",
       " 60: [3483200, 3884160, 4453120],\n",
       " 70: [5890560, 4052480, 4718080],\n",
       " 80: [6791040, 5745600, 6606720],\n",
       " 90: [8326400, 8025600, 7651200],\n",
       " 100: [9232960, 8490240, 9166080],\n",
       " 110: [11500800, 10782720, 13013760],\n",
       " 120: [12192960, 13948480, 12933440],\n",
       " 130: [13408640, 14689920, 17928960],\n",
       " 140: [19252800, 15801600, 16147200],\n",
       " 150: [26117120, 18887680, 19353600],\n",
       " 160: [24077440, 21145280, 22962240],\n",
       " 170: [25136640, 21392640, 27077760],\n",
       " 180: [34649920, 26229120, 32448960],\n",
       " 190: [34886400, 27731200, 34003200],\n",
       " 200: [38606400, 38787840, 36388800],\n",
       " 210: [38473600, 40170240, 36227840],\n",
       " 220: [44402880, 49841920, 41900480],\n",
       " 230: [41909760, 55150080, 39237120],\n",
       " 240: [51680000, 55840000, 44752000],\n",
       " 250: [55153280, 62474880, 55760640],\n",
       " 260: [54095040, 67115520, 53835840],\n",
       " 270: [68705280, 71742720, 52622080],\n",
       " 280: [59698240, 82898240, 58760960],\n",
       " 290: [79132800, 81052800, 65491200],\n",
       " 300: [89686720, 76969280, 72525120],\n",
       " 310: [84899840, 89108480, 68904960],\n",
       " 320: [77193600, 80520000, 79981440],\n",
       " 330: [78488320, 103457920, 96701440],\n",
       " 340: [114564800, 105168000, 87976000],\n",
       " 350: [116398080, 106905600, 78865920],\n",
       " 360: [94270080, 105908800, 90433920],\n",
       " 370: [100234880, 129005440, 97802880],\n",
       " 380: [106466880, 134534400, 114853440],\n",
       " 390: [130918400, 153395200, 114419200],\n",
       " 400: [152047680, 137038400, 139596800],\n",
       " 410: [204046080, 142262400, 155702400],\n",
       " 420: [179526720, 145498240, 132646400],\n",
       " 430: [183701760, 153035520, 167875840],\n",
       " 440: [169732800, 154800000, 163627200],\n",
       " 450: [187665280, 157386240, 169765760],\n",
       " 460: [213673280, 186646400, 191729920],\n",
       " 470: []}"
      ]
     },
     "execution_count": 21,
     "metadata": {},
     "output_type": "execute_result"
    }
   ],
   "source": [
    "results"
   ]
  },
  {
   "cell_type": "code",
   "execution_count": 29,
   "metadata": {},
   "outputs": [],
   "source": [
    "x_axis = []\n",
    "y_axis = []\n",
    "for x,ys in results.items():\n",
    "    if x != 470:\n",
    "        x_axis.append(x)\n",
    "        y_axis.append((ys[0]+ys[1]+ys[2])/3)"
   ]
  },
  {
   "cell_type": "code",
   "execution_count": 55,
   "metadata": {},
   "outputs": [],
   "source": [
    "x_axis_sparse = []\n",
    "y_axis_sparse = []\n",
    "for x,ys in results_sparse.items():\n",
    "    if x < 470 and x >10:\n",
    "        x_axis_sparse.append(x)\n",
    "        y_axis_sparse.append((ys[0]+ys[1]+ys[2])/3)"
   ]
  },
  {
   "cell_type": "code",
   "execution_count": 58,
   "metadata": {},
   "outputs": [],
   "source": [
    "ticks = [x_axis[7*i] for i in range(int(len(x_axis)/7)) ]\n",
    "ticks.append(460)"
   ]
  },
  {
   "cell_type": "code",
   "execution_count": 60,
   "metadata": {},
   "outputs": [],
   "source": [
    "ticks = [10, 80, 220, 360, 460]"
   ]
  },
  {
   "cell_type": "code",
   "execution_count": 30,
   "metadata": {},
   "outputs": [],
   "source": [
    "import seaborn as sns\n",
    "sns.set()"
   ]
  },
  {
   "cell_type": "code",
   "execution_count": 74,
   "metadata": {},
   "outputs": [],
   "source": [
    "import matplotlib"
   ]
  },
  {
   "cell_type": "code",
   "execution_count": 75,
   "metadata": {},
   "outputs": [],
   "source": [
    "matplotlib.rc('font', size=10)\n",
    "matplotlib.rc('axes', titlesize=12)"
   ]
  },
  {
   "cell_type": "code",
   "execution_count": 90,
   "metadata": {},
   "outputs": [
    {
     "data": {
      "image/png": "[encoded data removed]",
      "text/plain": [
       "<Figure size 720x360 with 1 Axes>"
      ]
     },
     "metadata": {},
     "output_type": "display_data"
    }
   ],
   "source": [
    "fig, ax = plt.subplots(nrows=1, ncols=1,figsize = (10,5))\n",
    "\n",
    "squads = [f'({x},{x})' for x in ticks]\n",
    "\n",
    "ax.set_xticks(ticks)\n",
    "ax.set_xticklabels(squads)\n",
    "plt.plot(x_axis,y_axis, label = \"complex\")\n",
    "plt.plot(x_axis_sparse,y_axis_sparse,label = \"sparse\")\n",
    "ax = plt.gca()\n",
    "plt.legend()\n",
    "plt.xlabel(\"Size of the environment (height,widht)\")\n",
    "plt.ylabel(\"Edges in time expanded netowrk\")\n",
    "\n",
    "\n",
    "for item in (ax.get_xticklabels() + ax.get_yticklabels()):\n",
    "    item.set_fontsize(12)\n",
    "    \n",
    "for item in [ax.title, ax.xaxis.label, ax.yaxis.label] :\n",
    "    item.set_fontsize(12)\n",
    "    \n",
    "l = plt.legend()\n",
    "for text in l.get_texts():\n",
    "    text.set_fontsize(12)\n",
    "    \n",
    "plt.tight_layout()\n",
    "plt.savefig(\"../reports/reportCharles/img/number_variables.jpg\",dpi = 300)"
   ]
  },
  {
   "cell_type": "code",
   "execution_count": 49,
   "metadata": {},
   "outputs": [],
   "source": [
    "results_sparse ={}"
   ]
  },
  {
   "cell_type": "code",
   "execution_count": 52,
   "metadata": {
    "scrolled": true
   },
   "outputs": [
    {
     "name": "stderr",
     "output_type": "stream",
     "text": [
      "\n",
      "\n",
      "  0%|          | 0/42 [00:00<?, ?it/s]\u001b[A\u001b[A\n",
      "\n",
      "  2%|▏         | 1/42 [00:01<00:42,  1.03s/it]\u001b[A\u001b[A\n",
      "\n",
      "  5%|▍         | 2/42 [00:02<00:51,  1.28s/it]\u001b[A\u001b[A\n",
      "\n",
      "  7%|▋         | 3/42 [00:05<01:04,  1.65s/it]\u001b[A\u001b[A\n",
      "\n",
      " 10%|▉         | 4/42 [00:06<01:00,  1.60s/it]\u001b[A\u001b[A\n",
      "\n",
      " 12%|█▏        | 5/42 [00:13<01:57,  3.18s/it]\u001b[A\u001b[A\n",
      "\n",
      " 14%|█▍        | 6/42 [00:20<02:36,  4.36s/it]\u001b[A\u001b[A\n",
      "\n",
      " 17%|█▋        | 7/42 [00:28<03:02,  5.20s/it]\u001b[A\u001b[A\n",
      "\n",
      " 19%|█▉        | 8/42 [00:49<05:39,  9.99s/it]\u001b[A\u001b[A\n",
      "\n",
      " 21%|██▏       | 9/42 [01:10<07:21, 13.38s/it]\u001b[A\u001b[A\n",
      "\n",
      " 24%|██▍       | 10/42 [01:24<07:11, 13.49s/it]\u001b[A\u001b[A\n",
      "\n",
      " 26%|██▌       | 11/42 [01:49<08:44, 16.92s/it]\u001b[A\u001b[A\n",
      "\n",
      " 29%|██▊       | 12/42 [02:10<09:10, 18.37s/it]\u001b[A\u001b[A\n",
      "\n",
      " 31%|███       | 13/42 [02:35<09:50, 20.35s/it]\u001b[A\u001b[A\n",
      "\n",
      " 33%|███▎      | 14/42 [03:05<10:51, 23.27s/it]\u001b[A\u001b[A\n",
      "\n",
      " 36%|███▌      | 15/42 [03:36<11:25, 25.40s/it]\u001b[A\u001b[A\n",
      "\n",
      " 38%|███▊      | 16/42 [04:14<12:36, 29.09s/it]\u001b[A\u001b[A\n",
      "\n",
      " 40%|████      | 17/42 [04:51<13:08, 31.56s/it]\u001b[A\u001b[A\n",
      "\n",
      " 43%|████▎     | 18/42 [05:21<12:30, 31.29s/it]\u001b[A\u001b[A\n",
      "\n",
      " 45%|████▌     | 19/42 [06:14<14:26, 37.68s/it]\u001b[A\u001b[A\n",
      "\n",
      " 48%|████▊     | 20/42 [07:06<15:26, 42.09s/it]\u001b[A\u001b[A\n",
      "\n",
      " 50%|█████     | 21/42 [07:57<15:33, 44.48s/it]\u001b[A\u001b[A\n",
      "\n",
      " 52%|█████▏    | 22/42 [08:38<14:29, 43.50s/it]\u001b[A\u001b[A\n",
      "\n",
      " 55%|█████▍    | 23/42 [09:08<12:30, 39.51s/it]\u001b[A\u001b[A\n",
      "\n",
      " 57%|█████▋    | 24/42 [09:50<12:05, 40.31s/it]\u001b[A\u001b[A\n",
      "\n",
      " 60%|█████▉    | 25/42 [11:07<14:31, 51.26s/it]\u001b[A\u001b[A\n",
      "\n",
      " 62%|██████▏   | 26/42 [12:23<15:39, 58.73s/it]\u001b[A\u001b[A\n",
      "\n",
      " 64%|██████▍   | 27/42 [13:39<15:56, 63.76s/it]\u001b[A\u001b[A\n",
      "\n",
      " 67%|██████▋   | 28/42 [14:55<15:45, 67.51s/it]\u001b[A\u001b[A\n",
      "\n",
      " 69%|██████▉   | 29/42 [16:11<15:10, 70.05s/it]\u001b[A\u001b[A\n",
      "\n",
      " 71%|███████▏  | 30/42 [17:27<14:23, 71.98s/it]\u001b[A\u001b[A\n",
      "\n",
      " 74%|███████▍  | 31/42 [18:44<13:26, 73.34s/it]\u001b[A\u001b[A\n",
      "\n",
      " 76%|███████▌  | 32/42 [20:01<12:25, 74.51s/it]\u001b[A\u001b[A\n",
      "\n",
      " 79%|███████▊  | 33/42 [21:17<11:13, 74.85s/it]\u001b[A\u001b[A\n",
      "\n",
      " 81%|████████  | 34/42 [22:16<09:22, 70.31s/it]\u001b[A\u001b[A\n",
      "\n",
      " 83%|████████▎ | 35/42 [23:16<07:49, 67.14s/it]\u001b[A\u001b[A\n",
      "\n",
      " 86%|████████▌ | 36/42 [24:16<06:29, 64.97s/it]\u001b[A\u001b[A\n",
      "\n",
      " 88%|████████▊ | 37/42 [28:07<09:34, 114.84s/it]\u001b[A\u001b[A\n",
      "\n",
      " 90%|█████████ | 38/42 [31:58<09:58, 149.61s/it]\u001b[A\u001b[A\n",
      "\n",
      " 93%|█████████▎| 39/42 [35:49<08:41, 173.90s/it]\u001b[A\u001b[A\n",
      "\n",
      " 95%|█████████▌| 40/42 [39:39<06:21, 190.99s/it]\u001b[A\u001b[A\n",
      "\n",
      " 98%|█████████▊| 41/42 [43:30<03:22, 202.76s/it]\u001b[A\u001b[A\n",
      "\n",
      "100%|██████████| 42/42 [47:33<00:00, 67.94s/it] \u001b[A\u001b[A\n"
     ]
    }
   ],
   "source": [
    "for i in tqdm(range(5,47)):\n",
    "    results_sparse[i*10] = []\n",
    "    for repet in range(3):\n",
    "        env = create_env_sparse(i*10,i*10,1+repet,1)\n",
    "        T = 4 * 2 * (env.width + env.height + 20)\n",
    "        test = NetworkGraph(np.array(env.rail.grid.tolist()))\n",
    "        results_sparse[i*10].append(len(test.edges)*T)"
   ]
  },
  {
   "cell_type": "code",
   "execution_count": 54,
   "metadata": {},
   "outputs": [
    {
     "data": {
      "text/plain": [
       "{10: [],\n",
       " 50: [1117440, 1004160, 1246080],\n",
       " 60: [1357440, 2016000, 1935360],\n",
       " 70: [1551360, 2304000, 3020800],\n",
       " 80: [1509120, 1975680, 2494080],\n",
       " 90: [3689600, 4860800, 6201600],\n",
       " 100: [4058560, 5790400, 6821760],\n",
       " 110: [4427520, 6316800, 7441920],\n",
       " 120: [6152640, 11935040, 12829440],\n",
       " 130: [6625920, 12853120, 13816320],\n",
       " 140: [7454400, 6000000, 14265600],\n",
       " 150: [9384960, 6400000, 16865280],\n",
       " 160: [5418240, 6800000, 17478720],\n",
       " 170: [5736960, 7200000, 27999360],\n",
       " 180: [6055680, 16549760, 29554880],\n",
       " 190: [6374400, 17420800, 31110400],\n",
       " 200: [6693120, 18291840, 27182400],\n",
       " 210: [7011840, 19162880, 28476800],\n",
       " 220: [8088640, 20033920, 29440000],\n",
       " 230: [8440320, 42024960, 30720000],\n",
       " 240: [8792000, 43776000, 32000000],\n",
       " 250: [22439040, 38355200, 33280000],\n",
       " 260: [23302080, 39830400, 32840640],\n",
       " 270: [16970240, 22704640, 9040640],\n",
       " 280: [17576320, 45258560, 9363520],\n",
       " 290: [18182400, 46819200, 37584000],\n",
       " 300: [18788480, 48379840, 38836800],\n",
       " 310: [19394560, 43151360, 40089600],\n",
       " 320: [20000640, 44499840, 41342400],\n",
       " 330: [20606720, 45848320, 42595200],\n",
       " 340: [21212800, 47196800, 43848000],\n",
       " 350: [21818880, 48545280, 45100800],\n",
       " 360: [22424960, 49893760, 46353600],\n",
       " 370: [23031040, 51242240, 47606400],\n",
       " 380: [23637120, 52590720, 56596800],\n",
       " 390: [24243200, 53939200, 58048000],\n",
       " 400: [24849280, 55287680, 59499200],\n",
       " 410: [118110720, 56636160, 60950400],\n",
       " 420: [120922880, 57984640, 62401600],\n",
       " 430: [123735040, 59333120, 63852800],\n",
       " 440: [126547200, 60681600, 65304000],\n",
       " 450: [129359360, 62030080, 66755200],\n",
       " 460: [132171520, 63378560, 78914880]}"
      ]
     },
     "execution_count": 54,
     "metadata": {},
     "output_type": "execute_result"
    }
   ],
   "source": [
    "results_sparse"
   ]
  },
  {
   "cell_type": "code",
   "execution_count": 5,
   "metadata": {
    "scrolled": true
   },
   "outputs": [],
   "source": [
    "env = create_env(5,7,1,5)"
   ]
  },
  {
   "cell_type": "code",
   "execution_count": 6,
   "metadata": {},
   "outputs": [],
   "source": [
    "env_renderer = RenderTool(env,screen_height=1200,screen_width=1200,\n",
    "                          agent_render_variant=AgentRenderVariant.AGENT_SHOWS_OPTIONS_AND_BOX,\n",
    "                          show_debug=True)\n",
    "env_renderer.render_env(show=True, show_predictions=False, show_observations=False)"
   ]
  },
  {
   "cell_type": "code",
   "execution_count": 7,
   "metadata": {},
   "outputs": [],
   "source": [
    "from src.flows import *\n",
    "from src.graph import *"
   ]
  },
  {
   "cell_type": "code",
   "execution_count": 8,
   "metadata": {},
   "outputs": [],
   "source": [
    "test = NetworkGraph(np.array(env.rail.grid.tolist()))"
   ]
  },
  {
   "cell_type": "code",
   "execution_count": 9,
   "metadata": {},
   "outputs": [
    {
     "name": "stderr",
     "output_type": "stream",
     "text": [
      "/home/charles/anaconda3/envs/flatland-rl/lib/python3.6/site-packages/networkx/drawing/nx_pylab.py:579: MatplotlibDeprecationWarning: \n",
      "The iterable function was deprecated in Matplotlib 3.1 and will be removed in 3.3. Use np.iterable instead.\n",
      "  if not cb.iterable(width):\n",
      "/home/charles/anaconda3/envs/flatland-rl/lib/python3.6/site-packages/networkx/drawing/nx_pylab.py:676: MatplotlibDeprecationWarning: \n",
      "The iterable function was deprecated in Matplotlib 3.1 and will be removed in 3.3. Use np.iterable instead.\n",
      "  if cb.iterable(node_size):  # many node sizes\n"
     ]
    },
    {
     "data": {
      "image/png": "[encoded data removed]",
      "text/plain": [
       "<Figure size 864x432 with 1 Axes>"
      ]
     },
     "metadata": {},
     "output_type": "display_data"
    }
   ],
   "source": [
    "test.show(title= \"test_flatland_network.jpg\")"
   ]
  },
  {
   "cell_type": "code",
   "execution_count": 11,
   "metadata": {},
   "outputs": [],
   "source": [
    "img = env_renderer.get_image()"
   ]
  },
  {
   "cell_type": "code",
   "execution_count": 12,
   "metadata": {},
   "outputs": [],
   "source": [
    "from PIL import Image"
   ]
  },
  {
   "cell_type": "code",
   "execution_count": 13,
   "metadata": {},
   "outputs": [],
   "source": [
    "image = Image.fromarray(img)"
   ]
  },
  {
   "cell_type": "code",
   "execution_count": 17,
   "metadata": {},
   "outputs": [],
   "source": [
    "image.save(\"env.png\")"
   ]
  },
  {
   "cell_type": "code",
   "execution_count": null,
   "metadata": {},
   "outputs": [],
   "source": [
    "\n",
    "import networkx as nx\n",
    "\n",
    "G=nx.star_graph(2)\n",
    "pos=nx.spring_layout(G)\n",
    "colors=range(2)\n",
    "nx.draw(G,pos,node_color='#A0CBE2',edge_color=colors,width=4,edge_cmap=plt.get_cmap(\"CMRmap\"),with_labels=False)\n",
    "plt.savefig(\"edge_colormap.png\") # save as png\n",
    "plt.show() # display\n"
   ]
  },
  {
   "cell_type": "code",
   "execution_count": null,
   "metadata": {},
   "outputs": [],
   "source": []
  },
  {
   "cell_type": "code",
   "execution_count": null,
   "metadata": {},
   "outputs": [],
   "source": [
    "x = [0,1,2,3,4,5,6,7]"
   ]
  },
  {
   "cell_type": "code",
   "execution_count": null,
   "metadata": {
    "scrolled": true
   },
   "outputs": [],
   "source": [
    "#plt.subplot(111, facecolor=(46/255., 48/255., 55/255.))\n",
    "plt.plot(x,x)\n",
    "plt.savefig(\"test.png\")"
   ]
  },
  {
   "cell_type": "code",
   "execution_count": null,
   "metadata": {},
   "outputs": [],
   "source": [
    "x = np.array(x)"
   ]
  },
  {
   "cell_type": "code",
   "execution_count": null,
   "metadata": {
    "scrolled": false
   },
   "outputs": [],
   "source": [
    "plt.rcParams['savefig.facecolor'] = (46/255., 48/255., 55/255.)\n",
    "plt.rcParams['axes.facecolor'] = (46/255., 48/255., 55/255.)\n",
    "fig, ax = plt.subplots(nrows=1, ncols=1)\n",
    "ax.spines['bottom'].set_color(\"white\")\n",
    "ax.spines['top'].set_color(\"white\") \n",
    "ax.spines['right'].set_color('white')\n",
    "ax.spines['left'].set_color('white')\n",
    "ax.tick_params(axis='x', colors='white')\n",
    "ax.tick_params(axis='y', colors='white')\n",
    "ax.title.set_color('white')\n",
    "ax.xaxis.label.set_color('white')\n",
    "ax.yaxis.label.set_color('white')\n",
    "fig.set_facecolor((46/255., 48/255., 55/255.))\n",
    "ax.set_facecolor((46/255., 48/255., 55/255.))\n",
    "\n",
    "\n",
    "plt.plot(x,x, label = \"wtf\")\n",
    "plt.xlabel(\"wtf\")\n",
    "plt.title(\"coucou\")\n",
    "\n",
    "#l = plt.legend()\n",
    "#for text in l.get_texts():\n",
    "#    text.set_color(\"white\")\n",
    "\n",
    "\n",
    "\n",
    "ax = plt.gca()\n",
    "plt.savefig(\"test.png\")"
   ]
  },
  {
   "cell_type": "code",
   "execution_count": null,
   "metadata": {},
   "outputs": [],
   "source": [
    "fig=plt.figure()\n",
    "plt.rcParams['axes.facecolor'] = (46/255., 48/255., 55/255.)\n",
    "\n",
    "# Plot the data and set the labels.\n",
    "plt.plot(x,x,color='r', label =\"wtf\")\n",
    "plt.xlabel(\"x\")\n",
    "plt.ylabel(\"y\")\n",
    "plt.legend()\n",
    "\n",
    "# Save the figure to a file\n",
    "plt.savefig(\"face.png\")"
   ]
  },
  {
   "cell_type": "code",
   "execution_count": null,
   "metadata": {},
   "outputs": [],
   "source": [
    "plt.plot(x,x)\n",
    "plt.show()"
   ]
  },
  {
   "cell_type": "code",
   "execution_count": null,
   "metadata": {},
   "outputs": [],
   "source": [
    "import pylab as plt\n",
    "plt.plot(x, label=\"randn\")\n",
    "\n",
    "leg = plt.legend(framealpha = 0, loc = 'best')\n",
    "for text in leg.get_texts():\n",
    "    plt.setp(text, color = 'w')"
   ]
  }
 ],
 "metadata": {
  "kernelspec": {
   "display_name": "Python 3",
   "language": "python",
   "name": "python3"
  },
  "language_info": {
   "codemirror_mode": {
    "name": "ipython",
    "version": 3
   },
   "file_extension": ".py",
   "mimetype": "text/x-python",
   "name": "python",
   "nbconvert_exporter": "python",
   "pygments_lexer": "ipython3",
   "version": "3.6.9"
  }
 },
 "nbformat": 4,
 "nbformat_minor": 2
}
