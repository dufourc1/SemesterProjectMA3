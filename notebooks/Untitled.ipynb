{
 "cells": [
  {
   "cell_type": "code",
   "execution_count": 1,
   "metadata": {},
   "outputs": [],
   "source": [
    "import matplotlib\n",
    "import matplotlib.pyplot as plt\n",
    "import numpy as np\n",
    "import sys\n",
    "sys.path.append(\"../\")\n",
    "from src.graph import NetworkGraph"
   ]
  },
  {
   "cell_type": "code",
   "execution_count": 2,
   "metadata": {},
   "outputs": [],
   "source": [
    "from flatland.envs.rail_env import RailEnv\n",
    "from flatland.envs.observations import *\n",
    "from flatland.envs.rail_generators import complex_rail_generator,rail_from_manual_specifications_generator,random_rail_generator, RailGenerator\n",
    "from flatland.envs.schedule_generators import complex_schedule_generator, random_schedule_generator, ScheduleGenerator\n",
    "from flatland.utils.rendertools import RenderTool\n",
    "from flatland.envs.rail_env import RailEnv\n",
    "from flatland.envs.observations import *\n",
    "from flatland.envs.rail_generators import complex_rail_generator,rail_from_manual_specifications_generator,random_rail_generator, RailGenerator,sparse_rail_generator\n",
    "from flatland.envs.schedule_generators import complex_schedule_generator, random_schedule_generator, ScheduleGenerator, sparse_schedule_generator\n",
    "from flatland.utils.rendertools import RenderTool, AgentRenderVariant"
   ]
  },
  {
   "cell_type": "code",
   "execution_count": 3,
   "metadata": {},
   "outputs": [],
   "source": [
    "def create_env_sparse(height,width,seed,number_of_agents=5):\n",
    "\n",
    "    stochastic_data = {'prop_malfunction': 0,  # Percentage of defective agents\n",
    "                       'malfunction_rate': 30,  # Rate of malfunction occurence\n",
    "                       'min_duration': 3,  # Minimal duration of malfunction\n",
    "                       'max_duration': 20  # Max duration of malfunction\n",
    "                       }\n",
    "    speed_ration_map = {1.: 1,  # Fast passenger train\n",
    "                        1. / 2.: 0,  # Fast freight train\n",
    "                        1. / 3.: 0,  # Slow commuter train\n",
    "                        1. / 4.: 0}  # Slow freight train\n",
    "    env = RailEnv(width=height,\n",
    "                  height=width,\n",
    "                  rail_generator=sparse_rail_generator(max_num_cities=number_of_agents+2,  \n",
    "                                                       seed=seed, \n",
    "                                                       grid_mode=False,\n",
    "                                                       max_rails_between_cities=4,\n",
    "                                                       max_rails_in_city=4,\n",
    "                                                       ),\n",
    "                  schedule_generator=sparse_schedule_generator(speed_ration_map,seed = seed),\n",
    "                  number_of_agents=number_of_agents,\n",
    "                  stochastic_data=stochastic_data,  \n",
    "                  obs_builder_object=GlobalObsForRailEnv(),\n",
    "                  remove_agents_at_target=True\n",
    "                  )\n",
    "    env.reset()\n",
    "\n",
    "    return env"
   ]
  },
  {
   "cell_type": "code",
   "execution_count": 4,
   "metadata": {},
   "outputs": [],
   "source": [
    "def create_env(height,width,seed,number_of_agents=5):\n",
    "    env = RailEnv(width=width,\n",
    "              height=height,\n",
    "              rail_generator=complex_rail_generator(nr_start_goal=20, nr_extra=1, \n",
    "                                                    min_dist=6, max_dist=99999, seed = seed),\n",
    "              schedule_generator=complex_schedule_generator(),\n",
    "              number_of_agents=number_of_agents)\n",
    "    \n",
    "    env.reset()\n",
    "    \n",
    "    return env"
   ]
  },
  {
   "cell_type": "code",
   "execution_count": 5,
   "metadata": {
    "scrolled": true
   },
   "outputs": [],
   "source": [
    "env = create_env(10,10,1,10)"
   ]
  },
  {
   "cell_type": "code",
   "execution_count": null,
   "metadata": {},
   "outputs": [],
   "source": [
    "env_renderer.close_window()"
   ]
  },
  {
   "cell_type": "code",
   "execution_count": 6,
   "metadata": {},
   "outputs": [],
   "source": [
    "env_renderer = RenderTool(env,screen_height=1200,screen_width=1200,\n",
    "                          agent_render_variant=AgentRenderVariant.AGENT_SHOWS_OPTIONS_AND_BOX,\n",
    "                          show_debug=True)\n",
    "env_renderer.render_env(show=True, show_predictions=False, show_observations=False)"
   ]
  },
  {
   "cell_type": "code",
   "execution_count": null,
   "metadata": {},
   "outputs": [],
   "source": [
    "\n",
    "import networkx as nx\n",
    "\n",
    "G=nx.star_graph(2)\n",
    "pos=nx.spring_layout(G)\n",
    "colors=range(2)\n",
    "nx.draw(G,pos,node_color='#A0CBE2',edge_color=colors,width=4,edge_cmap=plt.get_cmap(\"CMRmap\"),with_labels=False)\n",
    "plt.savefig(\"edge_colormap.png\") # save as png\n",
    "plt.show() # display\n"
   ]
  },
  {
   "cell_type": "code",
   "execution_count": null,
   "metadata": {},
   "outputs": [],
   "source": []
  },
  {
   "cell_type": "code",
   "execution_count": null,
   "metadata": {},
   "outputs": [],
   "source": [
    "x = [0,1,2,3,4,5,6,7]"
   ]
  },
  {
   "cell_type": "code",
   "execution_count": null,
   "metadata": {
    "scrolled": true
   },
   "outputs": [],
   "source": [
    "#plt.subplot(111, facecolor=(46/255., 48/255., 55/255.))\n",
    "plt.plot(x,x)\n",
    "plt.savefig(\"test.png\")"
   ]
  },
  {
   "cell_type": "code",
   "execution_count": null,
   "metadata": {},
   "outputs": [],
   "source": [
    "x = np.array(x)"
   ]
  },
  {
   "cell_type": "code",
   "execution_count": null,
   "metadata": {
    "scrolled": false
   },
   "outputs": [],
   "source": [
    "plt.rcParams['savefig.facecolor'] = (46/255., 48/255., 55/255.)\n",
    "plt.rcParams['axes.facecolor'] = (46/255., 48/255., 55/255.)\n",
    "fig, ax = plt.subplots(nrows=1, ncols=1)\n",
    "ax.spines['bottom'].set_color(\"white\")\n",
    "ax.spines['top'].set_color(\"white\") \n",
    "ax.spines['right'].set_color('white')\n",
    "ax.spines['left'].set_color('white')\n",
    "ax.tick_params(axis='x', colors='white')\n",
    "ax.tick_params(axis='y', colors='white')\n",
    "ax.title.set_color('white')\n",
    "ax.xaxis.label.set_color('white')\n",
    "ax.yaxis.label.set_color('white')\n",
    "fig.set_facecolor((46/255., 48/255., 55/255.))\n",
    "ax.set_facecolor((46/255., 48/255., 55/255.))\n",
    "\n",
    "\n",
    "plt.plot(x,x, label = \"wtf\")\n",
    "plt.xlabel(\"wtf\")\n",
    "plt.title(\"coucou\")\n",
    "\n",
    "#l = plt.legend()\n",
    "#for text in l.get_texts():\n",
    "#    text.set_color(\"white\")\n",
    "\n",
    "\n",
    "\n",
    "ax = plt.gca()\n",
    "plt.savefig(\"test.png\")"
   ]
  },
  {
   "cell_type": "code",
   "execution_count": null,
   "metadata": {},
   "outputs": [],
   "source": [
    "fig=plt.figure()\n",
    "plt.rcParams['axes.facecolor'] = (46/255., 48/255., 55/255.)\n",
    "\n",
    "# Plot the data and set the labels.\n",
    "plt.plot(x,x,color='r', label =\"wtf\")\n",
    "plt.xlabel(\"x\")\n",
    "plt.ylabel(\"y\")\n",
    "plt.legend()\n",
    "\n",
    "# Save the figure to a file\n",
    "plt.savefig(\"face.png\")"
   ]
  },
  {
   "cell_type": "code",
   "execution_count": null,
   "metadata": {},
   "outputs": [],
   "source": [
    "plt.plot(x,x)\n",
    "plt.show()"
   ]
  },
  {
   "cell_type": "code",
   "execution_count": null,
   "metadata": {},
   "outputs": [],
   "source": [
    "import pylab as plt\n",
    "plt.plot(x, label=\"randn\")\n",
    "\n",
    "leg = plt.legend(framealpha = 0, loc = 'best')\n",
    "for text in leg.get_texts():\n",
    "    plt.setp(text, color = 'w')"
   ]
  }
 ],
 "metadata": {
  "kernelspec": {
   "display_name": "Python 3",
   "language": "python",
   "name": "python3"
  },
  "language_info": {
   "codemirror_mode": {
    "name": "ipython",
    "version": 3
   },
   "file_extension": ".py",
   "mimetype": "text/x-python",
   "name": "python",
   "nbconvert_exporter": "python",
   "pygments_lexer": "ipython3",
   "version": "3.6.9"
  }
 },
 "nbformat": 4,
 "nbformat_minor": 2
}
